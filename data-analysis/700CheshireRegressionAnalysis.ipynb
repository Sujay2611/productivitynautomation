{
 "cells": [
  {
   "cell_type": "markdown",
   "id": "6cc55d62-fd01-4226-8dc2-85663a42b37a",
   "metadata": {},
   "source": [
    "# Regression Analysis"
   ]
  },
  {
   "cell_type": "markdown",
   "id": "960b86fd-87b6-4df4-95f9-f1dc02186dd1",
   "metadata": {},
   "source": [
    "You can specify a build number in the **current_build** variable to generate a report for a specific build version, otherwise it will default to the most recent 7.0.0 build."
   ]
  },
  {
   "cell_type": "code",
   "execution_count": 89,
   "id": "026e0f13",
   "metadata": {
    "tags": []
   },
   "outputs": [],
   "source": [
    "release=\"7.0.0\"\n",
    "current_build=\"4960\""
   ]
  },
  {
   "cell_type": "code",
   "execution_count": 90,
   "id": "b511cfec",
   "metadata": {
    "jupyter": {
     "source_hidden": true
    },
    "tags": [
     "hide_input"
    ]
   },
   "outputs": [],
   "source": [
    "import requests\n",
    "import json\n",
    "import math\n",
    "\n",
    "import pandas as pd\n",
    "import plotly.express as px\n",
    "import plotly.graph_objects as go\n",
    "import plotly\n",
    "from plotly.offline import *\n",
    "from plotly.subplots import make_subplots"
   ]
  },
  {
   "cell_type": "code",
   "execution_count": 91,
   "id": "4c34ee73",
   "metadata": {
    "jupyter": {
     "source_hidden": true
    },
    "tags": [
     "hide_input"
    ]
   },
   "outputs": [],
   "source": [
    "def run_query(query, host=\"172.23.99.54\", port=8093, username=\"Administrator\", password=\"password\", param=None):\n",
    "    url_base = f\"http://{host}:{port}/query/service\"\n",
    "    params = {'statement': query, 'scan_consistency': 'REQUEST_PLUS'}\n",
    "    if param:\n",
    "        params.update(param)\n",
    "    response = requests.get(url=url_base, params=params, auth = requests.auth.HTTPBasicAuth(username, password))\n",
    "    return response.json()"
   ]
  },
  {
   "cell_type": "code",
   "execution_count": 92,
   "id": "f58af0b3-8274-41ac-89f3-a54365595fce",
   "metadata": {
    "jupyter": {
     "source_hidden": true
    },
    "tags": []
   },
   "outputs": [],
   "source": [
    "if type(current_build) != type(\"\") or len(str(current_build)) != 4:\n",
    "    query_current_weekly_build = f'SELECT raw `build` FROM server WHERE `build` < \"{release}.\" GROUP BY `build` HAVING sum(totalCount) > 10000 ORDER BY `build` DESC LIMIT 1'\n",
    "    current_result = run_query(query=query_current_weekly_build, param={'$version': f'\"{release}-0000\"'})\n",
    "    current_build = current_result['results'][0].split(\"-\", 1)[1]"
   ]
  },
  {
   "cell_type": "code",
   "execution_count": 93,
   "id": "72654998",
   "metadata": {
    "jupyter": {
     "source_hidden": true
    },
    "tags": [
     "hide_input"
    ]
   },
   "outputs": [],
   "source": [
    "query_last_weekly_build = f'SELECT raw `build` FROM server WHERE `build` <= $version AND `build` > \"{release}\" GROUP BY `build` HAVING sum(totalCount) > 10000 ORDER BY `build` DESC LIMIT 2'\n",
    "result = run_query(query=query_last_weekly_build, param={'$version': f'\"{release}-{current_build}\"'})\n",
    "weekly_builds = result['results']"
   ]
  },
  {
   "cell_type": "markdown",
   "id": "abc52a3f-f507-497c-bc98-2213fbea2f4a",
   "metadata": {},
   "source": [
    "## Top 25 Jobs with the Most Failures"
   ]
  },
  {
   "cell_type": "code",
   "execution_count": 94,
   "id": "373a7457-0e24-415e-aeb1-027220008c2d",
   "metadata": {
    "jupyter": {
     "source_hidden": true
    },
    "tags": [
     "hide_input"
    ]
   },
   "outputs": [],
   "source": [
    "owners = {\n",
    "    \"analytics\":\"bob1\",\n",
    "    \"backup\":\"bob2\",\n",
    "    \"nserv\":\"bob3\",\n",
    "    \"durability\":\"bob4\",\n",
    "    \"security\":\"bob5\",\n",
    "    \"obj\":\"bob6\",\n",
    "    \"p0\":\"bob7\",\n",
    "    \"xdcr\":\"bob8\",\n",
    "    \"P0\":\"bob9\",\n",
    "    \"2i\":\"bob10\",\n",
    "    \"transaction\":\"bob11\",\n",
    "    \"ephemeral\":\"bob12\",\n",
    "    \"query\":\"bob13\",\n",
    "    \"fts\":\"bob15\",\n",
    "    \"tools\":\"bob16\",\n",
    "    \"ce\":\"bob17\",\n",
    "    \"eventing\":\"bob18\",\n",
    "    \"n1ql\":\"bob19\",\n",
    "    \"nsserver\":\"bob20\",\n",
    "    \"upgrade\":\"bob21\",\n",
    "    \"nutshell\":\"bob22\",\n",
    "    \"plasma\":\"bob23\",\n",
    "    \"lcb\":\"bob24\",\n",
    "    \"sync\":\"bob25\",\n",
    "    \"geo\":\"bob26\",\n",
    "    \"epeng\":\"bob27\",\n",
    "    \"bkrs\":\"bob28\",\n",
    "    \"ent\":\"bob29\"\n",
    "}"
   ]
  },
  {
   "cell_type": "code",
   "execution_count": 95,
   "id": "ef87c48e",
   "metadata": {
    "jupyter": {
     "source_hidden": true
    },
    "tags": [
     "hide_input"
    ]
   },
   "outputs": [
    {
     "data": {
      "application/vnd.plotly.v1+json": {
       "config": {
        "plotlyServerURL": "https://plot.ly"
       },
       "data": [
        {
         "cells": {
          "align": [
           "left",
           "center",
           "center",
           "center",
           "center"
          ],
          "fill": {
           "color": "#F4F4F4"
          },
          "font": {
           "size": 11
          },
          "line": {
           "color": "lightgray"
          },
          "values": [
           [
            "<a href=\"http://uberjenkins.sc.couchbase.com:8080/job/cen7-sync-gateway-functional-tests-base-cc/3032\"target=\"_blank\">cen7-sync-gateway-functional-tests-base-cc</a>",
            "<a href=\"http://qa.sc.couchbase.com/job/test_suite_executor/336811\"target=\"_blank\">centos-os_certify_ce_tools</a>",
            "<a href=\"http://qa.sc.couchbase.com/job/test_suite_executor/337232\"target=\"_blank\">centos-ipv6_tools</a>",
            "<a href=\"http://qa.sc.couchbase.com/job/test_suite_executor/337111\"target=\"_blank\">centos-query_n1ql_fts_integration_phase1_6.5_P1</a>",
            "<a href=\"http://uberjenkins.sc.couchbase.com:8080/job/cen7-sync-gateway-functional-tests-topology-cc/415\"target=\"_blank\">cen7-sync-gateway-functional-tests-topology-cc</a>",
            "<a href=\"http://qa.sc.couchbase.com/job/test_suite_executor/337364\"target=\"_blank\">centos-query_n1ql_flex_index_7.0_P1</a>",
            "<a href=\"http://qa.sc.couchbase.com/job/test_suite_executor/337250\"target=\"_blank\">centos-nserv_negative-failover</a>",
            "<a href=\"http://qa.sc.couchbase.com/job/test_suite_executor/337074\"target=\"_blank\">centos-eventing_multihandler_multibucket_set2</a>",
            "<a href=\"http://qa.sc.couchbase.com/job/test_suite_executor/337078\"target=\"_blank\">centos-eventing_multihandler_multibucket</a>",
            "<a href=\"http://qa.sc.couchbase.com/job/test_suite_executor/335720\"target=\"_blank\">centos-geo_sanity_01</a>",
            "<a href=\"http://qa.sc.couchbase.com/job/test_suite_executor/337118\"target=\"_blank\">centos-query_aggr_pushdown_array</a>",
            "<a href=\"http://qa.sc.couchbase.com/job/test_suite_executor/337159\"target=\"_blank\">centos-2i_collections_gsi_backup_restore_7.0_P0</a>",
            "<a href=\"http://qa.sc.couchbase.com/job/test_suite_executor/337645\"target=\"_blank\">centos-query_upgrade</a>",
            "<a href=\"http://qa.sc.couchbase.com/job/test_suite_executor-TAF/108857\"target=\"_blank\">centos-analytics_analytics_collection_must_pass_7.0_P0_set3</a>",
            "<a href=\"http://qa.sc.couchbase.com/job/test_suite_executor/336143\"target=\"_blank\">centosnonroot-os_certify_security-x509</a>",
            "<a href=\"http://qa.sc.couchbase.com/job/test_suite_executor/337949\"target=\"_blank\">centos-xdcr_collections_7.0_P1</a>",
            "<a href=\"http://qa.sc.couchbase.com/job/test_suite_executor/336262\"target=\"_blank\">centos-ipv6_security-x509</a>",
            "<a href=\"http://qa.sc.couchbase.com/job/test_suite_executor/337883\"target=\"_blank\">centos-ipv6_n1ql</a>",
            "<a href=\"http://qa.sc.couchbase.com/job/test_suite_executor/337167\"target=\"_blank\">centos-ipv6_obj-ipv6</a>",
            "<a href=\"http://qa.sc.couchbase.com/job/test_suite_executor/337999\"target=\"_blank\">centosnonroot-os_certify_tools</a>",
            "<a href=\"http://qa.sc.couchbase.com/job/test_suite_executor/336432\"target=\"_blank\">centos-fts_upgrade_6.6.x_P1</a>",
            "<a href=\"http://qa.sc.couchbase.com/job/test_suite_executor/337173\"target=\"_blank\">centos-fts_stabletopology-multicollections-scorch_7.0_P1</a>",
            "<a href=\"http://qa.sc.couchbase.com/job/test_suite_executor/337919\"target=\"_blank\">centos-upgrade_new-with-services-from-651_2</a>",
            "<a href=\"http://qa.sc.couchbase.com/job/test_suite_executor/337405\"target=\"_blank\">centos-fts_stabletopology-multicollections-scorch_2_7.0_P1</a>",
            "<a href=\"http://qa.sc.couchbase.com/job/test_suite_executor/337406\"target=\"_blank\">centos-fts_stabletopology-multicollections-scorch_3_7.0_P1</a>"
           ],
           [
            308,
            43,
            32,
            32,
            28,
            26,
            19,
            18,
            18,
            18,
            15,
            14,
            14,
            14,
            13,
            12,
            11,
            11,
            10,
            10,
            9,
            9,
            8,
            8,
            8
           ],
           [
            "MOBILE",
            "OS_CERTIFY",
            "IPV6",
            "FTS",
            "MOBILE",
            "QUERY",
            "NSERV",
            "EVENTING",
            "EVENTING",
            "GEO",
            "QUERY",
            "COLLECTIONS",
            "QUERY",
            "ANALYTICS",
            "OS_CERTIFY",
            "COLLECTIONS",
            "IPV6",
            "IPV6",
            "IPV6",
            "OS_CERTIFY",
            "FTS",
            "COLLECTIONS",
            "UPGRADE",
            "COLLECTIONS",
            "COLLECTIONS"
           ],
           [
            "sync",
            "tools",
            "tools",
            "query",
            "sync",
            "query",
            "nserv",
            "eventing",
            "eventing",
            "geo",
            "query",
            "2i",
            "query",
            "analytics",
            "security",
            "xdcr",
            "security",
            "n1ql",
            "obj",
            "tools",
            "fts",
            "fts",
            "upgrade",
            "fts",
            "fts"
           ],
           [
            "bob25",
            "bob16",
            "bob16",
            "bob13",
            "bob25",
            "bob13",
            "bob3",
            "bob18",
            "bob18",
            "bob26",
            "bob13",
            "bob10",
            "bob13",
            "bob1",
            "bob5",
            "bob8",
            "bob5",
            "bob19",
            "bob6",
            "bob16",
            "bob15",
            "bob15",
            "bob21",
            "bob15",
            "bob15"
           ]
          ]
         },
         "columnwidth": [
          0.5,
          0.1,
          0.3,
          0.2,
          0.2
         ],
         "header": {
          "fill": {
           "color": "maroon"
          },
          "font": {
           "color": "white"
          },
          "line": {
           "color": "lightgray"
          },
          "values": [
           "Name",
           "Fails",
           "Component",
           "Area",
           "Owner"
          ]
         },
         "type": "table"
        }
       ],
       "layout": {
        "autosize": true,
        "template": {
         "data": {
          "bar": [
           {
            "error_x": {
             "color": "#2a3f5f"
            },
            "error_y": {
             "color": "#2a3f5f"
            },
            "marker": {
             "line": {
              "color": "#E5ECF6",
              "width": 0.5
             },
             "pattern": {
              "fillmode": "overlay",
              "size": 10,
              "solidity": 0.2
             }
            },
            "type": "bar"
           }
          ],
          "barpolar": [
           {
            "marker": {
             "line": {
              "color": "#E5ECF6",
              "width": 0.5
             },
             "pattern": {
              "fillmode": "overlay",
              "size": 10,
              "solidity": 0.2
             }
            },
            "type": "barpolar"
           }
          ],
          "carpet": [
           {
            "aaxis": {
             "endlinecolor": "#2a3f5f",
             "gridcolor": "white",
             "linecolor": "white",
             "minorgridcolor": "white",
             "startlinecolor": "#2a3f5f"
            },
            "baxis": {
             "endlinecolor": "#2a3f5f",
             "gridcolor": "white",
             "linecolor": "white",
             "minorgridcolor": "white",
             "startlinecolor": "#2a3f5f"
            },
            "type": "carpet"
           }
          ],
          "choropleth": [
           {
            "colorbar": {
             "outlinewidth": 0,
             "ticks": ""
            },
            "type": "choropleth"
           }
          ],
          "contour": [
           {
            "colorbar": {
             "outlinewidth": 0,
             "ticks": ""
            },
            "colorscale": [
             [
              0,
              "#0d0887"
             ],
             [
              0.1111111111111111,
              "#46039f"
             ],
             [
              0.2222222222222222,
              "#7201a8"
             ],
             [
              0.3333333333333333,
              "#9c179e"
             ],
             [
              0.4444444444444444,
              "#bd3786"
             ],
             [
              0.5555555555555556,
              "#d8576b"
             ],
             [
              0.6666666666666666,
              "#ed7953"
             ],
             [
              0.7777777777777778,
              "#fb9f3a"
             ],
             [
              0.8888888888888888,
              "#fdca26"
             ],
             [
              1,
              "#f0f921"
             ]
            ],
            "type": "contour"
           }
          ],
          "contourcarpet": [
           {
            "colorbar": {
             "outlinewidth": 0,
             "ticks": ""
            },
            "type": "contourcarpet"
           }
          ],
          "heatmap": [
           {
            "colorbar": {
             "outlinewidth": 0,
             "ticks": ""
            },
            "colorscale": [
             [
              0,
              "#0d0887"
             ],
             [
              0.1111111111111111,
              "#46039f"
             ],
             [
              0.2222222222222222,
              "#7201a8"
             ],
             [
              0.3333333333333333,
              "#9c179e"
             ],
             [
              0.4444444444444444,
              "#bd3786"
             ],
             [
              0.5555555555555556,
              "#d8576b"
             ],
             [
              0.6666666666666666,
              "#ed7953"
             ],
             [
              0.7777777777777778,
              "#fb9f3a"
             ],
             [
              0.8888888888888888,
              "#fdca26"
             ],
             [
              1,
              "#f0f921"
             ]
            ],
            "type": "heatmap"
           }
          ],
          "heatmapgl": [
           {
            "colorbar": {
             "outlinewidth": 0,
             "ticks": ""
            },
            "colorscale": [
             [
              0,
              "#0d0887"
             ],
             [
              0.1111111111111111,
              "#46039f"
             ],
             [
              0.2222222222222222,
              "#7201a8"
             ],
             [
              0.3333333333333333,
              "#9c179e"
             ],
             [
              0.4444444444444444,
              "#bd3786"
             ],
             [
              0.5555555555555556,
              "#d8576b"
             ],
             [
              0.6666666666666666,
              "#ed7953"
             ],
             [
              0.7777777777777778,
              "#fb9f3a"
             ],
             [
              0.8888888888888888,
              "#fdca26"
             ],
             [
              1,
              "#f0f921"
             ]
            ],
            "type": "heatmapgl"
           }
          ],
          "histogram": [
           {
            "marker": {
             "pattern": {
              "fillmode": "overlay",
              "size": 10,
              "solidity": 0.2
             }
            },
            "type": "histogram"
           }
          ],
          "histogram2d": [
           {
            "colorbar": {
             "outlinewidth": 0,
             "ticks": ""
            },
            "colorscale": [
             [
              0,
              "#0d0887"
             ],
             [
              0.1111111111111111,
              "#46039f"
             ],
             [
              0.2222222222222222,
              "#7201a8"
             ],
             [
              0.3333333333333333,
              "#9c179e"
             ],
             [
              0.4444444444444444,
              "#bd3786"
             ],
             [
              0.5555555555555556,
              "#d8576b"
             ],
             [
              0.6666666666666666,
              "#ed7953"
             ],
             [
              0.7777777777777778,
              "#fb9f3a"
             ],
             [
              0.8888888888888888,
              "#fdca26"
             ],
             [
              1,
              "#f0f921"
             ]
            ],
            "type": "histogram2d"
           }
          ],
          "histogram2dcontour": [
           {
            "colorbar": {
             "outlinewidth": 0,
             "ticks": ""
            },
            "colorscale": [
             [
              0,
              "#0d0887"
             ],
             [
              0.1111111111111111,
              "#46039f"
             ],
             [
              0.2222222222222222,
              "#7201a8"
             ],
             [
              0.3333333333333333,
              "#9c179e"
             ],
             [
              0.4444444444444444,
              "#bd3786"
             ],
             [
              0.5555555555555556,
              "#d8576b"
             ],
             [
              0.6666666666666666,
              "#ed7953"
             ],
             [
              0.7777777777777778,
              "#fb9f3a"
             ],
             [
              0.8888888888888888,
              "#fdca26"
             ],
             [
              1,
              "#f0f921"
             ]
            ],
            "type": "histogram2dcontour"
           }
          ],
          "mesh3d": [
           {
            "colorbar": {
             "outlinewidth": 0,
             "ticks": ""
            },
            "type": "mesh3d"
           }
          ],
          "parcoords": [
           {
            "line": {
             "colorbar": {
              "outlinewidth": 0,
              "ticks": ""
             }
            },
            "type": "parcoords"
           }
          ],
          "pie": [
           {
            "automargin": true,
            "type": "pie"
           }
          ],
          "scatter": [
           {
            "marker": {
             "colorbar": {
              "outlinewidth": 0,
              "ticks": ""
             }
            },
            "type": "scatter"
           }
          ],
          "scatter3d": [
           {
            "line": {
             "colorbar": {
              "outlinewidth": 0,
              "ticks": ""
             }
            },
            "marker": {
             "colorbar": {
              "outlinewidth": 0,
              "ticks": ""
             }
            },
            "type": "scatter3d"
           }
          ],
          "scattercarpet": [
           {
            "marker": {
             "colorbar": {
              "outlinewidth": 0,
              "ticks": ""
             }
            },
            "type": "scattercarpet"
           }
          ],
          "scattergeo": [
           {
            "marker": {
             "colorbar": {
              "outlinewidth": 0,
              "ticks": ""
             }
            },
            "type": "scattergeo"
           }
          ],
          "scattergl": [
           {
            "marker": {
             "colorbar": {
              "outlinewidth": 0,
              "ticks": ""
             }
            },
            "type": "scattergl"
           }
          ],
          "scattermapbox": [
           {
            "marker": {
             "colorbar": {
              "outlinewidth": 0,
              "ticks": ""
             }
            },
            "type": "scattermapbox"
           }
          ],
          "scatterpolar": [
           {
            "marker": {
             "colorbar": {
              "outlinewidth": 0,
              "ticks": ""
             }
            },
            "type": "scatterpolar"
           }
          ],
          "scatterpolargl": [
           {
            "marker": {
             "colorbar": {
              "outlinewidth": 0,
              "ticks": ""
             }
            },
            "type": "scatterpolargl"
           }
          ],
          "scatterternary": [
           {
            "marker": {
             "colorbar": {
              "outlinewidth": 0,
              "ticks": ""
             }
            },
            "type": "scatterternary"
           }
          ],
          "surface": [
           {
            "colorbar": {
             "outlinewidth": 0,
             "ticks": ""
            },
            "colorscale": [
             [
              0,
              "#0d0887"
             ],
             [
              0.1111111111111111,
              "#46039f"
             ],
             [
              0.2222222222222222,
              "#7201a8"
             ],
             [
              0.3333333333333333,
              "#9c179e"
             ],
             [
              0.4444444444444444,
              "#bd3786"
             ],
             [
              0.5555555555555556,
              "#d8576b"
             ],
             [
              0.6666666666666666,
              "#ed7953"
             ],
             [
              0.7777777777777778,
              "#fb9f3a"
             ],
             [
              0.8888888888888888,
              "#fdca26"
             ],
             [
              1,
              "#f0f921"
             ]
            ],
            "type": "surface"
           }
          ],
          "table": [
           {
            "cells": {
             "fill": {
              "color": "#EBF0F8"
             },
             "line": {
              "color": "white"
             }
            },
            "header": {
             "fill": {
              "color": "#C8D4E3"
             },
             "line": {
              "color": "white"
             }
            },
            "type": "table"
           }
          ]
         },
         "layout": {
          "annotationdefaults": {
           "arrowcolor": "#2a3f5f",
           "arrowhead": 0,
           "arrowwidth": 1
          },
          "autotypenumbers": "strict",
          "coloraxis": {
           "colorbar": {
            "outlinewidth": 0,
            "ticks": ""
           }
          },
          "colorscale": {
           "diverging": [
            [
             0,
             "#8e0152"
            ],
            [
             0.1,
             "#c51b7d"
            ],
            [
             0.2,
             "#de77ae"
            ],
            [
             0.3,
             "#f1b6da"
            ],
            [
             0.4,
             "#fde0ef"
            ],
            [
             0.5,
             "#f7f7f7"
            ],
            [
             0.6,
             "#e6f5d0"
            ],
            [
             0.7,
             "#b8e186"
            ],
            [
             0.8,
             "#7fbc41"
            ],
            [
             0.9,
             "#4d9221"
            ],
            [
             1,
             "#276419"
            ]
           ],
           "sequential": [
            [
             0,
             "#0d0887"
            ],
            [
             0.1111111111111111,
             "#46039f"
            ],
            [
             0.2222222222222222,
             "#7201a8"
            ],
            [
             0.3333333333333333,
             "#9c179e"
            ],
            [
             0.4444444444444444,
             "#bd3786"
            ],
            [
             0.5555555555555556,
             "#d8576b"
            ],
            [
             0.6666666666666666,
             "#ed7953"
            ],
            [
             0.7777777777777778,
             "#fb9f3a"
            ],
            [
             0.8888888888888888,
             "#fdca26"
            ],
            [
             1,
             "#f0f921"
            ]
           ],
           "sequentialminus": [
            [
             0,
             "#0d0887"
            ],
            [
             0.1111111111111111,
             "#46039f"
            ],
            [
             0.2222222222222222,
             "#7201a8"
            ],
            [
             0.3333333333333333,
             "#9c179e"
            ],
            [
             0.4444444444444444,
             "#bd3786"
            ],
            [
             0.5555555555555556,
             "#d8576b"
            ],
            [
             0.6666666666666666,
             "#ed7953"
            ],
            [
             0.7777777777777778,
             "#fb9f3a"
            ],
            [
             0.8888888888888888,
             "#fdca26"
            ],
            [
             1,
             "#f0f921"
            ]
           ]
          },
          "colorway": [
           "#636efa",
           "#EF553B",
           "#00cc96",
           "#ab63fa",
           "#FFA15A",
           "#19d3f3",
           "#FF6692",
           "#B6E880",
           "#FF97FF",
           "#FECB52"
          ],
          "font": {
           "color": "#2a3f5f"
          },
          "geo": {
           "bgcolor": "white",
           "lakecolor": "white",
           "landcolor": "#E5ECF6",
           "showlakes": true,
           "showland": true,
           "subunitcolor": "white"
          },
          "hoverlabel": {
           "align": "left"
          },
          "hovermode": "closest",
          "mapbox": {
           "style": "light"
          },
          "paper_bgcolor": "white",
          "plot_bgcolor": "#E5ECF6",
          "polar": {
           "angularaxis": {
            "gridcolor": "white",
            "linecolor": "white",
            "ticks": ""
           },
           "bgcolor": "#E5ECF6",
           "radialaxis": {
            "gridcolor": "white",
            "linecolor": "white",
            "ticks": ""
           }
          },
          "scene": {
           "xaxis": {
            "backgroundcolor": "#E5ECF6",
            "gridcolor": "white",
            "gridwidth": 2,
            "linecolor": "white",
            "showbackground": true,
            "ticks": "",
            "zerolinecolor": "white"
           },
           "yaxis": {
            "backgroundcolor": "#E5ECF6",
            "gridcolor": "white",
            "gridwidth": 2,
            "linecolor": "white",
            "showbackground": true,
            "ticks": "",
            "zerolinecolor": "white"
           },
           "zaxis": {
            "backgroundcolor": "#E5ECF6",
            "gridcolor": "white",
            "gridwidth": 2,
            "linecolor": "white",
            "showbackground": true,
            "ticks": "",
            "zerolinecolor": "white"
           }
          },
          "shapedefaults": {
           "line": {
            "color": "#2a3f5f"
           }
          },
          "ternary": {
           "aaxis": {
            "gridcolor": "white",
            "linecolor": "white",
            "ticks": ""
           },
           "baxis": {
            "gridcolor": "white",
            "linecolor": "white",
            "ticks": ""
           },
           "bgcolor": "#E5ECF6",
           "caxis": {
            "gridcolor": "white",
            "linecolor": "white",
            "ticks": ""
           }
          },
          "title": {
           "x": 0.05
          },
          "xaxis": {
           "automargin": true,
           "gridcolor": "white",
           "linecolor": "white",
           "ticks": "",
           "title": {
            "standoff": 15
           },
           "zerolinecolor": "white",
           "zerolinewidth": 2
          },
          "yaxis": {
           "automargin": true,
           "gridcolor": "white",
           "linecolor": "white",
           "ticks": "",
           "title": {
            "standoff": 15
           },
           "zerolinecolor": "white",
           "zerolinewidth": 2
          }
         }
        }
       }
      },
      "image/png": "[encoded data removed]",
      "text/html": [
       "<div>                            <div id=\"26e5eb16-4f6a-4935-a2a3-799e42f75746\" class=\"plotly-graph-div\" style=\"height:1000px; width:100%;\"></div>            <script type=\"text/javascript\">                require([\"plotly\"], function(Plotly) {                    window.PLOTLYENV=window.PLOTLYENV || {};                                    if (document.getElementById(\"26e5eb16-4f6a-4935-a2a3-799e42f75746\")) {                    Plotly.newPlot(                        \"26e5eb16-4f6a-4935-a2a3-799e42f75746\",                        [{\"cells\":{\"align\":[\"left\",\"center\",\"center\",\"center\",\"center\"],\"fill\":{\"color\":\"#F4F4F4\"},\"font\":{\"size\":11},\"line\":{\"color\":\"lightgray\"},\"values\":[[\"<a href=\\\"http://uberjenkins.sc.couchbase.com:8080/job/cen7-sync-gateway-functional-tests-base-cc/3032\\\"target=\\\"_blank\\\">cen7-sync-gateway-functional-tests-base-cc</a>\",\"<a href=\\\"http://qa.sc.couchbase.com/job/test_suite_executor/336811\\\"target=\\\"_blank\\\">centos-os_certify_ce_tools</a>\",\"<a href=\\\"http://qa.sc.couchbase.com/job/test_suite_executor/337232\\\"target=\\\"_blank\\\">centos-ipv6_tools</a>\",\"<a href=\\\"http://qa.sc.couchbase.com/job/test_suite_executor/337111\\\"target=\\\"_blank\\\">centos-query_n1ql_fts_integration_phase1_6.5_P1</a>\",\"<a href=\\\"http://uberjenkins.sc.couchbase.com:8080/job/cen7-sync-gateway-functional-tests-topology-cc/415\\\"target=\\\"_blank\\\">cen7-sync-gateway-functional-tests-topology-cc</a>\",\"<a href=\\\"http://qa.sc.couchbase.com/job/test_suite_executor/337364\\\"target=\\\"_blank\\\">centos-query_n1ql_flex_index_7.0_P1</a>\",\"<a href=\\\"http://qa.sc.couchbase.com/job/test_suite_executor/337250\\\"target=\\\"_blank\\\">centos-nserv_negative-failover</a>\",\"<a href=\\\"http://qa.sc.couchbase.com/job/test_suite_executor/337074\\\"target=\\\"_blank\\\">centos-eventing_multihandler_multibucket_set2</a>\",\"<a href=\\\"http://qa.sc.couchbase.com/job/test_suite_executor/337078\\\"target=\\\"_blank\\\">centos-eventing_multihandler_multibucket</a>\",\"<a href=\\\"http://qa.sc.couchbase.com/job/test_suite_executor/335720\\\"target=\\\"_blank\\\">centos-geo_sanity_01</a>\",\"<a href=\\\"http://qa.sc.couchbase.com/job/test_suite_executor/337118\\\"target=\\\"_blank\\\">centos-query_aggr_pushdown_array</a>\",\"<a href=\\\"http://qa.sc.couchbase.com/job/test_suite_executor/337159\\\"target=\\\"_blank\\\">centos-2i_collections_gsi_backup_restore_7.0_P0</a>\",\"<a href=\\\"http://qa.sc.couchbase.com/job/test_suite_executor/337645\\\"target=\\\"_blank\\\">centos-query_upgrade</a>\",\"<a href=\\\"http://qa.sc.couchbase.com/job/test_suite_executor-TAF/108857\\\"target=\\\"_blank\\\">centos-analytics_analytics_collection_must_pass_7.0_P0_set3</a>\",\"<a href=\\\"http://qa.sc.couchbase.com/job/test_suite_executor/336143\\\"target=\\\"_blank\\\">centosnonroot-os_certify_security-x509</a>\",\"<a href=\\\"http://qa.sc.couchbase.com/job/test_suite_executor/337949\\\"target=\\\"_blank\\\">centos-xdcr_collections_7.0_P1</a>\",\"<a href=\\\"http://qa.sc.couchbase.com/job/test_suite_executor/336262\\\"target=\\\"_blank\\\">centos-ipv6_security-x509</a>\",\"<a href=\\\"http://qa.sc.couchbase.com/job/test_suite_executor/337883\\\"target=\\\"_blank\\\">centos-ipv6_n1ql</a>\",\"<a href=\\\"http://qa.sc.couchbase.com/job/test_suite_executor/337167\\\"target=\\\"_blank\\\">centos-ipv6_obj-ipv6</a>\",\"<a href=\\\"http://qa.sc.couchbase.com/job/test_suite_executor/337999\\\"target=\\\"_blank\\\">centosnonroot-os_certify_tools</a>\",\"<a href=\\\"http://qa.sc.couchbase.com/job/test_suite_executor/336432\\\"target=\\\"_blank\\\">centos-fts_upgrade_6.6.x_P1</a>\",\"<a href=\\\"http://qa.sc.couchbase.com/job/test_suite_executor/337173\\\"target=\\\"_blank\\\">centos-fts_stabletopology-multicollections-scorch_7.0_P1</a>\",\"<a href=\\\"http://qa.sc.couchbase.com/job/test_suite_executor/337919\\\"target=\\\"_blank\\\">centos-upgrade_new-with-services-from-651_2</a>\",\"<a href=\\\"http://qa.sc.couchbase.com/job/test_suite_executor/337405\\\"target=\\\"_blank\\\">centos-fts_stabletopology-multicollections-scorch_2_7.0_P1</a>\",\"<a href=\\\"http://qa.sc.couchbase.com/job/test_suite_executor/337406\\\"target=\\\"_blank\\\">centos-fts_stabletopology-multicollections-scorch_3_7.0_P1</a>\"],[308,43,32,32,28,26,19,18,18,18,15,14,14,14,13,12,11,11,10,10,9,9,8,8,8],[\"MOBILE\",\"OS_CERTIFY\",\"IPV6\",\"FTS\",\"MOBILE\",\"QUERY\",\"NSERV\",\"EVENTING\",\"EVENTING\",\"GEO\",\"QUERY\",\"COLLECTIONS\",\"QUERY\",\"ANALYTICS\",\"OS_CERTIFY\",\"COLLECTIONS\",\"IPV6\",\"IPV6\",\"IPV6\",\"OS_CERTIFY\",\"FTS\",\"COLLECTIONS\",\"UPGRADE\",\"COLLECTIONS\",\"COLLECTIONS\"],[\"sync\",\"tools\",\"tools\",\"query\",\"sync\",\"query\",\"nserv\",\"eventing\",\"eventing\",\"geo\",\"query\",\"2i\",\"query\",\"analytics\",\"security\",\"xdcr\",\"security\",\"n1ql\",\"obj\",\"tools\",\"fts\",\"fts\",\"upgrade\",\"fts\",\"fts\"],[\"bob25\",\"bob16\",\"bob16\",\"bob13\",\"bob25\",\"bob13\",\"bob3\",\"bob18\",\"bob18\",\"bob26\",\"bob13\",\"bob10\",\"bob13\",\"bob1\",\"bob5\",\"bob8\",\"bob5\",\"bob19\",\"bob6\",\"bob16\",\"bob15\",\"bob15\",\"bob21\",\"bob15\",\"bob15\"]]},\"columnwidth\":[0.5,0.1,0.3,0.2,0.2],\"header\":{\"fill\":{\"color\":\"maroon\"},\"font\":{\"color\":\"white\"},\"line\":{\"color\":\"lightgray\"},\"values\":[\"Name\",\"Fails\",\"Component\",\"Area\",\"Owner\"]},\"type\":\"table\"}],                        {\"height\":1000,\"template\":{\"data\":{\"bar\":[{\"error_x\":{\"color\":\"#2a3f5f\"},\"error_y\":{\"color\":\"#2a3f5f\"},\"marker\":{\"line\":{\"color\":\"#E5ECF6\",\"width\":0.5},\"pattern\":{\"fillmode\":\"overlay\",\"size\":10,\"solidity\":0.2}},\"type\":\"bar\"}],\"barpolar\":[{\"marker\":{\"line\":{\"color\":\"#E5ECF6\",\"width\":0.5},\"pattern\":{\"fillmode\":\"overlay\",\"size\":10,\"solidity\":0.2}},\"type\":\"barpolar\"}],\"carpet\":[{\"aaxis\":{\"endlinecolor\":\"#2a3f5f\",\"gridcolor\":\"white\",\"linecolor\":\"white\",\"minorgridcolor\":\"white\",\"startlinecolor\":\"#2a3f5f\"},\"baxis\":{\"endlinecolor\":\"#2a3f5f\",\"gridcolor\":\"white\",\"linecolor\":\"white\",\"minorgridcolor\":\"white\",\"startlinecolor\":\"#2a3f5f\"},\"type\":\"carpet\"}],\"choropleth\":[{\"colorbar\":{\"outlinewidth\":0,\"ticks\":\"\"},\"type\":\"choropleth\"}],\"contour\":[{\"colorbar\":{\"outlinewidth\":0,\"ticks\":\"\"},\"colorscale\":[[0.0,\"#0d0887\"],[0.1111111111111111,\"#46039f\"],[0.2222222222222222,\"#7201a8\"],[0.3333333333333333,\"#9c179e\"],[0.4444444444444444,\"#bd3786\"],[0.5555555555555556,\"#d8576b\"],[0.6666666666666666,\"#ed7953\"],[0.7777777777777778,\"#fb9f3a\"],[0.8888888888888888,\"#fdca26\"],[1.0,\"#f0f921\"]],\"type\":\"contour\"}],\"contourcarpet\":[{\"colorbar\":{\"outlinewidth\":0,\"ticks\":\"\"},\"type\":\"contourcarpet\"}],\"heatmap\":[{\"colorbar\":{\"outlinewidth\":0,\"ticks\":\"\"},\"colorscale\":[[0.0,\"#0d0887\"],[0.1111111111111111,\"#46039f\"],[0.2222222222222222,\"#7201a8\"],[0.3333333333333333,\"#9c179e\"],[0.4444444444444444,\"#bd3786\"],[0.5555555555555556,\"#d8576b\"],[0.6666666666666666,\"#ed7953\"],[0.7777777777777778,\"#fb9f3a\"],[0.8888888888888888,\"#fdca26\"],[1.0,\"#f0f921\"]],\"type\":\"heatmap\"}],\"heatmapgl\":[{\"colorbar\":{\"outlinewidth\":0,\"ticks\":\"\"},\"colorscale\":[[0.0,\"#0d0887\"],[0.1111111111111111,\"#46039f\"],[0.2222222222222222,\"#7201a8\"],[0.3333333333333333,\"#9c179e\"],[0.4444444444444444,\"#bd3786\"],[0.5555555555555556,\"#d8576b\"],[0.6666666666666666,\"#ed7953\"],[0.7777777777777778,\"#fb9f3a\"],[0.8888888888888888,\"#fdca26\"],[1.0,\"#f0f921\"]],\"type\":\"heatmapgl\"}],\"histogram\":[{\"marker\":{\"pattern\":{\"fillmode\":\"overlay\",\"size\":10,\"solidity\":0.2}},\"type\":\"histogram\"}],\"histogram2d\":[{\"colorbar\":{\"outlinewidth\":0,\"ticks\":\"\"},\"colorscale\":[[0.0,\"#0d0887\"],[0.1111111111111111,\"#46039f\"],[0.2222222222222222,\"#7201a8\"],[0.3333333333333333,\"#9c179e\"],[0.4444444444444444,\"#bd3786\"],[0.5555555555555556,\"#d8576b\"],[0.6666666666666666,\"#ed7953\"],[0.7777777777777778,\"#fb9f3a\"],[0.8888888888888888,\"#fdca26\"],[1.0,\"#f0f921\"]],\"type\":\"histogram2d\"}],\"histogram2dcontour\":[{\"colorbar\":{\"outlinewidth\":0,\"ticks\":\"\"},\"colorscale\":[[0.0,\"#0d0887\"],[0.1111111111111111,\"#46039f\"],[0.2222222222222222,\"#7201a8\"],[0.3333333333333333,\"#9c179e\"],[0.4444444444444444,\"#bd3786\"],[0.5555555555555556,\"#d8576b\"],[0.6666666666666666,\"#ed7953\"],[0.7777777777777778,\"#fb9f3a\"],[0.8888888888888888,\"#fdca26\"],[1.0,\"#f0f921\"]],\"type\":\"histogram2dcontour\"}],\"mesh3d\":[{\"colorbar\":{\"outlinewidth\":0,\"ticks\":\"\"},\"type\":\"mesh3d\"}],\"parcoords\":[{\"line\":{\"colorbar\":{\"outlinewidth\":0,\"ticks\":\"\"}},\"type\":\"parcoords\"}],\"pie\":[{\"automargin\":true,\"type\":\"pie\"}],\"scatter\":[{\"marker\":{\"colorbar\":{\"outlinewidth\":0,\"ticks\":\"\"}},\"type\":\"scatter\"}],\"scatter3d\":[{\"line\":{\"colorbar\":{\"outlinewidth\":0,\"ticks\":\"\"}},\"marker\":{\"colorbar\":{\"outlinewidth\":0,\"ticks\":\"\"}},\"type\":\"scatter3d\"}],\"scattercarpet\":[{\"marker\":{\"colorbar\":{\"outlinewidth\":0,\"ticks\":\"\"}},\"type\":\"scattercarpet\"}],\"scattergeo\":[{\"marker\":{\"colorbar\":{\"outlinewidth\":0,\"ticks\":\"\"}},\"type\":\"scattergeo\"}],\"scattergl\":[{\"marker\":{\"colorbar\":{\"outlinewidth\":0,\"ticks\":\"\"}},\"type\":\"scattergl\"}],\"scattermapbox\":[{\"marker\":{\"colorbar\":{\"outlinewidth\":0,\"ticks\":\"\"}},\"type\":\"scattermapbox\"}],\"scatterpolar\":[{\"marker\":{\"colorbar\":{\"outlinewidth\":0,\"ticks\":\"\"}},\"type\":\"scatterpolar\"}],\"scatterpolargl\":[{\"marker\":{\"colorbar\":{\"outlinewidth\":0,\"ticks\":\"\"}},\"type\":\"scatterpolargl\"}],\"scatterternary\":[{\"marker\":{\"colorbar\":{\"outlinewidth\":0,\"ticks\":\"\"}},\"type\":\"scatterternary\"}],\"surface\":[{\"colorbar\":{\"outlinewidth\":0,\"ticks\":\"\"},\"colorscale\":[[0.0,\"#0d0887\"],[0.1111111111111111,\"#46039f\"],[0.2222222222222222,\"#7201a8\"],[0.3333333333333333,\"#9c179e\"],[0.4444444444444444,\"#bd3786\"],[0.5555555555555556,\"#d8576b\"],[0.6666666666666666,\"#ed7953\"],[0.7777777777777778,\"#fb9f3a\"],[0.8888888888888888,\"#fdca26\"],[1.0,\"#f0f921\"]],\"type\":\"surface\"}],\"table\":[{\"cells\":{\"fill\":{\"color\":\"#EBF0F8\"},\"line\":{\"color\":\"white\"}},\"header\":{\"fill\":{\"color\":\"#C8D4E3\"},\"line\":{\"color\":\"white\"}},\"type\":\"table\"}]},\"layout\":{\"annotationdefaults\":{\"arrowcolor\":\"#2a3f5f\",\"arrowhead\":0,\"arrowwidth\":1},\"autotypenumbers\":\"strict\",\"coloraxis\":{\"colorbar\":{\"outlinewidth\":0,\"ticks\":\"\"}},\"colorscale\":{\"diverging\":[[0,\"#8e0152\"],[0.1,\"#c51b7d\"],[0.2,\"#de77ae\"],[0.3,\"#f1b6da\"],[0.4,\"#fde0ef\"],[0.5,\"#f7f7f7\"],[0.6,\"#e6f5d0\"],[0.7,\"#b8e186\"],[0.8,\"#7fbc41\"],[0.9,\"#4d9221\"],[1,\"#276419\"]],\"sequential\":[[0.0,\"#0d0887\"],[0.1111111111111111,\"#46039f\"],[0.2222222222222222,\"#7201a8\"],[0.3333333333333333,\"#9c179e\"],[0.4444444444444444,\"#bd3786\"],[0.5555555555555556,\"#d8576b\"],[0.6666666666666666,\"#ed7953\"],[0.7777777777777778,\"#fb9f3a\"],[0.8888888888888888,\"#fdca26\"],[1.0,\"#f0f921\"]],\"sequentialminus\":[[0.0,\"#0d0887\"],[0.1111111111111111,\"#46039f\"],[0.2222222222222222,\"#7201a8\"],[0.3333333333333333,\"#9c179e\"],[0.4444444444444444,\"#bd3786\"],[0.5555555555555556,\"#d8576b\"],[0.6666666666666666,\"#ed7953\"],[0.7777777777777778,\"#fb9f3a\"],[0.8888888888888888,\"#fdca26\"],[1.0,\"#f0f921\"]]},\"colorway\":[\"#636efa\",\"#EF553B\",\"#00cc96\",\"#ab63fa\",\"#FFA15A\",\"#19d3f3\",\"#FF6692\",\"#B6E880\",\"#FF97FF\",\"#FECB52\"],\"font\":{\"color\":\"#2a3f5f\"},\"geo\":{\"bgcolor\":\"white\",\"lakecolor\":\"white\",\"landcolor\":\"#E5ECF6\",\"showlakes\":true,\"showland\":true,\"subunitcolor\":\"white\"},\"hoverlabel\":{\"align\":\"left\"},\"hovermode\":\"closest\",\"mapbox\":{\"style\":\"light\"},\"paper_bgcolor\":\"white\",\"plot_bgcolor\":\"#E5ECF6\",\"polar\":{\"angularaxis\":{\"gridcolor\":\"white\",\"linecolor\":\"white\",\"ticks\":\"\"},\"bgcolor\":\"#E5ECF6\",\"radialaxis\":{\"gridcolor\":\"white\",\"linecolor\":\"white\",\"ticks\":\"\"}},\"scene\":{\"xaxis\":{\"backgroundcolor\":\"#E5ECF6\",\"gridcolor\":\"white\",\"gridwidth\":2,\"linecolor\":\"white\",\"showbackground\":true,\"ticks\":\"\",\"zerolinecolor\":\"white\"},\"yaxis\":{\"backgroundcolor\":\"#E5ECF6\",\"gridcolor\":\"white\",\"gridwidth\":2,\"linecolor\":\"white\",\"showbackground\":true,\"ticks\":\"\",\"zerolinecolor\":\"white\"},\"zaxis\":{\"backgroundcolor\":\"#E5ECF6\",\"gridcolor\":\"white\",\"gridwidth\":2,\"linecolor\":\"white\",\"showbackground\":true,\"ticks\":\"\",\"zerolinecolor\":\"white\"}},\"shapedefaults\":{\"line\":{\"color\":\"#2a3f5f\"}},\"ternary\":{\"aaxis\":{\"gridcolor\":\"white\",\"linecolor\":\"white\",\"ticks\":\"\"},\"baxis\":{\"gridcolor\":\"white\",\"linecolor\":\"white\",\"ticks\":\"\"},\"bgcolor\":\"#E5ECF6\",\"caxis\":{\"gridcolor\":\"white\",\"linecolor\":\"white\",\"ticks\":\"\"}},\"title\":{\"x\":0.05},\"xaxis\":{\"automargin\":true,\"gridcolor\":\"white\",\"linecolor\":\"white\",\"ticks\":\"\",\"title\":{\"standoff\":15},\"zerolinecolor\":\"white\",\"zerolinewidth\":2},\"yaxis\":{\"automargin\":true,\"gridcolor\":\"white\",\"linecolor\":\"white\",\"ticks\":\"\",\"title\":{\"standoff\":15},\"zerolinecolor\":\"white\",\"zerolinewidth\":2}}}},                        {\"responsive\": true}                    ).then(function(){\n",
       "                            \n",
       "var gd = document.getElementById('26e5eb16-4f6a-4935-a2a3-799e42f75746');\n",
       "var x = new MutationObserver(function (mutations, observer) {{\n",
       "        var display = window.getComputedStyle(gd).display;\n",
       "        if (!display || display === 'none') {{\n",
       "            console.log([gd, 'removed!']);\n",
       "            Plotly.purge(gd);\n",
       "            observer.disconnect();\n",
       "        }}\n",
       "}});\n",
       "\n",
       "// Listen for the removal of the full notebook cells\n",
       "var notebookContainer = gd.closest('#notebook-container');\n",
       "if (notebookContainer) {{\n",
       "    x.observe(notebookContainer, {childList: true});\n",
       "}}\n",
       "\n",
       "// Listen for the clearing of the current output cell\n",
       "var outputEl = gd.closest('.output');\n",
       "if (outputEl) {{\n",
       "    x.observe(outputEl, {childList: true});\n",
       "}}\n",
       "\n",
       "                        })                };                });            </script>        </div>"
      ]
     },
     "metadata": {},
     "output_type": "display_data"
    }
   ],
   "source": [
    "#top 25 failures\n",
    "\n",
    "top_25_query = 'select url || to_string(build_id) as `joburl`,name,failCount,component,SPLIT(REPLACE(REPLACE(REPLACE(SPLIT(name,\"-\")[1], \"os_certify_ce_\", \"\"), \"ipv6_\", \"\"), \"os_certify_\", \"\"), \"_\")[0] as area,result from server where `build`=$version and lower(os)=\"centos\" order by failCount desc limit 25'\n",
    "top_25_failures = run_query(query=top_25_query, param={'$version': f'\"{release}-{current_build}\"'})\n",
    "\n",
    "data_top_t25 = pd.DataFrame(top_25_failures['results'])\n",
    "\n",
    "owners_data = []\n",
    "for area in data_top_t25.area:\n",
    "    owners_data.append(owners[f'{area}'])\n",
    "\n",
    "        \n",
    "def make_clickable(url, name):\n",
    "    return '<a href=\"{}\"target=\"_blank\">{}</a>'.format(url,name)\n",
    "\n",
    "data_top_t25['job'] = data_top_t25.apply(lambda x: make_clickable(x['joburl'], x['name']), axis=1)\n",
    "data_top_t25 = data_top_t25.drop('joburl', axis=1)\n",
    "\n",
    "\n",
    "table_t25_failures = go.Figure(data=[go.Table(\n",
    "    columnwidth=(0.5, 0.10, 0.3, 0.2, 0.2),\n",
    "    header = dict(values = [\"Name\", \"Fails\", \"Component\", \"Area\", \"Owner\"], fill_color = 'maroon', font=dict(color='white'), line_color='lightgray'),\n",
    "    cells = dict(values = [data_top_t25.job, data_top_t25.failCount, data_top_t25.component, data_top_t25.area, owners_data], align=['left', 'center', 'center', 'center', 'center'], line_color='lightgray', fill_color='#F4F4F4', font=dict(size=11))\n",
    ")])\n",
    "\n",
    "table_t25_failures.update_layout(height=1000)\n",
    "\n",
    "table_t25_failures.show()"
   ]
  },
  {
   "cell_type": "markdown",
   "id": "2816a9c7-a151-43a6-b730-e924c990f52a",
   "metadata": {},
   "source": [
    "## Over 50 Failures"
   ]
  },
  {
   "cell_type": "code",
   "execution_count": 96,
   "id": "cb92d306",
   "metadata": {
    "jupyter": {
     "source_hidden": true
    },
    "tags": [
     "hide_input"
    ]
   },
   "outputs": [],
   "source": [
    "# 50+ failures\n",
    "\n",
    "failures_50_query = f\"\"\"WITH components AS (\n",
    "    SELECT RAW component\n",
    "    FROM server\n",
    "    WHERE LOWER(os)=\"centos\"\n",
    "        AND `build`=\"{weekly_builds[0]}\"\n",
    "    GROUP BY component\n",
    "    HAVING SUM(failCount) > 50 )\n",
    "SELECT component, SPLIT(REPLACE(REPLACE(REPLACE(SPLIT(name,\"-\")[1], \"os_certify_ce_\", \"\"), \"ipv6_\", \"\"), \"os_certify_\", \"\"), \"_\")[0] as area,\n",
    "       SUM(CASE WHEN `build` = \"{weekly_builds[0]}\" THEN failCount END) AS CurrentFailed,\n",
    "       SUM(CASE WHEN `build` = \"{weekly_builds[1]}\" THEN failCount END) AS LastFailed,\n",
    "       SUM(CASE WHEN `build` = \"{weekly_builds[0]}\" THEN totalCount END) AS CurrentCount\n",
    "FROM server\n",
    "WHERE LOWER(os)=\"centos\"\n",
    "    AND `build`IN [\"{weekly_builds[0]}\",\"{weekly_builds[1]}\"]\n",
    "    AND component IN components\n",
    "GROUP BY component, SPLIT(REPLACE(REPLACE(REPLACE(SPLIT(name,\"-\")[1], \"os_certify_ce_\", \"\"), \"ipv6_\", \"\"), \"os_certify_\", \"\"), \"_\")[0]\n",
    "HAVING SUM(CASE WHEN `build` = \"{weekly_builds[0]}\" THEN failCount END) > 0 or SUM(CASE WHEN `build` = \"{weekly_builds[1]}\" THEN failCount END) > 0\n",
    "ORDER BY component, area\"\"\"\n",
    "\n",
    "failures_50 = run_query(query=failures_50_query, param={'$version': f'\"{release}-{current_build}\"'})\n",
    "sortdf50 = failures_50['results']\n",
    "\n",
    "data_table_50 = pd.DataFrame(sortdf50)"
   ]
  },
  {
   "cell_type": "code",
   "execution_count": 97,
   "id": "a2365ff6-80d5-4cc2-b056-5f68f5251c30",
   "metadata": {
    "jupyter": {
     "source_hidden": true
    },
    "tags": [
     "hide_input"
    ]
   },
   "outputs": [],
   "source": [
    "if sortdf50 != []:\n",
    "    component_data = []\n",
    "    total_data = {}\n",
    "\n",
    "    sorted_dt50_components = sorted(list(set(data_table_50.component)))\n",
    "    for compo in sorted_dt50_components:\n",
    "        component_data.append([])\n",
    "        total_data[f'{compo}'] = [0, 0]\n",
    "\n",
    "    for i in sortdf50:\n",
    "        i_component = i['component']\n",
    "        index = sorted_dt50_components.index(i_component)\n",
    "        total_data[f'{i_component}'][0] = total_data[f'{i_component}'][0] + i['CurrentFailed']\n",
    "        total_data[f'{i_component}'][1] = total_data[f'{i_component}'][1] + i['LastFailed']\n",
    "        component_data[index].append(f\"<b>{i['area']}</b><br>Now: {i['CurrentFailed']}<br>Last: {i['LastFailed']}\")\n",
    "\n",
    "    ind = 0\n",
    "    for each in component_data:\n",
    "        each.insert(0, f\"<b>Total</b><br>Now: {total_data[f'{sorted_dt50_components[ind]}'][0]}<br>Last: {total_data[f'{sorted_dt50_components[ind]}'][1]}\")\n",
    "        ind = ind + 1\n",
    "\n",
    "    df_cdata = pd.DataFrame(component_data)\n",
    "    df_cdata = df_cdata.fillna(\"\")\n",
    "    df_cdata = df_cdata.T\n",
    "\n",
    "    final_data = []\n",
    "    for element in range(0, len(df_cdata.columns)):\n",
    "        final_data.append(df_cdata.iloc[:, element])\n",
    "\n"
   ]
  },
  {
   "cell_type": "markdown",
   "id": "716a491a-bb69-4c0d-9f41-8dbf6699c204",
   "metadata": {},
   "source": [
    "Below is a table and a bar graph that display information about the components with 50 or more failures across all areas and compares the information to that of the previous weekly build."
   ]
  },
  {
   "cell_type": "code",
   "execution_count": 98,
   "id": "833cc943-0e92-4738-ab87-b0759c547213",
   "metadata": {
    "jupyter": {
     "source_hidden": true
    },
    "tags": [
     "hide_input"
    ]
   },
   "outputs": [
    {
     "data": {
      "application/vnd.plotly.v1+json": {
       "config": {
        "plotlyServerURL": "https://plot.ly"
       },
       "data": [
        {
         "cells": {
          "fill": {
           "color": [
            "#F4F4F4",
            "#F4F4F4",
            "#F4F4F4",
            [
             "#8BE9A3",
             "#FFBAAB",
             "#8BE9A3",
             "#FFBAAB",
             "#8BE9A3",
             "#8BE9A3",
             "#8BE9A3",
             "#F4F4F4",
             "#8BE9A3",
             "#8BE9A3",
             "#8BE9A3",
             "#FFBAAB",
             "#FFBAAB",
             "#FFBAAB",
             "#FFBAAB",
             "#FFBAAB",
             "#8BE9A3",
             "#FFBAAB",
             "#8BE9A3",
             "#FFBAAB",
             "#8BE9A3",
             "#F4F4F4",
             "#FFBAAB",
             "#8BE9A3",
             "#FFBAAB",
             "#8BE9A3",
             "#8BE9A3",
             "#FFBAAB",
             "#8BE9A3",
             "#F4F4F4",
             "#8BE9A3",
             "#8BE9A3",
             "#8BE9A3",
             "#8BE9A3",
             "#FFBAAB"
            ]
           ]
          },
          "line": {
           "color": "lightgray"
          },
          "values": [
           [
            "ANALYTICS",
            "COLLECTIONS",
            "COLLECTIONS",
            "COLLECTIONS",
            "COLLECTIONS",
            "COLLECTIONS",
            "COLLECTIONS",
            "COLLECTIONS",
            "COLLECTIONS",
            "EVENTING",
            "FTS",
            "FTS",
            "IPV6",
            "IPV6",
            "IPV6",
            "IPV6",
            "IPV6",
            "IPV6",
            "IPV6",
            "IPV6",
            "IPV6",
            "IPV6",
            "IPV6",
            "IPV6",
            "MOBILE",
            "OS_CERTIFY",
            "OS_CERTIFY",
            "OS_CERTIFY",
            "OS_CERTIFY",
            "OS_CERTIFY",
            "OS_CERTIFY",
            "OS_CERTIFY",
            "OS_CERTIFY",
            "OS_CERTIFY",
            "QUERY"
           ],
           [
            "analytics",
            "2i",
            "collections",
            "fts",
            "plasma",
            "query",
            "rqg",
            "upgrade",
            "xdcr",
            "eventing",
            "fts",
            "query",
            "2i",
            "analytics",
            "ent",
            "eventing",
            "fts",
            "n1ql",
            "nsserver",
            "obj",
            "sanity",
            "security",
            "tools",
            "xdcr",
            "sync",
            "2i",
            "backup",
            "ent",
            "n1ql",
            "nsserver",
            "rza",
            "security",
            "tools",
            "xdcr",
            "query"
           ],
           [
            54,
            30,
            21,
            53,
            3,
            5,
            0,
            2,
            14,
            55,
            48,
            37,
            5,
            5,
            6,
            7,
            0,
            16,
            7,
            10,
            3,
            14,
            32,
            5,
            338,
            10,
            1,
            1,
            13,
            2,
            0,
            14,
            53,
            0,
            114
           ],
           [
            "65 less  failures",
            "6 more failures",
            "44 less  failures",
            "3 more failures",
            "3 less  failures",
            "1 less failure",
            "1 less failure",
            "No Change",
            "1 less failure",
            "9 less  failures",
            "4 less  failures",
            "28 more failures",
            "5 more failures",
            "1 more failure",
            "1 more failure",
            "7 more failures",
            "1 less failure",
            "13 more failures",
            "1 less failure",
            "10 more failures",
            "7 less  failures",
            "No Change",
            "31 more failures",
            "3 less  failures",
            "326 more failures",
            "8 less  failures",
            "1 less failure",
            "1 more failure",
            "10 less  failures",
            "No Change",
            "1 less failure",
            "4 less  failures",
            "20 less  failures",
            "2 less  failures",
            "82 more failures"
           ]
          ]
         },
         "header": {
          "fill": {
           "color": "maroon"
          },
          "font": {
           "color": "white"
          },
          "values": [
           "Component",
           "Break-Up",
           "Fails in 4960",
           "Delta from 7.0.0-4907"
          ]
         },
         "type": "table"
        }
       ],
       "layout": {
        "autosize": true,
        "template": {
         "data": {
          "bar": [
           {
            "error_x": {
             "color": "#2a3f5f"
            },
            "error_y": {
             "color": "#2a3f5f"
            },
            "marker": {
             "line": {
              "color": "#E5ECF6",
              "width": 0.5
             },
             "pattern": {
              "fillmode": "overlay",
              "size": 10,
              "solidity": 0.2
             }
            },
            "type": "bar"
           }
          ],
          "barpolar": [
           {
            "marker": {
             "line": {
              "color": "#E5ECF6",
              "width": 0.5
             },
             "pattern": {
              "fillmode": "overlay",
              "size": 10,
              "solidity": 0.2
             }
            },
            "type": "barpolar"
           }
          ],
          "carpet": [
           {
            "aaxis": {
             "endlinecolor": "#2a3f5f",
             "gridcolor": "white",
             "linecolor": "white",
             "minorgridcolor": "white",
             "startlinecolor": "#2a3f5f"
            },
            "baxis": {
             "endlinecolor": "#2a3f5f",
             "gridcolor": "white",
             "linecolor": "white",
             "minorgridcolor": "white",
             "startlinecolor": "#2a3f5f"
            },
            "type": "carpet"
           }
          ],
          "choropleth": [
           {
            "colorbar": {
             "outlinewidth": 0,
             "ticks": ""
            },
            "type": "choropleth"
           }
          ],
          "contour": [
           {
            "colorbar": {
             "outlinewidth": 0,
             "ticks": ""
            },
            "colorscale": [
             [
              0,
              "#0d0887"
             ],
             [
              0.1111111111111111,
              "#46039f"
             ],
             [
              0.2222222222222222,
              "#7201a8"
             ],
             [
              0.3333333333333333,
              "#9c179e"
             ],
             [
              0.4444444444444444,
              "#bd3786"
             ],
             [
              0.5555555555555556,
              "#d8576b"
             ],
             [
              0.6666666666666666,
              "#ed7953"
             ],
             [
              0.7777777777777778,
              "#fb9f3a"
             ],
             [
              0.8888888888888888,
              "#fdca26"
             ],
             [
              1,
              "#f0f921"
             ]
            ],
            "type": "contour"
           }
          ],
          "contourcarpet": [
           {
            "colorbar": {
             "outlinewidth": 0,
             "ticks": ""
            },
            "type": "contourcarpet"
           }
          ],
          "heatmap": [
           {
            "colorbar": {
             "outlinewidth": 0,
             "ticks": ""
            },
            "colorscale": [
             [
              0,
              "#0d0887"
             ],
             [
              0.1111111111111111,
              "#46039f"
             ],
             [
              0.2222222222222222,
              "#7201a8"
             ],
             [
              0.3333333333333333,
              "#9c179e"
             ],
             [
              0.4444444444444444,
              "#bd3786"
             ],
             [
              0.5555555555555556,
              "#d8576b"
             ],
             [
              0.6666666666666666,
              "#ed7953"
             ],
             [
              0.7777777777777778,
              "#fb9f3a"
             ],
             [
              0.8888888888888888,
              "#fdca26"
             ],
             [
              1,
              "#f0f921"
             ]
            ],
            "type": "heatmap"
           }
          ],
          "heatmapgl": [
           {
            "colorbar": {
             "outlinewidth": 0,
             "ticks": ""
            },
            "colorscale": [
             [
              0,
              "#0d0887"
             ],
             [
              0.1111111111111111,
              "#46039f"
             ],
             [
              0.2222222222222222,
              "#7201a8"
             ],
             [
              0.3333333333333333,
              "#9c179e"
             ],
             [
              0.4444444444444444,
              "#bd3786"
             ],
             [
              0.5555555555555556,
              "#d8576b"
             ],
             [
              0.6666666666666666,
              "#ed7953"
             ],
             [
              0.7777777777777778,
              "#fb9f3a"
             ],
             [
              0.8888888888888888,
              "#fdca26"
             ],
             [
              1,
              "#f0f921"
             ]
            ],
            "type": "heatmapgl"
           }
          ],
          "histogram": [
           {
            "marker": {
             "pattern": {
              "fillmode": "overlay",
              "size": 10,
              "solidity": 0.2
             }
            },
            "type": "histogram"
           }
          ],
          "histogram2d": [
           {
            "colorbar": {
             "outlinewidth": 0,
             "ticks": ""
            },
            "colorscale": [
             [
              0,
              "#0d0887"
             ],
             [
              0.1111111111111111,
              "#46039f"
             ],
             [
              0.2222222222222222,
              "#7201a8"
             ],
             [
              0.3333333333333333,
              "#9c179e"
             ],
             [
              0.4444444444444444,
              "#bd3786"
             ],
             [
              0.5555555555555556,
              "#d8576b"
             ],
             [
              0.6666666666666666,
              "#ed7953"
             ],
             [
              0.7777777777777778,
              "#fb9f3a"
             ],
             [
              0.8888888888888888,
              "#fdca26"
             ],
             [
              1,
              "#f0f921"
             ]
            ],
            "type": "histogram2d"
           }
          ],
          "histogram2dcontour": [
           {
            "colorbar": {
             "outlinewidth": 0,
             "ticks": ""
            },
            "colorscale": [
             [
              0,
              "#0d0887"
             ],
             [
              0.1111111111111111,
              "#46039f"
             ],
             [
              0.2222222222222222,
              "#7201a8"
             ],
             [
              0.3333333333333333,
              "#9c179e"
             ],
             [
              0.4444444444444444,
              "#bd3786"
             ],
             [
              0.5555555555555556,
              "#d8576b"
             ],
             [
              0.6666666666666666,
              "#ed7953"
             ],
             [
              0.7777777777777778,
              "#fb9f3a"
             ],
             [
              0.8888888888888888,
              "#fdca26"
             ],
             [
              1,
              "#f0f921"
             ]
            ],
            "type": "histogram2dcontour"
           }
          ],
          "mesh3d": [
           {
            "colorbar": {
             "outlinewidth": 0,
             "ticks": ""
            },
            "type": "mesh3d"
           }
          ],
          "parcoords": [
           {
            "line": {
             "colorbar": {
              "outlinewidth": 0,
              "ticks": ""
             }
            },
            "type": "parcoords"
           }
          ],
          "pie": [
           {
            "automargin": true,
            "type": "pie"
           }
          ],
          "scatter": [
           {
            "marker": {
             "colorbar": {
              "outlinewidth": 0,
              "ticks": ""
             }
            },
            "type": "scatter"
           }
          ],
          "scatter3d": [
           {
            "line": {
             "colorbar": {
              "outlinewidth": 0,
              "ticks": ""
             }
            },
            "marker": {
             "colorbar": {
              "outlinewidth": 0,
              "ticks": ""
             }
            },
            "type": "scatter3d"
           }
          ],
          "scattercarpet": [
           {
            "marker": {
             "colorbar": {
              "outlinewidth": 0,
              "ticks": ""
             }
            },
            "type": "scattercarpet"
           }
          ],
          "scattergeo": [
           {
            "marker": {
             "colorbar": {
              "outlinewidth": 0,
              "ticks": ""
             }
            },
            "type": "scattergeo"
           }
          ],
          "scattergl": [
           {
            "marker": {
             "colorbar": {
              "outlinewidth": 0,
              "ticks": ""
             }
            },
            "type": "scattergl"
           }
          ],
          "scattermapbox": [
           {
            "marker": {
             "colorbar": {
              "outlinewidth": 0,
              "ticks": ""
             }
            },
            "type": "scattermapbox"
           }
          ],
          "scatterpolar": [
           {
            "marker": {
             "colorbar": {
              "outlinewidth": 0,
              "ticks": ""
             }
            },
            "type": "scatterpolar"
           }
          ],
          "scatterpolargl": [
           {
            "marker": {
             "colorbar": {
              "outlinewidth": 0,
              "ticks": ""
             }
            },
            "type": "scatterpolargl"
           }
          ],
          "scatterternary": [
           {
            "marker": {
             "colorbar": {
              "outlinewidth": 0,
              "ticks": ""
             }
            },
            "type": "scatterternary"
           }
          ],
          "surface": [
           {
            "colorbar": {
             "outlinewidth": 0,
             "ticks": ""
            },
            "colorscale": [
             [
              0,
              "#0d0887"
             ],
             [
              0.1111111111111111,
              "#46039f"
             ],
             [
              0.2222222222222222,
              "#7201a8"
             ],
             [
              0.3333333333333333,
              "#9c179e"
             ],
             [
              0.4444444444444444,
              "#bd3786"
             ],
             [
              0.5555555555555556,
              "#d8576b"
             ],
             [
              0.6666666666666666,
              "#ed7953"
             ],
             [
              0.7777777777777778,
              "#fb9f3a"
             ],
             [
              0.8888888888888888,
              "#fdca26"
             ],
             [
              1,
              "#f0f921"
             ]
            ],
            "type": "surface"
           }
          ],
          "table": [
           {
            "cells": {
             "fill": {
              "color": "#EBF0F8"
             },
             "line": {
              "color": "white"
             }
            },
            "header": {
             "fill": {
              "color": "#C8D4E3"
             },
             "line": {
              "color": "white"
             }
            },
            "type": "table"
           }
          ]
         },
         "layout": {
          "annotationdefaults": {
           "arrowcolor": "#2a3f5f",
           "arrowhead": 0,
           "arrowwidth": 1
          },
          "autotypenumbers": "strict",
          "coloraxis": {
           "colorbar": {
            "outlinewidth": 0,
            "ticks": ""
           }
          },
          "colorscale": {
           "diverging": [
            [
             0,
             "#8e0152"
            ],
            [
             0.1,
             "#c51b7d"
            ],
            [
             0.2,
             "#de77ae"
            ],
            [
             0.3,
             "#f1b6da"
            ],
            [
             0.4,
             "#fde0ef"
            ],
            [
             0.5,
             "#f7f7f7"
            ],
            [
             0.6,
             "#e6f5d0"
            ],
            [
             0.7,
             "#b8e186"
            ],
            [
             0.8,
             "#7fbc41"
            ],
            [
             0.9,
             "#4d9221"
            ],
            [
             1,
             "#276419"
            ]
           ],
           "sequential": [
            [
             0,
             "#0d0887"
            ],
            [
             0.1111111111111111,
             "#46039f"
            ],
            [
             0.2222222222222222,
             "#7201a8"
            ],
            [
             0.3333333333333333,
             "#9c179e"
            ],
            [
             0.4444444444444444,
             "#bd3786"
            ],
            [
             0.5555555555555556,
             "#d8576b"
            ],
            [
             0.6666666666666666,
             "#ed7953"
            ],
            [
             0.7777777777777778,
             "#fb9f3a"
            ],
            [
             0.8888888888888888,
             "#fdca26"
            ],
            [
             1,
             "#f0f921"
            ]
           ],
           "sequentialminus": [
            [
             0,
             "#0d0887"
            ],
            [
             0.1111111111111111,
             "#46039f"
            ],
            [
             0.2222222222222222,
             "#7201a8"
            ],
            [
             0.3333333333333333,
             "#9c179e"
            ],
            [
             0.4444444444444444,
             "#bd3786"
            ],
            [
             0.5555555555555556,
             "#d8576b"
            ],
            [
             0.6666666666666666,
             "#ed7953"
            ],
            [
             0.7777777777777778,
             "#fb9f3a"
            ],
            [
             0.8888888888888888,
             "#fdca26"
            ],
            [
             1,
             "#f0f921"
            ]
           ]
          },
          "colorway": [
           "#636efa",
           "#EF553B",
           "#00cc96",
           "#ab63fa",
           "#FFA15A",
           "#19d3f3",
           "#FF6692",
           "#B6E880",
           "#FF97FF",
           "#FECB52"
          ],
          "font": {
           "color": "#2a3f5f"
          },
          "geo": {
           "bgcolor": "white",
           "lakecolor": "white",
           "landcolor": "#E5ECF6",
           "showlakes": true,
           "showland": true,
           "subunitcolor": "white"
          },
          "hoverlabel": {
           "align": "left"
          },
          "hovermode": "closest",
          "mapbox": {
           "style": "light"
          },
          "paper_bgcolor": "white",
          "plot_bgcolor": "#E5ECF6",
          "polar": {
           "angularaxis": {
            "gridcolor": "white",
            "linecolor": "white",
            "ticks": ""
           },
           "bgcolor": "#E5ECF6",
           "radialaxis": {
            "gridcolor": "white",
            "linecolor": "white",
            "ticks": ""
           }
          },
          "scene": {
           "xaxis": {
            "backgroundcolor": "#E5ECF6",
            "gridcolor": "white",
            "gridwidth": 2,
            "linecolor": "white",
            "showbackground": true,
            "ticks": "",
            "zerolinecolor": "white"
           },
           "yaxis": {
            "backgroundcolor": "#E5ECF6",
            "gridcolor": "white",
            "gridwidth": 2,
            "linecolor": "white",
            "showbackground": true,
            "ticks": "",
            "zerolinecolor": "white"
           },
           "zaxis": {
            "backgroundcolor": "#E5ECF6",
            "gridcolor": "white",
            "gridwidth": 2,
            "linecolor": "white",
            "showbackground": true,
            "ticks": "",
            "zerolinecolor": "white"
           }
          },
          "shapedefaults": {
           "line": {
            "color": "#2a3f5f"
           }
          },
          "ternary": {
           "aaxis": {
            "gridcolor": "white",
            "linecolor": "white",
            "ticks": ""
           },
           "baxis": {
            "gridcolor": "white",
            "linecolor": "white",
            "ticks": ""
           },
           "bgcolor": "#E5ECF6",
           "caxis": {
            "gridcolor": "white",
            "linecolor": "white",
            "ticks": ""
           }
          },
          "title": {
           "x": 0.05
          },
          "xaxis": {
           "automargin": true,
           "gridcolor": "white",
           "linecolor": "white",
           "ticks": "",
           "title": {
            "standoff": 15
           },
           "zerolinecolor": "white",
           "zerolinewidth": 2
          },
          "yaxis": {
           "automargin": true,
           "gridcolor": "white",
           "linecolor": "white",
           "ticks": "",
           "title": {
            "standoff": 15
           },
           "zerolinecolor": "white",
           "zerolinewidth": 2
          }
         }
        },
        "title": {
         "text": "Areas in 7.0.0-4960 with Over 50 Failures and Comparison with 7.0.0-4907 (Table)"
        }
       }
      },
      "image/png": "[encoded data removed]",
      "text/html": [
       "<div>                            <div id=\"5de3f501-bce2-4d27-b9d2-8bfb7d3d4979\" class=\"plotly-graph-div\" style=\"height:700px; width:100%;\"></div>            <script type=\"text/javascript\">                require([\"plotly\"], function(Plotly) {                    window.PLOTLYENV=window.PLOTLYENV || {};                                    if (document.getElementById(\"5de3f501-bce2-4d27-b9d2-8bfb7d3d4979\")) {                    Plotly.newPlot(                        \"5de3f501-bce2-4d27-b9d2-8bfb7d3d4979\",                        [{\"cells\":{\"fill\":{\"color\":[\"#F4F4F4\",\"#F4F4F4\",\"#F4F4F4\",[\"#8BE9A3\",\"#FFBAAB\",\"#8BE9A3\",\"#FFBAAB\",\"#8BE9A3\",\"#8BE9A3\",\"#8BE9A3\",\"#F4F4F4\",\"#8BE9A3\",\"#8BE9A3\",\"#8BE9A3\",\"#FFBAAB\",\"#FFBAAB\",\"#FFBAAB\",\"#FFBAAB\",\"#FFBAAB\",\"#8BE9A3\",\"#FFBAAB\",\"#8BE9A3\",\"#FFBAAB\",\"#8BE9A3\",\"#F4F4F4\",\"#FFBAAB\",\"#8BE9A3\",\"#FFBAAB\",\"#8BE9A3\",\"#8BE9A3\",\"#FFBAAB\",\"#8BE9A3\",\"#F4F4F4\",\"#8BE9A3\",\"#8BE9A3\",\"#8BE9A3\",\"#8BE9A3\",\"#FFBAAB\"]]},\"line\":{\"color\":\"lightgray\"},\"values\":[[\"ANALYTICS\",\"COLLECTIONS\",\"COLLECTIONS\",\"COLLECTIONS\",\"COLLECTIONS\",\"COLLECTIONS\",\"COLLECTIONS\",\"COLLECTIONS\",\"COLLECTIONS\",\"EVENTING\",\"FTS\",\"FTS\",\"IPV6\",\"IPV6\",\"IPV6\",\"IPV6\",\"IPV6\",\"IPV6\",\"IPV6\",\"IPV6\",\"IPV6\",\"IPV6\",\"IPV6\",\"IPV6\",\"MOBILE\",\"OS_CERTIFY\",\"OS_CERTIFY\",\"OS_CERTIFY\",\"OS_CERTIFY\",\"OS_CERTIFY\",\"OS_CERTIFY\",\"OS_CERTIFY\",\"OS_CERTIFY\",\"OS_CERTIFY\",\"QUERY\"],[\"analytics\",\"2i\",\"collections\",\"fts\",\"plasma\",\"query\",\"rqg\",\"upgrade\",\"xdcr\",\"eventing\",\"fts\",\"query\",\"2i\",\"analytics\",\"ent\",\"eventing\",\"fts\",\"n1ql\",\"nsserver\",\"obj\",\"sanity\",\"security\",\"tools\",\"xdcr\",\"sync\",\"2i\",\"backup\",\"ent\",\"n1ql\",\"nsserver\",\"rza\",\"security\",\"tools\",\"xdcr\",\"query\"],[54,30,21,53,3,5,0,2,14,55,48,37,5,5,6,7,0,16,7,10,3,14,32,5,338,10,1,1,13,2,0,14,53,0,114],[\"65 less  failures\",\"6 more failures\",\"44 less  failures\",\"3 more failures\",\"3 less  failures\",\"1 less failure\",\"1 less failure\",\"No Change\",\"1 less failure\",\"9 less  failures\",\"4 less  failures\",\"28 more failures\",\"5 more failures\",\"1 more failure\",\"1 more failure\",\"7 more failures\",\"1 less failure\",\"13 more failures\",\"1 less failure\",\"10 more failures\",\"7 less  failures\",\"No Change\",\"31 more failures\",\"3 less  failures\",\"326 more failures\",\"8 less  failures\",\"1 less failure\",\"1 more failure\",\"10 less  failures\",\"No Change\",\"1 less failure\",\"4 less  failures\",\"20 less  failures\",\"2 less  failures\",\"82 more failures\"]]},\"header\":{\"fill\":{\"color\":\"maroon\"},\"font\":{\"color\":\"white\"},\"values\":[\"Component\",\"Break-Up\",\"Fails in 4960\",\"Delta from 7.0.0-4907\"]},\"type\":\"table\"}],                        {\"height\":700,\"template\":{\"data\":{\"bar\":[{\"error_x\":{\"color\":\"#2a3f5f\"},\"error_y\":{\"color\":\"#2a3f5f\"},\"marker\":{\"line\":{\"color\":\"#E5ECF6\",\"width\":0.5},\"pattern\":{\"fillmode\":\"overlay\",\"size\":10,\"solidity\":0.2}},\"type\":\"bar\"}],\"barpolar\":[{\"marker\":{\"line\":{\"color\":\"#E5ECF6\",\"width\":0.5},\"pattern\":{\"fillmode\":\"overlay\",\"size\":10,\"solidity\":0.2}},\"type\":\"barpolar\"}],\"carpet\":[{\"aaxis\":{\"endlinecolor\":\"#2a3f5f\",\"gridcolor\":\"white\",\"linecolor\":\"white\",\"minorgridcolor\":\"white\",\"startlinecolor\":\"#2a3f5f\"},\"baxis\":{\"endlinecolor\":\"#2a3f5f\",\"gridcolor\":\"white\",\"linecolor\":\"white\",\"minorgridcolor\":\"white\",\"startlinecolor\":\"#2a3f5f\"},\"type\":\"carpet\"}],\"choropleth\":[{\"colorbar\":{\"outlinewidth\":0,\"ticks\":\"\"},\"type\":\"choropleth\"}],\"contour\":[{\"colorbar\":{\"outlinewidth\":0,\"ticks\":\"\"},\"colorscale\":[[0.0,\"#0d0887\"],[0.1111111111111111,\"#46039f\"],[0.2222222222222222,\"#7201a8\"],[0.3333333333333333,\"#9c179e\"],[0.4444444444444444,\"#bd3786\"],[0.5555555555555556,\"#d8576b\"],[0.6666666666666666,\"#ed7953\"],[0.7777777777777778,\"#fb9f3a\"],[0.8888888888888888,\"#fdca26\"],[1.0,\"#f0f921\"]],\"type\":\"contour\"}],\"contourcarpet\":[{\"colorbar\":{\"outlinewidth\":0,\"ticks\":\"\"},\"type\":\"contourcarpet\"}],\"heatmap\":[{\"colorbar\":{\"outlinewidth\":0,\"ticks\":\"\"},\"colorscale\":[[0.0,\"#0d0887\"],[0.1111111111111111,\"#46039f\"],[0.2222222222222222,\"#7201a8\"],[0.3333333333333333,\"#9c179e\"],[0.4444444444444444,\"#bd3786\"],[0.5555555555555556,\"#d8576b\"],[0.6666666666666666,\"#ed7953\"],[0.7777777777777778,\"#fb9f3a\"],[0.8888888888888888,\"#fdca26\"],[1.0,\"#f0f921\"]],\"type\":\"heatmap\"}],\"heatmapgl\":[{\"colorbar\":{\"outlinewidth\":0,\"ticks\":\"\"},\"colorscale\":[[0.0,\"#0d0887\"],[0.1111111111111111,\"#46039f\"],[0.2222222222222222,\"#7201a8\"],[0.3333333333333333,\"#9c179e\"],[0.4444444444444444,\"#bd3786\"],[0.5555555555555556,\"#d8576b\"],[0.6666666666666666,\"#ed7953\"],[0.7777777777777778,\"#fb9f3a\"],[0.8888888888888888,\"#fdca26\"],[1.0,\"#f0f921\"]],\"type\":\"heatmapgl\"}],\"histogram\":[{\"marker\":{\"pattern\":{\"fillmode\":\"overlay\",\"size\":10,\"solidity\":0.2}},\"type\":\"histogram\"}],\"histogram2d\":[{\"colorbar\":{\"outlinewidth\":0,\"ticks\":\"\"},\"colorscale\":[[0.0,\"#0d0887\"],[0.1111111111111111,\"#46039f\"],[0.2222222222222222,\"#7201a8\"],[0.3333333333333333,\"#9c179e\"],[0.4444444444444444,\"#bd3786\"],[0.5555555555555556,\"#d8576b\"],[0.6666666666666666,\"#ed7953\"],[0.7777777777777778,\"#fb9f3a\"],[0.8888888888888888,\"#fdca26\"],[1.0,\"#f0f921\"]],\"type\":\"histogram2d\"}],\"histogram2dcontour\":[{\"colorbar\":{\"outlinewidth\":0,\"ticks\":\"\"},\"colorscale\":[[0.0,\"#0d0887\"],[0.1111111111111111,\"#46039f\"],[0.2222222222222222,\"#7201a8\"],[0.3333333333333333,\"#9c179e\"],[0.4444444444444444,\"#bd3786\"],[0.5555555555555556,\"#d8576b\"],[0.6666666666666666,\"#ed7953\"],[0.7777777777777778,\"#fb9f3a\"],[0.8888888888888888,\"#fdca26\"],[1.0,\"#f0f921\"]],\"type\":\"histogram2dcontour\"}],\"mesh3d\":[{\"colorbar\":{\"outlinewidth\":0,\"ticks\":\"\"},\"type\":\"mesh3d\"}],\"parcoords\":[{\"line\":{\"colorbar\":{\"outlinewidth\":0,\"ticks\":\"\"}},\"type\":\"parcoords\"}],\"pie\":[{\"automargin\":true,\"type\":\"pie\"}],\"scatter\":[{\"marker\":{\"colorbar\":{\"outlinewidth\":0,\"ticks\":\"\"}},\"type\":\"scatter\"}],\"scatter3d\":[{\"line\":{\"colorbar\":{\"outlinewidth\":0,\"ticks\":\"\"}},\"marker\":{\"colorbar\":{\"outlinewidth\":0,\"ticks\":\"\"}},\"type\":\"scatter3d\"}],\"scattercarpet\":[{\"marker\":{\"colorbar\":{\"outlinewidth\":0,\"ticks\":\"\"}},\"type\":\"scattercarpet\"}],\"scattergeo\":[{\"marker\":{\"colorbar\":{\"outlinewidth\":0,\"ticks\":\"\"}},\"type\":\"scattergeo\"}],\"scattergl\":[{\"marker\":{\"colorbar\":{\"outlinewidth\":0,\"ticks\":\"\"}},\"type\":\"scattergl\"}],\"scattermapbox\":[{\"marker\":{\"colorbar\":{\"outlinewidth\":0,\"ticks\":\"\"}},\"type\":\"scattermapbox\"}],\"scatterpolar\":[{\"marker\":{\"colorbar\":{\"outlinewidth\":0,\"ticks\":\"\"}},\"type\":\"scatterpolar\"}],\"scatterpolargl\":[{\"marker\":{\"colorbar\":{\"outlinewidth\":0,\"ticks\":\"\"}},\"type\":\"scatterpolargl\"}],\"scatterternary\":[{\"marker\":{\"colorbar\":{\"outlinewidth\":0,\"ticks\":\"\"}},\"type\":\"scatterternary\"}],\"surface\":[{\"colorbar\":{\"outlinewidth\":0,\"ticks\":\"\"},\"colorscale\":[[0.0,\"#0d0887\"],[0.1111111111111111,\"#46039f\"],[0.2222222222222222,\"#7201a8\"],[0.3333333333333333,\"#9c179e\"],[0.4444444444444444,\"#bd3786\"],[0.5555555555555556,\"#d8576b\"],[0.6666666666666666,\"#ed7953\"],[0.7777777777777778,\"#fb9f3a\"],[0.8888888888888888,\"#fdca26\"],[1.0,\"#f0f921\"]],\"type\":\"surface\"}],\"table\":[{\"cells\":{\"fill\":{\"color\":\"#EBF0F8\"},\"line\":{\"color\":\"white\"}},\"header\":{\"fill\":{\"color\":\"#C8D4E3\"},\"line\":{\"color\":\"white\"}},\"type\":\"table\"}]},\"layout\":{\"annotationdefaults\":{\"arrowcolor\":\"#2a3f5f\",\"arrowhead\":0,\"arrowwidth\":1},\"autotypenumbers\":\"strict\",\"coloraxis\":{\"colorbar\":{\"outlinewidth\":0,\"ticks\":\"\"}},\"colorscale\":{\"diverging\":[[0,\"#8e0152\"],[0.1,\"#c51b7d\"],[0.2,\"#de77ae\"],[0.3,\"#f1b6da\"],[0.4,\"#fde0ef\"],[0.5,\"#f7f7f7\"],[0.6,\"#e6f5d0\"],[0.7,\"#b8e186\"],[0.8,\"#7fbc41\"],[0.9,\"#4d9221\"],[1,\"#276419\"]],\"sequential\":[[0.0,\"#0d0887\"],[0.1111111111111111,\"#46039f\"],[0.2222222222222222,\"#7201a8\"],[0.3333333333333333,\"#9c179e\"],[0.4444444444444444,\"#bd3786\"],[0.5555555555555556,\"#d8576b\"],[0.6666666666666666,\"#ed7953\"],[0.7777777777777778,\"#fb9f3a\"],[0.8888888888888888,\"#fdca26\"],[1.0,\"#f0f921\"]],\"sequentialminus\":[[0.0,\"#0d0887\"],[0.1111111111111111,\"#46039f\"],[0.2222222222222222,\"#7201a8\"],[0.3333333333333333,\"#9c179e\"],[0.4444444444444444,\"#bd3786\"],[0.5555555555555556,\"#d8576b\"],[0.6666666666666666,\"#ed7953\"],[0.7777777777777778,\"#fb9f3a\"],[0.8888888888888888,\"#fdca26\"],[1.0,\"#f0f921\"]]},\"colorway\":[\"#636efa\",\"#EF553B\",\"#00cc96\",\"#ab63fa\",\"#FFA15A\",\"#19d3f3\",\"#FF6692\",\"#B6E880\",\"#FF97FF\",\"#FECB52\"],\"font\":{\"color\":\"#2a3f5f\"},\"geo\":{\"bgcolor\":\"white\",\"lakecolor\":\"white\",\"landcolor\":\"#E5ECF6\",\"showlakes\":true,\"showland\":true,\"subunitcolor\":\"white\"},\"hoverlabel\":{\"align\":\"left\"},\"hovermode\":\"closest\",\"mapbox\":{\"style\":\"light\"},\"paper_bgcolor\":\"white\",\"plot_bgcolor\":\"#E5ECF6\",\"polar\":{\"angularaxis\":{\"gridcolor\":\"white\",\"linecolor\":\"white\",\"ticks\":\"\"},\"bgcolor\":\"#E5ECF6\",\"radialaxis\":{\"gridcolor\":\"white\",\"linecolor\":\"white\",\"ticks\":\"\"}},\"scene\":{\"xaxis\":{\"backgroundcolor\":\"#E5ECF6\",\"gridcolor\":\"white\",\"gridwidth\":2,\"linecolor\":\"white\",\"showbackground\":true,\"ticks\":\"\",\"zerolinecolor\":\"white\"},\"yaxis\":{\"backgroundcolor\":\"#E5ECF6\",\"gridcolor\":\"white\",\"gridwidth\":2,\"linecolor\":\"white\",\"showbackground\":true,\"ticks\":\"\",\"zerolinecolor\":\"white\"},\"zaxis\":{\"backgroundcolor\":\"#E5ECF6\",\"gridcolor\":\"white\",\"gridwidth\":2,\"linecolor\":\"white\",\"showbackground\":true,\"ticks\":\"\",\"zerolinecolor\":\"white\"}},\"shapedefaults\":{\"line\":{\"color\":\"#2a3f5f\"}},\"ternary\":{\"aaxis\":{\"gridcolor\":\"white\",\"linecolor\":\"white\",\"ticks\":\"\"},\"baxis\":{\"gridcolor\":\"white\",\"linecolor\":\"white\",\"ticks\":\"\"},\"bgcolor\":\"#E5ECF6\",\"caxis\":{\"gridcolor\":\"white\",\"linecolor\":\"white\",\"ticks\":\"\"}},\"title\":{\"x\":0.05},\"xaxis\":{\"automargin\":true,\"gridcolor\":\"white\",\"linecolor\":\"white\",\"ticks\":\"\",\"title\":{\"standoff\":15},\"zerolinecolor\":\"white\",\"zerolinewidth\":2},\"yaxis\":{\"automargin\":true,\"gridcolor\":\"white\",\"linecolor\":\"white\",\"ticks\":\"\",\"title\":{\"standoff\":15},\"zerolinecolor\":\"white\",\"zerolinewidth\":2}}},\"title\":{\"text\":\"Areas in 7.0.0-4960 with Over 50 Failures and Comparison with 7.0.0-4907 (Table)\"}},                        {\"responsive\": true}                    ).then(function(){\n",
       "                            \n",
       "var gd = document.getElementById('5de3f501-bce2-4d27-b9d2-8bfb7d3d4979');\n",
       "var x = new MutationObserver(function (mutations, observer) {{\n",
       "        var display = window.getComputedStyle(gd).display;\n",
       "        if (!display || display === 'none') {{\n",
       "            console.log([gd, 'removed!']);\n",
       "            Plotly.purge(gd);\n",
       "            observer.disconnect();\n",
       "        }}\n",
       "}});\n",
       "\n",
       "// Listen for the removal of the full notebook cells\n",
       "var notebookContainer = gd.closest('#notebook-container');\n",
       "if (notebookContainer) {{\n",
       "    x.observe(notebookContainer, {childList: true});\n",
       "}}\n",
       "\n",
       "// Listen for the clearing of the current output cell\n",
       "var outputEl = gd.closest('.output');\n",
       "if (outputEl) {{\n",
       "    x.observe(outputEl, {childList: true});\n",
       "}}\n",
       "\n",
       "                        })                };                });            </script>        </div>"
      ]
     },
     "metadata": {},
     "output_type": "display_data"
    }
   ],
   "source": [
    "if sortdf50 != []:\n",
    "    cell50_colors = ['#F4F4F4', '#F4F4F4', '#F4F4F4']\n",
    "    delta50_colors = []\n",
    "    delta50_text = []\n",
    "\n",
    "    for i in range(0, len(data_table_50)):\n",
    "        delta_i = data_table_50.LastFailed.iloc[i] - data_table_50.CurrentFailed.iloc[i]\n",
    "        if delta_i < 0:\n",
    "            delta50_colors.append('#FFBAAB')\n",
    "            delta50_text.append(str(abs(delta_i)) + ' more failures' if delta_i < -1 else str(abs(delta_i)) + ' more failure')\n",
    "        elif delta_i == 0:\n",
    "            delta50_colors.append(\"#F4F4F4\")\n",
    "            delta50_text.append(\"No Change\")\n",
    "        else:\n",
    "            delta50_colors.append('#8BE9A3')\n",
    "            delta50_text.append(str(delta_i) + ' less  failures' if delta_i > 1 else str(delta_i) + ' less failure')\n",
    "\n",
    "    cell50_colors.append(delta50_colors)\n",
    "\n",
    "    old_table_50 = go.Figure(data=[go.Table(\n",
    "        header = dict(values=[\"Component\", \"Break-Up\", f'Fails in {current_build}', f'Delta from {weekly_builds[1]}'], fill_color=\"maroon\", font=dict(color=\"white\")),\n",
    "        cells = dict(values=[data_table_50.component, data_table_50.area, data_table_50.CurrentFailed, delta50_text], fill_color=cell50_colors, line_color=\"lightgray\")\n",
    "    )])\n",
    "\n",
    "    table_50 = go.Figure(data=[go.Table(\n",
    "        header = dict(values=sorted_dt50_components, fill_color=\"maroon\", font=dict(color=\"white\")),\n",
    "        cells = dict(values=final_data, fill_color=\"#F4F4F4\", line_color=\"lightgray\", height=50)\n",
    "    )])\n",
    "\n",
    "    old_table_50.update_layout(height=700, title=f\"Areas in {weekly_builds[0]} with Over 50 Failures and Comparison with {weekly_builds[1]} (Table)\")\n",
    "    old_table_50.show()\n",
    "else:\n",
    "    print(\"No components over 50 failures\")"
   ]
  },
  {
   "cell_type": "markdown",
   "id": "daaf0770-c545-4372-9de0-63655fcbeeb9",
   "metadata": {},
   "source": [
    "Hover over a bar for more information. You can click on each area's name to the right of the bar chart to toggle the data from that area, or double click on an area to isolate that area. You can double click on a hidden area to toggle all data back to shown."
   ]
  },
  {
   "cell_type": "code",
   "execution_count": 99,
   "id": "09c9068c",
   "metadata": {
    "tags": [
     "hide_input"
    ]
   },
   "outputs": [
    {
     "data": {
      "application/vnd.plotly.v1+json": {
       "config": {
        "plotlyServerURL": "https://plot.ly"
       },
       "data": [
        {
         "alignmentgroup": "True",
         "hovertemplate": "area=analytics<br>component=ANALYTICS<br>ver=%{x}<br>fails=%{y}<extra></extra>",
         "legendgroup": "analytics",
         "marker": {
          "color": "#636efa",
          "pattern": {
           "shape": ""
          }
         },
         "name": "analytics",
         "offsetgroup": "analytics",
         "orientation": "v",
         "showlegend": true,
         "textposition": "auto",
         "type": "bar",
         "x": [
          "last",
          "current"
         ],
         "xaxis": "x",
         "y": [
          119,
          54
         ],
         "yaxis": "y"
        },
        {
         "alignmentgroup": "True",
         "hovertemplate": "area=analytics<br>component=IPV6<br>ver=%{x}<br>fails=%{y}<extra></extra>",
         "legendgroup": "analytics",
         "marker": {
          "color": "#636efa",
          "pattern": {
           "shape": ""
          }
         },
         "name": "analytics",
         "offsetgroup": "analytics",
         "orientation": "v",
         "showlegend": false,
         "textposition": "auto",
         "type": "bar",
         "x": [
          "last",
          "current"
         ],
         "xaxis": "x5",
         "y": [
          4,
          5
         ],
         "yaxis": "y5"
        },
        {
         "alignmentgroup": "True",
         "hovertemplate": "area=2i<br>component=COLLECTIONS<br>ver=%{x}<br>fails=%{y}<extra></extra>",
         "legendgroup": "2i",
         "marker": {
          "color": "#EF553B",
          "pattern": {
           "shape": ""
          }
         },
         "name": "2i",
         "offsetgroup": "2i",
         "orientation": "v",
         "showlegend": true,
         "textposition": "auto",
         "type": "bar",
         "x": [
          "last",
          "current"
         ],
         "xaxis": "x2",
         "y": [
          24,
          30
         ],
         "yaxis": "y2"
        },
        {
         "alignmentgroup": "True",
         "hovertemplate": "area=2i<br>component=IPV6<br>ver=%{x}<br>fails=%{y}<extra></extra>",
         "legendgroup": "2i",
         "marker": {
          "color": "#EF553B",
          "pattern": {
           "shape": ""
          }
         },
         "name": "2i",
         "offsetgroup": "2i",
         "orientation": "v",
         "showlegend": false,
         "textposition": "auto",
         "type": "bar",
         "x": [
          "last",
          "current"
         ],
         "xaxis": "x5",
         "y": [
          0,
          5
         ],
         "yaxis": "y5"
        },
        {
         "alignmentgroup": "True",
         "hovertemplate": "area=2i<br>component=OS_CERTIFY<br>ver=%{x}<br>fails=%{y}<extra></extra>",
         "legendgroup": "2i",
         "marker": {
          "color": "#EF553B",
          "pattern": {
           "shape": ""
          }
         },
         "name": "2i",
         "offsetgroup": "2i",
         "orientation": "v",
         "showlegend": false,
         "textposition": "auto",
         "type": "bar",
         "x": [
          "last",
          "current"
         ],
         "xaxis": "x7",
         "y": [
          18,
          10
         ],
         "yaxis": "y7"
        },
        {
         "alignmentgroup": "True",
         "hovertemplate": "area=collections<br>component=COLLECTIONS<br>ver=%{x}<br>fails=%{y}<extra></extra>",
         "legendgroup": "collections",
         "marker": {
          "color": "#00cc96",
          "pattern": {
           "shape": ""
          }
         },
         "name": "collections",
         "offsetgroup": "collections",
         "orientation": "v",
         "showlegend": true,
         "textposition": "auto",
         "type": "bar",
         "x": [
          "last",
          "current"
         ],
         "xaxis": "x2",
         "y": [
          65,
          21
         ],
         "yaxis": "y2"
        },
        {
         "alignmentgroup": "True",
         "hovertemplate": "area=fts<br>component=COLLECTIONS<br>ver=%{x}<br>fails=%{y}<extra></extra>",
         "legendgroup": "fts",
         "marker": {
          "color": "#ab63fa",
          "pattern": {
           "shape": ""
          }
         },
         "name": "fts",
         "offsetgroup": "fts",
         "orientation": "v",
         "showlegend": true,
         "textposition": "auto",
         "type": "bar",
         "x": [
          "last",
          "current"
         ],
         "xaxis": "x2",
         "y": [
          50,
          53
         ],
         "yaxis": "y2"
        },
        {
         "alignmentgroup": "True",
         "hovertemplate": "area=fts<br>component=FTS<br>ver=%{x}<br>fails=%{y}<extra></extra>",
         "legendgroup": "fts",
         "marker": {
          "color": "#ab63fa",
          "pattern": {
           "shape": ""
          }
         },
         "name": "fts",
         "offsetgroup": "fts",
         "orientation": "v",
         "showlegend": false,
         "textposition": "auto",
         "type": "bar",
         "x": [
          "last",
          "current"
         ],
         "xaxis": "x4",
         "y": [
          52,
          48
         ],
         "yaxis": "y4"
        },
        {
         "alignmentgroup": "True",
         "hovertemplate": "area=fts<br>component=IPV6<br>ver=%{x}<br>fails=%{y}<extra></extra>",
         "legendgroup": "fts",
         "marker": {
          "color": "#ab63fa",
          "pattern": {
           "shape": ""
          }
         },
         "name": "fts",
         "offsetgroup": "fts",
         "orientation": "v",
         "showlegend": false,
         "textposition": "auto",
         "type": "bar",
         "x": [
          "last",
          "current"
         ],
         "xaxis": "x5",
         "y": [
          1,
          0
         ],
         "yaxis": "y5"
        },
        {
         "alignmentgroup": "True",
         "hovertemplate": "area=plasma<br>component=COLLECTIONS<br>ver=%{x}<br>fails=%{y}<extra></extra>",
         "legendgroup": "plasma",
         "marker": {
          "color": "#FFA15A",
          "pattern": {
           "shape": ""
          }
         },
         "name": "plasma",
         "offsetgroup": "plasma",
         "orientation": "v",
         "showlegend": true,
         "textposition": "auto",
         "type": "bar",
         "x": [
          "last",
          "current"
         ],
         "xaxis": "x2",
         "y": [
          6,
          3
         ],
         "yaxis": "y2"
        },
        {
         "alignmentgroup": "True",
         "hovertemplate": "area=query<br>component=COLLECTIONS<br>ver=%{x}<br>fails=%{y}<extra></extra>",
         "legendgroup": "query",
         "marker": {
          "color": "#19d3f3",
          "pattern": {
           "shape": ""
          }
         },
         "name": "query",
         "offsetgroup": "query",
         "orientation": "v",
         "showlegend": true,
         "textposition": "auto",
         "type": "bar",
         "x": [
          "last",
          "current"
         ],
         "xaxis": "x2",
         "y": [
          6,
          5
         ],
         "yaxis": "y2"
        },
        {
         "alignmentgroup": "True",
         "hovertemplate": "area=query<br>component=FTS<br>ver=%{x}<br>fails=%{y}<extra></extra>",
         "legendgroup": "query",
         "marker": {
          "color": "#19d3f3",
          "pattern": {
           "shape": ""
          }
         },
         "name": "query",
         "offsetgroup": "query",
         "orientation": "v",
         "showlegend": false,
         "textposition": "auto",
         "type": "bar",
         "x": [
          "last",
          "current"
         ],
         "xaxis": "x4",
         "y": [
          9,
          37
         ],
         "yaxis": "y4"
        },
        {
         "alignmentgroup": "True",
         "hovertemplate": "area=query<br>component=QUERY<br>ver=%{x}<br>fails=%{y}<extra></extra>",
         "legendgroup": "query",
         "marker": {
          "color": "#19d3f3",
          "pattern": {
           "shape": ""
          }
         },
         "name": "query",
         "offsetgroup": "query",
         "orientation": "v",
         "showlegend": false,
         "textposition": "auto",
         "type": "bar",
         "x": [
          "last",
          "current"
         ],
         "xaxis": "x8",
         "y": [
          32,
          114
         ],
         "yaxis": "y8"
        },
        {
         "alignmentgroup": "True",
         "hovertemplate": "area=rqg<br>component=COLLECTIONS<br>ver=%{x}<br>fails=%{y}<extra></extra>",
         "legendgroup": "rqg",
         "marker": {
          "color": "#FF6692",
          "pattern": {
           "shape": ""
          }
         },
         "name": "rqg",
         "offsetgroup": "rqg",
         "orientation": "v",
         "showlegend": true,
         "textposition": "auto",
         "type": "bar",
         "x": [
          "last",
          "current"
         ],
         "xaxis": "x2",
         "y": [
          1,
          0
         ],
         "yaxis": "y2"
        },
        {
         "alignmentgroup": "True",
         "hovertemplate": "area=upgrade<br>component=COLLECTIONS<br>ver=%{x}<br>fails=%{y}<extra></extra>",
         "legendgroup": "upgrade",
         "marker": {
          "color": "#B6E880",
          "pattern": {
           "shape": ""
          }
         },
         "name": "upgrade",
         "offsetgroup": "upgrade",
         "orientation": "v",
         "showlegend": true,
         "textposition": "auto",
         "type": "bar",
         "x": [
          "last",
          "current"
         ],
         "xaxis": "x2",
         "y": [
          2,
          2
         ],
         "yaxis": "y2"
        },
        {
         "alignmentgroup": "True",
         "hovertemplate": "area=xdcr<br>component=COLLECTIONS<br>ver=%{x}<br>fails=%{y}<extra></extra>",
         "legendgroup": "xdcr",
         "marker": {
          "color": "#FF97FF",
          "pattern": {
           "shape": ""
          }
         },
         "name": "xdcr",
         "offsetgroup": "xdcr",
         "orientation": "v",
         "showlegend": true,
         "textposition": "auto",
         "type": "bar",
         "x": [
          "last",
          "current"
         ],
         "xaxis": "x2",
         "y": [
          15,
          14
         ],
         "yaxis": "y2"
        },
        {
         "alignmentgroup": "True",
         "hovertemplate": "area=xdcr<br>component=IPV6<br>ver=%{x}<br>fails=%{y}<extra></extra>",
         "legendgroup": "xdcr",
         "marker": {
          "color": "#FF97FF",
          "pattern": {
           "shape": ""
          }
         },
         "name": "xdcr",
         "offsetgroup": "xdcr",
         "orientation": "v",
         "showlegend": false,
         "textposition": "auto",
         "type": "bar",
         "x": [
          "last",
          "current"
         ],
         "xaxis": "x5",
         "y": [
          8,
          5
         ],
         "yaxis": "y5"
        },
        {
         "alignmentgroup": "True",
         "hovertemplate": "area=xdcr<br>component=OS_CERTIFY<br>ver=%{x}<br>fails=%{y}<extra></extra>",
         "legendgroup": "xdcr",
         "marker": {
          "color": "#FF97FF",
          "pattern": {
           "shape": ""
          }
         },
         "name": "xdcr",
         "offsetgroup": "xdcr",
         "orientation": "v",
         "showlegend": false,
         "textposition": "auto",
         "type": "bar",
         "x": [
          "last",
          "current"
         ],
         "xaxis": "x7",
         "y": [
          2,
          0
         ],
         "yaxis": "y7"
        },
        {
         "alignmentgroup": "True",
         "hovertemplate": "area=eventing<br>component=EVENTING<br>ver=%{x}<br>fails=%{y}<extra></extra>",
         "legendgroup": "eventing",
         "marker": {
          "color": "#FECB52",
          "pattern": {
           "shape": ""
          }
         },
         "name": "eventing",
         "offsetgroup": "eventing",
         "orientation": "v",
         "showlegend": true,
         "textposition": "auto",
         "type": "bar",
         "x": [
          "last",
          "current"
         ],
         "xaxis": "x3",
         "y": [
          64,
          55
         ],
         "yaxis": "y3"
        },
        {
         "alignmentgroup": "True",
         "hovertemplate": "area=eventing<br>component=IPV6<br>ver=%{x}<br>fails=%{y}<extra></extra>",
         "legendgroup": "eventing",
         "marker": {
          "color": "#FECB52",
          "pattern": {
           "shape": ""
          }
         },
         "name": "eventing",
         "offsetgroup": "eventing",
         "orientation": "v",
         "showlegend": false,
         "textposition": "auto",
         "type": "bar",
         "x": [
          "last",
          "current"
         ],
         "xaxis": "x5",
         "y": [
          0,
          7
         ],
         "yaxis": "y5"
        },
        {
         "alignmentgroup": "True",
         "hovertemplate": "area=ent<br>component=IPV6<br>ver=%{x}<br>fails=%{y}<extra></extra>",
         "legendgroup": "ent",
         "marker": {
          "color": "#636efa",
          "pattern": {
           "shape": ""
          }
         },
         "name": "ent",
         "offsetgroup": "ent",
         "orientation": "v",
         "showlegend": true,
         "textposition": "auto",
         "type": "bar",
         "x": [
          "last",
          "current"
         ],
         "xaxis": "x5",
         "y": [
          5,
          6
         ],
         "yaxis": "y5"
        },
        {
         "alignmentgroup": "True",
         "hovertemplate": "area=ent<br>component=OS_CERTIFY<br>ver=%{x}<br>fails=%{y}<extra></extra>",
         "legendgroup": "ent",
         "marker": {
          "color": "#636efa",
          "pattern": {
           "shape": ""
          }
         },
         "name": "ent",
         "offsetgroup": "ent",
         "orientation": "v",
         "showlegend": false,
         "textposition": "auto",
         "type": "bar",
         "x": [
          "last",
          "current"
         ],
         "xaxis": "x7",
         "y": [
          0,
          1
         ],
         "yaxis": "y7"
        },
        {
         "alignmentgroup": "True",
         "hovertemplate": "area=n1ql<br>component=IPV6<br>ver=%{x}<br>fails=%{y}<extra></extra>",
         "legendgroup": "n1ql",
         "marker": {
          "color": "#EF553B",
          "pattern": {
           "shape": ""
          }
         },
         "name": "n1ql",
         "offsetgroup": "n1ql",
         "orientation": "v",
         "showlegend": true,
         "textposition": "auto",
         "type": "bar",
         "x": [
          "last",
          "current"
         ],
         "xaxis": "x5",
         "y": [
          3,
          16
         ],
         "yaxis": "y5"
        },
        {
         "alignmentgroup": "True",
         "hovertemplate": "area=n1ql<br>component=OS_CERTIFY<br>ver=%{x}<br>fails=%{y}<extra></extra>",
         "legendgroup": "n1ql",
         "marker": {
          "color": "#EF553B",
          "pattern": {
           "shape": ""
          }
         },
         "name": "n1ql",
         "offsetgroup": "n1ql",
         "orientation": "v",
         "showlegend": false,
         "textposition": "auto",
         "type": "bar",
         "x": [
          "last",
          "current"
         ],
         "xaxis": "x7",
         "y": [
          23,
          13
         ],
         "yaxis": "y7"
        },
        {
         "alignmentgroup": "True",
         "hovertemplate": "area=nsserver<br>component=IPV6<br>ver=%{x}<br>fails=%{y}<extra></extra>",
         "legendgroup": "nsserver",
         "marker": {
          "color": "#00cc96",
          "pattern": {
           "shape": ""
          }
         },
         "name": "nsserver",
         "offsetgroup": "nsserver",
         "orientation": "v",
         "showlegend": true,
         "textposition": "auto",
         "type": "bar",
         "x": [
          "last",
          "current"
         ],
         "xaxis": "x5",
         "y": [
          8,
          7
         ],
         "yaxis": "y5"
        },
        {
         "alignmentgroup": "True",
         "hovertemplate": "area=nsserver<br>component=OS_CERTIFY<br>ver=%{x}<br>fails=%{y}<extra></extra>",
         "legendgroup": "nsserver",
         "marker": {
          "color": "#00cc96",
          "pattern": {
           "shape": ""
          }
         },
         "name": "nsserver",
         "offsetgroup": "nsserver",
         "orientation": "v",
         "showlegend": false,
         "textposition": "auto",
         "type": "bar",
         "x": [
          "last",
          "current"
         ],
         "xaxis": "x7",
         "y": [
          2,
          2
         ],
         "yaxis": "y7"
        },
        {
         "alignmentgroup": "True",
         "hovertemplate": "area=obj<br>component=IPV6<br>ver=%{x}<br>fails=%{y}<extra></extra>",
         "legendgroup": "obj",
         "marker": {
          "color": "#ab63fa",
          "pattern": {
           "shape": ""
          }
         },
         "name": "obj",
         "offsetgroup": "obj",
         "orientation": "v",
         "showlegend": true,
         "textposition": "auto",
         "type": "bar",
         "x": [
          "last",
          "current"
         ],
         "xaxis": "x5",
         "y": [
          0,
          10
         ],
         "yaxis": "y5"
        },
        {
         "alignmentgroup": "True",
         "hovertemplate": "area=sanity<br>component=IPV6<br>ver=%{x}<br>fails=%{y}<extra></extra>",
         "legendgroup": "sanity",
         "marker": {
          "color": "#FFA15A",
          "pattern": {
           "shape": ""
          }
         },
         "name": "sanity",
         "offsetgroup": "sanity",
         "orientation": "v",
         "showlegend": true,
         "textposition": "auto",
         "type": "bar",
         "x": [
          "last",
          "current"
         ],
         "xaxis": "x5",
         "y": [
          10,
          3
         ],
         "yaxis": "y5"
        },
        {
         "alignmentgroup": "True",
         "hovertemplate": "area=security<br>component=IPV6<br>ver=%{x}<br>fails=%{y}<extra></extra>",
         "legendgroup": "security",
         "marker": {
          "color": "#19d3f3",
          "pattern": {
           "shape": ""
          }
         },
         "name": "security",
         "offsetgroup": "security",
         "orientation": "v",
         "showlegend": true,
         "textposition": "auto",
         "type": "bar",
         "x": [
          "last",
          "current"
         ],
         "xaxis": "x5",
         "y": [
          14,
          14
         ],
         "yaxis": "y5"
        },
        {
         "alignmentgroup": "True",
         "hovertemplate": "area=security<br>component=OS_CERTIFY<br>ver=%{x}<br>fails=%{y}<extra></extra>",
         "legendgroup": "security",
         "marker": {
          "color": "#19d3f3",
          "pattern": {
           "shape": ""
          }
         },
         "name": "security",
         "offsetgroup": "security",
         "orientation": "v",
         "showlegend": false,
         "textposition": "auto",
         "type": "bar",
         "x": [
          "last",
          "current"
         ],
         "xaxis": "x7",
         "y": [
          18,
          14
         ],
         "yaxis": "y7"
        },
        {
         "alignmentgroup": "True",
         "hovertemplate": "area=tools<br>component=IPV6<br>ver=%{x}<br>fails=%{y}<extra></extra>",
         "legendgroup": "tools",
         "marker": {
          "color": "#FF6692",
          "pattern": {
           "shape": ""
          }
         },
         "name": "tools",
         "offsetgroup": "tools",
         "orientation": "v",
         "showlegend": true,
         "textposition": "auto",
         "type": "bar",
         "x": [
          "last",
          "current"
         ],
         "xaxis": "x5",
         "y": [
          1,
          32
         ],
         "yaxis": "y5"
        },
        {
         "alignmentgroup": "True",
         "hovertemplate": "area=tools<br>component=OS_CERTIFY<br>ver=%{x}<br>fails=%{y}<extra></extra>",
         "legendgroup": "tools",
         "marker": {
          "color": "#FF6692",
          "pattern": {
           "shape": ""
          }
         },
         "name": "tools",
         "offsetgroup": "tools",
         "orientation": "v",
         "showlegend": false,
         "textposition": "auto",
         "type": "bar",
         "x": [
          "last",
          "current"
         ],
         "xaxis": "x7",
         "y": [
          73,
          53
         ],
         "yaxis": "y7"
        },
        {
         "alignmentgroup": "True",
         "hovertemplate": "area=sync<br>component=MOBILE<br>ver=%{x}<br>fails=%{y}<extra></extra>",
         "legendgroup": "sync",
         "marker": {
          "color": "#B6E880",
          "pattern": {
           "shape": ""
          }
         },
         "name": "sync",
         "offsetgroup": "sync",
         "orientation": "v",
         "showlegend": true,
         "textposition": "auto",
         "type": "bar",
         "x": [
          "last",
          "current"
         ],
         "xaxis": "x6",
         "y": [
          12,
          338
         ],
         "yaxis": "y6"
        },
        {
         "alignmentgroup": "True",
         "hovertemplate": "area=backup<br>component=OS_CERTIFY<br>ver=%{x}<br>fails=%{y}<extra></extra>",
         "legendgroup": "backup",
         "marker": {
          "color": "#FF97FF",
          "pattern": {
           "shape": ""
          }
         },
         "name": "backup",
         "offsetgroup": "backup",
         "orientation": "v",
         "showlegend": true,
         "textposition": "auto",
         "type": "bar",
         "x": [
          "last",
          "current"
         ],
         "xaxis": "x7",
         "y": [
          2,
          1
         ],
         "yaxis": "y7"
        },
        {
         "alignmentgroup": "True",
         "hovertemplate": "area=rza<br>component=OS_CERTIFY<br>ver=%{x}<br>fails=%{y}<extra></extra>",
         "legendgroup": "rza",
         "marker": {
          "color": "#FECB52",
          "pattern": {
           "shape": ""
          }
         },
         "name": "rza",
         "offsetgroup": "rza",
         "orientation": "v",
         "showlegend": true,
         "textposition": "auto",
         "type": "bar",
         "x": [
          "last",
          "current"
         ],
         "xaxis": "x7",
         "y": [
          1,
          0
         ],
         "yaxis": "y7"
        }
       ],
       "layout": {
        "annotations": [
         {
          "font": {},
          "showarrow": false,
          "text": "ANALYTICS",
          "x": 0.05375,
          "xanchor": "center",
          "xref": "paper",
          "y": 1,
          "yanchor": "bottom",
          "yref": "paper"
         },
         {
          "font": {},
          "showarrow": false,
          "text": "COLLECTIONS",
          "x": 0.18125,
          "xanchor": "center",
          "xref": "paper",
          "y": 1,
          "yanchor": "bottom",
          "yref": "paper"
         },
         {
          "font": {},
          "showarrow": false,
          "text": "EVENTING",
          "x": 0.30874999999999997,
          "xanchor": "center",
          "xref": "paper",
          "y": 1,
          "yanchor": "bottom",
          "yref": "paper"
         },
         {
          "font": {},
          "showarrow": false,
          "text": "FTS",
          "x": 0.43625,
          "xanchor": "center",
          "xref": "paper",
          "y": 1,
          "yanchor": "bottom",
          "yref": "paper"
         },
         {
          "font": {},
          "showarrow": false,
          "text": "IPV6",
          "x": 0.56375,
          "xanchor": "center",
          "xref": "paper",
          "y": 1,
          "yanchor": "bottom",
          "yref": "paper"
         },
         {
          "font": {},
          "showarrow": false,
          "text": "MOBILE",
          "x": 0.6912499999999999,
          "xanchor": "center",
          "xref": "paper",
          "y": 1,
          "yanchor": "bottom",
          "yref": "paper"
         },
         {
          "font": {},
          "showarrow": false,
          "text": "OS_CERTIFY",
          "x": 0.8187500000000001,
          "xanchor": "center",
          "xref": "paper",
          "y": 1,
          "yanchor": "bottom",
          "yref": "paper"
         },
         {
          "font": {},
          "showarrow": false,
          "text": "QUERY",
          "x": 0.94625,
          "xanchor": "center",
          "xref": "paper",
          "y": 1,
          "yanchor": "bottom",
          "yref": "paper"
         }
        ],
        "autosize": true,
        "barmode": "relative",
        "hoverlabel": {
         "bgcolor": "white"
        },
        "legend": {
         "title": {
          "text": "area"
         },
         "tracegroupgap": 0
        },
        "margin": {
         "t": 60
        },
        "template": {
         "data": {
          "bar": [
           {
            "error_x": {
             "color": "#2a3f5f"
            },
            "error_y": {
             "color": "#2a3f5f"
            },
            "marker": {
             "line": {
              "color": "#E5ECF6",
              "width": 0.5
             },
             "pattern": {
              "fillmode": "overlay",
              "size": 10,
              "solidity": 0.2
             }
            },
            "type": "bar"
           }
          ],
          "barpolar": [
           {
            "marker": {
             "line": {
              "color": "#E5ECF6",
              "width": 0.5
             },
             "pattern": {
              "fillmode": "overlay",
              "size": 10,
              "solidity": 0.2
             }
            },
            "type": "barpolar"
           }
          ],
          "carpet": [
           {
            "aaxis": {
             "endlinecolor": "#2a3f5f",
             "gridcolor": "white",
             "linecolor": "white",
             "minorgridcolor": "white",
             "startlinecolor": "#2a3f5f"
            },
            "baxis": {
             "endlinecolor": "#2a3f5f",
             "gridcolor": "white",
             "linecolor": "white",
             "minorgridcolor": "white",
             "startlinecolor": "#2a3f5f"
            },
            "type": "carpet"
           }
          ],
          "choropleth": [
           {
            "colorbar": {
             "outlinewidth": 0,
             "ticks": ""
            },
            "type": "choropleth"
           }
          ],
          "contour": [
           {
            "colorbar": {
             "outlinewidth": 0,
             "ticks": ""
            },
            "colorscale": [
             [
              0,
              "#0d0887"
             ],
             [
              0.1111111111111111,
              "#46039f"
             ],
             [
              0.2222222222222222,
              "#7201a8"
             ],
             [
              0.3333333333333333,
              "#9c179e"
             ],
             [
              0.4444444444444444,
              "#bd3786"
             ],
             [
              0.5555555555555556,
              "#d8576b"
             ],
             [
              0.6666666666666666,
              "#ed7953"
             ],
             [
              0.7777777777777778,
              "#fb9f3a"
             ],
             [
              0.8888888888888888,
              "#fdca26"
             ],
             [
              1,
              "#f0f921"
             ]
            ],
            "type": "contour"
           }
          ],
          "contourcarpet": [
           {
            "colorbar": {
             "outlinewidth": 0,
             "ticks": ""
            },
            "type": "contourcarpet"
           }
          ],
          "heatmap": [
           {
            "colorbar": {
             "outlinewidth": 0,
             "ticks": ""
            },
            "colorscale": [
             [
              0,
              "#0d0887"
             ],
             [
              0.1111111111111111,
              "#46039f"
             ],
             [
              0.2222222222222222,
              "#7201a8"
             ],
             [
              0.3333333333333333,
              "#9c179e"
             ],
             [
              0.4444444444444444,
              "#bd3786"
             ],
             [
              0.5555555555555556,
              "#d8576b"
             ],
             [
              0.6666666666666666,
              "#ed7953"
             ],
             [
              0.7777777777777778,
              "#fb9f3a"
             ],
             [
              0.8888888888888888,
              "#fdca26"
             ],
             [
              1,
              "#f0f921"
             ]
            ],
            "type": "heatmap"
           }
          ],
          "heatmapgl": [
           {
            "colorbar": {
             "outlinewidth": 0,
             "ticks": ""
            },
            "colorscale": [
             [
              0,
              "#0d0887"
             ],
             [
              0.1111111111111111,
              "#46039f"
             ],
             [
              0.2222222222222222,
              "#7201a8"
             ],
             [
              0.3333333333333333,
              "#9c179e"
             ],
             [
              0.4444444444444444,
              "#bd3786"
             ],
             [
              0.5555555555555556,
              "#d8576b"
             ],
             [
              0.6666666666666666,
              "#ed7953"
             ],
             [
              0.7777777777777778,
              "#fb9f3a"
             ],
             [
              0.8888888888888888,
              "#fdca26"
             ],
             [
              1,
              "#f0f921"
             ]
            ],
            "type": "heatmapgl"
           }
          ],
          "histogram": [
           {
            "marker": {
             "pattern": {
              "fillmode": "overlay",
              "size": 10,
              "solidity": 0.2
             }
            },
            "type": "histogram"
           }
          ],
          "histogram2d": [
           {
            "colorbar": {
             "outlinewidth": 0,
             "ticks": ""
            },
            "colorscale": [
             [
              0,
              "#0d0887"
             ],
             [
              0.1111111111111111,
              "#46039f"
             ],
             [
              0.2222222222222222,
              "#7201a8"
             ],
             [
              0.3333333333333333,
              "#9c179e"
             ],
             [
              0.4444444444444444,
              "#bd3786"
             ],
             [
              0.5555555555555556,
              "#d8576b"
             ],
             [
              0.6666666666666666,
              "#ed7953"
             ],
             [
              0.7777777777777778,
              "#fb9f3a"
             ],
             [
              0.8888888888888888,
              "#fdca26"
             ],
             [
              1,
              "#f0f921"
             ]
            ],
            "type": "histogram2d"
           }
          ],
          "histogram2dcontour": [
           {
            "colorbar": {
             "outlinewidth": 0,
             "ticks": ""
            },
            "colorscale": [
             [
              0,
              "#0d0887"
             ],
             [
              0.1111111111111111,
              "#46039f"
             ],
             [
              0.2222222222222222,
              "#7201a8"
             ],
             [
              0.3333333333333333,
              "#9c179e"
             ],
             [
              0.4444444444444444,
              "#bd3786"
             ],
             [
              0.5555555555555556,
              "#d8576b"
             ],
             [
              0.6666666666666666,
              "#ed7953"
             ],
             [
              0.7777777777777778,
              "#fb9f3a"
             ],
             [
              0.8888888888888888,
              "#fdca26"
             ],
             [
              1,
              "#f0f921"
             ]
            ],
            "type": "histogram2dcontour"
           }
          ],
          "mesh3d": [
           {
            "colorbar": {
             "outlinewidth": 0,
             "ticks": ""
            },
            "type": "mesh3d"
           }
          ],
          "parcoords": [
           {
            "line": {
             "colorbar": {
              "outlinewidth": 0,
              "ticks": ""
             }
            },
            "type": "parcoords"
           }
          ],
          "pie": [
           {
            "automargin": true,
            "type": "pie"
           }
          ],
          "scatter": [
           {
            "marker": {
             "colorbar": {
              "outlinewidth": 0,
              "ticks": ""
             }
            },
            "type": "scatter"
           }
          ],
          "scatter3d": [
           {
            "line": {
             "colorbar": {
              "outlinewidth": 0,
              "ticks": ""
             }
            },
            "marker": {
             "colorbar": {
              "outlinewidth": 0,
              "ticks": ""
             }
            },
            "type": "scatter3d"
           }
          ],
          "scattercarpet": [
           {
            "marker": {
             "colorbar": {
              "outlinewidth": 0,
              "ticks": ""
             }
            },
            "type": "scattercarpet"
           }
          ],
          "scattergeo": [
           {
            "marker": {
             "colorbar": {
              "outlinewidth": 0,
              "ticks": ""
             }
            },
            "type": "scattergeo"
           }
          ],
          "scattergl": [
           {
            "marker": {
             "colorbar": {
              "outlinewidth": 0,
              "ticks": ""
             }
            },
            "type": "scattergl"
           }
          ],
          "scattermapbox": [
           {
            "marker": {
             "colorbar": {
              "outlinewidth": 0,
              "ticks": ""
             }
            },
            "type": "scattermapbox"
           }
          ],
          "scatterpolar": [
           {
            "marker": {
             "colorbar": {
              "outlinewidth": 0,
              "ticks": ""
             }
            },
            "type": "scatterpolar"
           }
          ],
          "scatterpolargl": [
           {
            "marker": {
             "colorbar": {
              "outlinewidth": 0,
              "ticks": ""
             }
            },
            "type": "scatterpolargl"
           }
          ],
          "scatterternary": [
           {
            "marker": {
             "colorbar": {
              "outlinewidth": 0,
              "ticks": ""
             }
            },
            "type": "scatterternary"
           }
          ],
          "surface": [
           {
            "colorbar": {
             "outlinewidth": 0,
             "ticks": ""
            },
            "colorscale": [
             [
              0,
              "#0d0887"
             ],
             [
              0.1111111111111111,
              "#46039f"
             ],
             [
              0.2222222222222222,
              "#7201a8"
             ],
             [
              0.3333333333333333,
              "#9c179e"
             ],
             [
              0.4444444444444444,
              "#bd3786"
             ],
             [
              0.5555555555555556,
              "#d8576b"
             ],
             [
              0.6666666666666666,
              "#ed7953"
             ],
             [
              0.7777777777777778,
              "#fb9f3a"
             ],
             [
              0.8888888888888888,
              "#fdca26"
             ],
             [
              1,
              "#f0f921"
             ]
            ],
            "type": "surface"
           }
          ],
          "table": [
           {
            "cells": {
             "fill": {
              "color": "#EBF0F8"
             },
             "line": {
              "color": "white"
             }
            },
            "header": {
             "fill": {
              "color": "#C8D4E3"
             },
             "line": {
              "color": "white"
             }
            },
            "type": "table"
           }
          ]
         },
         "layout": {
          "annotationdefaults": {
           "arrowcolor": "#2a3f5f",
           "arrowhead": 0,
           "arrowwidth": 1
          },
          "autotypenumbers": "strict",
          "coloraxis": {
           "colorbar": {
            "outlinewidth": 0,
            "ticks": ""
           }
          },
          "colorscale": {
           "diverging": [
            [
             0,
             "#8e0152"
            ],
            [
             0.1,
             "#c51b7d"
            ],
            [
             0.2,
             "#de77ae"
            ],
            [
             0.3,
             "#f1b6da"
            ],
            [
             0.4,
             "#fde0ef"
            ],
            [
             0.5,
             "#f7f7f7"
            ],
            [
             0.6,
             "#e6f5d0"
            ],
            [
             0.7,
             "#b8e186"
            ],
            [
             0.8,
             "#7fbc41"
            ],
            [
             0.9,
             "#4d9221"
            ],
            [
             1,
             "#276419"
            ]
           ],
           "sequential": [
            [
             0,
             "#0d0887"
            ],
            [
             0.1111111111111111,
             "#46039f"
            ],
            [
             0.2222222222222222,
             "#7201a8"
            ],
            [
             0.3333333333333333,
             "#9c179e"
            ],
            [
             0.4444444444444444,
             "#bd3786"
            ],
            [
             0.5555555555555556,
             "#d8576b"
            ],
            [
             0.6666666666666666,
             "#ed7953"
            ],
            [
             0.7777777777777778,
             "#fb9f3a"
            ],
            [
             0.8888888888888888,
             "#fdca26"
            ],
            [
             1,
             "#f0f921"
            ]
           ],
           "sequentialminus": [
            [
             0,
             "#0d0887"
            ],
            [
             0.1111111111111111,
             "#46039f"
            ],
            [
             0.2222222222222222,
             "#7201a8"
            ],
            [
             0.3333333333333333,
             "#9c179e"
            ],
            [
             0.4444444444444444,
             "#bd3786"
            ],
            [
             0.5555555555555556,
             "#d8576b"
            ],
            [
             0.6666666666666666,
             "#ed7953"
            ],
            [
             0.7777777777777778,
             "#fb9f3a"
            ],
            [
             0.8888888888888888,
             "#fdca26"
            ],
            [
             1,
             "#f0f921"
            ]
           ]
          },
          "colorway": [
           "#636efa",
           "#EF553B",
           "#00cc96",
           "#ab63fa",
           "#FFA15A",
           "#19d3f3",
           "#FF6692",
           "#B6E880",
           "#FF97FF",
           "#FECB52"
          ],
          "font": {
           "color": "#2a3f5f"
          },
          "geo": {
           "bgcolor": "white",
           "lakecolor": "white",
           "landcolor": "#E5ECF6",
           "showlakes": true,
           "showland": true,
           "subunitcolor": "white"
          },
          "hoverlabel": {
           "align": "left"
          },
          "hovermode": "closest",
          "mapbox": {
           "style": "light"
          },
          "paper_bgcolor": "white",
          "plot_bgcolor": "#E5ECF6",
          "polar": {
           "angularaxis": {
            "gridcolor": "white",
            "linecolor": "white",
            "ticks": ""
           },
           "bgcolor": "#E5ECF6",
           "radialaxis": {
            "gridcolor": "white",
            "linecolor": "white",
            "ticks": ""
           }
          },
          "scene": {
           "xaxis": {
            "backgroundcolor": "#E5ECF6",
            "gridcolor": "white",
            "gridwidth": 2,
            "linecolor": "white",
            "showbackground": true,
            "ticks": "",
            "zerolinecolor": "white"
           },
           "yaxis": {
            "backgroundcolor": "#E5ECF6",
            "gridcolor": "white",
            "gridwidth": 2,
            "linecolor": "white",
            "showbackground": true,
            "ticks": "",
            "zerolinecolor": "white"
           },
           "zaxis": {
            "backgroundcolor": "#E5ECF6",
            "gridcolor": "white",
            "gridwidth": 2,
            "linecolor": "white",
            "showbackground": true,
            "ticks": "",
            "zerolinecolor": "white"
           }
          },
          "shapedefaults": {
           "line": {
            "color": "#2a3f5f"
           }
          },
          "ternary": {
           "aaxis": {
            "gridcolor": "white",
            "linecolor": "white",
            "ticks": ""
           },
           "baxis": {
            "gridcolor": "white",
            "linecolor": "white",
            "ticks": ""
           },
           "bgcolor": "#E5ECF6",
           "caxis": {
            "gridcolor": "white",
            "linecolor": "white",
            "ticks": ""
           }
          },
          "title": {
           "x": 0.05
          },
          "xaxis": {
           "automargin": true,
           "gridcolor": "white",
           "linecolor": "white",
           "ticks": "",
           "title": {
            "standoff": 15
           },
           "zerolinecolor": "white",
           "zerolinewidth": 2
          },
          "yaxis": {
           "automargin": true,
           "gridcolor": "white",
           "linecolor": "white",
           "ticks": "",
           "title": {
            "standoff": 15
           },
           "zerolinecolor": "white",
           "zerolinewidth": 2
          }
         }
        },
        "title": {
         "text": "Areas in 7.0.0-4960 with Over 50 Failures and Comparison with 7.0.0-4907 (Graph)"
        },
        "xaxis": {
         "anchor": "y",
         "autorange": true,
         "domain": [
          0,
          0.1075
         ],
         "range": [
          -0.5,
          1.5
         ],
         "title": {
          "text": ""
         },
         "type": "category"
        },
        "xaxis2": {
         "anchor": "y2",
         "autorange": true,
         "domain": [
          0.1275,
          0.235
         ],
         "matches": "x",
         "range": [
          -0.5,
          1.5
         ],
         "title": {
          "text": ""
         },
         "type": "category"
        },
        "xaxis3": {
         "anchor": "y3",
         "autorange": true,
         "domain": [
          0.255,
          0.3625
         ],
         "matches": "x",
         "range": [
          -0.5,
          1.5
         ],
         "title": {
          "text": ""
         },
         "type": "category"
        },
        "xaxis4": {
         "anchor": "y4",
         "autorange": true,
         "domain": [
          0.3825,
          0.49
         ],
         "matches": "x",
         "range": [
          -0.5,
          1.5
         ],
         "title": {
          "text": ""
         },
         "type": "category"
        },
        "xaxis5": {
         "anchor": "y5",
         "autorange": true,
         "domain": [
          0.51,
          0.6175
         ],
         "matches": "x",
         "range": [
          -0.5,
          1.5
         ],
         "title": {
          "text": ""
         },
         "type": "category"
        },
        "xaxis6": {
         "anchor": "y6",
         "autorange": true,
         "domain": [
          0.6375,
          0.745
         ],
         "matches": "x",
         "range": [
          -0.5,
          1.5
         ],
         "title": {
          "text": ""
         },
         "type": "category"
        },
        "xaxis7": {
         "anchor": "y7",
         "autorange": true,
         "domain": [
          0.765,
          0.8725
         ],
         "matches": "x",
         "range": [
          -0.5,
          1.5
         ],
         "title": {
          "text": ""
         },
         "type": "category"
        },
        "xaxis8": {
         "anchor": "y8",
         "autorange": true,
         "domain": [
          0.8925000000000001,
          1
         ],
         "matches": "x",
         "range": [
          -0.5,
          1.5
         ],
         "title": {
          "text": ""
         },
         "type": "category"
        },
        "yaxis": {
         "anchor": "x",
         "autorange": true,
         "domain": [
          0,
          1
         ],
         "gridcolor": "lightsteelblue",
         "gridwidth": 2,
         "range": [
          0,
          355.7894736842105
         ],
         "title": {
          "text": "fails"
         },
         "type": "linear"
        },
        "yaxis2": {
         "anchor": "x2",
         "autorange": true,
         "domain": [
          0,
          1
         ],
         "gridcolor": "lightsteelblue",
         "gridwidth": 2,
         "matches": "y",
         "range": [
          0,
          355.7894736842105
         ],
         "showticklabels": false,
         "type": "linear"
        },
        "yaxis3": {
         "anchor": "x3",
         "autorange": true,
         "domain": [
          0,
          1
         ],
         "gridcolor": "lightsteelblue",
         "gridwidth": 2,
         "matches": "y",
         "range": [
          0,
          355.7894736842105
         ],
         "showticklabels": false,
         "type": "linear"
        },
        "yaxis4": {
         "anchor": "x4",
         "autorange": true,
         "domain": [
          0,
          1
         ],
         "gridcolor": "lightsteelblue",
         "gridwidth": 2,
         "matches": "y",
         "range": [
          0,
          355.7894736842105
         ],
         "showticklabels": false,
         "type": "linear"
        },
        "yaxis5": {
         "anchor": "x5",
         "autorange": true,
         "domain": [
          0,
          1
         ],
         "gridcolor": "lightsteelblue",
         "gridwidth": 2,
         "matches": "y",
         "range": [
          0,
          355.7894736842105
         ],
         "showticklabels": false,
         "type": "linear"
        },
        "yaxis6": {
         "anchor": "x6",
         "autorange": true,
         "domain": [
          0,
          1
         ],
         "gridcolor": "lightsteelblue",
         "gridwidth": 2,
         "matches": "y",
         "range": [
          0,
          355.7894736842105
         ],
         "showticklabels": false,
         "type": "linear"
        },
        "yaxis7": {
         "anchor": "x7",
         "autorange": true,
         "domain": [
          0,
          1
         ],
         "gridcolor": "lightsteelblue",
         "gridwidth": 2,
         "matches": "y",
         "range": [
          0,
          355.7894736842105
         ],
         "showticklabels": false,
         "type": "linear"
        },
        "yaxis8": {
         "anchor": "x8",
         "autorange": true,
         "domain": [
          0,
          1
         ],
         "gridcolor": "lightsteelblue",
         "gridwidth": 2,
         "matches": "y",
         "range": [
          0,
          355.7894736842105
         ],
         "showticklabels": false,
         "type": "linear"
        }
       }
      },
      "image/png": "[encoded data removed]",
      "text/html": [
       "<div>                            <div id=\"f7abe9f0-94b7-4833-ab68-3cd35690e8cd\" class=\"plotly-graph-div\" style=\"height:600px; width:100%;\"></div>            <script type=\"text/javascript\">                require([\"plotly\"], function(Plotly) {                    window.PLOTLYENV=window.PLOTLYENV || {};                                    if (document.getElementById(\"f7abe9f0-94b7-4833-ab68-3cd35690e8cd\")) {                    Plotly.newPlot(                        \"f7abe9f0-94b7-4833-ab68-3cd35690e8cd\",                        [{\"alignmentgroup\":\"True\",\"hovertemplate\":\"area=analytics<br>component=ANALYTICS<br>ver=%{x}<br>fails=%{y}<extra></extra>\",\"legendgroup\":\"analytics\",\"marker\":{\"color\":\"#636efa\",\"pattern\":{\"shape\":\"\"}},\"name\":\"analytics\",\"offsetgroup\":\"analytics\",\"orientation\":\"v\",\"showlegend\":true,\"textposition\":\"auto\",\"type\":\"bar\",\"x\":[\"last\",\"current\"],\"xaxis\":\"x\",\"y\":[119,54],\"yaxis\":\"y\"},{\"alignmentgroup\":\"True\",\"hovertemplate\":\"area=analytics<br>component=IPV6<br>ver=%{x}<br>fails=%{y}<extra></extra>\",\"legendgroup\":\"analytics\",\"marker\":{\"color\":\"#636efa\",\"pattern\":{\"shape\":\"\"}},\"name\":\"analytics\",\"offsetgroup\":\"analytics\",\"orientation\":\"v\",\"showlegend\":false,\"textposition\":\"auto\",\"type\":\"bar\",\"x\":[\"last\",\"current\"],\"xaxis\":\"x5\",\"y\":[4,5],\"yaxis\":\"y5\"},{\"alignmentgroup\":\"True\",\"hovertemplate\":\"area=2i<br>component=COLLECTIONS<br>ver=%{x}<br>fails=%{y}<extra></extra>\",\"legendgroup\":\"2i\",\"marker\":{\"color\":\"#EF553B\",\"pattern\":{\"shape\":\"\"}},\"name\":\"2i\",\"offsetgroup\":\"2i\",\"orientation\":\"v\",\"showlegend\":true,\"textposition\":\"auto\",\"type\":\"bar\",\"x\":[\"last\",\"current\"],\"xaxis\":\"x2\",\"y\":[24,30],\"yaxis\":\"y2\"},{\"alignmentgroup\":\"True\",\"hovertemplate\":\"area=2i<br>component=IPV6<br>ver=%{x}<br>fails=%{y}<extra></extra>\",\"legendgroup\":\"2i\",\"marker\":{\"color\":\"#EF553B\",\"pattern\":{\"shape\":\"\"}},\"name\":\"2i\",\"offsetgroup\":\"2i\",\"orientation\":\"v\",\"showlegend\":false,\"textposition\":\"auto\",\"type\":\"bar\",\"x\":[\"last\",\"current\"],\"xaxis\":\"x5\",\"y\":[0,5],\"yaxis\":\"y5\"},{\"alignmentgroup\":\"True\",\"hovertemplate\":\"area=2i<br>component=OS_CERTIFY<br>ver=%{x}<br>fails=%{y}<extra></extra>\",\"legendgroup\":\"2i\",\"marker\":{\"color\":\"#EF553B\",\"pattern\":{\"shape\":\"\"}},\"name\":\"2i\",\"offsetgroup\":\"2i\",\"orientation\":\"v\",\"showlegend\":false,\"textposition\":\"auto\",\"type\":\"bar\",\"x\":[\"last\",\"current\"],\"xaxis\":\"x7\",\"y\":[18,10],\"yaxis\":\"y7\"},{\"alignmentgroup\":\"True\",\"hovertemplate\":\"area=collections<br>component=COLLECTIONS<br>ver=%{x}<br>fails=%{y}<extra></extra>\",\"legendgroup\":\"collections\",\"marker\":{\"color\":\"#00cc96\",\"pattern\":{\"shape\":\"\"}},\"name\":\"collections\",\"offsetgroup\":\"collections\",\"orientation\":\"v\",\"showlegend\":true,\"textposition\":\"auto\",\"type\":\"bar\",\"x\":[\"last\",\"current\"],\"xaxis\":\"x2\",\"y\":[65,21],\"yaxis\":\"y2\"},{\"alignmentgroup\":\"True\",\"hovertemplate\":\"area=fts<br>component=COLLECTIONS<br>ver=%{x}<br>fails=%{y}<extra></extra>\",\"legendgroup\":\"fts\",\"marker\":{\"color\":\"#ab63fa\",\"pattern\":{\"shape\":\"\"}},\"name\":\"fts\",\"offsetgroup\":\"fts\",\"orientation\":\"v\",\"showlegend\":true,\"textposition\":\"auto\",\"type\":\"bar\",\"x\":[\"last\",\"current\"],\"xaxis\":\"x2\",\"y\":[50,53],\"yaxis\":\"y2\"},{\"alignmentgroup\":\"True\",\"hovertemplate\":\"area=fts<br>component=FTS<br>ver=%{x}<br>fails=%{y}<extra></extra>\",\"legendgroup\":\"fts\",\"marker\":{\"color\":\"#ab63fa\",\"pattern\":{\"shape\":\"\"}},\"name\":\"fts\",\"offsetgroup\":\"fts\",\"orientation\":\"v\",\"showlegend\":false,\"textposition\":\"auto\",\"type\":\"bar\",\"x\":[\"last\",\"current\"],\"xaxis\":\"x4\",\"y\":[52,48],\"yaxis\":\"y4\"},{\"alignmentgroup\":\"True\",\"hovertemplate\":\"area=fts<br>component=IPV6<br>ver=%{x}<br>fails=%{y}<extra></extra>\",\"legendgroup\":\"fts\",\"marker\":{\"color\":\"#ab63fa\",\"pattern\":{\"shape\":\"\"}},\"name\":\"fts\",\"offsetgroup\":\"fts\",\"orientation\":\"v\",\"showlegend\":false,\"textposition\":\"auto\",\"type\":\"bar\",\"x\":[\"last\",\"current\"],\"xaxis\":\"x5\",\"y\":[1,0],\"yaxis\":\"y5\"},{\"alignmentgroup\":\"True\",\"hovertemplate\":\"area=plasma<br>component=COLLECTIONS<br>ver=%{x}<br>fails=%{y}<extra></extra>\",\"legendgroup\":\"plasma\",\"marker\":{\"color\":\"#FFA15A\",\"pattern\":{\"shape\":\"\"}},\"name\":\"plasma\",\"offsetgroup\":\"plasma\",\"orientation\":\"v\",\"showlegend\":true,\"textposition\":\"auto\",\"type\":\"bar\",\"x\":[\"last\",\"current\"],\"xaxis\":\"x2\",\"y\":[6,3],\"yaxis\":\"y2\"},{\"alignmentgroup\":\"True\",\"hovertemplate\":\"area=query<br>component=COLLECTIONS<br>ver=%{x}<br>fails=%{y}<extra></extra>\",\"legendgroup\":\"query\",\"marker\":{\"color\":\"#19d3f3\",\"pattern\":{\"shape\":\"\"}},\"name\":\"query\",\"offsetgroup\":\"query\",\"orientation\":\"v\",\"showlegend\":true,\"textposition\":\"auto\",\"type\":\"bar\",\"x\":[\"last\",\"current\"],\"xaxis\":\"x2\",\"y\":[6,5],\"yaxis\":\"y2\"},{\"alignmentgroup\":\"True\",\"hovertemplate\":\"area=query<br>component=FTS<br>ver=%{x}<br>fails=%{y}<extra></extra>\",\"legendgroup\":\"query\",\"marker\":{\"color\":\"#19d3f3\",\"pattern\":{\"shape\":\"\"}},\"name\":\"query\",\"offsetgroup\":\"query\",\"orientation\":\"v\",\"showlegend\":false,\"textposition\":\"auto\",\"type\":\"bar\",\"x\":[\"last\",\"current\"],\"xaxis\":\"x4\",\"y\":[9,37],\"yaxis\":\"y4\"},{\"alignmentgroup\":\"True\",\"hovertemplate\":\"area=query<br>component=QUERY<br>ver=%{x}<br>fails=%{y}<extra></extra>\",\"legendgroup\":\"query\",\"marker\":{\"color\":\"#19d3f3\",\"pattern\":{\"shape\":\"\"}},\"name\":\"query\",\"offsetgroup\":\"query\",\"orientation\":\"v\",\"showlegend\":false,\"textposition\":\"auto\",\"type\":\"bar\",\"x\":[\"last\",\"current\"],\"xaxis\":\"x8\",\"y\":[32,114],\"yaxis\":\"y8\"},{\"alignmentgroup\":\"True\",\"hovertemplate\":\"area=rqg<br>component=COLLECTIONS<br>ver=%{x}<br>fails=%{y}<extra></extra>\",\"legendgroup\":\"rqg\",\"marker\":{\"color\":\"#FF6692\",\"pattern\":{\"shape\":\"\"}},\"name\":\"rqg\",\"offsetgroup\":\"rqg\",\"orientation\":\"v\",\"showlegend\":true,\"textposition\":\"auto\",\"type\":\"bar\",\"x\":[\"last\",\"current\"],\"xaxis\":\"x2\",\"y\":[1,0],\"yaxis\":\"y2\"},{\"alignmentgroup\":\"True\",\"hovertemplate\":\"area=upgrade<br>component=COLLECTIONS<br>ver=%{x}<br>fails=%{y}<extra></extra>\",\"legendgroup\":\"upgrade\",\"marker\":{\"color\":\"#B6E880\",\"pattern\":{\"shape\":\"\"}},\"name\":\"upgrade\",\"offsetgroup\":\"upgrade\",\"orientation\":\"v\",\"showlegend\":true,\"textposition\":\"auto\",\"type\":\"bar\",\"x\":[\"last\",\"current\"],\"xaxis\":\"x2\",\"y\":[2,2],\"yaxis\":\"y2\"},{\"alignmentgroup\":\"True\",\"hovertemplate\":\"area=xdcr<br>component=COLLECTIONS<br>ver=%{x}<br>fails=%{y}<extra></extra>\",\"legendgroup\":\"xdcr\",\"marker\":{\"color\":\"#FF97FF\",\"pattern\":{\"shape\":\"\"}},\"name\":\"xdcr\",\"offsetgroup\":\"xdcr\",\"orientation\":\"v\",\"showlegend\":true,\"textposition\":\"auto\",\"type\":\"bar\",\"x\":[\"last\",\"current\"],\"xaxis\":\"x2\",\"y\":[15,14],\"yaxis\":\"y2\"},{\"alignmentgroup\":\"True\",\"hovertemplate\":\"area=xdcr<br>component=IPV6<br>ver=%{x}<br>fails=%{y}<extra></extra>\",\"legendgroup\":\"xdcr\",\"marker\":{\"color\":\"#FF97FF\",\"pattern\":{\"shape\":\"\"}},\"name\":\"xdcr\",\"offsetgroup\":\"xdcr\",\"orientation\":\"v\",\"showlegend\":false,\"textposition\":\"auto\",\"type\":\"bar\",\"x\":[\"last\",\"current\"],\"xaxis\":\"x5\",\"y\":[8,5],\"yaxis\":\"y5\"},{\"alignmentgroup\":\"True\",\"hovertemplate\":\"area=xdcr<br>component=OS_CERTIFY<br>ver=%{x}<br>fails=%{y}<extra></extra>\",\"legendgroup\":\"xdcr\",\"marker\":{\"color\":\"#FF97FF\",\"pattern\":{\"shape\":\"\"}},\"name\":\"xdcr\",\"offsetgroup\":\"xdcr\",\"orientation\":\"v\",\"showlegend\":false,\"textposition\":\"auto\",\"type\":\"bar\",\"x\":[\"last\",\"current\"],\"xaxis\":\"x7\",\"y\":[2,0],\"yaxis\":\"y7\"},{\"alignmentgroup\":\"True\",\"hovertemplate\":\"area=eventing<br>component=EVENTING<br>ver=%{x}<br>fails=%{y}<extra></extra>\",\"legendgroup\":\"eventing\",\"marker\":{\"color\":\"#FECB52\",\"pattern\":{\"shape\":\"\"}},\"name\":\"eventing\",\"offsetgroup\":\"eventing\",\"orientation\":\"v\",\"showlegend\":true,\"textposition\":\"auto\",\"type\":\"bar\",\"x\":[\"last\",\"current\"],\"xaxis\":\"x3\",\"y\":[64,55],\"yaxis\":\"y3\"},{\"alignmentgroup\":\"True\",\"hovertemplate\":\"area=eventing<br>component=IPV6<br>ver=%{x}<br>fails=%{y}<extra></extra>\",\"legendgroup\":\"eventing\",\"marker\":{\"color\":\"#FECB52\",\"pattern\":{\"shape\":\"\"}},\"name\":\"eventing\",\"offsetgroup\":\"eventing\",\"orientation\":\"v\",\"showlegend\":false,\"textposition\":\"auto\",\"type\":\"bar\",\"x\":[\"last\",\"current\"],\"xaxis\":\"x5\",\"y\":[0,7],\"yaxis\":\"y5\"},{\"alignmentgroup\":\"True\",\"hovertemplate\":\"area=ent<br>component=IPV6<br>ver=%{x}<br>fails=%{y}<extra></extra>\",\"legendgroup\":\"ent\",\"marker\":{\"color\":\"#636efa\",\"pattern\":{\"shape\":\"\"}},\"name\":\"ent\",\"offsetgroup\":\"ent\",\"orientation\":\"v\",\"showlegend\":true,\"textposition\":\"auto\",\"type\":\"bar\",\"x\":[\"last\",\"current\"],\"xaxis\":\"x5\",\"y\":[5,6],\"yaxis\":\"y5\"},{\"alignmentgroup\":\"True\",\"hovertemplate\":\"area=ent<br>component=OS_CERTIFY<br>ver=%{x}<br>fails=%{y}<extra></extra>\",\"legendgroup\":\"ent\",\"marker\":{\"color\":\"#636efa\",\"pattern\":{\"shape\":\"\"}},\"name\":\"ent\",\"offsetgroup\":\"ent\",\"orientation\":\"v\",\"showlegend\":false,\"textposition\":\"auto\",\"type\":\"bar\",\"x\":[\"last\",\"current\"],\"xaxis\":\"x7\",\"y\":[0,1],\"yaxis\":\"y7\"},{\"alignmentgroup\":\"True\",\"hovertemplate\":\"area=n1ql<br>component=IPV6<br>ver=%{x}<br>fails=%{y}<extra></extra>\",\"legendgroup\":\"n1ql\",\"marker\":{\"color\":\"#EF553B\",\"pattern\":{\"shape\":\"\"}},\"name\":\"n1ql\",\"offsetgroup\":\"n1ql\",\"orientation\":\"v\",\"showlegend\":true,\"textposition\":\"auto\",\"type\":\"bar\",\"x\":[\"last\",\"current\"],\"xaxis\":\"x5\",\"y\":[3,16],\"yaxis\":\"y5\"},{\"alignmentgroup\":\"True\",\"hovertemplate\":\"area=n1ql<br>component=OS_CERTIFY<br>ver=%{x}<br>fails=%{y}<extra></extra>\",\"legendgroup\":\"n1ql\",\"marker\":{\"color\":\"#EF553B\",\"pattern\":{\"shape\":\"\"}},\"name\":\"n1ql\",\"offsetgroup\":\"n1ql\",\"orientation\":\"v\",\"showlegend\":false,\"textposition\":\"auto\",\"type\":\"bar\",\"x\":[\"last\",\"current\"],\"xaxis\":\"x7\",\"y\":[23,13],\"yaxis\":\"y7\"},{\"alignmentgroup\":\"True\",\"hovertemplate\":\"area=nsserver<br>component=IPV6<br>ver=%{x}<br>fails=%{y}<extra></extra>\",\"legendgroup\":\"nsserver\",\"marker\":{\"color\":\"#00cc96\",\"pattern\":{\"shape\":\"\"}},\"name\":\"nsserver\",\"offsetgroup\":\"nsserver\",\"orientation\":\"v\",\"showlegend\":true,\"textposition\":\"auto\",\"type\":\"bar\",\"x\":[\"last\",\"current\"],\"xaxis\":\"x5\",\"y\":[8,7],\"yaxis\":\"y5\"},{\"alignmentgroup\":\"True\",\"hovertemplate\":\"area=nsserver<br>component=OS_CERTIFY<br>ver=%{x}<br>fails=%{y}<extra></extra>\",\"legendgroup\":\"nsserver\",\"marker\":{\"color\":\"#00cc96\",\"pattern\":{\"shape\":\"\"}},\"name\":\"nsserver\",\"offsetgroup\":\"nsserver\",\"orientation\":\"v\",\"showlegend\":false,\"textposition\":\"auto\",\"type\":\"bar\",\"x\":[\"last\",\"current\"],\"xaxis\":\"x7\",\"y\":[2,2],\"yaxis\":\"y7\"},{\"alignmentgroup\":\"True\",\"hovertemplate\":\"area=obj<br>component=IPV6<br>ver=%{x}<br>fails=%{y}<extra></extra>\",\"legendgroup\":\"obj\",\"marker\":{\"color\":\"#ab63fa\",\"pattern\":{\"shape\":\"\"}},\"name\":\"obj\",\"offsetgroup\":\"obj\",\"orientation\":\"v\",\"showlegend\":true,\"textposition\":\"auto\",\"type\":\"bar\",\"x\":[\"last\",\"current\"],\"xaxis\":\"x5\",\"y\":[0,10],\"yaxis\":\"y5\"},{\"alignmentgroup\":\"True\",\"hovertemplate\":\"area=sanity<br>component=IPV6<br>ver=%{x}<br>fails=%{y}<extra></extra>\",\"legendgroup\":\"sanity\",\"marker\":{\"color\":\"#FFA15A\",\"pattern\":{\"shape\":\"\"}},\"name\":\"sanity\",\"offsetgroup\":\"sanity\",\"orientation\":\"v\",\"showlegend\":true,\"textposition\":\"auto\",\"type\":\"bar\",\"x\":[\"last\",\"current\"],\"xaxis\":\"x5\",\"y\":[10,3],\"yaxis\":\"y5\"},{\"alignmentgroup\":\"True\",\"hovertemplate\":\"area=security<br>component=IPV6<br>ver=%{x}<br>fails=%{y}<extra></extra>\",\"legendgroup\":\"security\",\"marker\":{\"color\":\"#19d3f3\",\"pattern\":{\"shape\":\"\"}},\"name\":\"security\",\"offsetgroup\":\"security\",\"orientation\":\"v\",\"showlegend\":true,\"textposition\":\"auto\",\"type\":\"bar\",\"x\":[\"last\",\"current\"],\"xaxis\":\"x5\",\"y\":[14,14],\"yaxis\":\"y5\"},{\"alignmentgroup\":\"True\",\"hovertemplate\":\"area=security<br>component=OS_CERTIFY<br>ver=%{x}<br>fails=%{y}<extra></extra>\",\"legendgroup\":\"security\",\"marker\":{\"color\":\"#19d3f3\",\"pattern\":{\"shape\":\"\"}},\"name\":\"security\",\"offsetgroup\":\"security\",\"orientation\":\"v\",\"showlegend\":false,\"textposition\":\"auto\",\"type\":\"bar\",\"x\":[\"last\",\"current\"],\"xaxis\":\"x7\",\"y\":[18,14],\"yaxis\":\"y7\"},{\"alignmentgroup\":\"True\",\"hovertemplate\":\"area=tools<br>component=IPV6<br>ver=%{x}<br>fails=%{y}<extra></extra>\",\"legendgroup\":\"tools\",\"marker\":{\"color\":\"#FF6692\",\"pattern\":{\"shape\":\"\"}},\"name\":\"tools\",\"offsetgroup\":\"tools\",\"orientation\":\"v\",\"showlegend\":true,\"textposition\":\"auto\",\"type\":\"bar\",\"x\":[\"last\",\"current\"],\"xaxis\":\"x5\",\"y\":[1,32],\"yaxis\":\"y5\"},{\"alignmentgroup\":\"True\",\"hovertemplate\":\"area=tools<br>component=OS_CERTIFY<br>ver=%{x}<br>fails=%{y}<extra></extra>\",\"legendgroup\":\"tools\",\"marker\":{\"color\":\"#FF6692\",\"pattern\":{\"shape\":\"\"}},\"name\":\"tools\",\"offsetgroup\":\"tools\",\"orientation\":\"v\",\"showlegend\":false,\"textposition\":\"auto\",\"type\":\"bar\",\"x\":[\"last\",\"current\"],\"xaxis\":\"x7\",\"y\":[73,53],\"yaxis\":\"y7\"},{\"alignmentgroup\":\"True\",\"hovertemplate\":\"area=sync<br>component=MOBILE<br>ver=%{x}<br>fails=%{y}<extra></extra>\",\"legendgroup\":\"sync\",\"marker\":{\"color\":\"#B6E880\",\"pattern\":{\"shape\":\"\"}},\"name\":\"sync\",\"offsetgroup\":\"sync\",\"orientation\":\"v\",\"showlegend\":true,\"textposition\":\"auto\",\"type\":\"bar\",\"x\":[\"last\",\"current\"],\"xaxis\":\"x6\",\"y\":[12,338],\"yaxis\":\"y6\"},{\"alignmentgroup\":\"True\",\"hovertemplate\":\"area=backup<br>component=OS_CERTIFY<br>ver=%{x}<br>fails=%{y}<extra></extra>\",\"legendgroup\":\"backup\",\"marker\":{\"color\":\"#FF97FF\",\"pattern\":{\"shape\":\"\"}},\"name\":\"backup\",\"offsetgroup\":\"backup\",\"orientation\":\"v\",\"showlegend\":true,\"textposition\":\"auto\",\"type\":\"bar\",\"x\":[\"last\",\"current\"],\"xaxis\":\"x7\",\"y\":[2,1],\"yaxis\":\"y7\"},{\"alignmentgroup\":\"True\",\"hovertemplate\":\"area=rza<br>component=OS_CERTIFY<br>ver=%{x}<br>fails=%{y}<extra></extra>\",\"legendgroup\":\"rza\",\"marker\":{\"color\":\"#FECB52\",\"pattern\":{\"shape\":\"\"}},\"name\":\"rza\",\"offsetgroup\":\"rza\",\"orientation\":\"v\",\"showlegend\":true,\"textposition\":\"auto\",\"type\":\"bar\",\"x\":[\"last\",\"current\"],\"xaxis\":\"x7\",\"y\":[1,0],\"yaxis\":\"y7\"}],                        {\"annotations\":[{\"font\":{},\"showarrow\":false,\"text\":\"ANALYTICS\",\"x\":0.05375,\"xanchor\":\"center\",\"xref\":\"paper\",\"y\":1.0,\"yanchor\":\"bottom\",\"yref\":\"paper\"},{\"font\":{},\"showarrow\":false,\"text\":\"COLLECTIONS\",\"x\":0.18125,\"xanchor\":\"center\",\"xref\":\"paper\",\"y\":1.0,\"yanchor\":\"bottom\",\"yref\":\"paper\"},{\"font\":{},\"showarrow\":false,\"text\":\"EVENTING\",\"x\":0.30874999999999997,\"xanchor\":\"center\",\"xref\":\"paper\",\"y\":1.0,\"yanchor\":\"bottom\",\"yref\":\"paper\"},{\"font\":{},\"showarrow\":false,\"text\":\"FTS\",\"x\":0.43625,\"xanchor\":\"center\",\"xref\":\"paper\",\"y\":1.0,\"yanchor\":\"bottom\",\"yref\":\"paper\"},{\"font\":{},\"showarrow\":false,\"text\":\"IPV6\",\"x\":0.56375,\"xanchor\":\"center\",\"xref\":\"paper\",\"y\":1.0,\"yanchor\":\"bottom\",\"yref\":\"paper\"},{\"font\":{},\"showarrow\":false,\"text\":\"MOBILE\",\"x\":0.6912499999999999,\"xanchor\":\"center\",\"xref\":\"paper\",\"y\":1.0,\"yanchor\":\"bottom\",\"yref\":\"paper\"},{\"font\":{},\"showarrow\":false,\"text\":\"OS_CERTIFY\",\"x\":0.8187500000000001,\"xanchor\":\"center\",\"xref\":\"paper\",\"y\":1.0,\"yanchor\":\"bottom\",\"yref\":\"paper\"},{\"font\":{},\"showarrow\":false,\"text\":\"QUERY\",\"x\":0.94625,\"xanchor\":\"center\",\"xref\":\"paper\",\"y\":1.0,\"yanchor\":\"bottom\",\"yref\":\"paper\"}],\"barmode\":\"relative\",\"height\":600,\"hoverlabel\":{\"bgcolor\":\"white\"},\"legend\":{\"title\":{\"text\":\"area\"},\"tracegroupgap\":0},\"margin\":{\"t\":60},\"template\":{\"data\":{\"bar\":[{\"error_x\":{\"color\":\"#2a3f5f\"},\"error_y\":{\"color\":\"#2a3f5f\"},\"marker\":{\"line\":{\"color\":\"#E5ECF6\",\"width\":0.5},\"pattern\":{\"fillmode\":\"overlay\",\"size\":10,\"solidity\":0.2}},\"type\":\"bar\"}],\"barpolar\":[{\"marker\":{\"line\":{\"color\":\"#E5ECF6\",\"width\":0.5},\"pattern\":{\"fillmode\":\"overlay\",\"size\":10,\"solidity\":0.2}},\"type\":\"barpolar\"}],\"carpet\":[{\"aaxis\":{\"endlinecolor\":\"#2a3f5f\",\"gridcolor\":\"white\",\"linecolor\":\"white\",\"minorgridcolor\":\"white\",\"startlinecolor\":\"#2a3f5f\"},\"baxis\":{\"endlinecolor\":\"#2a3f5f\",\"gridcolor\":\"white\",\"linecolor\":\"white\",\"minorgridcolor\":\"white\",\"startlinecolor\":\"#2a3f5f\"},\"type\":\"carpet\"}],\"choropleth\":[{\"colorbar\":{\"outlinewidth\":0,\"ticks\":\"\"},\"type\":\"choropleth\"}],\"contour\":[{\"colorbar\":{\"outlinewidth\":0,\"ticks\":\"\"},\"colorscale\":[[0.0,\"#0d0887\"],[0.1111111111111111,\"#46039f\"],[0.2222222222222222,\"#7201a8\"],[0.3333333333333333,\"#9c179e\"],[0.4444444444444444,\"#bd3786\"],[0.5555555555555556,\"#d8576b\"],[0.6666666666666666,\"#ed7953\"],[0.7777777777777778,\"#fb9f3a\"],[0.8888888888888888,\"#fdca26\"],[1.0,\"#f0f921\"]],\"type\":\"contour\"}],\"contourcarpet\":[{\"colorbar\":{\"outlinewidth\":0,\"ticks\":\"\"},\"type\":\"contourcarpet\"}],\"heatmap\":[{\"colorbar\":{\"outlinewidth\":0,\"ticks\":\"\"},\"colorscale\":[[0.0,\"#0d0887\"],[0.1111111111111111,\"#46039f\"],[0.2222222222222222,\"#7201a8\"],[0.3333333333333333,\"#9c179e\"],[0.4444444444444444,\"#bd3786\"],[0.5555555555555556,\"#d8576b\"],[0.6666666666666666,\"#ed7953\"],[0.7777777777777778,\"#fb9f3a\"],[0.8888888888888888,\"#fdca26\"],[1.0,\"#f0f921\"]],\"type\":\"heatmap\"}],\"heatmapgl\":[{\"colorbar\":{\"outlinewidth\":0,\"ticks\":\"\"},\"colorscale\":[[0.0,\"#0d0887\"],[0.1111111111111111,\"#46039f\"],[0.2222222222222222,\"#7201a8\"],[0.3333333333333333,\"#9c179e\"],[0.4444444444444444,\"#bd3786\"],[0.5555555555555556,\"#d8576b\"],[0.6666666666666666,\"#ed7953\"],[0.7777777777777778,\"#fb9f3a\"],[0.8888888888888888,\"#fdca26\"],[1.0,\"#f0f921\"]],\"type\":\"heatmapgl\"}],\"histogram\":[{\"marker\":{\"pattern\":{\"fillmode\":\"overlay\",\"size\":10,\"solidity\":0.2}},\"type\":\"histogram\"}],\"histogram2d\":[{\"colorbar\":{\"outlinewidth\":0,\"ticks\":\"\"},\"colorscale\":[[0.0,\"#0d0887\"],[0.1111111111111111,\"#46039f\"],[0.2222222222222222,\"#7201a8\"],[0.3333333333333333,\"#9c179e\"],[0.4444444444444444,\"#bd3786\"],[0.5555555555555556,\"#d8576b\"],[0.6666666666666666,\"#ed7953\"],[0.7777777777777778,\"#fb9f3a\"],[0.8888888888888888,\"#fdca26\"],[1.0,\"#f0f921\"]],\"type\":\"histogram2d\"}],\"histogram2dcontour\":[{\"colorbar\":{\"outlinewidth\":0,\"ticks\":\"\"},\"colorscale\":[[0.0,\"#0d0887\"],[0.1111111111111111,\"#46039f\"],[0.2222222222222222,\"#7201a8\"],[0.3333333333333333,\"#9c179e\"],[0.4444444444444444,\"#bd3786\"],[0.5555555555555556,\"#d8576b\"],[0.6666666666666666,\"#ed7953\"],[0.7777777777777778,\"#fb9f3a\"],[0.8888888888888888,\"#fdca26\"],[1.0,\"#f0f921\"]],\"type\":\"histogram2dcontour\"}],\"mesh3d\":[{\"colorbar\":{\"outlinewidth\":0,\"ticks\":\"\"},\"type\":\"mesh3d\"}],\"parcoords\":[{\"line\":{\"colorbar\":{\"outlinewidth\":0,\"ticks\":\"\"}},\"type\":\"parcoords\"}],\"pie\":[{\"automargin\":true,\"type\":\"pie\"}],\"scatter\":[{\"marker\":{\"colorbar\":{\"outlinewidth\":0,\"ticks\":\"\"}},\"type\":\"scatter\"}],\"scatter3d\":[{\"line\":{\"colorbar\":{\"outlinewidth\":0,\"ticks\":\"\"}},\"marker\":{\"colorbar\":{\"outlinewidth\":0,\"ticks\":\"\"}},\"type\":\"scatter3d\"}],\"scattercarpet\":[{\"marker\":{\"colorbar\":{\"outlinewidth\":0,\"ticks\":\"\"}},\"type\":\"scattercarpet\"}],\"scattergeo\":[{\"marker\":{\"colorbar\":{\"outlinewidth\":0,\"ticks\":\"\"}},\"type\":\"scattergeo\"}],\"scattergl\":[{\"marker\":{\"colorbar\":{\"outlinewidth\":0,\"ticks\":\"\"}},\"type\":\"scattergl\"}],\"scattermapbox\":[{\"marker\":{\"colorbar\":{\"outlinewidth\":0,\"ticks\":\"\"}},\"type\":\"scattermapbox\"}],\"scatterpolar\":[{\"marker\":{\"colorbar\":{\"outlinewidth\":0,\"ticks\":\"\"}},\"type\":\"scatterpolar\"}],\"scatterpolargl\":[{\"marker\":{\"colorbar\":{\"outlinewidth\":0,\"ticks\":\"\"}},\"type\":\"scatterpolargl\"}],\"scatterternary\":[{\"marker\":{\"colorbar\":{\"outlinewidth\":0,\"ticks\":\"\"}},\"type\":\"scatterternary\"}],\"surface\":[{\"colorbar\":{\"outlinewidth\":0,\"ticks\":\"\"},\"colorscale\":[[0.0,\"#0d0887\"],[0.1111111111111111,\"#46039f\"],[0.2222222222222222,\"#7201a8\"],[0.3333333333333333,\"#9c179e\"],[0.4444444444444444,\"#bd3786\"],[0.5555555555555556,\"#d8576b\"],[0.6666666666666666,\"#ed7953\"],[0.7777777777777778,\"#fb9f3a\"],[0.8888888888888888,\"#fdca26\"],[1.0,\"#f0f921\"]],\"type\":\"surface\"}],\"table\":[{\"cells\":{\"fill\":{\"color\":\"#EBF0F8\"},\"line\":{\"color\":\"white\"}},\"header\":{\"fill\":{\"color\":\"#C8D4E3\"},\"line\":{\"color\":\"white\"}},\"type\":\"table\"}]},\"layout\":{\"annotationdefaults\":{\"arrowcolor\":\"#2a3f5f\",\"arrowhead\":0,\"arrowwidth\":1},\"autotypenumbers\":\"strict\",\"coloraxis\":{\"colorbar\":{\"outlinewidth\":0,\"ticks\":\"\"}},\"colorscale\":{\"diverging\":[[0,\"#8e0152\"],[0.1,\"#c51b7d\"],[0.2,\"#de77ae\"],[0.3,\"#f1b6da\"],[0.4,\"#fde0ef\"],[0.5,\"#f7f7f7\"],[0.6,\"#e6f5d0\"],[0.7,\"#b8e186\"],[0.8,\"#7fbc41\"],[0.9,\"#4d9221\"],[1,\"#276419\"]],\"sequential\":[[0.0,\"#0d0887\"],[0.1111111111111111,\"#46039f\"],[0.2222222222222222,\"#7201a8\"],[0.3333333333333333,\"#9c179e\"],[0.4444444444444444,\"#bd3786\"],[0.5555555555555556,\"#d8576b\"],[0.6666666666666666,\"#ed7953\"],[0.7777777777777778,\"#fb9f3a\"],[0.8888888888888888,\"#fdca26\"],[1.0,\"#f0f921\"]],\"sequentialminus\":[[0.0,\"#0d0887\"],[0.1111111111111111,\"#46039f\"],[0.2222222222222222,\"#7201a8\"],[0.3333333333333333,\"#9c179e\"],[0.4444444444444444,\"#bd3786\"],[0.5555555555555556,\"#d8576b\"],[0.6666666666666666,\"#ed7953\"],[0.7777777777777778,\"#fb9f3a\"],[0.8888888888888888,\"#fdca26\"],[1.0,\"#f0f921\"]]},\"colorway\":[\"#636efa\",\"#EF553B\",\"#00cc96\",\"#ab63fa\",\"#FFA15A\",\"#19d3f3\",\"#FF6692\",\"#B6E880\",\"#FF97FF\",\"#FECB52\"],\"font\":{\"color\":\"#2a3f5f\"},\"geo\":{\"bgcolor\":\"white\",\"lakecolor\":\"white\",\"landcolor\":\"#E5ECF6\",\"showlakes\":true,\"showland\":true,\"subunitcolor\":\"white\"},\"hoverlabel\":{\"align\":\"left\"},\"hovermode\":\"closest\",\"mapbox\":{\"style\":\"light\"},\"paper_bgcolor\":\"white\",\"plot_bgcolor\":\"#E5ECF6\",\"polar\":{\"angularaxis\":{\"gridcolor\":\"white\",\"linecolor\":\"white\",\"ticks\":\"\"},\"bgcolor\":\"#E5ECF6\",\"radialaxis\":{\"gridcolor\":\"white\",\"linecolor\":\"white\",\"ticks\":\"\"}},\"scene\":{\"xaxis\":{\"backgroundcolor\":\"#E5ECF6\",\"gridcolor\":\"white\",\"gridwidth\":2,\"linecolor\":\"white\",\"showbackground\":true,\"ticks\":\"\",\"zerolinecolor\":\"white\"},\"yaxis\":{\"backgroundcolor\":\"#E5ECF6\",\"gridcolor\":\"white\",\"gridwidth\":2,\"linecolor\":\"white\",\"showbackground\":true,\"ticks\":\"\",\"zerolinecolor\":\"white\"},\"zaxis\":{\"backgroundcolor\":\"#E5ECF6\",\"gridcolor\":\"white\",\"gridwidth\":2,\"linecolor\":\"white\",\"showbackground\":true,\"ticks\":\"\",\"zerolinecolor\":\"white\"}},\"shapedefaults\":{\"line\":{\"color\":\"#2a3f5f\"}},\"ternary\":{\"aaxis\":{\"gridcolor\":\"white\",\"linecolor\":\"white\",\"ticks\":\"\"},\"baxis\":{\"gridcolor\":\"white\",\"linecolor\":\"white\",\"ticks\":\"\"},\"bgcolor\":\"#E5ECF6\",\"caxis\":{\"gridcolor\":\"white\",\"linecolor\":\"white\",\"ticks\":\"\"}},\"title\":{\"x\":0.05},\"xaxis\":{\"automargin\":true,\"gridcolor\":\"white\",\"linecolor\":\"white\",\"ticks\":\"\",\"title\":{\"standoff\":15},\"zerolinecolor\":\"white\",\"zerolinewidth\":2},\"yaxis\":{\"automargin\":true,\"gridcolor\":\"white\",\"linecolor\":\"white\",\"ticks\":\"\",\"title\":{\"standoff\":15},\"zerolinecolor\":\"white\",\"zerolinewidth\":2}}},\"title\":{\"text\":\"Areas in 7.0.0-4960 with Over 50 Failures and Comparison with 7.0.0-4907 (Graph)\"},\"xaxis\":{\"anchor\":\"y\",\"domain\":[0.0,0.1075],\"title\":{\"text\":\"\"}},\"xaxis2\":{\"anchor\":\"y2\",\"domain\":[0.1275,0.235],\"matches\":\"x\",\"title\":{\"text\":\"\"}},\"xaxis3\":{\"anchor\":\"y3\",\"domain\":[0.255,0.3625],\"matches\":\"x\",\"title\":{\"text\":\"\"}},\"xaxis4\":{\"anchor\":\"y4\",\"domain\":[0.3825,0.49],\"matches\":\"x\",\"title\":{\"text\":\"\"}},\"xaxis5\":{\"anchor\":\"y5\",\"domain\":[0.51,0.6175],\"matches\":\"x\",\"title\":{\"text\":\"\"}},\"xaxis6\":{\"anchor\":\"y6\",\"domain\":[0.6375,0.745],\"matches\":\"x\",\"title\":{\"text\":\"\"}},\"xaxis7\":{\"anchor\":\"y7\",\"domain\":[0.765,0.8725],\"matches\":\"x\",\"title\":{\"text\":\"\"}},\"xaxis8\":{\"anchor\":\"y8\",\"domain\":[0.8925000000000001,1.0],\"matches\":\"x\",\"title\":{\"text\":\"\"}},\"yaxis\":{\"anchor\":\"x\",\"domain\":[0.0,1.0],\"gridcolor\":\"lightsteelblue\",\"gridwidth\":2,\"title\":{\"text\":\"fails\"}},\"yaxis2\":{\"anchor\":\"x2\",\"domain\":[0.0,1.0],\"gridcolor\":\"lightsteelblue\",\"gridwidth\":2,\"matches\":\"y\",\"showticklabels\":false},\"yaxis3\":{\"anchor\":\"x3\",\"domain\":[0.0,1.0],\"gridcolor\":\"lightsteelblue\",\"gridwidth\":2,\"matches\":\"y\",\"showticklabels\":false},\"yaxis4\":{\"anchor\":\"x4\",\"domain\":[0.0,1.0],\"gridcolor\":\"lightsteelblue\",\"gridwidth\":2,\"matches\":\"y\",\"showticklabels\":false},\"yaxis5\":{\"anchor\":\"x5\",\"domain\":[0.0,1.0],\"gridcolor\":\"lightsteelblue\",\"gridwidth\":2,\"matches\":\"y\",\"showticklabels\":false},\"yaxis6\":{\"anchor\":\"x6\",\"domain\":[0.0,1.0],\"gridcolor\":\"lightsteelblue\",\"gridwidth\":2,\"matches\":\"y\",\"showticklabels\":false},\"yaxis7\":{\"anchor\":\"x7\",\"domain\":[0.0,1.0],\"gridcolor\":\"lightsteelblue\",\"gridwidth\":2,\"matches\":\"y\",\"showticklabels\":false},\"yaxis8\":{\"anchor\":\"x8\",\"domain\":[0.0,1.0],\"gridcolor\":\"lightsteelblue\",\"gridwidth\":2,\"matches\":\"y\",\"showticklabels\":false}},                        {\"responsive\": true}                    ).then(function(){\n",
       "                            \n",
       "var gd = document.getElementById('f7abe9f0-94b7-4833-ab68-3cd35690e8cd');\n",
       "var x = new MutationObserver(function (mutations, observer) {{\n",
       "        var display = window.getComputedStyle(gd).display;\n",
       "        if (!display || display === 'none') {{\n",
       "            console.log([gd, 'removed!']);\n",
       "            Plotly.purge(gd);\n",
       "            observer.disconnect();\n",
       "        }}\n",
       "}});\n",
       "\n",
       "// Listen for the removal of the full notebook cells\n",
       "var notebookContainer = gd.closest('#notebook-container');\n",
       "if (notebookContainer) {{\n",
       "    x.observe(notebookContainer, {childList: true});\n",
       "}}\n",
       "\n",
       "// Listen for the clearing of the current output cell\n",
       "var outputEl = gd.closest('.output');\n",
       "if (outputEl) {{\n",
       "    x.observe(outputEl, {childList: true});\n",
       "}}\n",
       "\n",
       "                        })                };                });            </script>        </div>"
      ]
     },
     "metadata": {},
     "output_type": "display_data"
    }
   ],
   "source": [
    "newSet = []\n",
    "for item in sortdf50:\n",
    "    current = item.pop('CurrentFailed')\n",
    "    last = item.pop('LastFailed')\n",
    "    currentFails = {\"fails\": current, \"ver\": \"current\"}\n",
    "    lastFails = {\"fails\": last, \"ver\": \"last\"}\n",
    "    newSet.append({**lastFails, **item})\n",
    "    newSet.append({**currentFails, **item})\n",
    "    \n",
    "df50 = pd.DataFrame(newSet)\n",
    "\n",
    "all_fig = px.bar(df50, y=df50.fails, x=df50.ver, color=df50.area, facet_col=df50.component, facet_col_wrap=8)\n",
    "\n",
    "all_fig.for_each_annotation(lambda a: a.update(text=a.text.replace(\"component=\", \"\")))\n",
    "all_fig.update_xaxes(title_text='')\n",
    "all_fig.update_yaxes(gridcolor='lightsteelblue', gridwidth=2)\n",
    "all_fig.update_layout(height=600*math.ceil(len(set(df50.component))/8), title=f\"Areas in {weekly_builds[0]} with Over 50 Failures and Comparison with {weekly_builds[1]} (Graph)\", hoverlabel=dict(bgcolor=\"white\"))\n",
    "\n",
    "all_fig.show()"
   ]
  },
  {
   "cell_type": "markdown",
   "id": "bc260d07-2d8f-47fd-b7ab-b4d8a791a0cf",
   "metadata": {},
   "source": [
    "## Total Failures for Each Component"
   ]
  },
  {
   "cell_type": "markdown",
   "id": "39fe1339-0864-45cd-ae1f-1435c2577cf2",
   "metadata": {},
   "source": [
    "This displays the amount of failures from each component, along with the change from the previous weekly build."
   ]
  },
  {
   "cell_type": "code",
   "execution_count": 100,
   "id": "c5b576dd",
   "metadata": {
    "jupyter": {
     "source_hidden": true
    },
    "tags": [
     "hide_input"
    ]
   },
   "outputs": [],
   "source": [
    "#query_last_weekly_build = f'SELECT raw `build` FROM server WHERE `build` <= $version GROUP BY `build` HAVING sum(totalCount) > 10000 ORDER BY `build` DESC LIMIT 2'\n",
    "total_fails_query = 'select component,sum(failCount) as TotalFailed from server where lower(os)=\"centos\" and `build`=$version group by component  order by component'\n",
    "\n",
    "#result = run_query(query=query_last_weekly_build, param={'$version': f'\"{release}-{current_build}\"'})\n",
    "#weekly_builds = result['results']\n",
    "total_fails = run_query(query=total_fails_query, param={'$version': f'\"{release}-{current_build}\"'})\n",
    "last_total_fails = run_query(query=total_fails_query, param={'$version': f'\"{str(weekly_builds[1])}\"'})\n",
    "\n",
    "weekly_builds[1] = str(weekly_builds[1]).split(\"-\", 1)\n",
    "\n",
    "ldata_f = pd.DataFrame(last_total_fails['results'])\n",
    "data_f = pd.DataFrame(total_fails['results'])"
   ]
  },
  {
   "cell_type": "code",
   "execution_count": 101,
   "id": "5a8f33ec",
   "metadata": {
    "jupyter": {
     "source_hidden": true
    },
    "tags": [
     "hide_input"
    ]
   },
   "outputs": [
    {
     "data": {
      "application/vnd.plotly.v1+json": {
       "config": {
        "plotlyServerURL": "https://plot.ly"
       },
       "data": [
        {
         "cells": {
          "fill": {
           "color": [
            "#F4F4F4",
            "#F4F4F4",
            [
             "#8BE9A3",
             "#F4F4F4",
             "#8BE9A3",
             "#F4F4F4",
             "#F4F4F4",
             "#8BE9A3",
             "#F4F4F4",
             "#FFBAAB",
             "#8BE9A3",
             "#FFBAAB",
             "#FFBAAB",
             "#8BE9A3",
             "#8BE9A3",
             "#8BE9A3",
             "#FFBAAB",
             "#F4F4F4",
             "#8BE9A3",
             "#F4F4F4",
             "#FFBAAB",
             "#F4F4F4",
             "#FFBAAB",
             "#8BE9A3",
             "#FFBAAB",
             "#8BE9A3",
             "#8BE9A3",
             "#8BE9A3",
             "#FFBAAB",
             "#8BE9A3",
             "#FFBAAB",
             "#F4F4F4",
             "#8BE9A3",
             "#FFBAAB",
             "#8BE9A3",
             "#F4F4F4",
             "#8BE9A3",
             "#8BE9A3",
             "#8BE9A3",
             "#FFBAAB"
            ]
           ]
          },
          "line": {
           "color": "lightgray"
          },
          "values": [
           [
            "2I_MOI",
            "2I_REBALANCE",
            "ANALYTICS",
            "AUTO_FAILOVER",
            "BACKUP_RECOVERY",
            "BUILD_SANITY",
            "CE_ONLY",
            "CLI",
            "COLLECTIONS",
            "COMPRESSION",
            "DURABILITY",
            "EP",
            "EPHEMERAL",
            "EVENTING",
            "FTS",
            "GEO",
            "GOXDCR",
            "IMPORT_EXPORT",
            "IPV6",
            "LOG_REDACTION",
            "MOBILE",
            "MOBILE_CONVERGENCE",
            "NSERV",
            "NUTSHELL",
            "OS_CERTIFY",
            "PLASMA",
            "QUERY",
            "RBAC",
            "RQG",
            "RZA",
            "SANITY",
            "SDK",
            "SECURITY",
            "SUBDOC",
            "TUNABLE",
            "UNIT",
            "UPGRADE",
            "VIEW"
           ],
           [
            13,
            3,
            54,
            2,
            17,
            0,
            3,
            6,
            128,
            27,
            45,
            20,
            7,
            55,
            85,
            24,
            11,
            0,
            110,
            1,
            338,
            2,
            32,
            2,
            94,
            7,
            114,
            15,
            6,
            0,
            0,
            6,
            8,
            0,
            4,
            4,
            43,
            13
           ],
           [
            "9 less  failures",
            "No Change",
            "65 less  failures",
            "No Change",
            "No Change",
            "1 less failure",
            "No Change",
            "1 more failure",
            "41 less  failures",
            "2 more failures",
            "9 more failures",
            "3 less  failures",
            "10 less  failures",
            "9 less  failures",
            "24 more failures",
            "No Change",
            "15 less  failures",
            "No Change",
            "56 more failures",
            "No Change",
            "326 more failures",
            "3 less  failures",
            "9 more failures",
            "13 less  failures",
            "45 less  failures",
            "11 less  failures",
            "82 more failures",
            "1 less failure",
            "4 more failures",
            "No Change",
            "4 less  failures",
            "3 more failures",
            "15 less  failures",
            "No Change",
            "1 less failure",
            "1 less failure",
            "33 less  failures",
            "7 more failures"
           ]
          ]
         },
         "header": {
          "fill": {
           "color": "maroon"
          },
          "font": {
           "color": "white"
          },
          "line": {
           "color": "lightgray"
          },
          "values": [
           "Component",
           "Failed in 4960",
           "Delta from 4907"
          ]
         },
         "type": "table"
        }
       ],
       "layout": {
        "autosize": true,
        "template": {
         "data": {
          "bar": [
           {
            "error_x": {
             "color": "#2a3f5f"
            },
            "error_y": {
             "color": "#2a3f5f"
            },
            "marker": {
             "line": {
              "color": "#E5ECF6",
              "width": 0.5
             },
             "pattern": {
              "fillmode": "overlay",
              "size": 10,
              "solidity": 0.2
             }
            },
            "type": "bar"
           }
          ],
          "barpolar": [
           {
            "marker": {
             "line": {
              "color": "#E5ECF6",
              "width": 0.5
             },
             "pattern": {
              "fillmode": "overlay",
              "size": 10,
              "solidity": 0.2
             }
            },
            "type": "barpolar"
           }
          ],
          "carpet": [
           {
            "aaxis": {
             "endlinecolor": "#2a3f5f",
             "gridcolor": "white",
             "linecolor": "white",
             "minorgridcolor": "white",
             "startlinecolor": "#2a3f5f"
            },
            "baxis": {
             "endlinecolor": "#2a3f5f",
             "gridcolor": "white",
             "linecolor": "white",
             "minorgridcolor": "white",
             "startlinecolor": "#2a3f5f"
            },
            "type": "carpet"
           }
          ],
          "choropleth": [
           {
            "colorbar": {
             "outlinewidth": 0,
             "ticks": ""
            },
            "type": "choropleth"
           }
          ],
          "contour": [
           {
            "colorbar": {
             "outlinewidth": 0,
             "ticks": ""
            },
            "colorscale": [
             [
              0,
              "#0d0887"
             ],
             [
              0.1111111111111111,
              "#46039f"
             ],
             [
              0.2222222222222222,
              "#7201a8"
             ],
             [
              0.3333333333333333,
              "#9c179e"
             ],
             [
              0.4444444444444444,
              "#bd3786"
             ],
             [
              0.5555555555555556,
              "#d8576b"
             ],
             [
              0.6666666666666666,
              "#ed7953"
             ],
             [
              0.7777777777777778,
              "#fb9f3a"
             ],
             [
              0.8888888888888888,
              "#fdca26"
             ],
             [
              1,
              "#f0f921"
             ]
            ],
            "type": "contour"
           }
          ],
          "contourcarpet": [
           {
            "colorbar": {
             "outlinewidth": 0,
             "ticks": ""
            },
            "type": "contourcarpet"
           }
          ],
          "heatmap": [
           {
            "colorbar": {
             "outlinewidth": 0,
             "ticks": ""
            },
            "colorscale": [
             [
              0,
              "#0d0887"
             ],
             [
              0.1111111111111111,
              "#46039f"
             ],
             [
              0.2222222222222222,
              "#7201a8"
             ],
             [
              0.3333333333333333,
              "#9c179e"
             ],
             [
              0.4444444444444444,
              "#bd3786"
             ],
             [
              0.5555555555555556,
              "#d8576b"
             ],
             [
              0.6666666666666666,
              "#ed7953"
             ],
             [
              0.7777777777777778,
              "#fb9f3a"
             ],
             [
              0.8888888888888888,
              "#fdca26"
             ],
             [
              1,
              "#f0f921"
             ]
            ],
            "type": "heatmap"
           }
          ],
          "heatmapgl": [
           {
            "colorbar": {
             "outlinewidth": 0,
             "ticks": ""
            },
            "colorscale": [
             [
              0,
              "#0d0887"
             ],
             [
              0.1111111111111111,
              "#46039f"
             ],
             [
              0.2222222222222222,
              "#7201a8"
             ],
             [
              0.3333333333333333,
              "#9c179e"
             ],
             [
              0.4444444444444444,
              "#bd3786"
             ],
             [
              0.5555555555555556,
              "#d8576b"
             ],
             [
              0.6666666666666666,
              "#ed7953"
             ],
             [
              0.7777777777777778,
              "#fb9f3a"
             ],
             [
              0.8888888888888888,
              "#fdca26"
             ],
             [
              1,
              "#f0f921"
             ]
            ],
            "type": "heatmapgl"
           }
          ],
          "histogram": [
           {
            "marker": {
             "pattern": {
              "fillmode": "overlay",
              "size": 10,
              "solidity": 0.2
             }
            },
            "type": "histogram"
           }
          ],
          "histogram2d": [
           {
            "colorbar": {
             "outlinewidth": 0,
             "ticks": ""
            },
            "colorscale": [
             [
              0,
              "#0d0887"
             ],
             [
              0.1111111111111111,
              "#46039f"
             ],
             [
              0.2222222222222222,
              "#7201a8"
             ],
             [
              0.3333333333333333,
              "#9c179e"
             ],
             [
              0.4444444444444444,
              "#bd3786"
             ],
             [
              0.5555555555555556,
              "#d8576b"
             ],
             [
              0.6666666666666666,
              "#ed7953"
             ],
             [
              0.7777777777777778,
              "#fb9f3a"
             ],
             [
              0.8888888888888888,
              "#fdca26"
             ],
             [
              1,
              "#f0f921"
             ]
            ],
            "type": "histogram2d"
           }
          ],
          "histogram2dcontour": [
           {
            "colorbar": {
             "outlinewidth": 0,
             "ticks": ""
            },
            "colorscale": [
             [
              0,
              "#0d0887"
             ],
             [
              0.1111111111111111,
              "#46039f"
             ],
             [
              0.2222222222222222,
              "#7201a8"
             ],
             [
              0.3333333333333333,
              "#9c179e"
             ],
             [
              0.4444444444444444,
              "#bd3786"
             ],
             [
              0.5555555555555556,
              "#d8576b"
             ],
             [
              0.6666666666666666,
              "#ed7953"
             ],
             [
              0.7777777777777778,
              "#fb9f3a"
             ],
             [
              0.8888888888888888,
              "#fdca26"
             ],
             [
              1,
              "#f0f921"
             ]
            ],
            "type": "histogram2dcontour"
           }
          ],
          "mesh3d": [
           {
            "colorbar": {
             "outlinewidth": 0,
             "ticks": ""
            },
            "type": "mesh3d"
           }
          ],
          "parcoords": [
           {
            "line": {
             "colorbar": {
              "outlinewidth": 0,
              "ticks": ""
             }
            },
            "type": "parcoords"
           }
          ],
          "pie": [
           {
            "automargin": true,
            "type": "pie"
           }
          ],
          "scatter": [
           {
            "marker": {
             "colorbar": {
              "outlinewidth": 0,
              "ticks": ""
             }
            },
            "type": "scatter"
           }
          ],
          "scatter3d": [
           {
            "line": {
             "colorbar": {
              "outlinewidth": 0,
              "ticks": ""
             }
            },
            "marker": {
             "colorbar": {
              "outlinewidth": 0,
              "ticks": ""
             }
            },
            "type": "scatter3d"
           }
          ],
          "scattercarpet": [
           {
            "marker": {
             "colorbar": {
              "outlinewidth": 0,
              "ticks": ""
             }
            },
            "type": "scattercarpet"
           }
          ],
          "scattergeo": [
           {
            "marker": {
             "colorbar": {
              "outlinewidth": 0,
              "ticks": ""
             }
            },
            "type": "scattergeo"
           }
          ],
          "scattergl": [
           {
            "marker": {
             "colorbar": {
              "outlinewidth": 0,
              "ticks": ""
             }
            },
            "type": "scattergl"
           }
          ],
          "scattermapbox": [
           {
            "marker": {
             "colorbar": {
              "outlinewidth": 0,
              "ticks": ""
             }
            },
            "type": "scattermapbox"
           }
          ],
          "scatterpolar": [
           {
            "marker": {
             "colorbar": {
              "outlinewidth": 0,
              "ticks": ""
             }
            },
            "type": "scatterpolar"
           }
          ],
          "scatterpolargl": [
           {
            "marker": {
             "colorbar": {
              "outlinewidth": 0,
              "ticks": ""
             }
            },
            "type": "scatterpolargl"
           }
          ],
          "scatterternary": [
           {
            "marker": {
             "colorbar": {
              "outlinewidth": 0,
              "ticks": ""
             }
            },
            "type": "scatterternary"
           }
          ],
          "surface": [
           {
            "colorbar": {
             "outlinewidth": 0,
             "ticks": ""
            },
            "colorscale": [
             [
              0,
              "#0d0887"
             ],
             [
              0.1111111111111111,
              "#46039f"
             ],
             [
              0.2222222222222222,
              "#7201a8"
             ],
             [
              0.3333333333333333,
              "#9c179e"
             ],
             [
              0.4444444444444444,
              "#bd3786"
             ],
             [
              0.5555555555555556,
              "#d8576b"
             ],
             [
              0.6666666666666666,
              "#ed7953"
             ],
             [
              0.7777777777777778,
              "#fb9f3a"
             ],
             [
              0.8888888888888888,
              "#fdca26"
             ],
             [
              1,
              "#f0f921"
             ]
            ],
            "type": "surface"
           }
          ],
          "table": [
           {
            "cells": {
             "fill": {
              "color": "#EBF0F8"
             },
             "line": {
              "color": "white"
             }
            },
            "header": {
             "fill": {
              "color": "#C8D4E3"
             },
             "line": {
              "color": "white"
             }
            },
            "type": "table"
           }
          ]
         },
         "layout": {
          "annotationdefaults": {
           "arrowcolor": "#2a3f5f",
           "arrowhead": 0,
           "arrowwidth": 1
          },
          "autotypenumbers": "strict",
          "coloraxis": {
           "colorbar": {
            "outlinewidth": 0,
            "ticks": ""
           }
          },
          "colorscale": {
           "diverging": [
            [
             0,
             "#8e0152"
            ],
            [
             0.1,
             "#c51b7d"
            ],
            [
             0.2,
             "#de77ae"
            ],
            [
             0.3,
             "#f1b6da"
            ],
            [
             0.4,
             "#fde0ef"
            ],
            [
             0.5,
             "#f7f7f7"
            ],
            [
             0.6,
             "#e6f5d0"
            ],
            [
             0.7,
             "#b8e186"
            ],
            [
             0.8,
             "#7fbc41"
            ],
            [
             0.9,
             "#4d9221"
            ],
            [
             1,
             "#276419"
            ]
           ],
           "sequential": [
            [
             0,
             "#0d0887"
            ],
            [
             0.1111111111111111,
             "#46039f"
            ],
            [
             0.2222222222222222,
             "#7201a8"
            ],
            [
             0.3333333333333333,
             "#9c179e"
            ],
            [
             0.4444444444444444,
             "#bd3786"
            ],
            [
             0.5555555555555556,
             "#d8576b"
            ],
            [
             0.6666666666666666,
             "#ed7953"
            ],
            [
             0.7777777777777778,
             "#fb9f3a"
            ],
            [
             0.8888888888888888,
             "#fdca26"
            ],
            [
             1,
             "#f0f921"
            ]
           ],
           "sequentialminus": [
            [
             0,
             "#0d0887"
            ],
            [
             0.1111111111111111,
             "#46039f"
            ],
            [
             0.2222222222222222,
             "#7201a8"
            ],
            [
             0.3333333333333333,
             "#9c179e"
            ],
            [
             0.4444444444444444,
             "#bd3786"
            ],
            [
             0.5555555555555556,
             "#d8576b"
            ],
            [
             0.6666666666666666,
             "#ed7953"
            ],
            [
             0.7777777777777778,
             "#fb9f3a"
            ],
            [
             0.8888888888888888,
             "#fdca26"
            ],
            [
             1,
             "#f0f921"
            ]
           ]
          },
          "colorway": [
           "#636efa",
           "#EF553B",
           "#00cc96",
           "#ab63fa",
           "#FFA15A",
           "#19d3f3",
           "#FF6692",
           "#B6E880",
           "#FF97FF",
           "#FECB52"
          ],
          "font": {
           "color": "#2a3f5f"
          },
          "geo": {
           "bgcolor": "white",
           "lakecolor": "white",
           "landcolor": "#E5ECF6",
           "showlakes": true,
           "showland": true,
           "subunitcolor": "white"
          },
          "hoverlabel": {
           "align": "left"
          },
          "hovermode": "closest",
          "mapbox": {
           "style": "light"
          },
          "paper_bgcolor": "white",
          "plot_bgcolor": "#E5ECF6",
          "polar": {
           "angularaxis": {
            "gridcolor": "white",
            "linecolor": "white",
            "ticks": ""
           },
           "bgcolor": "#E5ECF6",
           "radialaxis": {
            "gridcolor": "white",
            "linecolor": "white",
            "ticks": ""
           }
          },
          "scene": {
           "xaxis": {
            "backgroundcolor": "#E5ECF6",
            "gridcolor": "white",
            "gridwidth": 2,
            "linecolor": "white",
            "showbackground": true,
            "ticks": "",
            "zerolinecolor": "white"
           },
           "yaxis": {
            "backgroundcolor": "#E5ECF6",
            "gridcolor": "white",
            "gridwidth": 2,
            "linecolor": "white",
            "showbackground": true,
            "ticks": "",
            "zerolinecolor": "white"
           },
           "zaxis": {
            "backgroundcolor": "#E5ECF6",
            "gridcolor": "white",
            "gridwidth": 2,
            "linecolor": "white",
            "showbackground": true,
            "ticks": "",
            "zerolinecolor": "white"
           }
          },
          "shapedefaults": {
           "line": {
            "color": "#2a3f5f"
           }
          },
          "ternary": {
           "aaxis": {
            "gridcolor": "white",
            "linecolor": "white",
            "ticks": ""
           },
           "baxis": {
            "gridcolor": "white",
            "linecolor": "white",
            "ticks": ""
           },
           "bgcolor": "#E5ECF6",
           "caxis": {
            "gridcolor": "white",
            "linecolor": "white",
            "ticks": ""
           }
          },
          "title": {
           "x": 0.05
          },
          "xaxis": {
           "automargin": true,
           "gridcolor": "white",
           "linecolor": "white",
           "ticks": "",
           "title": {
            "standoff": 15
           },
           "zerolinecolor": "white",
           "zerolinewidth": 2
          },
          "yaxis": {
           "automargin": true,
           "gridcolor": "white",
           "linecolor": "white",
           "ticks": "",
           "title": {
            "standoff": 15
           },
           "zerolinecolor": "white",
           "zerolinewidth": 2
          }
         }
        }
       }
      },
      "image/png": "[encoded data removed]",
      "text/html": [
       "<div>                            <div id=\"0836135a-8ec7-48b7-9657-0d7c6e72e0ab\" class=\"plotly-graph-div\" style=\"height:1000px; width:100%;\"></div>            <script type=\"text/javascript\">                require([\"plotly\"], function(Plotly) {                    window.PLOTLYENV=window.PLOTLYENV || {};                                    if (document.getElementById(\"0836135a-8ec7-48b7-9657-0d7c6e72e0ab\")) {                    Plotly.newPlot(                        \"0836135a-8ec7-48b7-9657-0d7c6e72e0ab\",                        [{\"cells\":{\"fill\":{\"color\":[\"#F4F4F4\",\"#F4F4F4\",[\"#8BE9A3\",\"#F4F4F4\",\"#8BE9A3\",\"#F4F4F4\",\"#F4F4F4\",\"#8BE9A3\",\"#F4F4F4\",\"#FFBAAB\",\"#8BE9A3\",\"#FFBAAB\",\"#FFBAAB\",\"#8BE9A3\",\"#8BE9A3\",\"#8BE9A3\",\"#FFBAAB\",\"#F4F4F4\",\"#8BE9A3\",\"#F4F4F4\",\"#FFBAAB\",\"#F4F4F4\",\"#FFBAAB\",\"#8BE9A3\",\"#FFBAAB\",\"#8BE9A3\",\"#8BE9A3\",\"#8BE9A3\",\"#FFBAAB\",\"#8BE9A3\",\"#FFBAAB\",\"#F4F4F4\",\"#8BE9A3\",\"#FFBAAB\",\"#8BE9A3\",\"#F4F4F4\",\"#8BE9A3\",\"#8BE9A3\",\"#8BE9A3\",\"#FFBAAB\"]]},\"line\":{\"color\":\"lightgray\"},\"values\":[[\"2I_MOI\",\"2I_REBALANCE\",\"ANALYTICS\",\"AUTO_FAILOVER\",\"BACKUP_RECOVERY\",\"BUILD_SANITY\",\"CE_ONLY\",\"CLI\",\"COLLECTIONS\",\"COMPRESSION\",\"DURABILITY\",\"EP\",\"EPHEMERAL\",\"EVENTING\",\"FTS\",\"GEO\",\"GOXDCR\",\"IMPORT_EXPORT\",\"IPV6\",\"LOG_REDACTION\",\"MOBILE\",\"MOBILE_CONVERGENCE\",\"NSERV\",\"NUTSHELL\",\"OS_CERTIFY\",\"PLASMA\",\"QUERY\",\"RBAC\",\"RQG\",\"RZA\",\"SANITY\",\"SDK\",\"SECURITY\",\"SUBDOC\",\"TUNABLE\",\"UNIT\",\"UPGRADE\",\"VIEW\"],[13,3,54,2,17,0,3,6,128,27,45,20,7,55,85,24,11,0,110,1,338,2,32,2,94,7,114,15,6,0,0,6,8,0,4,4,43,13],[\"9 less  failures\",\"No Change\",\"65 less  failures\",\"No Change\",\"No Change\",\"1 less failure\",\"No Change\",\"1 more failure\",\"41 less  failures\",\"2 more failures\",\"9 more failures\",\"3 less  failures\",\"10 less  failures\",\"9 less  failures\",\"24 more failures\",\"No Change\",\"15 less  failures\",\"No Change\",\"56 more failures\",\"No Change\",\"326 more failures\",\"3 less  failures\",\"9 more failures\",\"13 less  failures\",\"45 less  failures\",\"11 less  failures\",\"82 more failures\",\"1 less failure\",\"4 more failures\",\"No Change\",\"4 less  failures\",\"3 more failures\",\"15 less  failures\",\"No Change\",\"1 less failure\",\"1 less failure\",\"33 less  failures\",\"7 more failures\"]]},\"header\":{\"fill\":{\"color\":\"maroon\"},\"font\":{\"color\":\"white\"},\"line\":{\"color\":\"lightgray\"},\"values\":[\"Component\",\"Failed in 4960\",\"Delta from 4907\"]},\"type\":\"table\"}],                        {\"height\":1000,\"template\":{\"data\":{\"bar\":[{\"error_x\":{\"color\":\"#2a3f5f\"},\"error_y\":{\"color\":\"#2a3f5f\"},\"marker\":{\"line\":{\"color\":\"#E5ECF6\",\"width\":0.5},\"pattern\":{\"fillmode\":\"overlay\",\"size\":10,\"solidity\":0.2}},\"type\":\"bar\"}],\"barpolar\":[{\"marker\":{\"line\":{\"color\":\"#E5ECF6\",\"width\":0.5},\"pattern\":{\"fillmode\":\"overlay\",\"size\":10,\"solidity\":0.2}},\"type\":\"barpolar\"}],\"carpet\":[{\"aaxis\":{\"endlinecolor\":\"#2a3f5f\",\"gridcolor\":\"white\",\"linecolor\":\"white\",\"minorgridcolor\":\"white\",\"startlinecolor\":\"#2a3f5f\"},\"baxis\":{\"endlinecolor\":\"#2a3f5f\",\"gridcolor\":\"white\",\"linecolor\":\"white\",\"minorgridcolor\":\"white\",\"startlinecolor\":\"#2a3f5f\"},\"type\":\"carpet\"}],\"choropleth\":[{\"colorbar\":{\"outlinewidth\":0,\"ticks\":\"\"},\"type\":\"choropleth\"}],\"contour\":[{\"colorbar\":{\"outlinewidth\":0,\"ticks\":\"\"},\"colorscale\":[[0.0,\"#0d0887\"],[0.1111111111111111,\"#46039f\"],[0.2222222222222222,\"#7201a8\"],[0.3333333333333333,\"#9c179e\"],[0.4444444444444444,\"#bd3786\"],[0.5555555555555556,\"#d8576b\"],[0.6666666666666666,\"#ed7953\"],[0.7777777777777778,\"#fb9f3a\"],[0.8888888888888888,\"#fdca26\"],[1.0,\"#f0f921\"]],\"type\":\"contour\"}],\"contourcarpet\":[{\"colorbar\":{\"outlinewidth\":0,\"ticks\":\"\"},\"type\":\"contourcarpet\"}],\"heatmap\":[{\"colorbar\":{\"outlinewidth\":0,\"ticks\":\"\"},\"colorscale\":[[0.0,\"#0d0887\"],[0.1111111111111111,\"#46039f\"],[0.2222222222222222,\"#7201a8\"],[0.3333333333333333,\"#9c179e\"],[0.4444444444444444,\"#bd3786\"],[0.5555555555555556,\"#d8576b\"],[0.6666666666666666,\"#ed7953\"],[0.7777777777777778,\"#fb9f3a\"],[0.8888888888888888,\"#fdca26\"],[1.0,\"#f0f921\"]],\"type\":\"heatmap\"}],\"heatmapgl\":[{\"colorbar\":{\"outlinewidth\":0,\"ticks\":\"\"},\"colorscale\":[[0.0,\"#0d0887\"],[0.1111111111111111,\"#46039f\"],[0.2222222222222222,\"#7201a8\"],[0.3333333333333333,\"#9c179e\"],[0.4444444444444444,\"#bd3786\"],[0.5555555555555556,\"#d8576b\"],[0.6666666666666666,\"#ed7953\"],[0.7777777777777778,\"#fb9f3a\"],[0.8888888888888888,\"#fdca26\"],[1.0,\"#f0f921\"]],\"type\":\"heatmapgl\"}],\"histogram\":[{\"marker\":{\"pattern\":{\"fillmode\":\"overlay\",\"size\":10,\"solidity\":0.2}},\"type\":\"histogram\"}],\"histogram2d\":[{\"colorbar\":{\"outlinewidth\":0,\"ticks\":\"\"},\"colorscale\":[[0.0,\"#0d0887\"],[0.1111111111111111,\"#46039f\"],[0.2222222222222222,\"#7201a8\"],[0.3333333333333333,\"#9c179e\"],[0.4444444444444444,\"#bd3786\"],[0.5555555555555556,\"#d8576b\"],[0.6666666666666666,\"#ed7953\"],[0.7777777777777778,\"#fb9f3a\"],[0.8888888888888888,\"#fdca26\"],[1.0,\"#f0f921\"]],\"type\":\"histogram2d\"}],\"histogram2dcontour\":[{\"colorbar\":{\"outlinewidth\":0,\"ticks\":\"\"},\"colorscale\":[[0.0,\"#0d0887\"],[0.1111111111111111,\"#46039f\"],[0.2222222222222222,\"#7201a8\"],[0.3333333333333333,\"#9c179e\"],[0.4444444444444444,\"#bd3786\"],[0.5555555555555556,\"#d8576b\"],[0.6666666666666666,\"#ed7953\"],[0.7777777777777778,\"#fb9f3a\"],[0.8888888888888888,\"#fdca26\"],[1.0,\"#f0f921\"]],\"type\":\"histogram2dcontour\"}],\"mesh3d\":[{\"colorbar\":{\"outlinewidth\":0,\"ticks\":\"\"},\"type\":\"mesh3d\"}],\"parcoords\":[{\"line\":{\"colorbar\":{\"outlinewidth\":0,\"ticks\":\"\"}},\"type\":\"parcoords\"}],\"pie\":[{\"automargin\":true,\"type\":\"pie\"}],\"scatter\":[{\"marker\":{\"colorbar\":{\"outlinewidth\":0,\"ticks\":\"\"}},\"type\":\"scatter\"}],\"scatter3d\":[{\"line\":{\"colorbar\":{\"outlinewidth\":0,\"ticks\":\"\"}},\"marker\":{\"colorbar\":{\"outlinewidth\":0,\"ticks\":\"\"}},\"type\":\"scatter3d\"}],\"scattercarpet\":[{\"marker\":{\"colorbar\":{\"outlinewidth\":0,\"ticks\":\"\"}},\"type\":\"scattercarpet\"}],\"scattergeo\":[{\"marker\":{\"colorbar\":{\"outlinewidth\":0,\"ticks\":\"\"}},\"type\":\"scattergeo\"}],\"scattergl\":[{\"marker\":{\"colorbar\":{\"outlinewidth\":0,\"ticks\":\"\"}},\"type\":\"scattergl\"}],\"scattermapbox\":[{\"marker\":{\"colorbar\":{\"outlinewidth\":0,\"ticks\":\"\"}},\"type\":\"scattermapbox\"}],\"scatterpolar\":[{\"marker\":{\"colorbar\":{\"outlinewidth\":0,\"ticks\":\"\"}},\"type\":\"scatterpolar\"}],\"scatterpolargl\":[{\"marker\":{\"colorbar\":{\"outlinewidth\":0,\"ticks\":\"\"}},\"type\":\"scatterpolargl\"}],\"scatterternary\":[{\"marker\":{\"colorbar\":{\"outlinewidth\":0,\"ticks\":\"\"}},\"type\":\"scatterternary\"}],\"surface\":[{\"colorbar\":{\"outlinewidth\":0,\"ticks\":\"\"},\"colorscale\":[[0.0,\"#0d0887\"],[0.1111111111111111,\"#46039f\"],[0.2222222222222222,\"#7201a8\"],[0.3333333333333333,\"#9c179e\"],[0.4444444444444444,\"#bd3786\"],[0.5555555555555556,\"#d8576b\"],[0.6666666666666666,\"#ed7953\"],[0.7777777777777778,\"#fb9f3a\"],[0.8888888888888888,\"#fdca26\"],[1.0,\"#f0f921\"]],\"type\":\"surface\"}],\"table\":[{\"cells\":{\"fill\":{\"color\":\"#EBF0F8\"},\"line\":{\"color\":\"white\"}},\"header\":{\"fill\":{\"color\":\"#C8D4E3\"},\"line\":{\"color\":\"white\"}},\"type\":\"table\"}]},\"layout\":{\"annotationdefaults\":{\"arrowcolor\":\"#2a3f5f\",\"arrowhead\":0,\"arrowwidth\":1},\"autotypenumbers\":\"strict\",\"coloraxis\":{\"colorbar\":{\"outlinewidth\":0,\"ticks\":\"\"}},\"colorscale\":{\"diverging\":[[0,\"#8e0152\"],[0.1,\"#c51b7d\"],[0.2,\"#de77ae\"],[0.3,\"#f1b6da\"],[0.4,\"#fde0ef\"],[0.5,\"#f7f7f7\"],[0.6,\"#e6f5d0\"],[0.7,\"#b8e186\"],[0.8,\"#7fbc41\"],[0.9,\"#4d9221\"],[1,\"#276419\"]],\"sequential\":[[0.0,\"#0d0887\"],[0.1111111111111111,\"#46039f\"],[0.2222222222222222,\"#7201a8\"],[0.3333333333333333,\"#9c179e\"],[0.4444444444444444,\"#bd3786\"],[0.5555555555555556,\"#d8576b\"],[0.6666666666666666,\"#ed7953\"],[0.7777777777777778,\"#fb9f3a\"],[0.8888888888888888,\"#fdca26\"],[1.0,\"#f0f921\"]],\"sequentialminus\":[[0.0,\"#0d0887\"],[0.1111111111111111,\"#46039f\"],[0.2222222222222222,\"#7201a8\"],[0.3333333333333333,\"#9c179e\"],[0.4444444444444444,\"#bd3786\"],[0.5555555555555556,\"#d8576b\"],[0.6666666666666666,\"#ed7953\"],[0.7777777777777778,\"#fb9f3a\"],[0.8888888888888888,\"#fdca26\"],[1.0,\"#f0f921\"]]},\"colorway\":[\"#636efa\",\"#EF553B\",\"#00cc96\",\"#ab63fa\",\"#FFA15A\",\"#19d3f3\",\"#FF6692\",\"#B6E880\",\"#FF97FF\",\"#FECB52\"],\"font\":{\"color\":\"#2a3f5f\"},\"geo\":{\"bgcolor\":\"white\",\"lakecolor\":\"white\",\"landcolor\":\"#E5ECF6\",\"showlakes\":true,\"showland\":true,\"subunitcolor\":\"white\"},\"hoverlabel\":{\"align\":\"left\"},\"hovermode\":\"closest\",\"mapbox\":{\"style\":\"light\"},\"paper_bgcolor\":\"white\",\"plot_bgcolor\":\"#E5ECF6\",\"polar\":{\"angularaxis\":{\"gridcolor\":\"white\",\"linecolor\":\"white\",\"ticks\":\"\"},\"bgcolor\":\"#E5ECF6\",\"radialaxis\":{\"gridcolor\":\"white\",\"linecolor\":\"white\",\"ticks\":\"\"}},\"scene\":{\"xaxis\":{\"backgroundcolor\":\"#E5ECF6\",\"gridcolor\":\"white\",\"gridwidth\":2,\"linecolor\":\"white\",\"showbackground\":true,\"ticks\":\"\",\"zerolinecolor\":\"white\"},\"yaxis\":{\"backgroundcolor\":\"#E5ECF6\",\"gridcolor\":\"white\",\"gridwidth\":2,\"linecolor\":\"white\",\"showbackground\":true,\"ticks\":\"\",\"zerolinecolor\":\"white\"},\"zaxis\":{\"backgroundcolor\":\"#E5ECF6\",\"gridcolor\":\"white\",\"gridwidth\":2,\"linecolor\":\"white\",\"showbackground\":true,\"ticks\":\"\",\"zerolinecolor\":\"white\"}},\"shapedefaults\":{\"line\":{\"color\":\"#2a3f5f\"}},\"ternary\":{\"aaxis\":{\"gridcolor\":\"white\",\"linecolor\":\"white\",\"ticks\":\"\"},\"baxis\":{\"gridcolor\":\"white\",\"linecolor\":\"white\",\"ticks\":\"\"},\"bgcolor\":\"#E5ECF6\",\"caxis\":{\"gridcolor\":\"white\",\"linecolor\":\"white\",\"ticks\":\"\"}},\"title\":{\"x\":0.05},\"xaxis\":{\"automargin\":true,\"gridcolor\":\"white\",\"linecolor\":\"white\",\"ticks\":\"\",\"title\":{\"standoff\":15},\"zerolinecolor\":\"white\",\"zerolinewidth\":2},\"yaxis\":{\"automargin\":true,\"gridcolor\":\"white\",\"linecolor\":\"white\",\"ticks\":\"\",\"title\":{\"standoff\":15},\"zerolinecolor\":\"white\",\"zerolinewidth\":2}}}},                        {\"responsive\": true}                    ).then(function(){\n",
       "                            \n",
       "var gd = document.getElementById('0836135a-8ec7-48b7-9657-0d7c6e72e0ab');\n",
       "var x = new MutationObserver(function (mutations, observer) {{\n",
       "        var display = window.getComputedStyle(gd).display;\n",
       "        if (!display || display === 'none') {{\n",
       "            console.log([gd, 'removed!']);\n",
       "            Plotly.purge(gd);\n",
       "            observer.disconnect();\n",
       "        }}\n",
       "}});\n",
       "\n",
       "// Listen for the removal of the full notebook cells\n",
       "var notebookContainer = gd.closest('#notebook-container');\n",
       "if (notebookContainer) {{\n",
       "    x.observe(notebookContainer, {childList: true});\n",
       "}}\n",
       "\n",
       "// Listen for the clearing of the current output cell\n",
       "var outputEl = gd.closest('.output');\n",
       "if (outputEl) {{\n",
       "    x.observe(outputEl, {childList: true});\n",
       "}}\n",
       "\n",
       "                        })                };                });            </script>        </div>"
      ]
     },
     "metadata": {},
     "output_type": "display_data"
    }
   ],
   "source": [
    "cell_colors = ['#F4F4F4', '#F4F4F4']\n",
    "delta_colors = []\n",
    "delta_text = []\n",
    "\n",
    "for i in range(0, len(data_f)):\n",
    "    delta_i = ldata_f.TotalFailed.iloc[i] - data_f.TotalFailed.iloc[i]\n",
    "    if delta_i < 0:\n",
    "        delta_colors.append('#FFBAAB')\n",
    "        delta_text.append(str(abs(delta_i)) + ' more failures' if delta_i < -1 else str(abs(delta_i)) + ' more failure')\n",
    "    elif delta_i == 0:\n",
    "        delta_colors.append(\"#F4F4F4\")\n",
    "        delta_text.append(\"No Change\")\n",
    "    else:\n",
    "        delta_colors.append('#8BE9A3')\n",
    "        delta_text.append(str(delta_i) + ' less  failures' if delta_i > 1 else str(delta_i) + ' less failure')\n",
    "cell_colors.append(delta_colors)\n",
    "\n",
    "fig_total_fails = go.Figure(data=[go.Table(\n",
    "    header=dict(values = ['Component', f'Failed in {current_build}', f'Delta from {weekly_builds[1][1]}'], fill_color='maroon', line_color='lightgray', font=dict(color='white')),\n",
    "    cells=dict(values = [data_f.component, data_f.TotalFailed, delta_text], fill_color=cell_colors, line_color='lightgray')\n",
    ")])\n",
    "\n",
    "fig_total_fails.update_layout(height=1000)\n",
    "\n",
    "query_last_weekly_build = f'SELECT raw `build` FROM server WHERE `build` <= $version GROUP BY `build` HAVING sum(totalCount) > 10000 ORDER BY `build` DESC LIMIT 2'\n",
    "result = run_query(query=query_last_weekly_build, param={'$version': f'\"{release}-{current_build}\"'})\n",
    "weekly_builds = result['results']\n",
    "\n",
    "fig_total_fails.show()"
   ]
  },
  {
   "cell_type": "code",
   "execution_count": null,
   "id": "1d34ea51-df36-4c7d-8a82-71699dfe1e62",
   "metadata": {},
   "outputs": [],
   "source": []
  },
  {
   "cell_type": "code",
   "execution_count": null,
   "id": "5ab6ac5d-0606-4f1d-8f1d-0c8714e5362b",
   "metadata": {},
   "outputs": [],
   "source": []
  },
  {
   "cell_type": "code",
   "execution_count": null,
   "id": "9a82eb64-12e1-48d0-b9f4-46ef55d2ebb4",
   "metadata": {},
   "outputs": [],
   "source": []
  }
 ],
 "metadata": {
  "kernelspec": {
   "display_name": "Python 3",
   "language": "python",
   "name": "python3"
  },
  "language_info": {
   "codemirror_mode": {
    "name": "ipython",
    "version": 3
   },
   "file_extension": ".py",
   "mimetype": "text/x-python",
   "name": "python",
   "nbconvert_exporter": "python",
   "pygments_lexer": "ipython3",
   "version": "3.6.8"
  }
 },
 "nbformat": 4,
 "nbformat_minor": 5
}
