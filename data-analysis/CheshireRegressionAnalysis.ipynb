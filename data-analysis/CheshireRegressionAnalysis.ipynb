{
 "cells": [
  {
   "cell_type": "markdown",
   "id": "6cc55d62-fd01-4226-8dc2-85663a42b37a",
   "metadata": {},
   "source": [
    "# Regression Analysis"
   ]
  },
  {
   "cell_type": "markdown",
   "id": "960b86fd-87b6-4df4-95f9-f1dc02186dd1",
   "metadata": {},
   "source": [
    "You can specify a build number in the **current_build** variable to generate a report for a specific build version, otherwise it will default to the most recent 7.0.1 build."
   ]
  },
  {
   "cell_type": "code",
   "execution_count": 45,
   "id": "026e0f13",
   "metadata": {
    "tags": []
   },
   "outputs": [],
   "source": [
    "release=\"7.0.1\"\n",
    "current_build=\"\""
   ]
  },
  {
   "cell_type": "code",
   "execution_count": 46,
   "id": "b511cfec",
   "metadata": {
    "jupyter": {
     "source_hidden": true
    },
    "tags": [
     "hide_input"
    ]
   },
   "outputs": [],
   "source": [
    "import requests\n",
    "import json\n",
    "\n",
    "import math\n",
    "import pandas as pd\n",
    "import plotly.express as px\n",
    "import plotly.graph_objects as go\n",
    "import plotly\n",
    "from plotly.offline import *\n",
    "from plotly.subplots import make_subplots"
   ]
  },
  {
   "cell_type": "code",
   "execution_count": 47,
   "id": "4c34ee73",
   "metadata": {
    "jupyter": {
     "source_hidden": true
    },
    "tags": [
     "hide_input"
    ]
   },
   "outputs": [],
   "source": [
    "def run_query(query, host=\"172.23.99.54\", port=8093, username=\"Administrator\", password=\"password\", param=None):\n",
    "    url_base = f\"http://{host}:{port}/query/service\"\n",
    "    params = {'statement': query, 'scan_consistency': 'REQUEST_PLUS'}\n",
    "    if param:\n",
    "        params.update(param)\n",
    "    response = requests.get(url=url_base, params=params, auth = requests.auth.HTTPBasicAuth(username, password))\n",
    "    return response.json()"
   ]
  },
  {
   "cell_type": "code",
   "execution_count": 48,
   "id": "f58af0b3-8274-41ac-89f3-a54365595fce",
   "metadata": {
    "jupyter": {
     "source_hidden": true
    },
    "tags": []
   },
   "outputs": [],
   "source": [
    "if type(current_build) != type(\"\") or len(str(current_build)) != 4:\n",
    "    query_current_weekly_build = f'SELECT raw `build` FROM server WHERE `build` < \"{release}.\" GROUP BY `build` HAVING sum(totalCount) > 10000 ORDER BY `build` DESC LIMIT 1'\n",
    "    current_result = run_query(query=query_current_weekly_build, param={'$version': f'\"{release}-0000\"'})\n",
    "    current_build = current_result['results'][0].split(\"-\", 1)[1]"
   ]
  },
  {
   "cell_type": "code",
   "execution_count": 49,
   "id": "72654998",
   "metadata": {
    "jupyter": {
     "source_hidden": true
    },
    "tags": [
     "hide_input"
    ]
   },
   "outputs": [],
   "source": [
    "query_last_weekly_build = f'SELECT raw `build` FROM server WHERE `build` <= $version AND `build` > \"{release}\" GROUP BY `build` HAVING sum(totalCount) > 10000 ORDER BY `build` DESC LIMIT 2'\n",
    "result = run_query(query=query_last_weekly_build, param={'$version': f'\"{release}-{current_build}\"'})\n",
    "weekly_builds = result['results']"
   ]
  },
  {
   "cell_type": "markdown",
   "id": "abc52a3f-f507-497c-bc98-2213fbea2f4a",
   "metadata": {},
   "source": [
    "## Top 25 Jobs with the Most Failures"
   ]
  },
  {
   "cell_type": "code",
   "execution_count": 50,
   "id": "373a7457-0e24-415e-aeb1-027220008c2d",
   "metadata": {
    "jupyter": {
     "source_hidden": true
    },
    "tags": [
     "hide_input"
    ]
   },
   "outputs": [],
   "source": [
    "owners = {\n",
    "    \"analytics\":\"bob1\",\n",
    "    \"backup\":\"bob2\",\n",
    "    \"nserv\":\"bob3\",\n",
    "    \"durability\":\"bob4\",\n",
    "    \"security\":\"bob5\",\n",
    "    \"obj\":\"bob6\",\n",
    "    \"p0\":\"bob7\",\n",
    "    \"xdcr\":\"bob8\",\n",
    "    \"P0\":\"bob9\",\n",
    "    \"2i\":\"bob10\",\n",
    "    \"transaction\":\"bob11\",\n",
    "    \"ephemeral\":\"bob12\",\n",
    "    \"query\":\"bob13\",\n",
    "    \"fts\":\"bob15\",\n",
    "    \"tools\":\"bob16\",\n",
    "    \"ce\":\"bob17\",\n",
    "    \"eventing\":\"bob18\",\n",
    "    \"n1ql\":\"bob19\",\n",
    "    \"nsserver\":\"bob20\",\n",
    "    \"upgrade\":\"bob21\",\n",
    "    \"nutshell\":\"bob22\",\n",
    "    \"plasma\":\"bob23\",\n",
    "    \"lcb\":\"bob24\",\n",
    "    \"sync\":\"bob25\",\n",
    "    \"geo\":\"bob26\",\n",
    "    \"epeng\":\"bob27\",\n",
    "    \"bkrs\":\"bob28\",\n",
    "    \"ent\":\"bob29\"\n",
    "}"
   ]
  },
  {
   "cell_type": "code",
   "execution_count": 51,
   "id": "ef87c48e",
   "metadata": {
    "jupyter": {
     "source_hidden": true
    },
    "tags": [
     "hide_input"
    ]
   },
   "outputs": [
    {
     "data": {
      "application/vnd.plotly.v1+json": {
       "config": {
        "plotlyServerURL": "https://plot.ly"
       },
       "data": [
        {
         "cells": {
          "align": [
           "left",
           "center",
           "center",
           "center",
           "center"
          ],
          "fill": {
           "color": "#F4F4F4"
          },
          "font": {
           "size": 11
          },
          "line": {
           "color": "lightgray"
          },
          "values": [
           [
            "<a href=\"http://uberjenkins.sc.couchbase.com:8080/job/cen7-sync-gateway-functional-tests-xattrs-userViews-ServerSsl/373\"target=\"_blank\">cen7-sync-gateway-functional-tests-xattrs-userViews-ServerSsl</a>",
            "<a href=\"http://qa.sc.couchbase.com/job/test_suite_executor-TAF/127984\"target=\"_blank\">centos-transaction_steady_state_durability_majority_6.5_P0</a>",
            "<a href=\"http://qa.sc.couchbase.com/job/test_suite_executor-TAF/127985\"target=\"_blank\">centos-transaction_multi_bucket_durability_majority_6.5_P0</a>",
            "<a href=\"http://qa.sc.couchbase.com/job/test_suite_executor-TAF/127986\"target=\"_blank\">centos-transaction_multi_bucket_durability_majority_6.5_P0_Set1</a>",
            "<a href=\"http://qa.sc.couchbase.com/job/test_suite_executor-TAF/127994\"target=\"_blank\">centos-transaction_multi_bucket_durability_majority_defer_6.5_P0_Set1</a>",
            "<a href=\"http://qa.sc.couchbase.com/job/test_suite_executor-TAF/127979\"target=\"_blank\">centos-transaction_doc_isolation_durability_majority_6.6_P0</a>",
            "<a href=\"http://qa.sc.couchbase.com/job/test_suite_executor-TAF/127975\"target=\"_blank\">centos-analytics_analytics_collection_failover_7.0_P0</a>",
            "<a href=\"http://qa.sc.couchbase.com/job/test_suite_executor-TAF/127969\"target=\"_blank\">centos-transaction_steady_state_diff_doc_size_durability_majority_6.5_P0</a>",
            "<a href=\"http://qa.sc.couchbase.com/job/test_suite_executor-TAF/127971\"target=\"_blank\">centos-analytics_analytics_collection_backup_restore_7.0_P1</a>",
            "<a href=\"http://qa.sc.couchbase.com/job/test_suite_executor-jython/18461\"target=\"_blank\">centos-analytics_cbas_upgrade_6.0.1_6.5.0</a>",
            "<a href=\"http://qa.sc.couchbase.com/job/cen006-nserv-autofailover-firewall/575\"target=\"_blank\">cen006-nserv-autofailover-firewall</a>",
            "<a href=\"http://qa.sc.couchbase.com/job/test_suite_executor-TAF/127991\"target=\"_blank\">centos-analytics_analytics_collection_rebalance_7.0_P0</a>",
            "<a href=\"http://qa.sc.couchbase.com/job/test_suite_executor-TAF/127970\"target=\"_blank\">centos-analytics_analytics_collection_backup_restore_7.0_P0</a>",
            "<a href=\"http://qa.sc.couchbase.com/job/test_suite_executor/365733\"target=\"_blank\">centos-upgrade_ce_ee-new-from-60x_1a</a>",
            "<a href=\"http://qa.sc.couchbase.com/job/test_suite_executor-TAF/127922\"target=\"_blank\">centos-durability_steady_state_subdoc_xattr_6.5_P0_majority</a>",
            "<a href=\"http://qa.sc.couchbase.com/job/test_suite_executor/365735\"target=\"_blank\">centos-upgrade_old-from-550</a>",
            "<a href=\"http://qa.sc.couchbase.com/job/test_suite_executor/365517\"target=\"_blank\">centos-query_scalars_6.5_P1</a>",
            "<a href=\"http://qa.sc.couchbase.com/job/test_suite_executor-TAF/127998\"target=\"_blank\">centos-analytics_analytics_collection_rebalance_7.0_P2</a>",
            "<a href=\"http://qa.sc.couchbase.com/job/test_suite_executor-TAF/127992\"target=\"_blank\">centos-analytics_analytics_collection_rebalance_7.0_P1</a>",
            "<a href=\"http://qa.sc.couchbase.com/job/cen006-nserv-autofailover-buckets/601\"target=\"_blank\">cen006-nserv-autofailover-buckets</a>",
            "<a href=\"http://qa.sc.couchbase.com/job/test_suite_executor-TAF/127919\"target=\"_blank\">centos-durability_steady_state_subdoc_6.5_P0_majority</a>",
            "<a href=\"http://qa.sc.couchbase.com/job/test_suite_executor/365516\"target=\"_blank\">centos-query_statistics_7.0_P1</a>",
            "<a href=\"http://qa.sc.couchbase.com/job/test_suite_executor/365469\"target=\"_blank\">centos-query_ansi_merge_6.5_P1</a>",
            "<a href=\"http://qa.sc.couchbase.com/job/test_suite_executor-TAF/127972\"target=\"_blank\">centos-transaction_steady_state_durability_majority_defer_6.5_P0</a>",
            "<a href=\"http://qa.sc.couchbase.com/job/test_suite_executor-TAF/127981\"target=\"_blank\">centos-analytics_analytics_collection_failover_7.0_P2</a>"
           ],
           [
            327,
            39,
            25,
            24,
            24,
            18,
            18,
            18,
            18,
            17,
            17,
            17,
            16,
            14,
            14,
            10,
            9,
            8,
            8,
            8,
            8,
            8,
            7,
            6,
            6
           ],
           [
            "MOBILE",
            "DURABILITY",
            "DURABILITY",
            "DURABILITY",
            "DURABILITY",
            "DURABILITY",
            "ANALYTICS",
            "DURABILITY",
            "ANALYTICS",
            "ANALYTICS",
            "AUTO_FAILOVER",
            "ANALYTICS",
            "ANALYTICS",
            "UPGRADE",
            "DURABILITY",
            "UPGRADE",
            "QUERY",
            "ANALYTICS",
            "ANALYTICS",
            "AUTO_FAILOVER",
            "DURABILITY",
            "QUERY",
            "QUERY",
            "DURABILITY",
            "ANALYTICS"
           ],
           [
            "sync",
            "transaction",
            "transaction",
            "transaction",
            "transaction",
            "transaction",
            "analytics",
            "transaction",
            "analytics",
            "analytics",
            "nserv",
            "analytics",
            "analytics",
            "upgrade",
            "durability",
            "upgrade",
            "query",
            "analytics",
            "analytics",
            "nserv",
            "durability",
            "query",
            "query",
            "transaction",
            "analytics"
           ],
           [
            "bob25",
            "bob11",
            "bob11",
            "bob11",
            "bob11",
            "bob11",
            "bob1",
            "bob11",
            "bob1",
            "bob1",
            "bob3",
            "bob1",
            "bob1",
            "bob21",
            "bob4",
            "bob21",
            "bob13",
            "bob1",
            "bob1",
            "bob3",
            "bob4",
            "bob13",
            "bob13",
            "bob11",
            "bob1"
           ]
          ]
         },
         "columnwidth": [
          0.5,
          0.1,
          0.3,
          0.2,
          0.2
         ],
         "header": {
          "fill": {
           "color": "maroon"
          },
          "font": {
           "color": "white"
          },
          "line": {
           "color": "lightgray"
          },
          "values": [
           "Name",
           "Fails",
           "Component",
           "Area",
           "Owner"
          ]
         },
         "type": "table"
        }
       ],
       "layout": {
        "autosize": true,
        "template": {
         "data": {
          "bar": [
           {
            "error_x": {
             "color": "#2a3f5f"
            },
            "error_y": {
             "color": "#2a3f5f"
            },
            "marker": {
             "line": {
              "color": "#E5ECF6",
              "width": 0.5
             },
             "pattern": {
              "fillmode": "overlay",
              "size": 10,
              "solidity": 0.2
             }
            },
            "type": "bar"
           }
          ],
          "barpolar": [
           {
            "marker": {
             "line": {
              "color": "#E5ECF6",
              "width": 0.5
             },
             "pattern": {
              "fillmode": "overlay",
              "size": 10,
              "solidity": 0.2
             }
            },
            "type": "barpolar"
           }
          ],
          "carpet": [
           {
            "aaxis": {
             "endlinecolor": "#2a3f5f",
             "gridcolor": "white",
             "linecolor": "white",
             "minorgridcolor": "white",
             "startlinecolor": "#2a3f5f"
            },
            "baxis": {
             "endlinecolor": "#2a3f5f",
             "gridcolor": "white",
             "linecolor": "white",
             "minorgridcolor": "white",
             "startlinecolor": "#2a3f5f"
            },
            "type": "carpet"
           }
          ],
          "choropleth": [
           {
            "colorbar": {
             "outlinewidth": 0,
             "ticks": ""
            },
            "type": "choropleth"
           }
          ],
          "contour": [
           {
            "colorbar": {
             "outlinewidth": 0,
             "ticks": ""
            },
            "colorscale": [
             [
              0,
              "#0d0887"
             ],
             [
              0.1111111111111111,
              "#46039f"
             ],
             [
              0.2222222222222222,
              "#7201a8"
             ],
             [
              0.3333333333333333,
              "#9c179e"
             ],
             [
              0.4444444444444444,
              "#bd3786"
             ],
             [
              0.5555555555555556,
              "#d8576b"
             ],
             [
              0.6666666666666666,
              "#ed7953"
             ],
             [
              0.7777777777777778,
              "#fb9f3a"
             ],
             [
              0.8888888888888888,
              "#fdca26"
             ],
             [
              1,
              "#f0f921"
             ]
            ],
            "type": "contour"
           }
          ],
          "contourcarpet": [
           {
            "colorbar": {
             "outlinewidth": 0,
             "ticks": ""
            },
            "type": "contourcarpet"
           }
          ],
          "heatmap": [
           {
            "colorbar": {
             "outlinewidth": 0,
             "ticks": ""
            },
            "colorscale": [
             [
              0,
              "#0d0887"
             ],
             [
              0.1111111111111111,
              "#46039f"
             ],
             [
              0.2222222222222222,
              "#7201a8"
             ],
             [
              0.3333333333333333,
              "#9c179e"
             ],
             [
              0.4444444444444444,
              "#bd3786"
             ],
             [
              0.5555555555555556,
              "#d8576b"
             ],
             [
              0.6666666666666666,
              "#ed7953"
             ],
             [
              0.7777777777777778,
              "#fb9f3a"
             ],
             [
              0.8888888888888888,
              "#fdca26"
             ],
             [
              1,
              "#f0f921"
             ]
            ],
            "type": "heatmap"
           }
          ],
          "heatmapgl": [
           {
            "colorbar": {
             "outlinewidth": 0,
             "ticks": ""
            },
            "colorscale": [
             [
              0,
              "#0d0887"
             ],
             [
              0.1111111111111111,
              "#46039f"
             ],
             [
              0.2222222222222222,
              "#7201a8"
             ],
             [
              0.3333333333333333,
              "#9c179e"
             ],
             [
              0.4444444444444444,
              "#bd3786"
             ],
             [
              0.5555555555555556,
              "#d8576b"
             ],
             [
              0.6666666666666666,
              "#ed7953"
             ],
             [
              0.7777777777777778,
              "#fb9f3a"
             ],
             [
              0.8888888888888888,
              "#fdca26"
             ],
             [
              1,
              "#f0f921"
             ]
            ],
            "type": "heatmapgl"
           }
          ],
          "histogram": [
           {
            "marker": {
             "pattern": {
              "fillmode": "overlay",
              "size": 10,
              "solidity": 0.2
             }
            },
            "type": "histogram"
           }
          ],
          "histogram2d": [
           {
            "colorbar": {
             "outlinewidth": 0,
             "ticks": ""
            },
            "colorscale": [
             [
              0,
              "#0d0887"
             ],
             [
              0.1111111111111111,
              "#46039f"
             ],
             [
              0.2222222222222222,
              "#7201a8"
             ],
             [
              0.3333333333333333,
              "#9c179e"
             ],
             [
              0.4444444444444444,
              "#bd3786"
             ],
             [
              0.5555555555555556,
              "#d8576b"
             ],
             [
              0.6666666666666666,
              "#ed7953"
             ],
             [
              0.7777777777777778,
              "#fb9f3a"
             ],
             [
              0.8888888888888888,
              "#fdca26"
             ],
             [
              1,
              "#f0f921"
             ]
            ],
            "type": "histogram2d"
           }
          ],
          "histogram2dcontour": [
           {
            "colorbar": {
             "outlinewidth": 0,
             "ticks": ""
            },
            "colorscale": [
             [
              0,
              "#0d0887"
             ],
             [
              0.1111111111111111,
              "#46039f"
             ],
             [
              0.2222222222222222,
              "#7201a8"
             ],
             [
              0.3333333333333333,
              "#9c179e"
             ],
             [
              0.4444444444444444,
              "#bd3786"
             ],
             [
              0.5555555555555556,
              "#d8576b"
             ],
             [
              0.6666666666666666,
              "#ed7953"
             ],
             [
              0.7777777777777778,
              "#fb9f3a"
             ],
             [
              0.8888888888888888,
              "#fdca26"
             ],
             [
              1,
              "#f0f921"
             ]
            ],
            "type": "histogram2dcontour"
           }
          ],
          "mesh3d": [
           {
            "colorbar": {
             "outlinewidth": 0,
             "ticks": ""
            },
            "type": "mesh3d"
           }
          ],
          "parcoords": [
           {
            "line": {
             "colorbar": {
              "outlinewidth": 0,
              "ticks": ""
             }
            },
            "type": "parcoords"
           }
          ],
          "pie": [
           {
            "automargin": true,
            "type": "pie"
           }
          ],
          "scatter": [
           {
            "marker": {
             "colorbar": {
              "outlinewidth": 0,
              "ticks": ""
             }
            },
            "type": "scatter"
           }
          ],
          "scatter3d": [
           {
            "line": {
             "colorbar": {
              "outlinewidth": 0,
              "ticks": ""
             }
            },
            "marker": {
             "colorbar": {
              "outlinewidth": 0,
              "ticks": ""
             }
            },
            "type": "scatter3d"
           }
          ],
          "scattercarpet": [
           {
            "marker": {
             "colorbar": {
              "outlinewidth": 0,
              "ticks": ""
             }
            },
            "type": "scattercarpet"
           }
          ],
          "scattergeo": [
           {
            "marker": {
             "colorbar": {
              "outlinewidth": 0,
              "ticks": ""
             }
            },
            "type": "scattergeo"
           }
          ],
          "scattergl": [
           {
            "marker": {
             "colorbar": {
              "outlinewidth": 0,
              "ticks": ""
             }
            },
            "type": "scattergl"
           }
          ],
          "scattermapbox": [
           {
            "marker": {
             "colorbar": {
              "outlinewidth": 0,
              "ticks": ""
             }
            },
            "type": "scattermapbox"
           }
          ],
          "scatterpolar": [
           {
            "marker": {
             "colorbar": {
              "outlinewidth": 0,
              "ticks": ""
             }
            },
            "type": "scatterpolar"
           }
          ],
          "scatterpolargl": [
           {
            "marker": {
             "colorbar": {
              "outlinewidth": 0,
              "ticks": ""
             }
            },
            "type": "scatterpolargl"
           }
          ],
          "scatterternary": [
           {
            "marker": {
             "colorbar": {
              "outlinewidth": 0,
              "ticks": ""
             }
            },
            "type": "scatterternary"
           }
          ],
          "surface": [
           {
            "colorbar": {
             "outlinewidth": 0,
             "ticks": ""
            },
            "colorscale": [
             [
              0,
              "#0d0887"
             ],
             [
              0.1111111111111111,
              "#46039f"
             ],
             [
              0.2222222222222222,
              "#7201a8"
             ],
             [
              0.3333333333333333,
              "#9c179e"
             ],
             [
              0.4444444444444444,
              "#bd3786"
             ],
             [
              0.5555555555555556,
              "#d8576b"
             ],
             [
              0.6666666666666666,
              "#ed7953"
             ],
             [
              0.7777777777777778,
              "#fb9f3a"
             ],
             [
              0.8888888888888888,
              "#fdca26"
             ],
             [
              1,
              "#f0f921"
             ]
            ],
            "type": "surface"
           }
          ],
          "table": [
           {
            "cells": {
             "fill": {
              "color": "#EBF0F8"
             },
             "line": {
              "color": "white"
             }
            },
            "header": {
             "fill": {
              "color": "#C8D4E3"
             },
             "line": {
              "color": "white"
             }
            },
            "type": "table"
           }
          ]
         },
         "layout": {
          "annotationdefaults": {
           "arrowcolor": "#2a3f5f",
           "arrowhead": 0,
           "arrowwidth": 1
          },
          "autotypenumbers": "strict",
          "coloraxis": {
           "colorbar": {
            "outlinewidth": 0,
            "ticks": ""
           }
          },
          "colorscale": {
           "diverging": [
            [
             0,
             "#8e0152"
            ],
            [
             0.1,
             "#c51b7d"
            ],
            [
             0.2,
             "#de77ae"
            ],
            [
             0.3,
             "#f1b6da"
            ],
            [
             0.4,
             "#fde0ef"
            ],
            [
             0.5,
             "#f7f7f7"
            ],
            [
             0.6,
             "#e6f5d0"
            ],
            [
             0.7,
             "#b8e186"
            ],
            [
             0.8,
             "#7fbc41"
            ],
            [
             0.9,
             "#4d9221"
            ],
            [
             1,
             "#276419"
            ]
           ],
           "sequential": [
            [
             0,
             "#0d0887"
            ],
            [
             0.1111111111111111,
             "#46039f"
            ],
            [
             0.2222222222222222,
             "#7201a8"
            ],
            [
             0.3333333333333333,
             "#9c179e"
            ],
            [
             0.4444444444444444,
             "#bd3786"
            ],
            [
             0.5555555555555556,
             "#d8576b"
            ],
            [
             0.6666666666666666,
             "#ed7953"
            ],
            [
             0.7777777777777778,
             "#fb9f3a"
            ],
            [
             0.8888888888888888,
             "#fdca26"
            ],
            [
             1,
             "#f0f921"
            ]
           ],
           "sequentialminus": [
            [
             0,
             "#0d0887"
            ],
            [
             0.1111111111111111,
             "#46039f"
            ],
            [
             0.2222222222222222,
             "#7201a8"
            ],
            [
             0.3333333333333333,
             "#9c179e"
            ],
            [
             0.4444444444444444,
             "#bd3786"
            ],
            [
             0.5555555555555556,
             "#d8576b"
            ],
            [
             0.6666666666666666,
             "#ed7953"
            ],
            [
             0.7777777777777778,
             "#fb9f3a"
            ],
            [
             0.8888888888888888,
             "#fdca26"
            ],
            [
             1,
             "#f0f921"
            ]
           ]
          },
          "colorway": [
           "#636efa",
           "#EF553B",
           "#00cc96",
           "#ab63fa",
           "#FFA15A",
           "#19d3f3",
           "#FF6692",
           "#B6E880",
           "#FF97FF",
           "#FECB52"
          ],
          "font": {
           "color": "#2a3f5f"
          },
          "geo": {
           "bgcolor": "white",
           "lakecolor": "white",
           "landcolor": "#E5ECF6",
           "showlakes": true,
           "showland": true,
           "subunitcolor": "white"
          },
          "hoverlabel": {
           "align": "left"
          },
          "hovermode": "closest",
          "mapbox": {
           "style": "light"
          },
          "paper_bgcolor": "white",
          "plot_bgcolor": "#E5ECF6",
          "polar": {
           "angularaxis": {
            "gridcolor": "white",
            "linecolor": "white",
            "ticks": ""
           },
           "bgcolor": "#E5ECF6",
           "radialaxis": {
            "gridcolor": "white",
            "linecolor": "white",
            "ticks": ""
           }
          },
          "scene": {
           "xaxis": {
            "backgroundcolor": "#E5ECF6",
            "gridcolor": "white",
            "gridwidth": 2,
            "linecolor": "white",
            "showbackground": true,
            "ticks": "",
            "zerolinecolor": "white"
           },
           "yaxis": {
            "backgroundcolor": "#E5ECF6",
            "gridcolor": "white",
            "gridwidth": 2,
            "linecolor": "white",
            "showbackground": true,
            "ticks": "",
            "zerolinecolor": "white"
           },
           "zaxis": {
            "backgroundcolor": "#E5ECF6",
            "gridcolor": "white",
            "gridwidth": 2,
            "linecolor": "white",
            "showbackground": true,
            "ticks": "",
            "zerolinecolor": "white"
           }
          },
          "shapedefaults": {
           "line": {
            "color": "#2a3f5f"
           }
          },
          "ternary": {
           "aaxis": {
            "gridcolor": "white",
            "linecolor": "white",
            "ticks": ""
           },
           "baxis": {
            "gridcolor": "white",
            "linecolor": "white",
            "ticks": ""
           },
           "bgcolor": "#E5ECF6",
           "caxis": {
            "gridcolor": "white",
            "linecolor": "white",
            "ticks": ""
           }
          },
          "title": {
           "x": 0.05
          },
          "xaxis": {
           "automargin": true,
           "gridcolor": "white",
           "linecolor": "white",
           "ticks": "",
           "title": {
            "standoff": 15
           },
           "zerolinecolor": "white",
           "zerolinewidth": 2
          },
          "yaxis": {
           "automargin": true,
           "gridcolor": "white",
           "linecolor": "white",
           "ticks": "",
           "title": {
            "standoff": 15
           },
           "zerolinecolor": "white",
           "zerolinewidth": 2
          }
         }
        }
       }
      },
      "image/png": "[encoded data removed]",
      "text/html": [
       "<div>                            <div id=\"8b7e32a2-4f6b-4d92-a392-dd34845c6781\" class=\"plotly-graph-div\" style=\"height:1000px; width:100%;\"></div>            <script type=\"text/javascript\">                require([\"plotly\"], function(Plotly) {                    window.PLOTLYENV=window.PLOTLYENV || {};                                    if (document.getElementById(\"8b7e32a2-4f6b-4d92-a392-dd34845c6781\")) {                    Plotly.newPlot(                        \"8b7e32a2-4f6b-4d92-a392-dd34845c6781\",                        [{\"cells\":{\"align\":[\"left\",\"center\",\"center\",\"center\",\"center\"],\"fill\":{\"color\":\"#F4F4F4\"},\"font\":{\"size\":11},\"line\":{\"color\":\"lightgray\"},\"values\":[[\"<a href=\\\"http://uberjenkins.sc.couchbase.com:8080/job/cen7-sync-gateway-functional-tests-xattrs-userViews-ServerSsl/373\\\"target=\\\"_blank\\\">cen7-sync-gateway-functional-tests-xattrs-userViews-ServerSsl</a>\",\"<a href=\\\"http://qa.sc.couchbase.com/job/test_suite_executor-TAF/127984\\\"target=\\\"_blank\\\">centos-transaction_steady_state_durability_majority_6.5_P0</a>\",\"<a href=\\\"http://qa.sc.couchbase.com/job/test_suite_executor-TAF/127985\\\"target=\\\"_blank\\\">centos-transaction_multi_bucket_durability_majority_6.5_P0</a>\",\"<a href=\\\"http://qa.sc.couchbase.com/job/test_suite_executor-TAF/127986\\\"target=\\\"_blank\\\">centos-transaction_multi_bucket_durability_majority_6.5_P0_Set1</a>\",\"<a href=\\\"http://qa.sc.couchbase.com/job/test_suite_executor-TAF/127994\\\"target=\\\"_blank\\\">centos-transaction_multi_bucket_durability_majority_defer_6.5_P0_Set1</a>\",\"<a href=\\\"http://qa.sc.couchbase.com/job/test_suite_executor-TAF/127979\\\"target=\\\"_blank\\\">centos-transaction_doc_isolation_durability_majority_6.6_P0</a>\",\"<a href=\\\"http://qa.sc.couchbase.com/job/test_suite_executor-TAF/127975\\\"target=\\\"_blank\\\">centos-analytics_analytics_collection_failover_7.0_P0</a>\",\"<a href=\\\"http://qa.sc.couchbase.com/job/test_suite_executor-TAF/127969\\\"target=\\\"_blank\\\">centos-transaction_steady_state_diff_doc_size_durability_majority_6.5_P0</a>\",\"<a href=\\\"http://qa.sc.couchbase.com/job/test_suite_executor-TAF/127971\\\"target=\\\"_blank\\\">centos-analytics_analytics_collection_backup_restore_7.0_P1</a>\",\"<a href=\\\"http://qa.sc.couchbase.com/job/test_suite_executor-jython/18461\\\"target=\\\"_blank\\\">centos-analytics_cbas_upgrade_6.0.1_6.5.0</a>\",\"<a href=\\\"http://qa.sc.couchbase.com/job/cen006-nserv-autofailover-firewall/575\\\"target=\\\"_blank\\\">cen006-nserv-autofailover-firewall</a>\",\"<a href=\\\"http://qa.sc.couchbase.com/job/test_suite_executor-TAF/127991\\\"target=\\\"_blank\\\">centos-analytics_analytics_collection_rebalance_7.0_P0</a>\",\"<a href=\\\"http://qa.sc.couchbase.com/job/test_suite_executor-TAF/127970\\\"target=\\\"_blank\\\">centos-analytics_analytics_collection_backup_restore_7.0_P0</a>\",\"<a href=\\\"http://qa.sc.couchbase.com/job/test_suite_executor/365733\\\"target=\\\"_blank\\\">centos-upgrade_ce_ee-new-from-60x_1a</a>\",\"<a href=\\\"http://qa.sc.couchbase.com/job/test_suite_executor-TAF/127922\\\"target=\\\"_blank\\\">centos-durability_steady_state_subdoc_xattr_6.5_P0_majority</a>\",\"<a href=\\\"http://qa.sc.couchbase.com/job/test_suite_executor/365735\\\"target=\\\"_blank\\\">centos-upgrade_old-from-550</a>\",\"<a href=\\\"http://qa.sc.couchbase.com/job/test_suite_executor/365517\\\"target=\\\"_blank\\\">centos-query_scalars_6.5_P1</a>\",\"<a href=\\\"http://qa.sc.couchbase.com/job/test_suite_executor-TAF/127998\\\"target=\\\"_blank\\\">centos-analytics_analytics_collection_rebalance_7.0_P2</a>\",\"<a href=\\\"http://qa.sc.couchbase.com/job/test_suite_executor-TAF/127992\\\"target=\\\"_blank\\\">centos-analytics_analytics_collection_rebalance_7.0_P1</a>\",\"<a href=\\\"http://qa.sc.couchbase.com/job/cen006-nserv-autofailover-buckets/601\\\"target=\\\"_blank\\\">cen006-nserv-autofailover-buckets</a>\",\"<a href=\\\"http://qa.sc.couchbase.com/job/test_suite_executor-TAF/127919\\\"target=\\\"_blank\\\">centos-durability_steady_state_subdoc_6.5_P0_majority</a>\",\"<a href=\\\"http://qa.sc.couchbase.com/job/test_suite_executor/365516\\\"target=\\\"_blank\\\">centos-query_statistics_7.0_P1</a>\",\"<a href=\\\"http://qa.sc.couchbase.com/job/test_suite_executor/365469\\\"target=\\\"_blank\\\">centos-query_ansi_merge_6.5_P1</a>\",\"<a href=\\\"http://qa.sc.couchbase.com/job/test_suite_executor-TAF/127972\\\"target=\\\"_blank\\\">centos-transaction_steady_state_durability_majority_defer_6.5_P0</a>\",\"<a href=\\\"http://qa.sc.couchbase.com/job/test_suite_executor-TAF/127981\\\"target=\\\"_blank\\\">centos-analytics_analytics_collection_failover_7.0_P2</a>\"],[327,39,25,24,24,18,18,18,18,17,17,17,16,14,14,10,9,8,8,8,8,8,7,6,6],[\"MOBILE\",\"DURABILITY\",\"DURABILITY\",\"DURABILITY\",\"DURABILITY\",\"DURABILITY\",\"ANALYTICS\",\"DURABILITY\",\"ANALYTICS\",\"ANALYTICS\",\"AUTO_FAILOVER\",\"ANALYTICS\",\"ANALYTICS\",\"UPGRADE\",\"DURABILITY\",\"UPGRADE\",\"QUERY\",\"ANALYTICS\",\"ANALYTICS\",\"AUTO_FAILOVER\",\"DURABILITY\",\"QUERY\",\"QUERY\",\"DURABILITY\",\"ANALYTICS\"],[\"sync\",\"transaction\",\"transaction\",\"transaction\",\"transaction\",\"transaction\",\"analytics\",\"transaction\",\"analytics\",\"analytics\",\"nserv\",\"analytics\",\"analytics\",\"upgrade\",\"durability\",\"upgrade\",\"query\",\"analytics\",\"analytics\",\"nserv\",\"durability\",\"query\",\"query\",\"transaction\",\"analytics\"],[\"bob25\",\"bob11\",\"bob11\",\"bob11\",\"bob11\",\"bob11\",\"bob1\",\"bob11\",\"bob1\",\"bob1\",\"bob3\",\"bob1\",\"bob1\",\"bob21\",\"bob4\",\"bob21\",\"bob13\",\"bob1\",\"bob1\",\"bob3\",\"bob4\",\"bob13\",\"bob13\",\"bob11\",\"bob1\"]]},\"columnwidth\":[0.5,0.1,0.3,0.2,0.2],\"header\":{\"fill\":{\"color\":\"maroon\"},\"font\":{\"color\":\"white\"},\"line\":{\"color\":\"lightgray\"},\"values\":[\"Name\",\"Fails\",\"Component\",\"Area\",\"Owner\"]},\"type\":\"table\"}],                        {\"height\":1000,\"template\":{\"data\":{\"bar\":[{\"error_x\":{\"color\":\"#2a3f5f\"},\"error_y\":{\"color\":\"#2a3f5f\"},\"marker\":{\"line\":{\"color\":\"#E5ECF6\",\"width\":0.5},\"pattern\":{\"fillmode\":\"overlay\",\"size\":10,\"solidity\":0.2}},\"type\":\"bar\"}],\"barpolar\":[{\"marker\":{\"line\":{\"color\":\"#E5ECF6\",\"width\":0.5},\"pattern\":{\"fillmode\":\"overlay\",\"size\":10,\"solidity\":0.2}},\"type\":\"barpolar\"}],\"carpet\":[{\"aaxis\":{\"endlinecolor\":\"#2a3f5f\",\"gridcolor\":\"white\",\"linecolor\":\"white\",\"minorgridcolor\":\"white\",\"startlinecolor\":\"#2a3f5f\"},\"baxis\":{\"endlinecolor\":\"#2a3f5f\",\"gridcolor\":\"white\",\"linecolor\":\"white\",\"minorgridcolor\":\"white\",\"startlinecolor\":\"#2a3f5f\"},\"type\":\"carpet\"}],\"choropleth\":[{\"colorbar\":{\"outlinewidth\":0,\"ticks\":\"\"},\"type\":\"choropleth\"}],\"contour\":[{\"colorbar\":{\"outlinewidth\":0,\"ticks\":\"\"},\"colorscale\":[[0.0,\"#0d0887\"],[0.1111111111111111,\"#46039f\"],[0.2222222222222222,\"#7201a8\"],[0.3333333333333333,\"#9c179e\"],[0.4444444444444444,\"#bd3786\"],[0.5555555555555556,\"#d8576b\"],[0.6666666666666666,\"#ed7953\"],[0.7777777777777778,\"#fb9f3a\"],[0.8888888888888888,\"#fdca26\"],[1.0,\"#f0f921\"]],\"type\":\"contour\"}],\"contourcarpet\":[{\"colorbar\":{\"outlinewidth\":0,\"ticks\":\"\"},\"type\":\"contourcarpet\"}],\"heatmap\":[{\"colorbar\":{\"outlinewidth\":0,\"ticks\":\"\"},\"colorscale\":[[0.0,\"#0d0887\"],[0.1111111111111111,\"#46039f\"],[0.2222222222222222,\"#7201a8\"],[0.3333333333333333,\"#9c179e\"],[0.4444444444444444,\"#bd3786\"],[0.5555555555555556,\"#d8576b\"],[0.6666666666666666,\"#ed7953\"],[0.7777777777777778,\"#fb9f3a\"],[0.8888888888888888,\"#fdca26\"],[1.0,\"#f0f921\"]],\"type\":\"heatmap\"}],\"heatmapgl\":[{\"colorbar\":{\"outlinewidth\":0,\"ticks\":\"\"},\"colorscale\":[[0.0,\"#0d0887\"],[0.1111111111111111,\"#46039f\"],[0.2222222222222222,\"#7201a8\"],[0.3333333333333333,\"#9c179e\"],[0.4444444444444444,\"#bd3786\"],[0.5555555555555556,\"#d8576b\"],[0.6666666666666666,\"#ed7953\"],[0.7777777777777778,\"#fb9f3a\"],[0.8888888888888888,\"#fdca26\"],[1.0,\"#f0f921\"]],\"type\":\"heatmapgl\"}],\"histogram\":[{\"marker\":{\"pattern\":{\"fillmode\":\"overlay\",\"size\":10,\"solidity\":0.2}},\"type\":\"histogram\"}],\"histogram2d\":[{\"colorbar\":{\"outlinewidth\":0,\"ticks\":\"\"},\"colorscale\":[[0.0,\"#0d0887\"],[0.1111111111111111,\"#46039f\"],[0.2222222222222222,\"#7201a8\"],[0.3333333333333333,\"#9c179e\"],[0.4444444444444444,\"#bd3786\"],[0.5555555555555556,\"#d8576b\"],[0.6666666666666666,\"#ed7953\"],[0.7777777777777778,\"#fb9f3a\"],[0.8888888888888888,\"#fdca26\"],[1.0,\"#f0f921\"]],\"type\":\"histogram2d\"}],\"histogram2dcontour\":[{\"colorbar\":{\"outlinewidth\":0,\"ticks\":\"\"},\"colorscale\":[[0.0,\"#0d0887\"],[0.1111111111111111,\"#46039f\"],[0.2222222222222222,\"#7201a8\"],[0.3333333333333333,\"#9c179e\"],[0.4444444444444444,\"#bd3786\"],[0.5555555555555556,\"#d8576b\"],[0.6666666666666666,\"#ed7953\"],[0.7777777777777778,\"#fb9f3a\"],[0.8888888888888888,\"#fdca26\"],[1.0,\"#f0f921\"]],\"type\":\"histogram2dcontour\"}],\"mesh3d\":[{\"colorbar\":{\"outlinewidth\":0,\"ticks\":\"\"},\"type\":\"mesh3d\"}],\"parcoords\":[{\"line\":{\"colorbar\":{\"outlinewidth\":0,\"ticks\":\"\"}},\"type\":\"parcoords\"}],\"pie\":[{\"automargin\":true,\"type\":\"pie\"}],\"scatter\":[{\"marker\":{\"colorbar\":{\"outlinewidth\":0,\"ticks\":\"\"}},\"type\":\"scatter\"}],\"scatter3d\":[{\"line\":{\"colorbar\":{\"outlinewidth\":0,\"ticks\":\"\"}},\"marker\":{\"colorbar\":{\"outlinewidth\":0,\"ticks\":\"\"}},\"type\":\"scatter3d\"}],\"scattercarpet\":[{\"marker\":{\"colorbar\":{\"outlinewidth\":0,\"ticks\":\"\"}},\"type\":\"scattercarpet\"}],\"scattergeo\":[{\"marker\":{\"colorbar\":{\"outlinewidth\":0,\"ticks\":\"\"}},\"type\":\"scattergeo\"}],\"scattergl\":[{\"marker\":{\"colorbar\":{\"outlinewidth\":0,\"ticks\":\"\"}},\"type\":\"scattergl\"}],\"scattermapbox\":[{\"marker\":{\"colorbar\":{\"outlinewidth\":0,\"ticks\":\"\"}},\"type\":\"scattermapbox\"}],\"scatterpolar\":[{\"marker\":{\"colorbar\":{\"outlinewidth\":0,\"ticks\":\"\"}},\"type\":\"scatterpolar\"}],\"scatterpolargl\":[{\"marker\":{\"colorbar\":{\"outlinewidth\":0,\"ticks\":\"\"}},\"type\":\"scatterpolargl\"}],\"scatterternary\":[{\"marker\":{\"colorbar\":{\"outlinewidth\":0,\"ticks\":\"\"}},\"type\":\"scatterternary\"}],\"surface\":[{\"colorbar\":{\"outlinewidth\":0,\"ticks\":\"\"},\"colorscale\":[[0.0,\"#0d0887\"],[0.1111111111111111,\"#46039f\"],[0.2222222222222222,\"#7201a8\"],[0.3333333333333333,\"#9c179e\"],[0.4444444444444444,\"#bd3786\"],[0.5555555555555556,\"#d8576b\"],[0.6666666666666666,\"#ed7953\"],[0.7777777777777778,\"#fb9f3a\"],[0.8888888888888888,\"#fdca26\"],[1.0,\"#f0f921\"]],\"type\":\"surface\"}],\"table\":[{\"cells\":{\"fill\":{\"color\":\"#EBF0F8\"},\"line\":{\"color\":\"white\"}},\"header\":{\"fill\":{\"color\":\"#C8D4E3\"},\"line\":{\"color\":\"white\"}},\"type\":\"table\"}]},\"layout\":{\"annotationdefaults\":{\"arrowcolor\":\"#2a3f5f\",\"arrowhead\":0,\"arrowwidth\":1},\"autotypenumbers\":\"strict\",\"coloraxis\":{\"colorbar\":{\"outlinewidth\":0,\"ticks\":\"\"}},\"colorscale\":{\"diverging\":[[0,\"#8e0152\"],[0.1,\"#c51b7d\"],[0.2,\"#de77ae\"],[0.3,\"#f1b6da\"],[0.4,\"#fde0ef\"],[0.5,\"#f7f7f7\"],[0.6,\"#e6f5d0\"],[0.7,\"#b8e186\"],[0.8,\"#7fbc41\"],[0.9,\"#4d9221\"],[1,\"#276419\"]],\"sequential\":[[0.0,\"#0d0887\"],[0.1111111111111111,\"#46039f\"],[0.2222222222222222,\"#7201a8\"],[0.3333333333333333,\"#9c179e\"],[0.4444444444444444,\"#bd3786\"],[0.5555555555555556,\"#d8576b\"],[0.6666666666666666,\"#ed7953\"],[0.7777777777777778,\"#fb9f3a\"],[0.8888888888888888,\"#fdca26\"],[1.0,\"#f0f921\"]],\"sequentialminus\":[[0.0,\"#0d0887\"],[0.1111111111111111,\"#46039f\"],[0.2222222222222222,\"#7201a8\"],[0.3333333333333333,\"#9c179e\"],[0.4444444444444444,\"#bd3786\"],[0.5555555555555556,\"#d8576b\"],[0.6666666666666666,\"#ed7953\"],[0.7777777777777778,\"#fb9f3a\"],[0.8888888888888888,\"#fdca26\"],[1.0,\"#f0f921\"]]},\"colorway\":[\"#636efa\",\"#EF553B\",\"#00cc96\",\"#ab63fa\",\"#FFA15A\",\"#19d3f3\",\"#FF6692\",\"#B6E880\",\"#FF97FF\",\"#FECB52\"],\"font\":{\"color\":\"#2a3f5f\"},\"geo\":{\"bgcolor\":\"white\",\"lakecolor\":\"white\",\"landcolor\":\"#E5ECF6\",\"showlakes\":true,\"showland\":true,\"subunitcolor\":\"white\"},\"hoverlabel\":{\"align\":\"left\"},\"hovermode\":\"closest\",\"mapbox\":{\"style\":\"light\"},\"paper_bgcolor\":\"white\",\"plot_bgcolor\":\"#E5ECF6\",\"polar\":{\"angularaxis\":{\"gridcolor\":\"white\",\"linecolor\":\"white\",\"ticks\":\"\"},\"bgcolor\":\"#E5ECF6\",\"radialaxis\":{\"gridcolor\":\"white\",\"linecolor\":\"white\",\"ticks\":\"\"}},\"scene\":{\"xaxis\":{\"backgroundcolor\":\"#E5ECF6\",\"gridcolor\":\"white\",\"gridwidth\":2,\"linecolor\":\"white\",\"showbackground\":true,\"ticks\":\"\",\"zerolinecolor\":\"white\"},\"yaxis\":{\"backgroundcolor\":\"#E5ECF6\",\"gridcolor\":\"white\",\"gridwidth\":2,\"linecolor\":\"white\",\"showbackground\":true,\"ticks\":\"\",\"zerolinecolor\":\"white\"},\"zaxis\":{\"backgroundcolor\":\"#E5ECF6\",\"gridcolor\":\"white\",\"gridwidth\":2,\"linecolor\":\"white\",\"showbackground\":true,\"ticks\":\"\",\"zerolinecolor\":\"white\"}},\"shapedefaults\":{\"line\":{\"color\":\"#2a3f5f\"}},\"ternary\":{\"aaxis\":{\"gridcolor\":\"white\",\"linecolor\":\"white\",\"ticks\":\"\"},\"baxis\":{\"gridcolor\":\"white\",\"linecolor\":\"white\",\"ticks\":\"\"},\"bgcolor\":\"#E5ECF6\",\"caxis\":{\"gridcolor\":\"white\",\"linecolor\":\"white\",\"ticks\":\"\"}},\"title\":{\"x\":0.05},\"xaxis\":{\"automargin\":true,\"gridcolor\":\"white\",\"linecolor\":\"white\",\"ticks\":\"\",\"title\":{\"standoff\":15},\"zerolinecolor\":\"white\",\"zerolinewidth\":2},\"yaxis\":{\"automargin\":true,\"gridcolor\":\"white\",\"linecolor\":\"white\",\"ticks\":\"\",\"title\":{\"standoff\":15},\"zerolinecolor\":\"white\",\"zerolinewidth\":2}}}},                        {\"responsive\": true}                    ).then(function(){\n",
       "                            \n",
       "var gd = document.getElementById('8b7e32a2-4f6b-4d92-a392-dd34845c6781');\n",
       "var x = new MutationObserver(function (mutations, observer) {{\n",
       "        var display = window.getComputedStyle(gd).display;\n",
       "        if (!display || display === 'none') {{\n",
       "            console.log([gd, 'removed!']);\n",
       "            Plotly.purge(gd);\n",
       "            observer.disconnect();\n",
       "        }}\n",
       "}});\n",
       "\n",
       "// Listen for the removal of the full notebook cells\n",
       "var notebookContainer = gd.closest('#notebook-container');\n",
       "if (notebookContainer) {{\n",
       "    x.observe(notebookContainer, {childList: true});\n",
       "}}\n",
       "\n",
       "// Listen for the clearing of the current output cell\n",
       "var outputEl = gd.closest('.output');\n",
       "if (outputEl) {{\n",
       "    x.observe(outputEl, {childList: true});\n",
       "}}\n",
       "\n",
       "                        })                };                });            </script>        </div>"
      ]
     },
     "metadata": {},
     "output_type": "display_data"
    }
   ],
   "source": [
    "#top 25 failures\n",
    "\n",
    "top_25_query = 'select url || to_string(build_id) as `joburl`,name,failCount,component,SPLIT(REPLACE(REPLACE(REPLACE(SPLIT(name,\"-\")[1], \"os_certify_ce_\", \"\"), \"ipv6_\", \"\"), \"os_certify_\", \"\"), \"_\")[0] as area,result from server where `build`=$version and lower(os)=\"centos\" order by failCount desc limit 25'\n",
    "top_25_failures = run_query(query=top_25_query, param={'$version': f'\"{release}-{current_build}\"'})\n",
    "\n",
    "data_top_t25 = pd.DataFrame(top_25_failures['results'])\n",
    "\n",
    "owners_data = []\n",
    "for area in data_top_t25.area:\n",
    "    owners_data.append(owners[f'{area}'])\n",
    "\n",
    "        \n",
    "def make_clickable(url, name):\n",
    "    return '<a href=\"{}\"target=\"_blank\">{}</a>'.format(url,name)\n",
    "\n",
    "data_top_t25['job'] = data_top_t25.apply(lambda x: make_clickable(x['joburl'], x['name']), axis=1)\n",
    "data_top_t25 = data_top_t25.drop('joburl', axis=1)\n",
    "\n",
    "\n",
    "table_t25_failures = go.Figure(data=[go.Table(\n",
    "    columnwidth=(0.5, 0.10, 0.3, 0.2, 0.2),\n",
    "    header = dict(values = [\"Name\", \"Fails\", \"Component\", \"Area\", \"Owner\"], fill_color = 'maroon', font=dict(color='white'), line_color='lightgray'),\n",
    "    cells = dict(values = [data_top_t25.job, data_top_t25.failCount, data_top_t25.component, data_top_t25.area, owners_data], align=['left', 'center', 'center', 'center', 'center'], line_color='lightgray', fill_color='#F4F4F4', font=dict(size=11))\n",
    ")])\n",
    "\n",
    "table_t25_failures.update_layout(height=1000)\n",
    "\n",
    "table_t25_failures.show()"
   ]
  },
  {
   "cell_type": "markdown",
   "id": "2816a9c7-a151-43a6-b730-e924c990f52a",
   "metadata": {},
   "source": [
    "## Over 50 Failures"
   ]
  },
  {
   "cell_type": "code",
   "execution_count": 52,
   "id": "cb92d306",
   "metadata": {
    "jupyter": {
     "source_hidden": true
    },
    "tags": [
     "hide_input"
    ]
   },
   "outputs": [
    {
     "ename": "IndexError",
     "evalue": "list index out of range",
     "output_type": "error",
     "traceback": [
      "\u001b[0;31m---------------------------------------------------------------------------\u001b[0m",
      "\u001b[0;31mIndexError\u001b[0m                                Traceback (most recent call last)",
      "\u001b[0;32m<ipython-input-52-9c430cb87b19>\u001b[0m in \u001b[0;36m<module>\u001b[0;34m\u001b[0m\n\u001b[1;32m     18\u001b[0m \u001b[0mGROUP\u001b[0m \u001b[0mBY\u001b[0m \u001b[0mcomponent\u001b[0m\u001b[0;34m,\u001b[0m \u001b[0mSPLIT\u001b[0m\u001b[0;34m(\u001b[0m\u001b[0mREPLACE\u001b[0m\u001b[0;34m(\u001b[0m\u001b[0mREPLACE\u001b[0m\u001b[0;34m(\u001b[0m\u001b[0mREPLACE\u001b[0m\u001b[0;34m(\u001b[0m\u001b[0mSPLIT\u001b[0m\u001b[0;34m(\u001b[0m\u001b[0mname\u001b[0m\u001b[0;34m,\u001b[0m\u001b[0;34m\"-\"\u001b[0m\u001b[0;34m)\u001b[0m\u001b[0;34m[\u001b[0m\u001b[0;36m1\u001b[0m\u001b[0;34m]\u001b[0m\u001b[0;34m,\u001b[0m \u001b[0;34m\"os_certify_ce_\"\u001b[0m\u001b[0;34m,\u001b[0m \u001b[0;34m\"\"\u001b[0m\u001b[0;34m)\u001b[0m\u001b[0;34m,\u001b[0m \u001b[0;34m\"ipv6_\"\u001b[0m\u001b[0;34m,\u001b[0m \u001b[0;34m\"\"\u001b[0m\u001b[0;34m)\u001b[0m\u001b[0;34m,\u001b[0m \u001b[0;34m\"os_certify_\"\u001b[0m\u001b[0;34m,\u001b[0m \u001b[0;34m\"\"\u001b[0m\u001b[0;34m)\u001b[0m\u001b[0;34m,\u001b[0m \u001b[0;34m\"_\"\u001b[0m\u001b[0;34m)\u001b[0m\u001b[0;34m[\u001b[0m\u001b[0;36m0\u001b[0m\u001b[0;34m]\u001b[0m\u001b[0;34m\u001b[0m\u001b[0;34m\u001b[0m\u001b[0m\n\u001b[1;32m     19\u001b[0m \u001b[0mHAVING\u001b[0m \u001b[0mSUM\u001b[0m\u001b[0;34m(\u001b[0m\u001b[0mCASE\u001b[0m \u001b[0mWHEN\u001b[0m\u001b[0;31m \u001b[0m\u001b[0;31m`\u001b[0m\u001b[0mbuild\u001b[0m\u001b[0;31m`\u001b[0m \u001b[0;34m=\u001b[0m \u001b[0;34m\"{weekly_builds[0]}\"\u001b[0m \u001b[0mTHEN\u001b[0m \u001b[0mfailCount\u001b[0m \u001b[0mEND\u001b[0m\u001b[0;34m)\u001b[0m \u001b[0;34m>\u001b[0m \u001b[0;36m0\u001b[0m \u001b[0;32mor\u001b[0m \u001b[0mSUM\u001b[0m\u001b[0;34m(\u001b[0m\u001b[0mCASE\u001b[0m \u001b[0mWHEN\u001b[0m\u001b[0;31m \u001b[0m\u001b[0;31m`\u001b[0m\u001b[0mbuild\u001b[0m\u001b[0;31m`\u001b[0m \u001b[0;34m=\u001b[0m \u001b[0;34m\"{weekly_builds[1]}\"\u001b[0m \u001b[0mTHEN\u001b[0m \u001b[0mfailCount\u001b[0m \u001b[0mEND\u001b[0m\u001b[0;34m)\u001b[0m \u001b[0;34m>\u001b[0m \u001b[0;36m0\u001b[0m\u001b[0;34m\u001b[0m\u001b[0;34m\u001b[0m\u001b[0m\n\u001b[0;32m---> 20\u001b[0;31m ORDER BY component, area\"\"\"\n\u001b[0m\u001b[1;32m     21\u001b[0m \u001b[0;34m\u001b[0m\u001b[0m\n\u001b[1;32m     22\u001b[0m \u001b[0mfailures_50\u001b[0m \u001b[0;34m=\u001b[0m \u001b[0mrun_query\u001b[0m\u001b[0;34m(\u001b[0m\u001b[0mquery\u001b[0m\u001b[0;34m=\u001b[0m\u001b[0mfailures_50_query\u001b[0m\u001b[0;34m,\u001b[0m \u001b[0mparam\u001b[0m\u001b[0;34m=\u001b[0m\u001b[0;34m{\u001b[0m\u001b[0;34m'$version'\u001b[0m\u001b[0;34m:\u001b[0m \u001b[0;34mf'\"{release}-{current_build}\"'\u001b[0m\u001b[0;34m}\u001b[0m\u001b[0;34m)\u001b[0m\u001b[0;34m\u001b[0m\u001b[0;34m\u001b[0m\u001b[0m\n",
      "\u001b[0;31mIndexError\u001b[0m: list index out of range"
     ]
    }
   ],
   "source": [
    "# 50+ failures\n",
    "\n",
    "failures_50_query = f\"\"\"WITH components AS (\n",
    "    SELECT RAW component\n",
    "    FROM server\n",
    "    WHERE LOWER(os)=\"centos\"\n",
    "        AND `build`=\"{weekly_builds[0]}\"\n",
    "    GROUP BY component\n",
    "    HAVING SUM(failCount) > 50 )\n",
    "SELECT component, SPLIT(REPLACE(REPLACE(REPLACE(SPLIT(name,\"-\")[1], \"os_certify_ce_\", \"\"), \"ipv6_\", \"\"), \"os_certify_\", \"\"), \"_\")[0] as area,\n",
    "       SUM(CASE WHEN `build` = \"{weekly_builds[0]}\" THEN failCount END) AS CurrentFailed,\n",
    "       SUM(CASE WHEN `build` = \"{weekly_builds[1]}\" THEN failCount END) AS LastFailed,\n",
    "       SUM(CASE WHEN `build` = \"{weekly_builds[0]}\" THEN totalCount END) AS CurrentCount\n",
    "FROM server\n",
    "WHERE LOWER(os)=\"centos\"\n",
    "    AND `build`IN [\"{weekly_builds[0]}\",\"{weekly_builds[1]}\"]\n",
    "    AND component IN components\n",
    "GROUP BY component, SPLIT(REPLACE(REPLACE(REPLACE(SPLIT(name,\"-\")[1], \"os_certify_ce_\", \"\"), \"ipv6_\", \"\"), \"os_certify_\", \"\"), \"_\")[0]\n",
    "HAVING SUM(CASE WHEN `build` = \"{weekly_builds[0]}\" THEN failCount END) > 0 or SUM(CASE WHEN `build` = \"{weekly_builds[1]}\" THEN failCount END) > 0\n",
    "ORDER BY component, area\"\"\"\n",
    "\n",
    "failures_50 = run_query(query=failures_50_query, param={'$version': f'\"{release}-{current_build}\"'})\n",
    "sortdf50 = failures_50['results']\n",
    "\n",
    "data_table_50 = pd.DataFrame(sortdf50)"
   ]
  },
  {
   "cell_type": "code",
   "execution_count": null,
   "id": "a2365ff6-80d5-4cc2-b056-5f68f5251c30",
   "metadata": {
    "jupyter": {
     "source_hidden": true
    },
    "tags": [
     "hide_input"
    ]
   },
   "outputs": [],
   "source": [
    "if sortdf50 != []:\n",
    "    component_data = []\n",
    "    total_data = {}\n",
    "\n",
    "    sorted_dt50_components = sorted(list(set(data_table_50.component)))\n",
    "    for compo in sorted_dt50_components:\n",
    "        component_data.append([])\n",
    "        total_data[f'{compo}'] = [0, 0]\n",
    "\n",
    "    for i in sortdf50:\n",
    "        i_component = i['component']\n",
    "        index = sorted_dt50_components.index(i_component)\n",
    "        total_data[f'{i_component}'][0] = total_data[f'{i_component}'][0] + i['CurrentFailed']\n",
    "        total_data[f'{i_component}'][1] = total_data[f'{i_component}'][1] + i['LastFailed']\n",
    "        component_data[index].append(f\"<b>{i['area']}</b><br>Now: {i['CurrentFailed']}<br>Last: {i['LastFailed']}\")\n",
    "\n",
    "    ind = 0\n",
    "    for each in component_data:\n",
    "        each.insert(0, f\"<b>Total</b><br>Now: {total_data[f'{sorted_dt50_components[ind]}'][0]}<br>Last: {total_data[f'{sorted_dt50_components[ind]}'][1]}\")\n",
    "        ind = ind + 1\n",
    "\n",
    "    df_cdata = pd.DataFrame(component_data)\n",
    "    df_cdata = df_cdata.fillna(\"\")\n",
    "    df_cdata = df_cdata.T\n",
    "\n",
    "    final_data = []\n",
    "    for element in range(0, len(df_cdata.columns)):\n",
    "        final_data.append(df_cdata.iloc[:, element])\n",
    "\n"
   ]
  },
  {
   "cell_type": "markdown",
   "id": "716a491a-bb69-4c0d-9f41-8dbf6699c204",
   "metadata": {},
   "source": [
    "Below is a table and a bar graph that display information about the components with 50 or more failures across all areas and compares the information to that of the previous weekly build."
   ]
  },
  {
   "cell_type": "code",
   "execution_count": null,
   "id": "833cc943-0e92-4738-ab87-b0759c547213",
   "metadata": {
    "jupyter": {
     "source_hidden": true
    },
    "tags": [
     "hide_input"
    ]
   },
   "outputs": [],
   "source": [
    "if sortdf50 != []:\n",
    "    cell50_colors = ['#F4F4F4', '#F4F4F4', '#F4F4F4']\n",
    "    delta50_colors = []\n",
    "    delta50_text = []\n",
    "\n",
    "    for i in range(0, len(data_table_50)):\n",
    "        delta_i = data_table_50.LastFailed.iloc[i] - data_table_50.CurrentFailed.iloc[i]\n",
    "        if delta_i < 0:\n",
    "            delta50_colors.append('#FFBAAB')\n",
    "            delta50_text.append(str(abs(delta_i)) + ' more failures' if delta_i < -1 else str(abs(delta_i)) + ' more failure')\n",
    "        elif delta_i == 0:\n",
    "            delta50_colors.append(\"#F4F4F4\")\n",
    "            delta50_text.append(\"No Change\")\n",
    "        else:\n",
    "            delta50_colors.append('#8BE9A3')\n",
    "            delta50_text.append(str(delta_i) + ' less  failures' if delta_i > 1 else str(delta_i) + ' less failure')\n",
    "\n",
    "    cell50_colors.append(delta50_colors)\n",
    "\n",
    "    old_table_50 = go.Figure(data=[go.Table(\n",
    "        header = dict(values=[\"Component\", \"Break-Up\", f'Fails in {current_build}', f'Delta from {weekly_builds[1]}'], fill_color=\"maroon\", font=dict(color=\"white\")),\n",
    "        cells = dict(values=[data_table_50.component, data_table_50.area, data_table_50.CurrentFailed, delta50_text], fill_color=cell50_colors, line_color=\"lightgray\")\n",
    "    )])\n",
    "\n",
    "    table_50 = go.Figure(data=[go.Table(\n",
    "        header = dict(values=sorted_dt50_components, fill_color=\"maroon\", font=dict(color=\"white\")),\n",
    "        cells = dict(values=final_data, fill_color=\"#F4F4F4\", line_color=\"lightgray\", height=50)\n",
    "    )])\n",
    "\n",
    "    old_table_50.update_layout(height=700, title=f\"Areas in {weekly_builds[0]} with Over 50 Failures and Comparison with {weekly_builds[1]} (Table)\")\n",
    "    old_table_50.show()\n",
    "else:\n",
    "    print(\"No components over 50 failures\")"
   ]
  },
  {
   "cell_type": "markdown",
   "id": "daaf0770-c545-4372-9de0-63655fcbeeb9",
   "metadata": {},
   "source": [
    "Hover over a bar for more information. You can click on each area's name to the right of the bar chart to toggle the data from that area, or double click on an area to isolate that area. You can double click on a hidden area to toggle all data back to shown."
   ]
  },
  {
   "cell_type": "code",
   "execution_count": null,
   "id": "09c9068c",
   "metadata": {
    "jupyter": {
     "source_hidden": true
    },
    "tags": [
     "hide_input"
    ]
   },
   "outputs": [],
   "source": [
    "newSet = []\n",
    "for item in sortdf50:\n",
    "    current = item.pop('CurrentFailed')\n",
    "    last = item.pop('LastFailed')\n",
    "    currentFails = {\"fails\": current, \"ver\": \"current\"}\n",
    "    lastFails = {\"fails\": last, \"ver\": \"last\"}\n",
    "    newSet.append({**lastFails, **item})\n",
    "    newSet.append({**currentFails, **item})\n",
    "    \n",
    "df50 = pd.DataFrame(newSet)\n",
    "\n",
    "all_fig = px.bar(df50, y=df50.fails, x=df50.ver, color=df50.area, facet_col=df50.component, facet_col_wrap=8)\n",
    "\n",
    "all_fig.for_each_annotation(lambda a: a.update(text=a.text.replace(\"component=\", \"\")))\n",
    "all_fig.update_xaxes(title_text='')\n",
    "all_fig.update_yaxes(gridcolor='lightsteelblue', gridwidth=2)\n",
    "all_fig.update_layout(height=600*math.ceil(len(set(df50.component))/8), title=f\"Areas in {weekly_builds[0]} with Over 50 Failures and Comparison with {weekly_builds[1]} (Graph)\", hoverlabel=dict(bgcolor=\"white\"))\n",
    "\n",
    "all_fig.show()"
   ]
  },
  {
   "cell_type": "markdown",
   "id": "bc260d07-2d8f-47fd-b7ab-b4d8a791a0cf",
   "metadata": {},
   "source": [
    "## Total Failures for Each Component"
   ]
  },
  {
   "cell_type": "markdown",
   "id": "39fe1339-0864-45cd-ae1f-1435c2577cf2",
   "metadata": {},
   "source": [
    "This displays the amount of failures from each component, along with the change from the previous weekly build."
   ]
  },
  {
   "cell_type": "code",
   "execution_count": null,
   "id": "c5b576dd",
   "metadata": {
    "jupyter": {
     "source_hidden": true
    },
    "tags": [
     "hide_input"
    ]
   },
   "outputs": [],
   "source": [
    "#query_last_weekly_build = f'SELECT raw `build` FROM server WHERE `build` <= $version GROUP BY `build` HAVING sum(totalCount) > 10000 ORDER BY `build` DESC LIMIT 2'\n",
    "total_fails_query = 'select component,sum(failCount) as TotalFailed from server where lower(os)=\"centos\" and `build`=$version group by component  order by component'\n",
    "\n",
    "#result = run_query(query=query_last_weekly_build, param={'$version': f'\"{release}-{current_build}\"'})\n",
    "#weekly_builds = result['results']\n",
    "total_fails = run_query(query=total_fails_query, param={'$version': f'\"{release}-{current_build}\"'})\n",
    "last_total_fails = run_query(query=total_fails_query, param={'$version': f'\"{str(weekly_builds[1])}\"'})\n",
    "\n",
    "weekly_builds[1] = str(weekly_builds[1]).split(\"-\", 1)\n",
    "\n",
    "ldata_f = pd.DataFrame(last_total_fails['results'])\n",
    "data_f = pd.DataFrame(total_fails['results'])"
   ]
  },
  {
   "cell_type": "code",
   "execution_count": null,
   "id": "5a8f33ec",
   "metadata": {
    "jupyter": {
     "source_hidden": true
    },
    "tags": [
     "hide_input"
    ]
   },
   "outputs": [],
   "source": [
    "cell_colors = ['#F4F4F4', '#F4F4F4']\n",
    "delta_colors = []\n",
    "delta_text = []\n",
    "\n",
    "for i in range(0, len(data_f)):\n",
    "    delta_i = ldata_f.TotalFailed.iloc[i] - data_f.TotalFailed.iloc[i]\n",
    "    if delta_i < 0:\n",
    "        delta_colors.append('#FFBAAB')\n",
    "        delta_text.append(str(abs(delta_i)) + ' more failures' if delta_i < -1 else str(abs(delta_i)) + ' more failure')\n",
    "    elif delta_i == 0:\n",
    "        delta_colors.append(\"#F4F4F4\")\n",
    "        delta_text.append(\"No Change\")\n",
    "    else:\n",
    "        delta_colors.append('#8BE9A3')\n",
    "        delta_text.append(str(delta_i) + ' less  failures' if delta_i > 1 else str(delta_i) + ' less failure')\n",
    "cell_colors.append(delta_colors)\n",
    "\n",
    "fig_total_fails = go.Figure(data=[go.Table(\n",
    "    header=dict(values = ['Component', f'Failed in {current_build}', f'Delta from {weekly_builds[1][1]}'], fill_color='maroon', line_color='lightgray', font=dict(color='white')),\n",
    "    cells=dict(values = [data_f.component, data_f.TotalFailed, delta_text], fill_color=cell_colors, line_color='lightgray')\n",
    ")])\n",
    "\n",
    "fig_total_fails.update_layout(height=1000)\n",
    "\n",
    "query_last_weekly_build = f'SELECT raw `build` FROM server WHERE `build` <= $version GROUP BY `build` HAVING sum(totalCount) > 10000 ORDER BY `build` DESC LIMIT 2'\n",
    "result = run_query(query=query_last_weekly_build, param={'$version': f'\"{release}-{current_build}\"'})\n",
    "weekly_builds = result['results']\n",
    "\n",
    "fig_total_fails.show()"
   ]
  },
  {
   "cell_type": "code",
   "execution_count": null,
   "id": "1d34ea51-df36-4c7d-8a82-71699dfe1e62",
   "metadata": {},
   "outputs": [],
   "source": []
  },
  {
   "cell_type": "code",
   "execution_count": null,
   "id": "5ab6ac5d-0606-4f1d-8f1d-0c8714e5362b",
   "metadata": {},
   "outputs": [],
   "source": []
  },
  {
   "cell_type": "code",
   "execution_count": null,
   "id": "2f5e6ed4-84d2-4fb1-adab-8de77e192dfc",
   "metadata": {},
   "outputs": [],
   "source": []
  }
 ],
 "metadata": {
  "kernelspec": {
   "display_name": "Python 3",
   "language": "python",
   "name": "python3"
  },
  "language_info": {
   "codemirror_mode": {
    "name": "ipython",
    "version": 3
   },
   "file_extension": ".py",
   "mimetype": "text/x-python",
   "name": "python",
   "nbconvert_exporter": "python",
   "pygments_lexer": "ipython3",
   "version": "3.6.8"
  }
 },
 "nbformat": 4,
 "nbformat_minor": 5
}
