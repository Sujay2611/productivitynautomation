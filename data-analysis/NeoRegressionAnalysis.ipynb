{
 "cells": [
  {
   "cell_type": "markdown",
   "id": "6cc55d62-fd01-4226-8dc2-85663a42b37a",
   "metadata": {},
   "source": [
    "# Regression Analysis"
   ]
  },
  {
   "cell_type": "markdown",
   "id": "960b86fd-87b6-4df4-95f9-f1dc02186dd1",
   "metadata": {},
   "source": [
    "You can specify a build number in the **current_build** variable to generate a report for a specific build version, otherwise it will default to the most recent 7.1.0 build."
   ]
  },
  {
   "cell_type": "code",
   "execution_count": 169,
   "id": "026e0f13",
   "metadata": {
    "tags": []
   },
   "outputs": [],
   "source": [
    "release=\"7.1.0\"\n",
    "current_build=\"\""
   ]
  },
  {
   "cell_type": "code",
   "execution_count": 170,
   "id": "b511cfec",
   "metadata": {
    "jupyter": {
     "source_hidden": true
    },
    "tags": [
     "hide_input"
    ]
   },
   "outputs": [],
   "source": [
    "import requests\n",
    "import json\n",
    "import math\n",
    "\n",
    "import pandas as pd\n",
    "import plotly.express as px\n",
    "import plotly.graph_objects as go\n",
    "import plotly\n",
    "from plotly.offline import *\n",
    "from plotly.subplots import make_subplots"
   ]
  },
  {
   "cell_type": "code",
   "execution_count": 171,
   "id": "4c34ee73",
   "metadata": {
    "jupyter": {
     "source_hidden": true
    },
    "tags": [
     "hide_input"
    ]
   },
   "outputs": [],
   "source": [
    "def run_query(query, host=\"172.23.99.54\", port=8093, username=\"Administrator\", password=\"password\", param=None):\n",
    "    url_base = f\"http://{host}:{port}/query/service\"\n",
    "    params = {'statement': query, 'scan_consistency': 'REQUEST_PLUS'}\n",
    "    if param:\n",
    "        params.update(param)\n",
    "    response = requests.get(url=url_base, params=params, auth = requests.auth.HTTPBasicAuth(username, password))\n",
    "    return response.json()"
   ]
  },
  {
   "cell_type": "code",
   "execution_count": 172,
   "id": "f58af0b3-8274-41ac-89f3-a54365595fce",
   "metadata": {
    "jupyter": {
     "source_hidden": true
    },
    "tags": []
   },
   "outputs": [],
   "source": [
    "if type(current_build) != type(\"\") or len(str(current_build)) != 4:\n",
    "    query_current_weekly_build = f'SELECT raw `build` FROM server WHERE `build` < \"{release}.\" GROUP BY `build` HAVING sum(totalCount) > 10000 ORDER BY `build` DESC LIMIT 1'\n",
    "    current_result = run_query(query=query_current_weekly_build, param={'$version': f'\"{release}-0000\"'})\n",
    "    current_build = current_result['results'][0].split(\"-\", 1)[1]"
   ]
  },
  {
   "cell_type": "code",
   "execution_count": 173,
   "id": "72654998",
   "metadata": {
    "jupyter": {
     "source_hidden": true
    },
    "tags": [
     "hide_input"
    ]
   },
   "outputs": [],
   "source": [
    "query_last_weekly_build = f'SELECT raw `build` FROM server WHERE `build` <= $version AND `build` > \"{release}\" GROUP BY `build` HAVING sum(totalCount) > 10000 ORDER BY `build` DESC LIMIT 2'\n",
    "result = run_query(query=query_last_weekly_build, param={'$version': f'\"{release}-{current_build}\"'})\n",
    "weekly_builds = result['results']"
   ]
  },
  {
   "cell_type": "markdown",
   "id": "abc52a3f-f507-497c-bc98-2213fbea2f4a",
   "metadata": {},
   "source": [
    "## Top 25 Jobs with the Most Failures"
   ]
  },
  {
   "cell_type": "code",
   "execution_count": 174,
   "id": "373a7457-0e24-415e-aeb1-027220008c2d",
   "metadata": {
    "jupyter": {
     "source_hidden": true
    },
    "tags": [
     "hide_input"
    ]
   },
   "outputs": [],
   "source": [
    "owners = {\n",
    "    \"analytics\":\"bob1\",\n",
    "    \"backup\":\"bob2\",\n",
    "    \"nserv\":\"bob3\",\n",
    "    \"durability\":\"bob4\",\n",
    "    \"security\":\"bob5\",\n",
    "    \"obj\":\"bob6\",\n",
    "    \"p0\":\"bob7\",\n",
    "    \"xdcr\":\"bob8\",\n",
    "    \"P0\":\"bob9\",\n",
    "    \"2i\":\"bob10\",\n",
    "    \"transaction\":\"bob11\",\n",
    "    \"ephemeral\":\"bob12\",\n",
    "    \"query\":\"bob13\",\n",
    "    \"fts\":\"bob15\",\n",
    "    \"tools\":\"bob16\",\n",
    "    \"ce\":\"bob17\",\n",
    "    \"eventing\":\"bob18\",\n",
    "    \"n1ql\":\"bob19\",\n",
    "    \"nsserver\":\"bob20\",\n",
    "    \"upgrade\":\"bob21\",\n",
    "    \"nutshell\":\"bob22\",\n",
    "    \"plasma\":\"bob23\",\n",
    "    \"lcb\":\"bob24\",\n",
    "    \"sync\":\"bob25\",\n",
    "    \"geo\":\"bob26\",\n",
    "    \"epeng\":\"bob27\",\n",
    "    \"bkrs\":\"bob28\",\n",
    "    \"ent\":\"bob29\",\n",
    "    \"rbac\":\"bob30\"\n",
    "}"
   ]
  },
  {
   "cell_type": "code",
   "execution_count": 175,
   "id": "ef87c48e",
   "metadata": {
    "jupyter": {
     "source_hidden": true
    },
    "tags": [
     "hide_input"
    ]
   },
   "outputs": [
    {
     "data": {
      "application/vnd.plotly.v1+json": {
       "config": {
        "plotlyServerURL": "https://plot.ly"
       },
       "data": [
        {
         "cells": {
          "align": [
           "left",
           "center",
           "center",
           "center",
           "center"
          ],
          "fill": {
           "color": "#F4F4F4"
          },
          "font": {
           "size": 11
          },
          "line": {
           "color": "lightgray"
          },
          "values": [
           [
            "<a href=\"http://uberjenkins.sc.couchbase.com:8080/job/cen7-sync-gateway-functional-tests-xattrs-userViews-ServerSsl/371\"target=\"_blank\">cen7-sync-gateway-functional-tests-xattrs-userViews-ServerSsl</a>",
            "<a href=\"http://uberjenkins.sc.couchbase.com:8080/job/cen7-sync-gateway-functional-tests-base-cc/3107\"target=\"_blank\">cen7-sync-gateway-functional-tests-base-cc</a>",
            "<a href=\"http://qa.sc.couchbase.com/job/test_suite_executor-TAF/127045\"target=\"_blank\">centos-analytics_Remote_Links_and_Datasets_7.0_P0</a>",
            "<a href=\"http://qa.sc.couchbase.com/job/test_suite_executor/363846\"target=\"_blank\">centos-eventing_sanity</a>",
            "<a href=\"http://qa.sc.couchbase.com/job/test_suite_executor/363693\"target=\"_blank\">centos-query_n1ql_fts_integration_phase1_6.5_P1</a>",
            "<a href=\"http://qa.sc.couchbase.com/job/test_suite_executor-TAF/126942\"target=\"_blank\">centos-analytics_Remote_Links_and_Datasets_7.0_P1</a>",
            "<a href=\"http://qa.sc.couchbase.com/job/test_suite_executor-TAF/126604\"target=\"_blank\">centos-transaction_steady_state_durability_majority_6.5_P0</a>",
            "<a href=\"http://qa.sc.couchbase.com/job/test_suite_executor-TAF/127098\"target=\"_blank\">centos-transaction_steady_state_durability_majority_and_persist_on_master_6.5_P0</a>",
            "<a href=\"http://qa.sc.couchbase.com/job/test_suite_executor-TAF/127087\"target=\"_blank\">centos-transaction_steady_state_durability_persist_to_majority_6.5_P0</a>",
            "<a href=\"http://qa.sc.couchbase.com/job/test_suite_executor/363564\"target=\"_blank\">centos-ipv6_rbac-n1ql</a>",
            "<a href=\"http://qa.sc.couchbase.com/job/test_suite_executor-TAF/127117\"target=\"_blank\">centos-transaction_concurrency_durability_majority_and_persist_on_master_6.5_P0_Set1</a>",
            "<a href=\"http://qa.sc.couchbase.com/job/test_suite_executor/365344\"target=\"_blank\">centos-eventing_settings</a>",
            "<a href=\"http://qa.sc.couchbase.com/job/test_suite_executor-TAF/127275\"target=\"_blank\">centos-transaction_concurrency_durability_persist_to_majority_6.5_P0_Set1</a>",
            "<a href=\"http://qa.sc.couchbase.com/job/test_suite_executor-TAF/127247\"target=\"_blank\">centos-transaction_concurrency_durability_majority_6.5_P0_Set1</a>",
            "<a href=\"http://qa.sc.couchbase.com/job/test_suite_executor/365421\"target=\"_blank\">centos-eventing_topology_bucket_op_with_timers</a>",
            "<a href=\"http://qa.sc.couchbase.com/job/test_suite_executor-TAF/126605\"target=\"_blank\">centos-transaction_multi_bucket_durability_majority_6.5_P0</a>",
            "<a href=\"http://qa.sc.couchbase.com/job/test_suite_executor-TAF/127298\"target=\"_blank\">centos-transaction_multi_bucket_durability_majority_6.5_P0_Set2</a>",
            "<a href=\"http://qa.sc.couchbase.com/job/test_suite_executor-TAF/127155\"target=\"_blank\">centos-transaction_multi_bucket_durability_majority_and_persist_on_master_6.5_P0</a>",
            "<a href=\"http://qa.sc.couchbase.com/job/test_suite_executor/364007\"target=\"_blank\">centos-fts_custom-map-n1ql-rqg-scorch_6.5_P1</a>",
            "<a href=\"http://qa.sc.couchbase.com/job/test_suite_executor-TAF/127301\"target=\"_blank\">centos-transaction_multi_bucket_durability_majority_defer_6.5_P0</a>",
            "<a href=\"http://qa.sc.couchbase.com/job/test_suite_executor/365382\"target=\"_blank\">centos-eventing_rebalance_collection_P1</a>",
            "<a href=\"http://qa.sc.couchbase.com/job/test_suite_executor-TAF/126966\"target=\"_blank\">centos-transaction_multi_bucket_durability_majority_defer_6.5_P0_Set1</a>",
            "<a href=\"http://qa.sc.couchbase.com/job/test_suite_executor-TAF/127092\"target=\"_blank\">centos-query_N1qltxn_ephemeral</a>",
            "<a href=\"http://qa.sc.couchbase.com/job/test_suite_executor-TAF/127306\"target=\"_blank\">centos-query_N1qltxn_services_P0</a>",
            "<a href=\"http://qa.sc.couchbase.com/job/test_suite_executor-TAF/126965\"target=\"_blank\">centos-transaction_multi_bucket_durability_majority_6.5_P0_Set1</a>"
           ],
           [
            327,
            326,
            57,
            41,
            41,
            40,
            39,
            32,
            32,
            28,
            27,
            27,
            27,
            27,
            25,
            25,
            25,
            25,
            25,
            25,
            25,
            24,
            24,
            24,
            24
           ],
           [
            "MOBILE",
            "MOBILE",
            "ANALYTICS",
            "EVENTING",
            "FTS",
            "ANALYTICS",
            "DURABILITY",
            "DURABILITY",
            "DURABILITY",
            "IPV6",
            "DURABILITY",
            "EVENTING",
            "DURABILITY",
            "DURABILITY",
            "EVENTING",
            "DURABILITY",
            "DURABILITY",
            "DURABILITY",
            "FTS",
            "DURABILITY",
            "EVENTING",
            "DURABILITY",
            "EPHEMERAL",
            "QUERY",
            "DURABILITY"
           ],
           [
            "sync",
            "sync",
            "analytics",
            "eventing",
            "query",
            "analytics",
            "transaction",
            "transaction",
            "transaction",
            "rbac",
            "transaction",
            "eventing",
            "transaction",
            "transaction",
            "eventing",
            "transaction",
            "transaction",
            "transaction",
            "fts",
            "transaction",
            "eventing",
            "transaction",
            "query",
            "query",
            "transaction"
           ],
           [
            "bob25",
            "bob25",
            "bob1",
            "bob18",
            "bob13",
            "bob1",
            "bob11",
            "bob11",
            "bob11",
            "bob30",
            "bob11",
            "bob18",
            "bob11",
            "bob11",
            "bob18",
            "bob11",
            "bob11",
            "bob11",
            "bob15",
            "bob11",
            "bob18",
            "bob11",
            "bob13",
            "bob13",
            "bob11"
           ]
          ]
         },
         "columnwidth": [
          0.5,
          0.1,
          0.3,
          0.2,
          0.2
         ],
         "header": {
          "fill": {
           "color": "maroon"
          },
          "font": {
           "color": "white"
          },
          "line": {
           "color": "lightgray"
          },
          "values": [
           "Name",
           "Fails",
           "Component",
           "Area",
           "Owner"
          ]
         },
         "type": "table"
        }
       ],
       "layout": {
        "autosize": true,
        "template": {
         "data": {
          "bar": [
           {
            "error_x": {
             "color": "#2a3f5f"
            },
            "error_y": {
             "color": "#2a3f5f"
            },
            "marker": {
             "line": {
              "color": "#E5ECF6",
              "width": 0.5
             },
             "pattern": {
              "fillmode": "overlay",
              "size": 10,
              "solidity": 0.2
             }
            },
            "type": "bar"
           }
          ],
          "barpolar": [
           {
            "marker": {
             "line": {
              "color": "#E5ECF6",
              "width": 0.5
             },
             "pattern": {
              "fillmode": "overlay",
              "size": 10,
              "solidity": 0.2
             }
            },
            "type": "barpolar"
           }
          ],
          "carpet": [
           {
            "aaxis": {
             "endlinecolor": "#2a3f5f",
             "gridcolor": "white",
             "linecolor": "white",
             "minorgridcolor": "white",
             "startlinecolor": "#2a3f5f"
            },
            "baxis": {
             "endlinecolor": "#2a3f5f",
             "gridcolor": "white",
             "linecolor": "white",
             "minorgridcolor": "white",
             "startlinecolor": "#2a3f5f"
            },
            "type": "carpet"
           }
          ],
          "choropleth": [
           {
            "colorbar": {
             "outlinewidth": 0,
             "ticks": ""
            },
            "type": "choropleth"
           }
          ],
          "contour": [
           {
            "colorbar": {
             "outlinewidth": 0,
             "ticks": ""
            },
            "colorscale": [
             [
              0,
              "#0d0887"
             ],
             [
              0.1111111111111111,
              "#46039f"
             ],
             [
              0.2222222222222222,
              "#7201a8"
             ],
             [
              0.3333333333333333,
              "#9c179e"
             ],
             [
              0.4444444444444444,
              "#bd3786"
             ],
             [
              0.5555555555555556,
              "#d8576b"
             ],
             [
              0.6666666666666666,
              "#ed7953"
             ],
             [
              0.7777777777777778,
              "#fb9f3a"
             ],
             [
              0.8888888888888888,
              "#fdca26"
             ],
             [
              1,
              "#f0f921"
             ]
            ],
            "type": "contour"
           }
          ],
          "contourcarpet": [
           {
            "colorbar": {
             "outlinewidth": 0,
             "ticks": ""
            },
            "type": "contourcarpet"
           }
          ],
          "heatmap": [
           {
            "colorbar": {
             "outlinewidth": 0,
             "ticks": ""
            },
            "colorscale": [
             [
              0,
              "#0d0887"
             ],
             [
              0.1111111111111111,
              "#46039f"
             ],
             [
              0.2222222222222222,
              "#7201a8"
             ],
             [
              0.3333333333333333,
              "#9c179e"
             ],
             [
              0.4444444444444444,
              "#bd3786"
             ],
             [
              0.5555555555555556,
              "#d8576b"
             ],
             [
              0.6666666666666666,
              "#ed7953"
             ],
             [
              0.7777777777777778,
              "#fb9f3a"
             ],
             [
              0.8888888888888888,
              "#fdca26"
             ],
             [
              1,
              "#f0f921"
             ]
            ],
            "type": "heatmap"
           }
          ],
          "heatmapgl": [
           {
            "colorbar": {
             "outlinewidth": 0,
             "ticks": ""
            },
            "colorscale": [
             [
              0,
              "#0d0887"
             ],
             [
              0.1111111111111111,
              "#46039f"
             ],
             [
              0.2222222222222222,
              "#7201a8"
             ],
             [
              0.3333333333333333,
              "#9c179e"
             ],
             [
              0.4444444444444444,
              "#bd3786"
             ],
             [
              0.5555555555555556,
              "#d8576b"
             ],
             [
              0.6666666666666666,
              "#ed7953"
             ],
             [
              0.7777777777777778,
              "#fb9f3a"
             ],
             [
              0.8888888888888888,
              "#fdca26"
             ],
             [
              1,
              "#f0f921"
             ]
            ],
            "type": "heatmapgl"
           }
          ],
          "histogram": [
           {
            "marker": {
             "pattern": {
              "fillmode": "overlay",
              "size": 10,
              "solidity": 0.2
             }
            },
            "type": "histogram"
           }
          ],
          "histogram2d": [
           {
            "colorbar": {
             "outlinewidth": 0,
             "ticks": ""
            },
            "colorscale": [
             [
              0,
              "#0d0887"
             ],
             [
              0.1111111111111111,
              "#46039f"
             ],
             [
              0.2222222222222222,
              "#7201a8"
             ],
             [
              0.3333333333333333,
              "#9c179e"
             ],
             [
              0.4444444444444444,
              "#bd3786"
             ],
             [
              0.5555555555555556,
              "#d8576b"
             ],
             [
              0.6666666666666666,
              "#ed7953"
             ],
             [
              0.7777777777777778,
              "#fb9f3a"
             ],
             [
              0.8888888888888888,
              "#fdca26"
             ],
             [
              1,
              "#f0f921"
             ]
            ],
            "type": "histogram2d"
           }
          ],
          "histogram2dcontour": [
           {
            "colorbar": {
             "outlinewidth": 0,
             "ticks": ""
            },
            "colorscale": [
             [
              0,
              "#0d0887"
             ],
             [
              0.1111111111111111,
              "#46039f"
             ],
             [
              0.2222222222222222,
              "#7201a8"
             ],
             [
              0.3333333333333333,
              "#9c179e"
             ],
             [
              0.4444444444444444,
              "#bd3786"
             ],
             [
              0.5555555555555556,
              "#d8576b"
             ],
             [
              0.6666666666666666,
              "#ed7953"
             ],
             [
              0.7777777777777778,
              "#fb9f3a"
             ],
             [
              0.8888888888888888,
              "#fdca26"
             ],
             [
              1,
              "#f0f921"
             ]
            ],
            "type": "histogram2dcontour"
           }
          ],
          "mesh3d": [
           {
            "colorbar": {
             "outlinewidth": 0,
             "ticks": ""
            },
            "type": "mesh3d"
           }
          ],
          "parcoords": [
           {
            "line": {
             "colorbar": {
              "outlinewidth": 0,
              "ticks": ""
             }
            },
            "type": "parcoords"
           }
          ],
          "pie": [
           {
            "automargin": true,
            "type": "pie"
           }
          ],
          "scatter": [
           {
            "marker": {
             "colorbar": {
              "outlinewidth": 0,
              "ticks": ""
             }
            },
            "type": "scatter"
           }
          ],
          "scatter3d": [
           {
            "line": {
             "colorbar": {
              "outlinewidth": 0,
              "ticks": ""
             }
            },
            "marker": {
             "colorbar": {
              "outlinewidth": 0,
              "ticks": ""
             }
            },
            "type": "scatter3d"
           }
          ],
          "scattercarpet": [
           {
            "marker": {
             "colorbar": {
              "outlinewidth": 0,
              "ticks": ""
             }
            },
            "type": "scattercarpet"
           }
          ],
          "scattergeo": [
           {
            "marker": {
             "colorbar": {
              "outlinewidth": 0,
              "ticks": ""
             }
            },
            "type": "scattergeo"
           }
          ],
          "scattergl": [
           {
            "marker": {
             "colorbar": {
              "outlinewidth": 0,
              "ticks": ""
             }
            },
            "type": "scattergl"
           }
          ],
          "scattermapbox": [
           {
            "marker": {
             "colorbar": {
              "outlinewidth": 0,
              "ticks": ""
             }
            },
            "type": "scattermapbox"
           }
          ],
          "scatterpolar": [
           {
            "marker": {
             "colorbar": {
              "outlinewidth": 0,
              "ticks": ""
             }
            },
            "type": "scatterpolar"
           }
          ],
          "scatterpolargl": [
           {
            "marker": {
             "colorbar": {
              "outlinewidth": 0,
              "ticks": ""
             }
            },
            "type": "scatterpolargl"
           }
          ],
          "scatterternary": [
           {
            "marker": {
             "colorbar": {
              "outlinewidth": 0,
              "ticks": ""
             }
            },
            "type": "scatterternary"
           }
          ],
          "surface": [
           {
            "colorbar": {
             "outlinewidth": 0,
             "ticks": ""
            },
            "colorscale": [
             [
              0,
              "#0d0887"
             ],
             [
              0.1111111111111111,
              "#46039f"
             ],
             [
              0.2222222222222222,
              "#7201a8"
             ],
             [
              0.3333333333333333,
              "#9c179e"
             ],
             [
              0.4444444444444444,
              "#bd3786"
             ],
             [
              0.5555555555555556,
              "#d8576b"
             ],
             [
              0.6666666666666666,
              "#ed7953"
             ],
             [
              0.7777777777777778,
              "#fb9f3a"
             ],
             [
              0.8888888888888888,
              "#fdca26"
             ],
             [
              1,
              "#f0f921"
             ]
            ],
            "type": "surface"
           }
          ],
          "table": [
           {
            "cells": {
             "fill": {
              "color": "#EBF0F8"
             },
             "line": {
              "color": "white"
             }
            },
            "header": {
             "fill": {
              "color": "#C8D4E3"
             },
             "line": {
              "color": "white"
             }
            },
            "type": "table"
           }
          ]
         },
         "layout": {
          "annotationdefaults": {
           "arrowcolor": "#2a3f5f",
           "arrowhead": 0,
           "arrowwidth": 1
          },
          "autotypenumbers": "strict",
          "coloraxis": {
           "colorbar": {
            "outlinewidth": 0,
            "ticks": ""
           }
          },
          "colorscale": {
           "diverging": [
            [
             0,
             "#8e0152"
            ],
            [
             0.1,
             "#c51b7d"
            ],
            [
             0.2,
             "#de77ae"
            ],
            [
             0.3,
             "#f1b6da"
            ],
            [
             0.4,
             "#fde0ef"
            ],
            [
             0.5,
             "#f7f7f7"
            ],
            [
             0.6,
             "#e6f5d0"
            ],
            [
             0.7,
             "#b8e186"
            ],
            [
             0.8,
             "#7fbc41"
            ],
            [
             0.9,
             "#4d9221"
            ],
            [
             1,
             "#276419"
            ]
           ],
           "sequential": [
            [
             0,
             "#0d0887"
            ],
            [
             0.1111111111111111,
             "#46039f"
            ],
            [
             0.2222222222222222,
             "#7201a8"
            ],
            [
             0.3333333333333333,
             "#9c179e"
            ],
            [
             0.4444444444444444,
             "#bd3786"
            ],
            [
             0.5555555555555556,
             "#d8576b"
            ],
            [
             0.6666666666666666,
             "#ed7953"
            ],
            [
             0.7777777777777778,
             "#fb9f3a"
            ],
            [
             0.8888888888888888,
             "#fdca26"
            ],
            [
             1,
             "#f0f921"
            ]
           ],
           "sequentialminus": [
            [
             0,
             "#0d0887"
            ],
            [
             0.1111111111111111,
             "#46039f"
            ],
            [
             0.2222222222222222,
             "#7201a8"
            ],
            [
             0.3333333333333333,
             "#9c179e"
            ],
            [
             0.4444444444444444,
             "#bd3786"
            ],
            [
             0.5555555555555556,
             "#d8576b"
            ],
            [
             0.6666666666666666,
             "#ed7953"
            ],
            [
             0.7777777777777778,
             "#fb9f3a"
            ],
            [
             0.8888888888888888,
             "#fdca26"
            ],
            [
             1,
             "#f0f921"
            ]
           ]
          },
          "colorway": [
           "#636efa",
           "#EF553B",
           "#00cc96",
           "#ab63fa",
           "#FFA15A",
           "#19d3f3",
           "#FF6692",
           "#B6E880",
           "#FF97FF",
           "#FECB52"
          ],
          "font": {
           "color": "#2a3f5f"
          },
          "geo": {
           "bgcolor": "white",
           "lakecolor": "white",
           "landcolor": "#E5ECF6",
           "showlakes": true,
           "showland": true,
           "subunitcolor": "white"
          },
          "hoverlabel": {
           "align": "left"
          },
          "hovermode": "closest",
          "mapbox": {
           "style": "light"
          },
          "paper_bgcolor": "white",
          "plot_bgcolor": "#E5ECF6",
          "polar": {
           "angularaxis": {
            "gridcolor": "white",
            "linecolor": "white",
            "ticks": ""
           },
           "bgcolor": "#E5ECF6",
           "radialaxis": {
            "gridcolor": "white",
            "linecolor": "white",
            "ticks": ""
           }
          },
          "scene": {
           "xaxis": {
            "backgroundcolor": "#E5ECF6",
            "gridcolor": "white",
            "gridwidth": 2,
            "linecolor": "white",
            "showbackground": true,
            "ticks": "",
            "zerolinecolor": "white"
           },
           "yaxis": {
            "backgroundcolor": "#E5ECF6",
            "gridcolor": "white",
            "gridwidth": 2,
            "linecolor": "white",
            "showbackground": true,
            "ticks": "",
            "zerolinecolor": "white"
           },
           "zaxis": {
            "backgroundcolor": "#E5ECF6",
            "gridcolor": "white",
            "gridwidth": 2,
            "linecolor": "white",
            "showbackground": true,
            "ticks": "",
            "zerolinecolor": "white"
           }
          },
          "shapedefaults": {
           "line": {
            "color": "#2a3f5f"
           }
          },
          "ternary": {
           "aaxis": {
            "gridcolor": "white",
            "linecolor": "white",
            "ticks": ""
           },
           "baxis": {
            "gridcolor": "white",
            "linecolor": "white",
            "ticks": ""
           },
           "bgcolor": "#E5ECF6",
           "caxis": {
            "gridcolor": "white",
            "linecolor": "white",
            "ticks": ""
           }
          },
          "title": {
           "x": 0.05
          },
          "xaxis": {
           "automargin": true,
           "gridcolor": "white",
           "linecolor": "white",
           "ticks": "",
           "title": {
            "standoff": 15
           },
           "zerolinecolor": "white",
           "zerolinewidth": 2
          },
          "yaxis": {
           "automargin": true,
           "gridcolor": "white",
           "linecolor": "white",
           "ticks": "",
           "title": {
            "standoff": 15
           },
           "zerolinecolor": "white",
           "zerolinewidth": 2
          }
         }
        }
       }
      },
      "image/png": "[encoded data removed]",
      "text/html": [
       "<div>                            <div id=\"e63f428a-e00d-4380-9f1f-d567ed4497ff\" class=\"plotly-graph-div\" style=\"height:1000px; width:100%;\"></div>            <script type=\"text/javascript\">                require([\"plotly\"], function(Plotly) {                    window.PLOTLYENV=window.PLOTLYENV || {};                                    if (document.getElementById(\"e63f428a-e00d-4380-9f1f-d567ed4497ff\")) {                    Plotly.newPlot(                        \"e63f428a-e00d-4380-9f1f-d567ed4497ff\",                        [{\"cells\":{\"align\":[\"left\",\"center\",\"center\",\"center\",\"center\"],\"fill\":{\"color\":\"#F4F4F4\"},\"font\":{\"size\":11},\"line\":{\"color\":\"lightgray\"},\"values\":[[\"<a href=\\\"http://uberjenkins.sc.couchbase.com:8080/job/cen7-sync-gateway-functional-tests-xattrs-userViews-ServerSsl/371\\\"target=\\\"_blank\\\">cen7-sync-gateway-functional-tests-xattrs-userViews-ServerSsl</a>\",\"<a href=\\\"http://uberjenkins.sc.couchbase.com:8080/job/cen7-sync-gateway-functional-tests-base-cc/3107\\\"target=\\\"_blank\\\">cen7-sync-gateway-functional-tests-base-cc</a>\",\"<a href=\\\"http://qa.sc.couchbase.com/job/test_suite_executor-TAF/127045\\\"target=\\\"_blank\\\">centos-analytics_Remote_Links_and_Datasets_7.0_P0</a>\",\"<a href=\\\"http://qa.sc.couchbase.com/job/test_suite_executor/363846\\\"target=\\\"_blank\\\">centos-eventing_sanity</a>\",\"<a href=\\\"http://qa.sc.couchbase.com/job/test_suite_executor/363693\\\"target=\\\"_blank\\\">centos-query_n1ql_fts_integration_phase1_6.5_P1</a>\",\"<a href=\\\"http://qa.sc.couchbase.com/job/test_suite_executor-TAF/126942\\\"target=\\\"_blank\\\">centos-analytics_Remote_Links_and_Datasets_7.0_P1</a>\",\"<a href=\\\"http://qa.sc.couchbase.com/job/test_suite_executor-TAF/126604\\\"target=\\\"_blank\\\">centos-transaction_steady_state_durability_majority_6.5_P0</a>\",\"<a href=\\\"http://qa.sc.couchbase.com/job/test_suite_executor-TAF/127098\\\"target=\\\"_blank\\\">centos-transaction_steady_state_durability_majority_and_persist_on_master_6.5_P0</a>\",\"<a href=\\\"http://qa.sc.couchbase.com/job/test_suite_executor-TAF/127087\\\"target=\\\"_blank\\\">centos-transaction_steady_state_durability_persist_to_majority_6.5_P0</a>\",\"<a href=\\\"http://qa.sc.couchbase.com/job/test_suite_executor/363564\\\"target=\\\"_blank\\\">centos-ipv6_rbac-n1ql</a>\",\"<a href=\\\"http://qa.sc.couchbase.com/job/test_suite_executor-TAF/127117\\\"target=\\\"_blank\\\">centos-transaction_concurrency_durability_majority_and_persist_on_master_6.5_P0_Set1</a>\",\"<a href=\\\"http://qa.sc.couchbase.com/job/test_suite_executor/365344\\\"target=\\\"_blank\\\">centos-eventing_settings</a>\",\"<a href=\\\"http://qa.sc.couchbase.com/job/test_suite_executor-TAF/127275\\\"target=\\\"_blank\\\">centos-transaction_concurrency_durability_persist_to_majority_6.5_P0_Set1</a>\",\"<a href=\\\"http://qa.sc.couchbase.com/job/test_suite_executor-TAF/127247\\\"target=\\\"_blank\\\">centos-transaction_concurrency_durability_majority_6.5_P0_Set1</a>\",\"<a href=\\\"http://qa.sc.couchbase.com/job/test_suite_executor/365421\\\"target=\\\"_blank\\\">centos-eventing_topology_bucket_op_with_timers</a>\",\"<a href=\\\"http://qa.sc.couchbase.com/job/test_suite_executor-TAF/126605\\\"target=\\\"_blank\\\">centos-transaction_multi_bucket_durability_majority_6.5_P0</a>\",\"<a href=\\\"http://qa.sc.couchbase.com/job/test_suite_executor-TAF/127298\\\"target=\\\"_blank\\\">centos-transaction_multi_bucket_durability_majority_6.5_P0_Set2</a>\",\"<a href=\\\"http://qa.sc.couchbase.com/job/test_suite_executor-TAF/127155\\\"target=\\\"_blank\\\">centos-transaction_multi_bucket_durability_majority_and_persist_on_master_6.5_P0</a>\",\"<a href=\\\"http://qa.sc.couchbase.com/job/test_suite_executor/364007\\\"target=\\\"_blank\\\">centos-fts_custom-map-n1ql-rqg-scorch_6.5_P1</a>\",\"<a href=\\\"http://qa.sc.couchbase.com/job/test_suite_executor-TAF/127301\\\"target=\\\"_blank\\\">centos-transaction_multi_bucket_durability_majority_defer_6.5_P0</a>\",\"<a href=\\\"http://qa.sc.couchbase.com/job/test_suite_executor/365382\\\"target=\\\"_blank\\\">centos-eventing_rebalance_collection_P1</a>\",\"<a href=\\\"http://qa.sc.couchbase.com/job/test_suite_executor-TAF/126966\\\"target=\\\"_blank\\\">centos-transaction_multi_bucket_durability_majority_defer_6.5_P0_Set1</a>\",\"<a href=\\\"http://qa.sc.couchbase.com/job/test_suite_executor-TAF/127092\\\"target=\\\"_blank\\\">centos-query_N1qltxn_ephemeral</a>\",\"<a href=\\\"http://qa.sc.couchbase.com/job/test_suite_executor-TAF/127306\\\"target=\\\"_blank\\\">centos-query_N1qltxn_services_P0</a>\",\"<a href=\\\"http://qa.sc.couchbase.com/job/test_suite_executor-TAF/126965\\\"target=\\\"_blank\\\">centos-transaction_multi_bucket_durability_majority_6.5_P0_Set1</a>\"],[327,326,57,41,41,40,39,32,32,28,27,27,27,27,25,25,25,25,25,25,25,24,24,24,24],[\"MOBILE\",\"MOBILE\",\"ANALYTICS\",\"EVENTING\",\"FTS\",\"ANALYTICS\",\"DURABILITY\",\"DURABILITY\",\"DURABILITY\",\"IPV6\",\"DURABILITY\",\"EVENTING\",\"DURABILITY\",\"DURABILITY\",\"EVENTING\",\"DURABILITY\",\"DURABILITY\",\"DURABILITY\",\"FTS\",\"DURABILITY\",\"EVENTING\",\"DURABILITY\",\"EPHEMERAL\",\"QUERY\",\"DURABILITY\"],[\"sync\",\"sync\",\"analytics\",\"eventing\",\"query\",\"analytics\",\"transaction\",\"transaction\",\"transaction\",\"rbac\",\"transaction\",\"eventing\",\"transaction\",\"transaction\",\"eventing\",\"transaction\",\"transaction\",\"transaction\",\"fts\",\"transaction\",\"eventing\",\"transaction\",\"query\",\"query\",\"transaction\"],[\"bob25\",\"bob25\",\"bob1\",\"bob18\",\"bob13\",\"bob1\",\"bob11\",\"bob11\",\"bob11\",\"bob30\",\"bob11\",\"bob18\",\"bob11\",\"bob11\",\"bob18\",\"bob11\",\"bob11\",\"bob11\",\"bob15\",\"bob11\",\"bob18\",\"bob11\",\"bob13\",\"bob13\",\"bob11\"]]},\"columnwidth\":[0.5,0.1,0.3,0.2,0.2],\"header\":{\"fill\":{\"color\":\"maroon\"},\"font\":{\"color\":\"white\"},\"line\":{\"color\":\"lightgray\"},\"values\":[\"Name\",\"Fails\",\"Component\",\"Area\",\"Owner\"]},\"type\":\"table\"}],                        {\"height\":1000,\"template\":{\"data\":{\"bar\":[{\"error_x\":{\"color\":\"#2a3f5f\"},\"error_y\":{\"color\":\"#2a3f5f\"},\"marker\":{\"line\":{\"color\":\"#E5ECF6\",\"width\":0.5},\"pattern\":{\"fillmode\":\"overlay\",\"size\":10,\"solidity\":0.2}},\"type\":\"bar\"}],\"barpolar\":[{\"marker\":{\"line\":{\"color\":\"#E5ECF6\",\"width\":0.5},\"pattern\":{\"fillmode\":\"overlay\",\"size\":10,\"solidity\":0.2}},\"type\":\"barpolar\"}],\"carpet\":[{\"aaxis\":{\"endlinecolor\":\"#2a3f5f\",\"gridcolor\":\"white\",\"linecolor\":\"white\",\"minorgridcolor\":\"white\",\"startlinecolor\":\"#2a3f5f\"},\"baxis\":{\"endlinecolor\":\"#2a3f5f\",\"gridcolor\":\"white\",\"linecolor\":\"white\",\"minorgridcolor\":\"white\",\"startlinecolor\":\"#2a3f5f\"},\"type\":\"carpet\"}],\"choropleth\":[{\"colorbar\":{\"outlinewidth\":0,\"ticks\":\"\"},\"type\":\"choropleth\"}],\"contour\":[{\"colorbar\":{\"outlinewidth\":0,\"ticks\":\"\"},\"colorscale\":[[0.0,\"#0d0887\"],[0.1111111111111111,\"#46039f\"],[0.2222222222222222,\"#7201a8\"],[0.3333333333333333,\"#9c179e\"],[0.4444444444444444,\"#bd3786\"],[0.5555555555555556,\"#d8576b\"],[0.6666666666666666,\"#ed7953\"],[0.7777777777777778,\"#fb9f3a\"],[0.8888888888888888,\"#fdca26\"],[1.0,\"#f0f921\"]],\"type\":\"contour\"}],\"contourcarpet\":[{\"colorbar\":{\"outlinewidth\":0,\"ticks\":\"\"},\"type\":\"contourcarpet\"}],\"heatmap\":[{\"colorbar\":{\"outlinewidth\":0,\"ticks\":\"\"},\"colorscale\":[[0.0,\"#0d0887\"],[0.1111111111111111,\"#46039f\"],[0.2222222222222222,\"#7201a8\"],[0.3333333333333333,\"#9c179e\"],[0.4444444444444444,\"#bd3786\"],[0.5555555555555556,\"#d8576b\"],[0.6666666666666666,\"#ed7953\"],[0.7777777777777778,\"#fb9f3a\"],[0.8888888888888888,\"#fdca26\"],[1.0,\"#f0f921\"]],\"type\":\"heatmap\"}],\"heatmapgl\":[{\"colorbar\":{\"outlinewidth\":0,\"ticks\":\"\"},\"colorscale\":[[0.0,\"#0d0887\"],[0.1111111111111111,\"#46039f\"],[0.2222222222222222,\"#7201a8\"],[0.3333333333333333,\"#9c179e\"],[0.4444444444444444,\"#bd3786\"],[0.5555555555555556,\"#d8576b\"],[0.6666666666666666,\"#ed7953\"],[0.7777777777777778,\"#fb9f3a\"],[0.8888888888888888,\"#fdca26\"],[1.0,\"#f0f921\"]],\"type\":\"heatmapgl\"}],\"histogram\":[{\"marker\":{\"pattern\":{\"fillmode\":\"overlay\",\"size\":10,\"solidity\":0.2}},\"type\":\"histogram\"}],\"histogram2d\":[{\"colorbar\":{\"outlinewidth\":0,\"ticks\":\"\"},\"colorscale\":[[0.0,\"#0d0887\"],[0.1111111111111111,\"#46039f\"],[0.2222222222222222,\"#7201a8\"],[0.3333333333333333,\"#9c179e\"],[0.4444444444444444,\"#bd3786\"],[0.5555555555555556,\"#d8576b\"],[0.6666666666666666,\"#ed7953\"],[0.7777777777777778,\"#fb9f3a\"],[0.8888888888888888,\"#fdca26\"],[1.0,\"#f0f921\"]],\"type\":\"histogram2d\"}],\"histogram2dcontour\":[{\"colorbar\":{\"outlinewidth\":0,\"ticks\":\"\"},\"colorscale\":[[0.0,\"#0d0887\"],[0.1111111111111111,\"#46039f\"],[0.2222222222222222,\"#7201a8\"],[0.3333333333333333,\"#9c179e\"],[0.4444444444444444,\"#bd3786\"],[0.5555555555555556,\"#d8576b\"],[0.6666666666666666,\"#ed7953\"],[0.7777777777777778,\"#fb9f3a\"],[0.8888888888888888,\"#fdca26\"],[1.0,\"#f0f921\"]],\"type\":\"histogram2dcontour\"}],\"mesh3d\":[{\"colorbar\":{\"outlinewidth\":0,\"ticks\":\"\"},\"type\":\"mesh3d\"}],\"parcoords\":[{\"line\":{\"colorbar\":{\"outlinewidth\":0,\"ticks\":\"\"}},\"type\":\"parcoords\"}],\"pie\":[{\"automargin\":true,\"type\":\"pie\"}],\"scatter\":[{\"marker\":{\"colorbar\":{\"outlinewidth\":0,\"ticks\":\"\"}},\"type\":\"scatter\"}],\"scatter3d\":[{\"line\":{\"colorbar\":{\"outlinewidth\":0,\"ticks\":\"\"}},\"marker\":{\"colorbar\":{\"outlinewidth\":0,\"ticks\":\"\"}},\"type\":\"scatter3d\"}],\"scattercarpet\":[{\"marker\":{\"colorbar\":{\"outlinewidth\":0,\"ticks\":\"\"}},\"type\":\"scattercarpet\"}],\"scattergeo\":[{\"marker\":{\"colorbar\":{\"outlinewidth\":0,\"ticks\":\"\"}},\"type\":\"scattergeo\"}],\"scattergl\":[{\"marker\":{\"colorbar\":{\"outlinewidth\":0,\"ticks\":\"\"}},\"type\":\"scattergl\"}],\"scattermapbox\":[{\"marker\":{\"colorbar\":{\"outlinewidth\":0,\"ticks\":\"\"}},\"type\":\"scattermapbox\"}],\"scatterpolar\":[{\"marker\":{\"colorbar\":{\"outlinewidth\":0,\"ticks\":\"\"}},\"type\":\"scatterpolar\"}],\"scatterpolargl\":[{\"marker\":{\"colorbar\":{\"outlinewidth\":0,\"ticks\":\"\"}},\"type\":\"scatterpolargl\"}],\"scatterternary\":[{\"marker\":{\"colorbar\":{\"outlinewidth\":0,\"ticks\":\"\"}},\"type\":\"scatterternary\"}],\"surface\":[{\"colorbar\":{\"outlinewidth\":0,\"ticks\":\"\"},\"colorscale\":[[0.0,\"#0d0887\"],[0.1111111111111111,\"#46039f\"],[0.2222222222222222,\"#7201a8\"],[0.3333333333333333,\"#9c179e\"],[0.4444444444444444,\"#bd3786\"],[0.5555555555555556,\"#d8576b\"],[0.6666666666666666,\"#ed7953\"],[0.7777777777777778,\"#fb9f3a\"],[0.8888888888888888,\"#fdca26\"],[1.0,\"#f0f921\"]],\"type\":\"surface\"}],\"table\":[{\"cells\":{\"fill\":{\"color\":\"#EBF0F8\"},\"line\":{\"color\":\"white\"}},\"header\":{\"fill\":{\"color\":\"#C8D4E3\"},\"line\":{\"color\":\"white\"}},\"type\":\"table\"}]},\"layout\":{\"annotationdefaults\":{\"arrowcolor\":\"#2a3f5f\",\"arrowhead\":0,\"arrowwidth\":1},\"autotypenumbers\":\"strict\",\"coloraxis\":{\"colorbar\":{\"outlinewidth\":0,\"ticks\":\"\"}},\"colorscale\":{\"diverging\":[[0,\"#8e0152\"],[0.1,\"#c51b7d\"],[0.2,\"#de77ae\"],[0.3,\"#f1b6da\"],[0.4,\"#fde0ef\"],[0.5,\"#f7f7f7\"],[0.6,\"#e6f5d0\"],[0.7,\"#b8e186\"],[0.8,\"#7fbc41\"],[0.9,\"#4d9221\"],[1,\"#276419\"]],\"sequential\":[[0.0,\"#0d0887\"],[0.1111111111111111,\"#46039f\"],[0.2222222222222222,\"#7201a8\"],[0.3333333333333333,\"#9c179e\"],[0.4444444444444444,\"#bd3786\"],[0.5555555555555556,\"#d8576b\"],[0.6666666666666666,\"#ed7953\"],[0.7777777777777778,\"#fb9f3a\"],[0.8888888888888888,\"#fdca26\"],[1.0,\"#f0f921\"]],\"sequentialminus\":[[0.0,\"#0d0887\"],[0.1111111111111111,\"#46039f\"],[0.2222222222222222,\"#7201a8\"],[0.3333333333333333,\"#9c179e\"],[0.4444444444444444,\"#bd3786\"],[0.5555555555555556,\"#d8576b\"],[0.6666666666666666,\"#ed7953\"],[0.7777777777777778,\"#fb9f3a\"],[0.8888888888888888,\"#fdca26\"],[1.0,\"#f0f921\"]]},\"colorway\":[\"#636efa\",\"#EF553B\",\"#00cc96\",\"#ab63fa\",\"#FFA15A\",\"#19d3f3\",\"#FF6692\",\"#B6E880\",\"#FF97FF\",\"#FECB52\"],\"font\":{\"color\":\"#2a3f5f\"},\"geo\":{\"bgcolor\":\"white\",\"lakecolor\":\"white\",\"landcolor\":\"#E5ECF6\",\"showlakes\":true,\"showland\":true,\"subunitcolor\":\"white\"},\"hoverlabel\":{\"align\":\"left\"},\"hovermode\":\"closest\",\"mapbox\":{\"style\":\"light\"},\"paper_bgcolor\":\"white\",\"plot_bgcolor\":\"#E5ECF6\",\"polar\":{\"angularaxis\":{\"gridcolor\":\"white\",\"linecolor\":\"white\",\"ticks\":\"\"},\"bgcolor\":\"#E5ECF6\",\"radialaxis\":{\"gridcolor\":\"white\",\"linecolor\":\"white\",\"ticks\":\"\"}},\"scene\":{\"xaxis\":{\"backgroundcolor\":\"#E5ECF6\",\"gridcolor\":\"white\",\"gridwidth\":2,\"linecolor\":\"white\",\"showbackground\":true,\"ticks\":\"\",\"zerolinecolor\":\"white\"},\"yaxis\":{\"backgroundcolor\":\"#E5ECF6\",\"gridcolor\":\"white\",\"gridwidth\":2,\"linecolor\":\"white\",\"showbackground\":true,\"ticks\":\"\",\"zerolinecolor\":\"white\"},\"zaxis\":{\"backgroundcolor\":\"#E5ECF6\",\"gridcolor\":\"white\",\"gridwidth\":2,\"linecolor\":\"white\",\"showbackground\":true,\"ticks\":\"\",\"zerolinecolor\":\"white\"}},\"shapedefaults\":{\"line\":{\"color\":\"#2a3f5f\"}},\"ternary\":{\"aaxis\":{\"gridcolor\":\"white\",\"linecolor\":\"white\",\"ticks\":\"\"},\"baxis\":{\"gridcolor\":\"white\",\"linecolor\":\"white\",\"ticks\":\"\"},\"bgcolor\":\"#E5ECF6\",\"caxis\":{\"gridcolor\":\"white\",\"linecolor\":\"white\",\"ticks\":\"\"}},\"title\":{\"x\":0.05},\"xaxis\":{\"automargin\":true,\"gridcolor\":\"white\",\"linecolor\":\"white\",\"ticks\":\"\",\"title\":{\"standoff\":15},\"zerolinecolor\":\"white\",\"zerolinewidth\":2},\"yaxis\":{\"automargin\":true,\"gridcolor\":\"white\",\"linecolor\":\"white\",\"ticks\":\"\",\"title\":{\"standoff\":15},\"zerolinecolor\":\"white\",\"zerolinewidth\":2}}}},                        {\"responsive\": true}                    ).then(function(){\n",
       "                            \n",
       "var gd = document.getElementById('e63f428a-e00d-4380-9f1f-d567ed4497ff');\n",
       "var x = new MutationObserver(function (mutations, observer) {{\n",
       "        var display = window.getComputedStyle(gd).display;\n",
       "        if (!display || display === 'none') {{\n",
       "            console.log([gd, 'removed!']);\n",
       "            Plotly.purge(gd);\n",
       "            observer.disconnect();\n",
       "        }}\n",
       "}});\n",
       "\n",
       "// Listen for the removal of the full notebook cells\n",
       "var notebookContainer = gd.closest('#notebook-container');\n",
       "if (notebookContainer) {{\n",
       "    x.observe(notebookContainer, {childList: true});\n",
       "}}\n",
       "\n",
       "// Listen for the clearing of the current output cell\n",
       "var outputEl = gd.closest('.output');\n",
       "if (outputEl) {{\n",
       "    x.observe(outputEl, {childList: true});\n",
       "}}\n",
       "\n",
       "                        })                };                });            </script>        </div>"
      ]
     },
     "metadata": {},
     "output_type": "display_data"
    }
   ],
   "source": [
    "#top 25 failures\n",
    "\n",
    "top_25_query = 'select url || to_string(build_id) as `joburl`,name,failCount,component,SPLIT(REPLACE(REPLACE(REPLACE(SPLIT(name,\"-\")[1], \"os_certify_ce_\", \"\"), \"ipv6_\", \"\"), \"os_certify_\", \"\"), \"_\")[0] as area,result from server where `build`=$version and lower(os)=\"centos\" order by failCount desc limit 25'\n",
    "top_25_failures = run_query(query=top_25_query, param={'$version': f'\"{release}-{current_build}\"'})\n",
    "\n",
    "data_top_t25 = pd.DataFrame(top_25_failures['results'])\n",
    "\n",
    "owners_data = []\n",
    "for area in data_top_t25.area:\n",
    "    owners_data.append(owners[f'{area}'])\n",
    "\n",
    "        \n",
    "def make_clickable(url, name):\n",
    "    return '<a href=\"{}\"target=\"_blank\">{}</a>'.format(url,name)\n",
    "\n",
    "data_top_t25['job'] = data_top_t25.apply(lambda x: make_clickable(x['joburl'], x['name']), axis=1)\n",
    "data_top_t25 = data_top_t25.drop('joburl', axis=1)\n",
    "\n",
    "\n",
    "table_t25_failures = go.Figure(data=[go.Table(\n",
    "    columnwidth=(0.5, 0.10, 0.3, 0.2, 0.2),\n",
    "    header = dict(values = [\"Name\", \"Fails\", \"Component\", \"Area\", \"Owner\"], fill_color = 'maroon', font=dict(color='white'), line_color='lightgray'),\n",
    "    cells = dict(values = [data_top_t25.job, data_top_t25.failCount, data_top_t25.component, data_top_t25.area, owners_data], align=['left', 'center', 'center', 'center', 'center'], line_color='lightgray', fill_color='#F4F4F4', font=dict(size=11))\n",
    ")])\n",
    "\n",
    "table_t25_failures.update_layout(height=1000)\n",
    "\n",
    "table_t25_failures.show()"
   ]
  },
  {
   "cell_type": "markdown",
   "id": "2816a9c7-a151-43a6-b730-e924c990f52a",
   "metadata": {},
   "source": [
    "## Over 50 Failures"
   ]
  },
  {
   "cell_type": "code",
   "execution_count": 176,
   "id": "cb92d306",
   "metadata": {
    "jupyter": {
     "source_hidden": true
    },
    "tags": [
     "hide_input"
    ]
   },
   "outputs": [],
   "source": [
    "# 50+ failures\n",
    "\n",
    "failures_50_query = f\"\"\"WITH components AS (\n",
    "    SELECT RAW component\n",
    "    FROM server\n",
    "    WHERE LOWER(os)=\"centos\"\n",
    "        AND `build`=\"{weekly_builds[0]}\"\n",
    "    GROUP BY component\n",
    "    HAVING SUM(failCount) > 50 )\n",
    "SELECT component, SPLIT(REPLACE(REPLACE(REPLACE(SPLIT(name,\"-\")[1], \"os_certify_ce_\", \"\"), \"ipv6_\", \"\"), \"os_certify_\", \"\"), \"_\")[0] as area,\n",
    "       SUM(CASE WHEN `build` = \"{weekly_builds[0]}\" THEN failCount END) AS CurrentFailed,\n",
    "       SUM(CASE WHEN `build` = \"{weekly_builds[1]}\" THEN failCount END) AS LastFailed,\n",
    "       SUM(CASE WHEN `build` = \"{weekly_builds[0]}\" THEN totalCount END) AS CurrentCount\n",
    "FROM server\n",
    "WHERE LOWER(os)=\"centos\"\n",
    "    AND `build`IN [\"{weekly_builds[0]}\",\"{weekly_builds[1]}\"]\n",
    "    AND component IN components\n",
    "GROUP BY component, SPLIT(REPLACE(REPLACE(REPLACE(SPLIT(name,\"-\")[1], \"os_certify_ce_\", \"\"), \"ipv6_\", \"\"), \"os_certify_\", \"\"), \"_\")[0]\n",
    "HAVING SUM(CASE WHEN `build` = \"{weekly_builds[0]}\" THEN failCount END) > 0 or SUM(CASE WHEN `build` = \"{weekly_builds[1]}\" THEN failCount END) > 0\n",
    "ORDER BY component, area\"\"\"\n",
    "\n",
    "failures_50 = run_query(query=failures_50_query, param={'$version': f'\"{release}-{current_build}\"'})\n",
    "sortdf50 = failures_50['results']\n",
    "\n",
    "data_table_50 = pd.DataFrame(sortdf50)"
   ]
  },
  {
   "cell_type": "code",
   "execution_count": 177,
   "id": "a2365ff6-80d5-4cc2-b056-5f68f5251c30",
   "metadata": {
    "jupyter": {
     "source_hidden": true
    },
    "tags": [
     "hide_input"
    ]
   },
   "outputs": [],
   "source": [
    "if sortdf50 != []:\n",
    "    component_data = []\n",
    "    total_data = {}\n",
    "\n",
    "    sorted_dt50_components = sorted(list(set(data_table_50.component)))\n",
    "    for compo in sorted_dt50_components:\n",
    "        component_data.append([])\n",
    "        total_data[f'{compo}'] = [0, 0]\n",
    "\n",
    "    for i in sortdf50:\n",
    "        i_component = i['component']\n",
    "        index = sorted_dt50_components.index(i_component)\n",
    "        total_data[f'{i_component}'][0] = total_data[f'{i_component}'][0] + i['CurrentFailed']\n",
    "        total_data[f'{i_component}'][1] = total_data[f'{i_component}'][1] + i['LastFailed']\n",
    "        component_data[index].append(f\"<b>{i['area']}</b><br>Now: {i['CurrentFailed']}<br>Last: {i['LastFailed']}\")\n",
    "\n",
    "    ind = 0\n",
    "    for each in component_data:\n",
    "        each.insert(0, f\"<b>Total</b><br>Now: {total_data[f'{sorted_dt50_components[ind]}'][0]}<br>Last: {total_data[f'{sorted_dt50_components[ind]}'][1]}\")\n",
    "        ind = ind + 1\n",
    "\n",
    "    df_cdata = pd.DataFrame(component_data)\n",
    "    df_cdata = df_cdata.fillna(\"\")\n",
    "    df_cdata = df_cdata.T\n",
    "\n",
    "    final_data = []\n",
    "    for element in range(0, len(df_cdata.columns)):\n",
    "        final_data.append(df_cdata.iloc[:, element])\n",
    "\n"
   ]
  },
  {
   "cell_type": "markdown",
   "id": "716a491a-bb69-4c0d-9f41-8dbf6699c204",
   "metadata": {},
   "source": [
    "Below is a table and a bar graph that display information about the components with 50 or more failures across all areas and compares the information to that of the previous weekly build."
   ]
  },
  {
   "cell_type": "code",
   "execution_count": 178,
   "id": "833cc943-0e92-4738-ab87-b0759c547213",
   "metadata": {
    "jupyter": {
     "source_hidden": true
    },
    "tags": [
     "hide_input"
    ]
   },
   "outputs": [
    {
     "data": {
      "application/vnd.plotly.v1+json": {
       "config": {
        "plotlyServerURL": "https://plot.ly"
       },
       "data": [
        {
         "cells": {
          "fill": {
           "color": [
            "#F4F4F4",
            "#F4F4F4",
            "#F4F4F4",
            [
             "#8BE9A3",
             "#FFBAAB",
             "#FFBAAB",
             "#FFBAAB",
             "#F4F4F4",
             "#FFBAAB",
             "#FFBAAB",
             "#FFBAAB",
             "#F4F4F4",
             "#FFBAAB",
             "#F4F4F4",
             "#FFBAAB",
             "#F4F4F4",
             "#FFBAAB",
             "#FFBAAB",
             "#8BE9A3",
             "#FFBAAB",
             "#FFBAAB",
             "#F4F4F4",
             "#FFBAAB",
             "#FFBAAB",
             "#FFBAAB",
             "#FFBAAB",
             "#FFBAAB",
             "#FFBAAB",
             "#FFBAAB",
             "#FFBAAB",
             "#FFBAAB",
             "#FFBAAB",
             "#FFBAAB",
             "#FFBAAB",
             "#FFBAAB",
             "#F4F4F4",
             "#FFBAAB",
             "#FFBAAB",
             "#8BE9A3",
             "#FFBAAB",
             "#FFBAAB",
             "#FFBAAB",
             "#8BE9A3",
             "#F4F4F4",
             "#FFBAAB",
             "#FFBAAB",
             "#FFBAAB",
             "#FFBAAB",
             "#FFBAAB"
            ]
           ]
          },
          "line": {
           "color": "lightgray"
          },
          "values": [
           [
            "2I_MOI",
            "ANALYTICS",
            "ANALYTICS",
            "COLLECTIONS",
            "COLLECTIONS",
            "COLLECTIONS",
            "COLLECTIONS",
            "COLLECTIONS",
            "COLLECTIONS",
            "COLLECTIONS",
            "COLLECTIONS",
            "COLLECTIONS",
            "COMPRESSION",
            "COMPRESSION",
            "COMPRESSION",
            "COMPRESSION",
            "COMPRESSION",
            "COMPRESSION",
            "COMPRESSION",
            "COMPRESSION",
            "DURABILITY",
            "DURABILITY",
            "DURABILITY",
            "EPHEMERAL",
            "EPHEMERAL",
            "EPHEMERAL",
            "EVENTING",
            "FTS",
            "FTS",
            "FTS",
            "GOXDCR",
            "IPV6",
            "IPV6",
            "IPV6",
            "IPV6",
            "IPV6",
            "IPV6",
            "IPV6",
            "IPV6",
            "IPV6",
            "IPV6",
            "IPV6",
            "IPV6",
            "MOBILE",
            "NSERV",
            "QUERY"
           ],
           [
            "2i",
            "analytics",
            "query",
            "2i",
            "analytics",
            "backup",
            "collections",
            "fts",
            "plasma",
            "query",
            "upgrade",
            "xdcr",
            "2i",
            "backup",
            "cli",
            "ephemeral",
            "nserv",
            "sanity",
            "tunable",
            "xdcr",
            "durability",
            "query",
            "transaction",
            "ephemeral",
            "nserv",
            "query",
            "eventing",
            "fts",
            "query",
            "rqg",
            "xdcr",
            "2i",
            "bkrs",
            "ent",
            "eventing",
            "n1ql",
            "obj",
            "rbac",
            "sanity",
            "security",
            "tools",
            "transaction",
            "xdcr",
            "sync",
            "nserv",
            "query"
           ],
           [
            86,
            320,
            1,
            121,
            1,
            3,
            351,
            81,
            2,
            47,
            2,
            9,
            1,
            1,
            26,
            1,
            1,
            24,
            1,
            13,
            336,
            7,
            867,
            23,
            40,
            24,
            540,
            89,
            59,
            2,
            63,
            3,
            17,
            2,
            7,
            2,
            10,
            31,
            9,
            3,
            1,
            4,
            5,
            654,
            66,
            141
           ],
           [
            "18 less  failures",
            "218 more failures",
            "1 more failure",
            "84 more failures",
            "No Change",
            "3 more failures",
            "337 more failures",
            "48 more failures",
            "No Change",
            "26 more failures",
            "No Change",
            "3 more failures",
            "No Change",
            "1 more failure",
            "10 more failures",
            "15 less  failures",
            "1 more failure",
            "24 more failures",
            "No Change",
            "3 more failures",
            "272 more failures",
            "5 more failures",
            "850 more failures",
            "14 more failures",
            "39 more failures",
            "24 more failures",
            "530 more failures",
            "2 more failures",
            "8 more failures",
            "2 more failures",
            "39 more failures",
            "2 more failures",
            "No Change",
            "2 more failures",
            "7 more failures",
            "1 less failure",
            "9 more failures",
            "28 more failures",
            "5 more failures",
            "1 less failure",
            "No Change",
            "2 more failures",
            "3 more failures",
            "2 more failures",
            "40 more failures",
            "127 more failures"
           ]
          ]
         },
         "header": {
          "fill": {
           "color": "maroon"
          },
          "font": {
           "color": "white"
          },
          "values": [
           "Component",
           "Break-Up",
           "Fails in 1047",
           "Delta from 7.1.0-1038"
          ]
         },
         "type": "table"
        }
       ],
       "layout": {
        "autosize": true,
        "template": {
         "data": {
          "bar": [
           {
            "error_x": {
             "color": "#2a3f5f"
            },
            "error_y": {
             "color": "#2a3f5f"
            },
            "marker": {
             "line": {
              "color": "#E5ECF6",
              "width": 0.5
             },
             "pattern": {
              "fillmode": "overlay",
              "size": 10,
              "solidity": 0.2
             }
            },
            "type": "bar"
           }
          ],
          "barpolar": [
           {
            "marker": {
             "line": {
              "color": "#E5ECF6",
              "width": 0.5
             },
             "pattern": {
              "fillmode": "overlay",
              "size": 10,
              "solidity": 0.2
             }
            },
            "type": "barpolar"
           }
          ],
          "carpet": [
           {
            "aaxis": {
             "endlinecolor": "#2a3f5f",
             "gridcolor": "white",
             "linecolor": "white",
             "minorgridcolor": "white",
             "startlinecolor": "#2a3f5f"
            },
            "baxis": {
             "endlinecolor": "#2a3f5f",
             "gridcolor": "white",
             "linecolor": "white",
             "minorgridcolor": "white",
             "startlinecolor": "#2a3f5f"
            },
            "type": "carpet"
           }
          ],
          "choropleth": [
           {
            "colorbar": {
             "outlinewidth": 0,
             "ticks": ""
            },
            "type": "choropleth"
           }
          ],
          "contour": [
           {
            "colorbar": {
             "outlinewidth": 0,
             "ticks": ""
            },
            "colorscale": [
             [
              0,
              "#0d0887"
             ],
             [
              0.1111111111111111,
              "#46039f"
             ],
             [
              0.2222222222222222,
              "#7201a8"
             ],
             [
              0.3333333333333333,
              "#9c179e"
             ],
             [
              0.4444444444444444,
              "#bd3786"
             ],
             [
              0.5555555555555556,
              "#d8576b"
             ],
             [
              0.6666666666666666,
              "#ed7953"
             ],
             [
              0.7777777777777778,
              "#fb9f3a"
             ],
             [
              0.8888888888888888,
              "#fdca26"
             ],
             [
              1,
              "#f0f921"
             ]
            ],
            "type": "contour"
           }
          ],
          "contourcarpet": [
           {
            "colorbar": {
             "outlinewidth": 0,
             "ticks": ""
            },
            "type": "contourcarpet"
           }
          ],
          "heatmap": [
           {
            "colorbar": {
             "outlinewidth": 0,
             "ticks": ""
            },
            "colorscale": [
             [
              0,
              "#0d0887"
             ],
             [
              0.1111111111111111,
              "#46039f"
             ],
             [
              0.2222222222222222,
              "#7201a8"
             ],
             [
              0.3333333333333333,
              "#9c179e"
             ],
             [
              0.4444444444444444,
              "#bd3786"
             ],
             [
              0.5555555555555556,
              "#d8576b"
             ],
             [
              0.6666666666666666,
              "#ed7953"
             ],
             [
              0.7777777777777778,
              "#fb9f3a"
             ],
             [
              0.8888888888888888,
              "#fdca26"
             ],
             [
              1,
              "#f0f921"
             ]
            ],
            "type": "heatmap"
           }
          ],
          "heatmapgl": [
           {
            "colorbar": {
             "outlinewidth": 0,
             "ticks": ""
            },
            "colorscale": [
             [
              0,
              "#0d0887"
             ],
             [
              0.1111111111111111,
              "#46039f"
             ],
             [
              0.2222222222222222,
              "#7201a8"
             ],
             [
              0.3333333333333333,
              "#9c179e"
             ],
             [
              0.4444444444444444,
              "#bd3786"
             ],
             [
              0.5555555555555556,
              "#d8576b"
             ],
             [
              0.6666666666666666,
              "#ed7953"
             ],
             [
              0.7777777777777778,
              "#fb9f3a"
             ],
             [
              0.8888888888888888,
              "#fdca26"
             ],
             [
              1,
              "#f0f921"
             ]
            ],
            "type": "heatmapgl"
           }
          ],
          "histogram": [
           {
            "marker": {
             "pattern": {
              "fillmode": "overlay",
              "size": 10,
              "solidity": 0.2
             }
            },
            "type": "histogram"
           }
          ],
          "histogram2d": [
           {
            "colorbar": {
             "outlinewidth": 0,
             "ticks": ""
            },
            "colorscale": [
             [
              0,
              "#0d0887"
             ],
             [
              0.1111111111111111,
              "#46039f"
             ],
             [
              0.2222222222222222,
              "#7201a8"
             ],
             [
              0.3333333333333333,
              "#9c179e"
             ],
             [
              0.4444444444444444,
              "#bd3786"
             ],
             [
              0.5555555555555556,
              "#d8576b"
             ],
             [
              0.6666666666666666,
              "#ed7953"
             ],
             [
              0.7777777777777778,
              "#fb9f3a"
             ],
             [
              0.8888888888888888,
              "#fdca26"
             ],
             [
              1,
              "#f0f921"
             ]
            ],
            "type": "histogram2d"
           }
          ],
          "histogram2dcontour": [
           {
            "colorbar": {
             "outlinewidth": 0,
             "ticks": ""
            },
            "colorscale": [
             [
              0,
              "#0d0887"
             ],
             [
              0.1111111111111111,
              "#46039f"
             ],
             [
              0.2222222222222222,
              "#7201a8"
             ],
             [
              0.3333333333333333,
              "#9c179e"
             ],
             [
              0.4444444444444444,
              "#bd3786"
             ],
             [
              0.5555555555555556,
              "#d8576b"
             ],
             [
              0.6666666666666666,
              "#ed7953"
             ],
             [
              0.7777777777777778,
              "#fb9f3a"
             ],
             [
              0.8888888888888888,
              "#fdca26"
             ],
             [
              1,
              "#f0f921"
             ]
            ],
            "type": "histogram2dcontour"
           }
          ],
          "mesh3d": [
           {
            "colorbar": {
             "outlinewidth": 0,
             "ticks": ""
            },
            "type": "mesh3d"
           }
          ],
          "parcoords": [
           {
            "line": {
             "colorbar": {
              "outlinewidth": 0,
              "ticks": ""
             }
            },
            "type": "parcoords"
           }
          ],
          "pie": [
           {
            "automargin": true,
            "type": "pie"
           }
          ],
          "scatter": [
           {
            "marker": {
             "colorbar": {
              "outlinewidth": 0,
              "ticks": ""
             }
            },
            "type": "scatter"
           }
          ],
          "scatter3d": [
           {
            "line": {
             "colorbar": {
              "outlinewidth": 0,
              "ticks": ""
             }
            },
            "marker": {
             "colorbar": {
              "outlinewidth": 0,
              "ticks": ""
             }
            },
            "type": "scatter3d"
           }
          ],
          "scattercarpet": [
           {
            "marker": {
             "colorbar": {
              "outlinewidth": 0,
              "ticks": ""
             }
            },
            "type": "scattercarpet"
           }
          ],
          "scattergeo": [
           {
            "marker": {
             "colorbar": {
              "outlinewidth": 0,
              "ticks": ""
             }
            },
            "type": "scattergeo"
           }
          ],
          "scattergl": [
           {
            "marker": {
             "colorbar": {
              "outlinewidth": 0,
              "ticks": ""
             }
            },
            "type": "scattergl"
           }
          ],
          "scattermapbox": [
           {
            "marker": {
             "colorbar": {
              "outlinewidth": 0,
              "ticks": ""
             }
            },
            "type": "scattermapbox"
           }
          ],
          "scatterpolar": [
           {
            "marker": {
             "colorbar": {
              "outlinewidth": 0,
              "ticks": ""
             }
            },
            "type": "scatterpolar"
           }
          ],
          "scatterpolargl": [
           {
            "marker": {
             "colorbar": {
              "outlinewidth": 0,
              "ticks": ""
             }
            },
            "type": "scatterpolargl"
           }
          ],
          "scatterternary": [
           {
            "marker": {
             "colorbar": {
              "outlinewidth": 0,
              "ticks": ""
             }
            },
            "type": "scatterternary"
           }
          ],
          "surface": [
           {
            "colorbar": {
             "outlinewidth": 0,
             "ticks": ""
            },
            "colorscale": [
             [
              0,
              "#0d0887"
             ],
             [
              0.1111111111111111,
              "#46039f"
             ],
             [
              0.2222222222222222,
              "#7201a8"
             ],
             [
              0.3333333333333333,
              "#9c179e"
             ],
             [
              0.4444444444444444,
              "#bd3786"
             ],
             [
              0.5555555555555556,
              "#d8576b"
             ],
             [
              0.6666666666666666,
              "#ed7953"
             ],
             [
              0.7777777777777778,
              "#fb9f3a"
             ],
             [
              0.8888888888888888,
              "#fdca26"
             ],
             [
              1,
              "#f0f921"
             ]
            ],
            "type": "surface"
           }
          ],
          "table": [
           {
            "cells": {
             "fill": {
              "color": "#EBF0F8"
             },
             "line": {
              "color": "white"
             }
            },
            "header": {
             "fill": {
              "color": "#C8D4E3"
             },
             "line": {
              "color": "white"
             }
            },
            "type": "table"
           }
          ]
         },
         "layout": {
          "annotationdefaults": {
           "arrowcolor": "#2a3f5f",
           "arrowhead": 0,
           "arrowwidth": 1
          },
          "autotypenumbers": "strict",
          "coloraxis": {
           "colorbar": {
            "outlinewidth": 0,
            "ticks": ""
           }
          },
          "colorscale": {
           "diverging": [
            [
             0,
             "#8e0152"
            ],
            [
             0.1,
             "#c51b7d"
            ],
            [
             0.2,
             "#de77ae"
            ],
            [
             0.3,
             "#f1b6da"
            ],
            [
             0.4,
             "#fde0ef"
            ],
            [
             0.5,
             "#f7f7f7"
            ],
            [
             0.6,
             "#e6f5d0"
            ],
            [
             0.7,
             "#b8e186"
            ],
            [
             0.8,
             "#7fbc41"
            ],
            [
             0.9,
             "#4d9221"
            ],
            [
             1,
             "#276419"
            ]
           ],
           "sequential": [
            [
             0,
             "#0d0887"
            ],
            [
             0.1111111111111111,
             "#46039f"
            ],
            [
             0.2222222222222222,
             "#7201a8"
            ],
            [
             0.3333333333333333,
             "#9c179e"
            ],
            [
             0.4444444444444444,
             "#bd3786"
            ],
            [
             0.5555555555555556,
             "#d8576b"
            ],
            [
             0.6666666666666666,
             "#ed7953"
            ],
            [
             0.7777777777777778,
             "#fb9f3a"
            ],
            [
             0.8888888888888888,
             "#fdca26"
            ],
            [
             1,
             "#f0f921"
            ]
           ],
           "sequentialminus": [
            [
             0,
             "#0d0887"
            ],
            [
             0.1111111111111111,
             "#46039f"
            ],
            [
             0.2222222222222222,
             "#7201a8"
            ],
            [
             0.3333333333333333,
             "#9c179e"
            ],
            [
             0.4444444444444444,
             "#bd3786"
            ],
            [
             0.5555555555555556,
             "#d8576b"
            ],
            [
             0.6666666666666666,
             "#ed7953"
            ],
            [
             0.7777777777777778,
             "#fb9f3a"
            ],
            [
             0.8888888888888888,
             "#fdca26"
            ],
            [
             1,
             "#f0f921"
            ]
           ]
          },
          "colorway": [
           "#636efa",
           "#EF553B",
           "#00cc96",
           "#ab63fa",
           "#FFA15A",
           "#19d3f3",
           "#FF6692",
           "#B6E880",
           "#FF97FF",
           "#FECB52"
          ],
          "font": {
           "color": "#2a3f5f"
          },
          "geo": {
           "bgcolor": "white",
           "lakecolor": "white",
           "landcolor": "#E5ECF6",
           "showlakes": true,
           "showland": true,
           "subunitcolor": "white"
          },
          "hoverlabel": {
           "align": "left"
          },
          "hovermode": "closest",
          "mapbox": {
           "style": "light"
          },
          "paper_bgcolor": "white",
          "plot_bgcolor": "#E5ECF6",
          "polar": {
           "angularaxis": {
            "gridcolor": "white",
            "linecolor": "white",
            "ticks": ""
           },
           "bgcolor": "#E5ECF6",
           "radialaxis": {
            "gridcolor": "white",
            "linecolor": "white",
            "ticks": ""
           }
          },
          "scene": {
           "xaxis": {
            "backgroundcolor": "#E5ECF6",
            "gridcolor": "white",
            "gridwidth": 2,
            "linecolor": "white",
            "showbackground": true,
            "ticks": "",
            "zerolinecolor": "white"
           },
           "yaxis": {
            "backgroundcolor": "#E5ECF6",
            "gridcolor": "white",
            "gridwidth": 2,
            "linecolor": "white",
            "showbackground": true,
            "ticks": "",
            "zerolinecolor": "white"
           },
           "zaxis": {
            "backgroundcolor": "#E5ECF6",
            "gridcolor": "white",
            "gridwidth": 2,
            "linecolor": "white",
            "showbackground": true,
            "ticks": "",
            "zerolinecolor": "white"
           }
          },
          "shapedefaults": {
           "line": {
            "color": "#2a3f5f"
           }
          },
          "ternary": {
           "aaxis": {
            "gridcolor": "white",
            "linecolor": "white",
            "ticks": ""
           },
           "baxis": {
            "gridcolor": "white",
            "linecolor": "white",
            "ticks": ""
           },
           "bgcolor": "#E5ECF6",
           "caxis": {
            "gridcolor": "white",
            "linecolor": "white",
            "ticks": ""
           }
          },
          "title": {
           "x": 0.05
          },
          "xaxis": {
           "automargin": true,
           "gridcolor": "white",
           "linecolor": "white",
           "ticks": "",
           "title": {
            "standoff": 15
           },
           "zerolinecolor": "white",
           "zerolinewidth": 2
          },
          "yaxis": {
           "automargin": true,
           "gridcolor": "white",
           "linecolor": "white",
           "ticks": "",
           "title": {
            "standoff": 15
           },
           "zerolinecolor": "white",
           "zerolinewidth": 2
          }
         }
        },
        "title": {
         "text": "Areas in 7.1.0-1047 with Over 50 Failures and Comparison with 7.1.0-1038 (Table)"
        }
       }
      },
      "image/png": "[encoded data removed]",
      "text/html": [
       "<div>                            <div id=\"e3874b31-d933-4de6-865f-1432a649282b\" class=\"plotly-graph-div\" style=\"height:700px; width:100%;\"></div>            <script type=\"text/javascript\">                require([\"plotly\"], function(Plotly) {                    window.PLOTLYENV=window.PLOTLYENV || {};                                    if (document.getElementById(\"e3874b31-d933-4de6-865f-1432a649282b\")) {                    Plotly.newPlot(                        \"e3874b31-d933-4de6-865f-1432a649282b\",                        [{\"cells\":{\"fill\":{\"color\":[\"#F4F4F4\",\"#F4F4F4\",\"#F4F4F4\",[\"#8BE9A3\",\"#FFBAAB\",\"#FFBAAB\",\"#FFBAAB\",\"#F4F4F4\",\"#FFBAAB\",\"#FFBAAB\",\"#FFBAAB\",\"#F4F4F4\",\"#FFBAAB\",\"#F4F4F4\",\"#FFBAAB\",\"#F4F4F4\",\"#FFBAAB\",\"#FFBAAB\",\"#8BE9A3\",\"#FFBAAB\",\"#FFBAAB\",\"#F4F4F4\",\"#FFBAAB\",\"#FFBAAB\",\"#FFBAAB\",\"#FFBAAB\",\"#FFBAAB\",\"#FFBAAB\",\"#FFBAAB\",\"#FFBAAB\",\"#FFBAAB\",\"#FFBAAB\",\"#FFBAAB\",\"#FFBAAB\",\"#FFBAAB\",\"#F4F4F4\",\"#FFBAAB\",\"#FFBAAB\",\"#8BE9A3\",\"#FFBAAB\",\"#FFBAAB\",\"#FFBAAB\",\"#8BE9A3\",\"#F4F4F4\",\"#FFBAAB\",\"#FFBAAB\",\"#FFBAAB\",\"#FFBAAB\",\"#FFBAAB\"]]},\"line\":{\"color\":\"lightgray\"},\"values\":[[\"2I_MOI\",\"ANALYTICS\",\"ANALYTICS\",\"COLLECTIONS\",\"COLLECTIONS\",\"COLLECTIONS\",\"COLLECTIONS\",\"COLLECTIONS\",\"COLLECTIONS\",\"COLLECTIONS\",\"COLLECTIONS\",\"COLLECTIONS\",\"COMPRESSION\",\"COMPRESSION\",\"COMPRESSION\",\"COMPRESSION\",\"COMPRESSION\",\"COMPRESSION\",\"COMPRESSION\",\"COMPRESSION\",\"DURABILITY\",\"DURABILITY\",\"DURABILITY\",\"EPHEMERAL\",\"EPHEMERAL\",\"EPHEMERAL\",\"EVENTING\",\"FTS\",\"FTS\",\"FTS\",\"GOXDCR\",\"IPV6\",\"IPV6\",\"IPV6\",\"IPV6\",\"IPV6\",\"IPV6\",\"IPV6\",\"IPV6\",\"IPV6\",\"IPV6\",\"IPV6\",\"IPV6\",\"MOBILE\",\"NSERV\",\"QUERY\"],[\"2i\",\"analytics\",\"query\",\"2i\",\"analytics\",\"backup\",\"collections\",\"fts\",\"plasma\",\"query\",\"upgrade\",\"xdcr\",\"2i\",\"backup\",\"cli\",\"ephemeral\",\"nserv\",\"sanity\",\"tunable\",\"xdcr\",\"durability\",\"query\",\"transaction\",\"ephemeral\",\"nserv\",\"query\",\"eventing\",\"fts\",\"query\",\"rqg\",\"xdcr\",\"2i\",\"bkrs\",\"ent\",\"eventing\",\"n1ql\",\"obj\",\"rbac\",\"sanity\",\"security\",\"tools\",\"transaction\",\"xdcr\",\"sync\",\"nserv\",\"query\"],[86,320,1,121,1,3,351,81,2,47,2,9,1,1,26,1,1,24,1,13,336,7,867,23,40,24,540,89,59,2,63,3,17,2,7,2,10,31,9,3,1,4,5,654,66,141],[\"18 less  failures\",\"218 more failures\",\"1 more failure\",\"84 more failures\",\"No Change\",\"3 more failures\",\"337 more failures\",\"48 more failures\",\"No Change\",\"26 more failures\",\"No Change\",\"3 more failures\",\"No Change\",\"1 more failure\",\"10 more failures\",\"15 less  failures\",\"1 more failure\",\"24 more failures\",\"No Change\",\"3 more failures\",\"272 more failures\",\"5 more failures\",\"850 more failures\",\"14 more failures\",\"39 more failures\",\"24 more failures\",\"530 more failures\",\"2 more failures\",\"8 more failures\",\"2 more failures\",\"39 more failures\",\"2 more failures\",\"No Change\",\"2 more failures\",\"7 more failures\",\"1 less failure\",\"9 more failures\",\"28 more failures\",\"5 more failures\",\"1 less failure\",\"No Change\",\"2 more failures\",\"3 more failures\",\"2 more failures\",\"40 more failures\",\"127 more failures\"]]},\"header\":{\"fill\":{\"color\":\"maroon\"},\"font\":{\"color\":\"white\"},\"values\":[\"Component\",\"Break-Up\",\"Fails in 1047\",\"Delta from 7.1.0-1038\"]},\"type\":\"table\"}],                        {\"height\":700,\"template\":{\"data\":{\"bar\":[{\"error_x\":{\"color\":\"#2a3f5f\"},\"error_y\":{\"color\":\"#2a3f5f\"},\"marker\":{\"line\":{\"color\":\"#E5ECF6\",\"width\":0.5},\"pattern\":{\"fillmode\":\"overlay\",\"size\":10,\"solidity\":0.2}},\"type\":\"bar\"}],\"barpolar\":[{\"marker\":{\"line\":{\"color\":\"#E5ECF6\",\"width\":0.5},\"pattern\":{\"fillmode\":\"overlay\",\"size\":10,\"solidity\":0.2}},\"type\":\"barpolar\"}],\"carpet\":[{\"aaxis\":{\"endlinecolor\":\"#2a3f5f\",\"gridcolor\":\"white\",\"linecolor\":\"white\",\"minorgridcolor\":\"white\",\"startlinecolor\":\"#2a3f5f\"},\"baxis\":{\"endlinecolor\":\"#2a3f5f\",\"gridcolor\":\"white\",\"linecolor\":\"white\",\"minorgridcolor\":\"white\",\"startlinecolor\":\"#2a3f5f\"},\"type\":\"carpet\"}],\"choropleth\":[{\"colorbar\":{\"outlinewidth\":0,\"ticks\":\"\"},\"type\":\"choropleth\"}],\"contour\":[{\"colorbar\":{\"outlinewidth\":0,\"ticks\":\"\"},\"colorscale\":[[0.0,\"#0d0887\"],[0.1111111111111111,\"#46039f\"],[0.2222222222222222,\"#7201a8\"],[0.3333333333333333,\"#9c179e\"],[0.4444444444444444,\"#bd3786\"],[0.5555555555555556,\"#d8576b\"],[0.6666666666666666,\"#ed7953\"],[0.7777777777777778,\"#fb9f3a\"],[0.8888888888888888,\"#fdca26\"],[1.0,\"#f0f921\"]],\"type\":\"contour\"}],\"contourcarpet\":[{\"colorbar\":{\"outlinewidth\":0,\"ticks\":\"\"},\"type\":\"contourcarpet\"}],\"heatmap\":[{\"colorbar\":{\"outlinewidth\":0,\"ticks\":\"\"},\"colorscale\":[[0.0,\"#0d0887\"],[0.1111111111111111,\"#46039f\"],[0.2222222222222222,\"#7201a8\"],[0.3333333333333333,\"#9c179e\"],[0.4444444444444444,\"#bd3786\"],[0.5555555555555556,\"#d8576b\"],[0.6666666666666666,\"#ed7953\"],[0.7777777777777778,\"#fb9f3a\"],[0.8888888888888888,\"#fdca26\"],[1.0,\"#f0f921\"]],\"type\":\"heatmap\"}],\"heatmapgl\":[{\"colorbar\":{\"outlinewidth\":0,\"ticks\":\"\"},\"colorscale\":[[0.0,\"#0d0887\"],[0.1111111111111111,\"#46039f\"],[0.2222222222222222,\"#7201a8\"],[0.3333333333333333,\"#9c179e\"],[0.4444444444444444,\"#bd3786\"],[0.5555555555555556,\"#d8576b\"],[0.6666666666666666,\"#ed7953\"],[0.7777777777777778,\"#fb9f3a\"],[0.8888888888888888,\"#fdca26\"],[1.0,\"#f0f921\"]],\"type\":\"heatmapgl\"}],\"histogram\":[{\"marker\":{\"pattern\":{\"fillmode\":\"overlay\",\"size\":10,\"solidity\":0.2}},\"type\":\"histogram\"}],\"histogram2d\":[{\"colorbar\":{\"outlinewidth\":0,\"ticks\":\"\"},\"colorscale\":[[0.0,\"#0d0887\"],[0.1111111111111111,\"#46039f\"],[0.2222222222222222,\"#7201a8\"],[0.3333333333333333,\"#9c179e\"],[0.4444444444444444,\"#bd3786\"],[0.5555555555555556,\"#d8576b\"],[0.6666666666666666,\"#ed7953\"],[0.7777777777777778,\"#fb9f3a\"],[0.8888888888888888,\"#fdca26\"],[1.0,\"#f0f921\"]],\"type\":\"histogram2d\"}],\"histogram2dcontour\":[{\"colorbar\":{\"outlinewidth\":0,\"ticks\":\"\"},\"colorscale\":[[0.0,\"#0d0887\"],[0.1111111111111111,\"#46039f\"],[0.2222222222222222,\"#7201a8\"],[0.3333333333333333,\"#9c179e\"],[0.4444444444444444,\"#bd3786\"],[0.5555555555555556,\"#d8576b\"],[0.6666666666666666,\"#ed7953\"],[0.7777777777777778,\"#fb9f3a\"],[0.8888888888888888,\"#fdca26\"],[1.0,\"#f0f921\"]],\"type\":\"histogram2dcontour\"}],\"mesh3d\":[{\"colorbar\":{\"outlinewidth\":0,\"ticks\":\"\"},\"type\":\"mesh3d\"}],\"parcoords\":[{\"line\":{\"colorbar\":{\"outlinewidth\":0,\"ticks\":\"\"}},\"type\":\"parcoords\"}],\"pie\":[{\"automargin\":true,\"type\":\"pie\"}],\"scatter\":[{\"marker\":{\"colorbar\":{\"outlinewidth\":0,\"ticks\":\"\"}},\"type\":\"scatter\"}],\"scatter3d\":[{\"line\":{\"colorbar\":{\"outlinewidth\":0,\"ticks\":\"\"}},\"marker\":{\"colorbar\":{\"outlinewidth\":0,\"ticks\":\"\"}},\"type\":\"scatter3d\"}],\"scattercarpet\":[{\"marker\":{\"colorbar\":{\"outlinewidth\":0,\"ticks\":\"\"}},\"type\":\"scattercarpet\"}],\"scattergeo\":[{\"marker\":{\"colorbar\":{\"outlinewidth\":0,\"ticks\":\"\"}},\"type\":\"scattergeo\"}],\"scattergl\":[{\"marker\":{\"colorbar\":{\"outlinewidth\":0,\"ticks\":\"\"}},\"type\":\"scattergl\"}],\"scattermapbox\":[{\"marker\":{\"colorbar\":{\"outlinewidth\":0,\"ticks\":\"\"}},\"type\":\"scattermapbox\"}],\"scatterpolar\":[{\"marker\":{\"colorbar\":{\"outlinewidth\":0,\"ticks\":\"\"}},\"type\":\"scatterpolar\"}],\"scatterpolargl\":[{\"marker\":{\"colorbar\":{\"outlinewidth\":0,\"ticks\":\"\"}},\"type\":\"scatterpolargl\"}],\"scatterternary\":[{\"marker\":{\"colorbar\":{\"outlinewidth\":0,\"ticks\":\"\"}},\"type\":\"scatterternary\"}],\"surface\":[{\"colorbar\":{\"outlinewidth\":0,\"ticks\":\"\"},\"colorscale\":[[0.0,\"#0d0887\"],[0.1111111111111111,\"#46039f\"],[0.2222222222222222,\"#7201a8\"],[0.3333333333333333,\"#9c179e\"],[0.4444444444444444,\"#bd3786\"],[0.5555555555555556,\"#d8576b\"],[0.6666666666666666,\"#ed7953\"],[0.7777777777777778,\"#fb9f3a\"],[0.8888888888888888,\"#fdca26\"],[1.0,\"#f0f921\"]],\"type\":\"surface\"}],\"table\":[{\"cells\":{\"fill\":{\"color\":\"#EBF0F8\"},\"line\":{\"color\":\"white\"}},\"header\":{\"fill\":{\"color\":\"#C8D4E3\"},\"line\":{\"color\":\"white\"}},\"type\":\"table\"}]},\"layout\":{\"annotationdefaults\":{\"arrowcolor\":\"#2a3f5f\",\"arrowhead\":0,\"arrowwidth\":1},\"autotypenumbers\":\"strict\",\"coloraxis\":{\"colorbar\":{\"outlinewidth\":0,\"ticks\":\"\"}},\"colorscale\":{\"diverging\":[[0,\"#8e0152\"],[0.1,\"#c51b7d\"],[0.2,\"#de77ae\"],[0.3,\"#f1b6da\"],[0.4,\"#fde0ef\"],[0.5,\"#f7f7f7\"],[0.6,\"#e6f5d0\"],[0.7,\"#b8e186\"],[0.8,\"#7fbc41\"],[0.9,\"#4d9221\"],[1,\"#276419\"]],\"sequential\":[[0.0,\"#0d0887\"],[0.1111111111111111,\"#46039f\"],[0.2222222222222222,\"#7201a8\"],[0.3333333333333333,\"#9c179e\"],[0.4444444444444444,\"#bd3786\"],[0.5555555555555556,\"#d8576b\"],[0.6666666666666666,\"#ed7953\"],[0.7777777777777778,\"#fb9f3a\"],[0.8888888888888888,\"#fdca26\"],[1.0,\"#f0f921\"]],\"sequentialminus\":[[0.0,\"#0d0887\"],[0.1111111111111111,\"#46039f\"],[0.2222222222222222,\"#7201a8\"],[0.3333333333333333,\"#9c179e\"],[0.4444444444444444,\"#bd3786\"],[0.5555555555555556,\"#d8576b\"],[0.6666666666666666,\"#ed7953\"],[0.7777777777777778,\"#fb9f3a\"],[0.8888888888888888,\"#fdca26\"],[1.0,\"#f0f921\"]]},\"colorway\":[\"#636efa\",\"#EF553B\",\"#00cc96\",\"#ab63fa\",\"#FFA15A\",\"#19d3f3\",\"#FF6692\",\"#B6E880\",\"#FF97FF\",\"#FECB52\"],\"font\":{\"color\":\"#2a3f5f\"},\"geo\":{\"bgcolor\":\"white\",\"lakecolor\":\"white\",\"landcolor\":\"#E5ECF6\",\"showlakes\":true,\"showland\":true,\"subunitcolor\":\"white\"},\"hoverlabel\":{\"align\":\"left\"},\"hovermode\":\"closest\",\"mapbox\":{\"style\":\"light\"},\"paper_bgcolor\":\"white\",\"plot_bgcolor\":\"#E5ECF6\",\"polar\":{\"angularaxis\":{\"gridcolor\":\"white\",\"linecolor\":\"white\",\"ticks\":\"\"},\"bgcolor\":\"#E5ECF6\",\"radialaxis\":{\"gridcolor\":\"white\",\"linecolor\":\"white\",\"ticks\":\"\"}},\"scene\":{\"xaxis\":{\"backgroundcolor\":\"#E5ECF6\",\"gridcolor\":\"white\",\"gridwidth\":2,\"linecolor\":\"white\",\"showbackground\":true,\"ticks\":\"\",\"zerolinecolor\":\"white\"},\"yaxis\":{\"backgroundcolor\":\"#E5ECF6\",\"gridcolor\":\"white\",\"gridwidth\":2,\"linecolor\":\"white\",\"showbackground\":true,\"ticks\":\"\",\"zerolinecolor\":\"white\"},\"zaxis\":{\"backgroundcolor\":\"#E5ECF6\",\"gridcolor\":\"white\",\"gridwidth\":2,\"linecolor\":\"white\",\"showbackground\":true,\"ticks\":\"\",\"zerolinecolor\":\"white\"}},\"shapedefaults\":{\"line\":{\"color\":\"#2a3f5f\"}},\"ternary\":{\"aaxis\":{\"gridcolor\":\"white\",\"linecolor\":\"white\",\"ticks\":\"\"},\"baxis\":{\"gridcolor\":\"white\",\"linecolor\":\"white\",\"ticks\":\"\"},\"bgcolor\":\"#E5ECF6\",\"caxis\":{\"gridcolor\":\"white\",\"linecolor\":\"white\",\"ticks\":\"\"}},\"title\":{\"x\":0.05},\"xaxis\":{\"automargin\":true,\"gridcolor\":\"white\",\"linecolor\":\"white\",\"ticks\":\"\",\"title\":{\"standoff\":15},\"zerolinecolor\":\"white\",\"zerolinewidth\":2},\"yaxis\":{\"automargin\":true,\"gridcolor\":\"white\",\"linecolor\":\"white\",\"ticks\":\"\",\"title\":{\"standoff\":15},\"zerolinecolor\":\"white\",\"zerolinewidth\":2}}},\"title\":{\"text\":\"Areas in 7.1.0-1047 with Over 50 Failures and Comparison with 7.1.0-1038 (Table)\"}},                        {\"responsive\": true}                    ).then(function(){\n",
       "                            \n",
       "var gd = document.getElementById('e3874b31-d933-4de6-865f-1432a649282b');\n",
       "var x = new MutationObserver(function (mutations, observer) {{\n",
       "        var display = window.getComputedStyle(gd).display;\n",
       "        if (!display || display === 'none') {{\n",
       "            console.log([gd, 'removed!']);\n",
       "            Plotly.purge(gd);\n",
       "            observer.disconnect();\n",
       "        }}\n",
       "}});\n",
       "\n",
       "// Listen for the removal of the full notebook cells\n",
       "var notebookContainer = gd.closest('#notebook-container');\n",
       "if (notebookContainer) {{\n",
       "    x.observe(notebookContainer, {childList: true});\n",
       "}}\n",
       "\n",
       "// Listen for the clearing of the current output cell\n",
       "var outputEl = gd.closest('.output');\n",
       "if (outputEl) {{\n",
       "    x.observe(outputEl, {childList: true});\n",
       "}}\n",
       "\n",
       "                        })                };                });            </script>        </div>"
      ]
     },
     "metadata": {},
     "output_type": "display_data"
    }
   ],
   "source": [
    "if sortdf50 != []:\n",
    "    cell50_colors = ['#F4F4F4', '#F4F4F4', '#F4F4F4']\n",
    "    delta50_colors = []\n",
    "    delta50_text = []\n",
    "\n",
    "    for i in range(0, len(data_table_50)):\n",
    "        delta_i = data_table_50.LastFailed.iloc[i] - data_table_50.CurrentFailed.iloc[i]\n",
    "        if delta_i < 0:\n",
    "            delta50_colors.append('#FFBAAB')\n",
    "            delta50_text.append(str(abs(delta_i)) + ' more failures' if delta_i < -1 else str(abs(delta_i)) + ' more failure')\n",
    "        elif delta_i == 0:\n",
    "            delta50_colors.append(\"#F4F4F4\")\n",
    "            delta50_text.append(\"No Change\")\n",
    "        else:\n",
    "            delta50_colors.append('#8BE9A3')\n",
    "            delta50_text.append(str(delta_i) + ' less  failures' if delta_i > 1 else str(delta_i) + ' less failure')\n",
    "\n",
    "    cell50_colors.append(delta50_colors)\n",
    "\n",
    "    old_table_50 = go.Figure(data=[go.Table(\n",
    "        header = dict(values=[\"Component\", \"Break-Up\", f'Fails in {current_build}', f'Delta from {weekly_builds[1]}'], fill_color=\"maroon\", font=dict(color=\"white\")),\n",
    "        cells = dict(values=[data_table_50.component, data_table_50.area, data_table_50.CurrentFailed, delta50_text], fill_color=cell50_colors, line_color=\"lightgray\")\n",
    "    )])\n",
    "\n",
    "    table_50 = go.Figure(data=[go.Table(\n",
    "        header = dict(values=sorted_dt50_components, fill_color=\"maroon\", font=dict(color=\"white\")),\n",
    "        cells = dict(values=final_data, fill_color=\"#F4F4F4\", line_color=\"lightgray\", height=50)\n",
    "    )])\n",
    "\n",
    "    old_table_50.update_layout(height=700, title=f\"Areas in {weekly_builds[0]} with Over 50 Failures and Comparison with {weekly_builds[1]} (Table)\")\n",
    "    old_table_50.show()\n",
    "else:\n",
    "    print(\"No components over 50 failures\")"
   ]
  },
  {
   "cell_type": "markdown",
   "id": "daaf0770-c545-4372-9de0-63655fcbeeb9",
   "metadata": {},
   "source": [
    "Hover over a bar for more information. You can click on each area's name to the right of the bar chart to toggle the data from that area, or double click on an area to isolate that area. You can double click on a hidden area to toggle all data back to shown."
   ]
  },
  {
   "cell_type": "code",
   "execution_count": 179,
   "id": "09c9068c",
   "metadata": {
    "jupyter": {
     "source_hidden": true
    },
    "tags": [
     "hide_input"
    ]
   },
   "outputs": [
    {
     "data": {
      "application/vnd.plotly.v1+json": {
       "config": {
        "plotlyServerURL": "https://plot.ly"
       },
       "data": [
        {
         "alignmentgroup": "True",
         "hovertemplate": "area=2i<br>component=2I_MOI<br>ver=%{x}<br>fails=%{y}<extra></extra>",
         "legendgroup": "2i",
         "marker": {
          "color": "#636efa",
          "pattern": {
           "shape": ""
          }
         },
         "name": "2i",
         "offsetgroup": "2i",
         "orientation": "v",
         "showlegend": true,
         "textposition": "auto",
         "type": "bar",
         "x": [
          "last",
          "current"
         ],
         "xaxis": "x9",
         "y": [
          104,
          86
         ],
         "yaxis": "y9"
        },
        {
         "alignmentgroup": "True",
         "hovertemplate": "area=2i<br>component=COLLECTIONS<br>ver=%{x}<br>fails=%{y}<extra></extra>",
         "legendgroup": "2i",
         "marker": {
          "color": "#636efa",
          "pattern": {
           "shape": ""
          }
         },
         "name": "2i",
         "offsetgroup": "2i",
         "orientation": "v",
         "showlegend": false,
         "textposition": "auto",
         "type": "bar",
         "x": [
          "last",
          "current"
         ],
         "xaxis": "x11",
         "y": [
          37,
          121
         ],
         "yaxis": "y11"
        },
        {
         "alignmentgroup": "True",
         "hovertemplate": "area=2i<br>component=COMPRESSION<br>ver=%{x}<br>fails=%{y}<extra></extra>",
         "legendgroup": "2i",
         "marker": {
          "color": "#636efa",
          "pattern": {
           "shape": ""
          }
         },
         "name": "2i",
         "offsetgroup": "2i",
         "orientation": "v",
         "showlegend": false,
         "textposition": "auto",
         "type": "bar",
         "x": [
          "last",
          "current"
         ],
         "xaxis": "x12",
         "y": [
          1,
          1
         ],
         "yaxis": "y12"
        },
        {
         "alignmentgroup": "True",
         "hovertemplate": "area=2i<br>component=IPV6<br>ver=%{x}<br>fails=%{y}<extra></extra>",
         "legendgroup": "2i",
         "marker": {
          "color": "#636efa",
          "pattern": {
           "shape": ""
          }
         },
         "name": "2i",
         "offsetgroup": "2i",
         "orientation": "v",
         "showlegend": false,
         "textposition": "auto",
         "type": "bar",
         "x": [
          "last",
          "current"
         ],
         "xaxis": "x2",
         "y": [
          1,
          3
         ],
         "yaxis": "y2"
        },
        {
         "alignmentgroup": "True",
         "hovertemplate": "area=analytics<br>component=ANALYTICS<br>ver=%{x}<br>fails=%{y}<extra></extra>",
         "legendgroup": "analytics",
         "marker": {
          "color": "#EF553B",
          "pattern": {
           "shape": ""
          }
         },
         "name": "analytics",
         "offsetgroup": "analytics",
         "orientation": "v",
         "showlegend": true,
         "textposition": "auto",
         "type": "bar",
         "x": [
          "last",
          "current"
         ],
         "xaxis": "x10",
         "y": [
          102,
          320
         ],
         "yaxis": "y10"
        },
        {
         "alignmentgroup": "True",
         "hovertemplate": "area=analytics<br>component=COLLECTIONS<br>ver=%{x}<br>fails=%{y}<extra></extra>",
         "legendgroup": "analytics",
         "marker": {
          "color": "#EF553B",
          "pattern": {
           "shape": ""
          }
         },
         "name": "analytics",
         "offsetgroup": "analytics",
         "orientation": "v",
         "showlegend": false,
         "textposition": "auto",
         "type": "bar",
         "x": [
          "last",
          "current"
         ],
         "xaxis": "x11",
         "y": [
          1,
          1
         ],
         "yaxis": "y11"
        },
        {
         "alignmentgroup": "True",
         "hovertemplate": "area=query<br>component=ANALYTICS<br>ver=%{x}<br>fails=%{y}<extra></extra>",
         "legendgroup": "query",
         "marker": {
          "color": "#00cc96",
          "pattern": {
           "shape": ""
          }
         },
         "name": "query",
         "offsetgroup": "query",
         "orientation": "v",
         "showlegend": true,
         "textposition": "auto",
         "type": "bar",
         "x": [
          "last",
          "current"
         ],
         "xaxis": "x10",
         "y": [
          0,
          1
         ],
         "yaxis": "y10"
        },
        {
         "alignmentgroup": "True",
         "hovertemplate": "area=query<br>component=COLLECTIONS<br>ver=%{x}<br>fails=%{y}<extra></extra>",
         "legendgroup": "query",
         "marker": {
          "color": "#00cc96",
          "pattern": {
           "shape": ""
          }
         },
         "name": "query",
         "offsetgroup": "query",
         "orientation": "v",
         "showlegend": false,
         "textposition": "auto",
         "type": "bar",
         "x": [
          "last",
          "current"
         ],
         "xaxis": "x11",
         "y": [
          21,
          47
         ],
         "yaxis": "y11"
        },
        {
         "alignmentgroup": "True",
         "hovertemplate": "area=query<br>component=DURABILITY<br>ver=%{x}<br>fails=%{y}<extra></extra>",
         "legendgroup": "query",
         "marker": {
          "color": "#00cc96",
          "pattern": {
           "shape": ""
          }
         },
         "name": "query",
         "offsetgroup": "query",
         "orientation": "v",
         "showlegend": false,
         "textposition": "auto",
         "type": "bar",
         "x": [
          "last",
          "current"
         ],
         "xaxis": "x13",
         "y": [
          2,
          7
         ],
         "yaxis": "y13"
        },
        {
         "alignmentgroup": "True",
         "hovertemplate": "area=query<br>component=EPHEMERAL<br>ver=%{x}<br>fails=%{y}<extra></extra>",
         "legendgroup": "query",
         "marker": {
          "color": "#00cc96",
          "pattern": {
           "shape": ""
          }
         },
         "name": "query",
         "offsetgroup": "query",
         "orientation": "v",
         "showlegend": false,
         "textposition": "auto",
         "type": "bar",
         "x": [
          "last",
          "current"
         ],
         "xaxis": "x14",
         "y": [
          0,
          24
         ],
         "yaxis": "y14"
        },
        {
         "alignmentgroup": "True",
         "hovertemplate": "area=query<br>component=FTS<br>ver=%{x}<br>fails=%{y}<extra></extra>",
         "legendgroup": "query",
         "marker": {
          "color": "#00cc96",
          "pattern": {
           "shape": ""
          }
         },
         "name": "query",
         "offsetgroup": "query",
         "orientation": "v",
         "showlegend": false,
         "textposition": "auto",
         "type": "bar",
         "x": [
          "last",
          "current"
         ],
         "xaxis": "x16",
         "y": [
          51,
          59
         ],
         "yaxis": "y16"
        },
        {
         "alignmentgroup": "True",
         "hovertemplate": "area=query<br>component=QUERY<br>ver=%{x}<br>fails=%{y}<extra></extra>",
         "legendgroup": "query",
         "marker": {
          "color": "#00cc96",
          "pattern": {
           "shape": ""
          }
         },
         "name": "query",
         "offsetgroup": "query",
         "orientation": "v",
         "showlegend": false,
         "textposition": "auto",
         "type": "bar",
         "x": [
          "last",
          "current"
         ],
         "xaxis": "x5",
         "y": [
          14,
          141
         ],
         "yaxis": "y5"
        },
        {
         "alignmentgroup": "True",
         "hovertemplate": "area=backup<br>component=COLLECTIONS<br>ver=%{x}<br>fails=%{y}<extra></extra>",
         "legendgroup": "backup",
         "marker": {
          "color": "#ab63fa",
          "pattern": {
           "shape": ""
          }
         },
         "name": "backup",
         "offsetgroup": "backup",
         "orientation": "v",
         "showlegend": true,
         "textposition": "auto",
         "type": "bar",
         "x": [
          "last",
          "current"
         ],
         "xaxis": "x11",
         "y": [
          0,
          3
         ],
         "yaxis": "y11"
        },
        {
         "alignmentgroup": "True",
         "hovertemplate": "area=backup<br>component=COMPRESSION<br>ver=%{x}<br>fails=%{y}<extra></extra>",
         "legendgroup": "backup",
         "marker": {
          "color": "#ab63fa",
          "pattern": {
           "shape": ""
          }
         },
         "name": "backup",
         "offsetgroup": "backup",
         "orientation": "v",
         "showlegend": false,
         "textposition": "auto",
         "type": "bar",
         "x": [
          "last",
          "current"
         ],
         "xaxis": "x12",
         "y": [
          0,
          1
         ],
         "yaxis": "y12"
        },
        {
         "alignmentgroup": "True",
         "hovertemplate": "area=collections<br>component=COLLECTIONS<br>ver=%{x}<br>fails=%{y}<extra></extra>",
         "legendgroup": "collections",
         "marker": {
          "color": "#FFA15A",
          "pattern": {
           "shape": ""
          }
         },
         "name": "collections",
         "offsetgroup": "collections",
         "orientation": "v",
         "showlegend": true,
         "textposition": "auto",
         "type": "bar",
         "x": [
          "last",
          "current"
         ],
         "xaxis": "x11",
         "y": [
          14,
          351
         ],
         "yaxis": "y11"
        },
        {
         "alignmentgroup": "True",
         "hovertemplate": "area=fts<br>component=COLLECTIONS<br>ver=%{x}<br>fails=%{y}<extra></extra>",
         "legendgroup": "fts",
         "marker": {
          "color": "#19d3f3",
          "pattern": {
           "shape": ""
          }
         },
         "name": "fts",
         "offsetgroup": "fts",
         "orientation": "v",
         "showlegend": true,
         "textposition": "auto",
         "type": "bar",
         "x": [
          "last",
          "current"
         ],
         "xaxis": "x11",
         "y": [
          33,
          81
         ],
         "yaxis": "y11"
        },
        {
         "alignmentgroup": "True",
         "hovertemplate": "area=fts<br>component=FTS<br>ver=%{x}<br>fails=%{y}<extra></extra>",
         "legendgroup": "fts",
         "marker": {
          "color": "#19d3f3",
          "pattern": {
           "shape": ""
          }
         },
         "name": "fts",
         "offsetgroup": "fts",
         "orientation": "v",
         "showlegend": false,
         "textposition": "auto",
         "type": "bar",
         "x": [
          "last",
          "current"
         ],
         "xaxis": "x16",
         "y": [
          87,
          89
         ],
         "yaxis": "y16"
        },
        {
         "alignmentgroup": "True",
         "hovertemplate": "area=plasma<br>component=COLLECTIONS<br>ver=%{x}<br>fails=%{y}<extra></extra>",
         "legendgroup": "plasma",
         "marker": {
          "color": "#FF6692",
          "pattern": {
           "shape": ""
          }
         },
         "name": "plasma",
         "offsetgroup": "plasma",
         "orientation": "v",
         "showlegend": true,
         "textposition": "auto",
         "type": "bar",
         "x": [
          "last",
          "current"
         ],
         "xaxis": "x11",
         "y": [
          2,
          2
         ],
         "yaxis": "y11"
        },
        {
         "alignmentgroup": "True",
         "hovertemplate": "area=upgrade<br>component=COLLECTIONS<br>ver=%{x}<br>fails=%{y}<extra></extra>",
         "legendgroup": "upgrade",
         "marker": {
          "color": "#B6E880",
          "pattern": {
           "shape": ""
          }
         },
         "name": "upgrade",
         "offsetgroup": "upgrade",
         "orientation": "v",
         "showlegend": true,
         "textposition": "auto",
         "type": "bar",
         "x": [
          "last",
          "current"
         ],
         "xaxis": "x11",
         "y": [
          2,
          2
         ],
         "yaxis": "y11"
        },
        {
         "alignmentgroup": "True",
         "hovertemplate": "area=xdcr<br>component=COLLECTIONS<br>ver=%{x}<br>fails=%{y}<extra></extra>",
         "legendgroup": "xdcr",
         "marker": {
          "color": "#FF97FF",
          "pattern": {
           "shape": ""
          }
         },
         "name": "xdcr",
         "offsetgroup": "xdcr",
         "orientation": "v",
         "showlegend": true,
         "textposition": "auto",
         "type": "bar",
         "x": [
          "last",
          "current"
         ],
         "xaxis": "x11",
         "y": [
          6,
          9
         ],
         "yaxis": "y11"
        },
        {
         "alignmentgroup": "True",
         "hovertemplate": "area=xdcr<br>component=COMPRESSION<br>ver=%{x}<br>fails=%{y}<extra></extra>",
         "legendgroup": "xdcr",
         "marker": {
          "color": "#FF97FF",
          "pattern": {
           "shape": ""
          }
         },
         "name": "xdcr",
         "offsetgroup": "xdcr",
         "orientation": "v",
         "showlegend": false,
         "textposition": "auto",
         "type": "bar",
         "x": [
          "last",
          "current"
         ],
         "xaxis": "x12",
         "y": [
          10,
          13
         ],
         "yaxis": "y12"
        },
        {
         "alignmentgroup": "True",
         "hovertemplate": "area=xdcr<br>component=GOXDCR<br>ver=%{x}<br>fails=%{y}<extra></extra>",
         "legendgroup": "xdcr",
         "marker": {
          "color": "#FF97FF",
          "pattern": {
           "shape": ""
          }
         },
         "name": "xdcr",
         "offsetgroup": "xdcr",
         "orientation": "v",
         "showlegend": false,
         "textposition": "auto",
         "type": "bar",
         "x": [
          "last",
          "current"
         ],
         "xaxis": "x",
         "y": [
          24,
          63
         ],
         "yaxis": "y"
        },
        {
         "alignmentgroup": "True",
         "hovertemplate": "area=xdcr<br>component=IPV6<br>ver=%{x}<br>fails=%{y}<extra></extra>",
         "legendgroup": "xdcr",
         "marker": {
          "color": "#FF97FF",
          "pattern": {
           "shape": ""
          }
         },
         "name": "xdcr",
         "offsetgroup": "xdcr",
         "orientation": "v",
         "showlegend": false,
         "textposition": "auto",
         "type": "bar",
         "x": [
          "last",
          "current"
         ],
         "xaxis": "x2",
         "y": [
          2,
          5
         ],
         "yaxis": "y2"
        },
        {
         "alignmentgroup": "True",
         "hovertemplate": "area=cli<br>component=COMPRESSION<br>ver=%{x}<br>fails=%{y}<extra></extra>",
         "legendgroup": "cli",
         "marker": {
          "color": "#FECB52",
          "pattern": {
           "shape": ""
          }
         },
         "name": "cli",
         "offsetgroup": "cli",
         "orientation": "v",
         "showlegend": true,
         "textposition": "auto",
         "type": "bar",
         "x": [
          "last",
          "current"
         ],
         "xaxis": "x12",
         "y": [
          16,
          26
         ],
         "yaxis": "y12"
        },
        {
         "alignmentgroup": "True",
         "hovertemplate": "area=ephemeral<br>component=COMPRESSION<br>ver=%{x}<br>fails=%{y}<extra></extra>",
         "legendgroup": "ephemeral",
         "marker": {
          "color": "#636efa",
          "pattern": {
           "shape": ""
          }
         },
         "name": "ephemeral",
         "offsetgroup": "ephemeral",
         "orientation": "v",
         "showlegend": true,
         "textposition": "auto",
         "type": "bar",
         "x": [
          "last",
          "current"
         ],
         "xaxis": "x12",
         "y": [
          16,
          1
         ],
         "yaxis": "y12"
        },
        {
         "alignmentgroup": "True",
         "hovertemplate": "area=ephemeral<br>component=EPHEMERAL<br>ver=%{x}<br>fails=%{y}<extra></extra>",
         "legendgroup": "ephemeral",
         "marker": {
          "color": "#636efa",
          "pattern": {
           "shape": ""
          }
         },
         "name": "ephemeral",
         "offsetgroup": "ephemeral",
         "orientation": "v",
         "showlegend": false,
         "textposition": "auto",
         "type": "bar",
         "x": [
          "last",
          "current"
         ],
         "xaxis": "x14",
         "y": [
          9,
          23
         ],
         "yaxis": "y14"
        },
        {
         "alignmentgroup": "True",
         "hovertemplate": "area=nserv<br>component=COMPRESSION<br>ver=%{x}<br>fails=%{y}<extra></extra>",
         "legendgroup": "nserv",
         "marker": {
          "color": "#EF553B",
          "pattern": {
           "shape": ""
          }
         },
         "name": "nserv",
         "offsetgroup": "nserv",
         "orientation": "v",
         "showlegend": true,
         "textposition": "auto",
         "type": "bar",
         "x": [
          "last",
          "current"
         ],
         "xaxis": "x12",
         "y": [
          0,
          1
         ],
         "yaxis": "y12"
        },
        {
         "alignmentgroup": "True",
         "hovertemplate": "area=nserv<br>component=EPHEMERAL<br>ver=%{x}<br>fails=%{y}<extra></extra>",
         "legendgroup": "nserv",
         "marker": {
          "color": "#EF553B",
          "pattern": {
           "shape": ""
          }
         },
         "name": "nserv",
         "offsetgroup": "nserv",
         "orientation": "v",
         "showlegend": false,
         "textposition": "auto",
         "type": "bar",
         "x": [
          "last",
          "current"
         ],
         "xaxis": "x14",
         "y": [
          1,
          40
         ],
         "yaxis": "y14"
        },
        {
         "alignmentgroup": "True",
         "hovertemplate": "area=nserv<br>component=NSERV<br>ver=%{x}<br>fails=%{y}<extra></extra>",
         "legendgroup": "nserv",
         "marker": {
          "color": "#EF553B",
          "pattern": {
           "shape": ""
          }
         },
         "name": "nserv",
         "offsetgroup": "nserv",
         "orientation": "v",
         "showlegend": false,
         "textposition": "auto",
         "type": "bar",
         "x": [
          "last",
          "current"
         ],
         "xaxis": "x4",
         "y": [
          26,
          66
         ],
         "yaxis": "y4"
        },
        {
         "alignmentgroup": "True",
         "hovertemplate": "area=sanity<br>component=COMPRESSION<br>ver=%{x}<br>fails=%{y}<extra></extra>",
         "legendgroup": "sanity",
         "marker": {
          "color": "#00cc96",
          "pattern": {
           "shape": ""
          }
         },
         "name": "sanity",
         "offsetgroup": "sanity",
         "orientation": "v",
         "showlegend": true,
         "textposition": "auto",
         "type": "bar",
         "x": [
          "last",
          "current"
         ],
         "xaxis": "x12",
         "y": [
          0,
          24
         ],
         "yaxis": "y12"
        },
        {
         "alignmentgroup": "True",
         "hovertemplate": "area=sanity<br>component=IPV6<br>ver=%{x}<br>fails=%{y}<extra></extra>",
         "legendgroup": "sanity",
         "marker": {
          "color": "#00cc96",
          "pattern": {
           "shape": ""
          }
         },
         "name": "sanity",
         "offsetgroup": "sanity",
         "orientation": "v",
         "showlegend": false,
         "textposition": "auto",
         "type": "bar",
         "x": [
          "last",
          "current"
         ],
         "xaxis": "x2",
         "y": [
          4,
          9
         ],
         "yaxis": "y2"
        },
        {
         "alignmentgroup": "True",
         "hovertemplate": "area=tunable<br>component=COMPRESSION<br>ver=%{x}<br>fails=%{y}<extra></extra>",
         "legendgroup": "tunable",
         "marker": {
          "color": "#ab63fa",
          "pattern": {
           "shape": ""
          }
         },
         "name": "tunable",
         "offsetgroup": "tunable",
         "orientation": "v",
         "showlegend": true,
         "textposition": "auto",
         "type": "bar",
         "x": [
          "last",
          "current"
         ],
         "xaxis": "x12",
         "y": [
          1,
          1
         ],
         "yaxis": "y12"
        },
        {
         "alignmentgroup": "True",
         "hovertemplate": "area=durability<br>component=DURABILITY<br>ver=%{x}<br>fails=%{y}<extra></extra>",
         "legendgroup": "durability",
         "marker": {
          "color": "#FFA15A",
          "pattern": {
           "shape": ""
          }
         },
         "name": "durability",
         "offsetgroup": "durability",
         "orientation": "v",
         "showlegend": true,
         "textposition": "auto",
         "type": "bar",
         "x": [
          "last",
          "current"
         ],
         "xaxis": "x13",
         "y": [
          64,
          336
         ],
         "yaxis": "y13"
        },
        {
         "alignmentgroup": "True",
         "hovertemplate": "area=transaction<br>component=DURABILITY<br>ver=%{x}<br>fails=%{y}<extra></extra>",
         "legendgroup": "transaction",
         "marker": {
          "color": "#19d3f3",
          "pattern": {
           "shape": ""
          }
         },
         "name": "transaction",
         "offsetgroup": "transaction",
         "orientation": "v",
         "showlegend": true,
         "textposition": "auto",
         "type": "bar",
         "x": [
          "last",
          "current"
         ],
         "xaxis": "x13",
         "y": [
          17,
          867
         ],
         "yaxis": "y13"
        },
        {
         "alignmentgroup": "True",
         "hovertemplate": "area=transaction<br>component=IPV6<br>ver=%{x}<br>fails=%{y}<extra></extra>",
         "legendgroup": "transaction",
         "marker": {
          "color": "#19d3f3",
          "pattern": {
           "shape": ""
          }
         },
         "name": "transaction",
         "offsetgroup": "transaction",
         "orientation": "v",
         "showlegend": false,
         "textposition": "auto",
         "type": "bar",
         "x": [
          "last",
          "current"
         ],
         "xaxis": "x2",
         "y": [
          2,
          4
         ],
         "yaxis": "y2"
        },
        {
         "alignmentgroup": "True",
         "hovertemplate": "area=eventing<br>component=EVENTING<br>ver=%{x}<br>fails=%{y}<extra></extra>",
         "legendgroup": "eventing",
         "marker": {
          "color": "#FF6692",
          "pattern": {
           "shape": ""
          }
         },
         "name": "eventing",
         "offsetgroup": "eventing",
         "orientation": "v",
         "showlegend": true,
         "textposition": "auto",
         "type": "bar",
         "x": [
          "last",
          "current"
         ],
         "xaxis": "x15",
         "y": [
          10,
          540
         ],
         "yaxis": "y15"
        },
        {
         "alignmentgroup": "True",
         "hovertemplate": "area=eventing<br>component=IPV6<br>ver=%{x}<br>fails=%{y}<extra></extra>",
         "legendgroup": "eventing",
         "marker": {
          "color": "#FF6692",
          "pattern": {
           "shape": ""
          }
         },
         "name": "eventing",
         "offsetgroup": "eventing",
         "orientation": "v",
         "showlegend": false,
         "textposition": "auto",
         "type": "bar",
         "x": [
          "last",
          "current"
         ],
         "xaxis": "x2",
         "y": [
          0,
          7
         ],
         "yaxis": "y2"
        },
        {
         "alignmentgroup": "True",
         "hovertemplate": "area=rqg<br>component=FTS<br>ver=%{x}<br>fails=%{y}<extra></extra>",
         "legendgroup": "rqg",
         "marker": {
          "color": "#B6E880",
          "pattern": {
           "shape": ""
          }
         },
         "name": "rqg",
         "offsetgroup": "rqg",
         "orientation": "v",
         "showlegend": true,
         "textposition": "auto",
         "type": "bar",
         "x": [
          "last",
          "current"
         ],
         "xaxis": "x16",
         "y": [
          0,
          2
         ],
         "yaxis": "y16"
        },
        {
         "alignmentgroup": "True",
         "hovertemplate": "area=bkrs<br>component=IPV6<br>ver=%{x}<br>fails=%{y}<extra></extra>",
         "legendgroup": "bkrs",
         "marker": {
          "color": "#FF97FF",
          "pattern": {
           "shape": ""
          }
         },
         "name": "bkrs",
         "offsetgroup": "bkrs",
         "orientation": "v",
         "showlegend": true,
         "textposition": "auto",
         "type": "bar",
         "x": [
          "last",
          "current"
         ],
         "xaxis": "x2",
         "y": [
          17,
          17
         ],
         "yaxis": "y2"
        },
        {
         "alignmentgroup": "True",
         "hovertemplate": "area=ent<br>component=IPV6<br>ver=%{x}<br>fails=%{y}<extra></extra>",
         "legendgroup": "ent",
         "marker": {
          "color": "#FECB52",
          "pattern": {
           "shape": ""
          }
         },
         "name": "ent",
         "offsetgroup": "ent",
         "orientation": "v",
         "showlegend": true,
         "textposition": "auto",
         "type": "bar",
         "x": [
          "last",
          "current"
         ],
         "xaxis": "x2",
         "y": [
          0,
          2
         ],
         "yaxis": "y2"
        },
        {
         "alignmentgroup": "True",
         "hovertemplate": "area=n1ql<br>component=IPV6<br>ver=%{x}<br>fails=%{y}<extra></extra>",
         "legendgroup": "n1ql",
         "marker": {
          "color": "#636efa",
          "pattern": {
           "shape": ""
          }
         },
         "name": "n1ql",
         "offsetgroup": "n1ql",
         "orientation": "v",
         "showlegend": true,
         "textposition": "auto",
         "type": "bar",
         "x": [
          "last",
          "current"
         ],
         "xaxis": "x2",
         "y": [
          3,
          2
         ],
         "yaxis": "y2"
        },
        {
         "alignmentgroup": "True",
         "hovertemplate": "area=obj<br>component=IPV6<br>ver=%{x}<br>fails=%{y}<extra></extra>",
         "legendgroup": "obj",
         "marker": {
          "color": "#EF553B",
          "pattern": {
           "shape": ""
          }
         },
         "name": "obj",
         "offsetgroup": "obj",
         "orientation": "v",
         "showlegend": true,
         "textposition": "auto",
         "type": "bar",
         "x": [
          "last",
          "current"
         ],
         "xaxis": "x2",
         "y": [
          1,
          10
         ],
         "yaxis": "y2"
        },
        {
         "alignmentgroup": "True",
         "hovertemplate": "area=rbac<br>component=IPV6<br>ver=%{x}<br>fails=%{y}<extra></extra>",
         "legendgroup": "rbac",
         "marker": {
          "color": "#00cc96",
          "pattern": {
           "shape": ""
          }
         },
         "name": "rbac",
         "offsetgroup": "rbac",
         "orientation": "v",
         "showlegend": true,
         "textposition": "auto",
         "type": "bar",
         "x": [
          "last",
          "current"
         ],
         "xaxis": "x2",
         "y": [
          3,
          31
         ],
         "yaxis": "y2"
        },
        {
         "alignmentgroup": "True",
         "hovertemplate": "area=security<br>component=IPV6<br>ver=%{x}<br>fails=%{y}<extra></extra>",
         "legendgroup": "security",
         "marker": {
          "color": "#ab63fa",
          "pattern": {
           "shape": ""
          }
         },
         "name": "security",
         "offsetgroup": "security",
         "orientation": "v",
         "showlegend": true,
         "textposition": "auto",
         "type": "bar",
         "x": [
          "last",
          "current"
         ],
         "xaxis": "x2",
         "y": [
          4,
          3
         ],
         "yaxis": "y2"
        },
        {
         "alignmentgroup": "True",
         "hovertemplate": "area=tools<br>component=IPV6<br>ver=%{x}<br>fails=%{y}<extra></extra>",
         "legendgroup": "tools",
         "marker": {
          "color": "#FFA15A",
          "pattern": {
           "shape": ""
          }
         },
         "name": "tools",
         "offsetgroup": "tools",
         "orientation": "v",
         "showlegend": true,
         "textposition": "auto",
         "type": "bar",
         "x": [
          "last",
          "current"
         ],
         "xaxis": "x2",
         "y": [
          1,
          1
         ],
         "yaxis": "y2"
        },
        {
         "alignmentgroup": "True",
         "hovertemplate": "area=sync<br>component=MOBILE<br>ver=%{x}<br>fails=%{y}<extra></extra>",
         "legendgroup": "sync",
         "marker": {
          "color": "#19d3f3",
          "pattern": {
           "shape": ""
          }
         },
         "name": "sync",
         "offsetgroup": "sync",
         "orientation": "v",
         "showlegend": true,
         "textposition": "auto",
         "type": "bar",
         "x": [
          "last",
          "current"
         ],
         "xaxis": "x3",
         "y": [
          652,
          654
         ],
         "yaxis": "y3"
        }
       ],
       "layout": {
        "annotations": [
         {
          "font": {},
          "showarrow": false,
          "text": "GOXDCR",
          "x": 0.05375,
          "xanchor": "center",
          "xref": "paper",
          "y": 0.46499999999999997,
          "yanchor": "bottom",
          "yref": "paper"
         },
         {
          "font": {},
          "showarrow": false,
          "text": "IPV6",
          "x": 0.18125,
          "xanchor": "center",
          "xref": "paper",
          "y": 0.46499999999999997,
          "yanchor": "bottom",
          "yref": "paper"
         },
         {
          "font": {},
          "showarrow": false,
          "text": "MOBILE",
          "x": 0.30874999999999997,
          "xanchor": "center",
          "xref": "paper",
          "y": 0.46499999999999997,
          "yanchor": "bottom",
          "yref": "paper"
         },
         {
          "font": {},
          "showarrow": false,
          "text": "NSERV",
          "x": 0.43625,
          "xanchor": "center",
          "xref": "paper",
          "y": 0.46499999999999997,
          "yanchor": "bottom",
          "yref": "paper"
         },
         {
          "font": {},
          "showarrow": false,
          "text": "QUERY",
          "x": 0.56375,
          "xanchor": "center",
          "xref": "paper",
          "y": 0.46499999999999997,
          "yanchor": "bottom",
          "yref": "paper"
         },
         {
          "font": {},
          "showarrow": false,
          "text": "2I_MOI",
          "x": 0.05375,
          "xanchor": "center",
          "xref": "paper",
          "y": 0.9999999999999999,
          "yanchor": "bottom",
          "yref": "paper"
         },
         {
          "font": {},
          "showarrow": false,
          "text": "ANALYTICS",
          "x": 0.18125,
          "xanchor": "center",
          "xref": "paper",
          "y": 0.9999999999999999,
          "yanchor": "bottom",
          "yref": "paper"
         },
         {
          "font": {},
          "showarrow": false,
          "text": "COLLECTIONS",
          "x": 0.30874999999999997,
          "xanchor": "center",
          "xref": "paper",
          "y": 0.9999999999999999,
          "yanchor": "bottom",
          "yref": "paper"
         },
         {
          "font": {},
          "showarrow": false,
          "text": "COMPRESSION",
          "x": 0.43625,
          "xanchor": "center",
          "xref": "paper",
          "y": 0.9999999999999999,
          "yanchor": "bottom",
          "yref": "paper"
         },
         {
          "font": {},
          "showarrow": false,
          "text": "DURABILITY",
          "x": 0.56375,
          "xanchor": "center",
          "xref": "paper",
          "y": 0.9999999999999999,
          "yanchor": "bottom",
          "yref": "paper"
         },
         {
          "font": {},
          "showarrow": false,
          "text": "EPHEMERAL",
          "x": 0.6912499999999999,
          "xanchor": "center",
          "xref": "paper",
          "y": 0.9999999999999999,
          "yanchor": "bottom",
          "yref": "paper"
         },
         {
          "font": {},
          "showarrow": false,
          "text": "EVENTING",
          "x": 0.8187500000000001,
          "xanchor": "center",
          "xref": "paper",
          "y": 0.9999999999999999,
          "yanchor": "bottom",
          "yref": "paper"
         },
         {
          "font": {},
          "showarrow": false,
          "text": "FTS",
          "x": 0.94625,
          "xanchor": "center",
          "xref": "paper",
          "y": 0.9999999999999999,
          "yanchor": "bottom",
          "yref": "paper"
         }
        ],
        "autosize": true,
        "barmode": "relative",
        "hoverlabel": {
         "bgcolor": "white"
        },
        "legend": {
         "title": {
          "text": "area"
         },
         "tracegroupgap": 0
        },
        "margin": {
         "t": 60
        },
        "template": {
         "data": {
          "bar": [
           {
            "error_x": {
             "color": "#2a3f5f"
            },
            "error_y": {
             "color": "#2a3f5f"
            },
            "marker": {
             "line": {
              "color": "#E5ECF6",
              "width": 0.5
             },
             "pattern": {
              "fillmode": "overlay",
              "size": 10,
              "solidity": 0.2
             }
            },
            "type": "bar"
           }
          ],
          "barpolar": [
           {
            "marker": {
             "line": {
              "color": "#E5ECF6",
              "width": 0.5
             },
             "pattern": {
              "fillmode": "overlay",
              "size": 10,
              "solidity": 0.2
             }
            },
            "type": "barpolar"
           }
          ],
          "carpet": [
           {
            "aaxis": {
             "endlinecolor": "#2a3f5f",
             "gridcolor": "white",
             "linecolor": "white",
             "minorgridcolor": "white",
             "startlinecolor": "#2a3f5f"
            },
            "baxis": {
             "endlinecolor": "#2a3f5f",
             "gridcolor": "white",
             "linecolor": "white",
             "minorgridcolor": "white",
             "startlinecolor": "#2a3f5f"
            },
            "type": "carpet"
           }
          ],
          "choropleth": [
           {
            "colorbar": {
             "outlinewidth": 0,
             "ticks": ""
            },
            "type": "choropleth"
           }
          ],
          "contour": [
           {
            "colorbar": {
             "outlinewidth": 0,
             "ticks": ""
            },
            "colorscale": [
             [
              0,
              "#0d0887"
             ],
             [
              0.1111111111111111,
              "#46039f"
             ],
             [
              0.2222222222222222,
              "#7201a8"
             ],
             [
              0.3333333333333333,
              "#9c179e"
             ],
             [
              0.4444444444444444,
              "#bd3786"
             ],
             [
              0.5555555555555556,
              "#d8576b"
             ],
             [
              0.6666666666666666,
              "#ed7953"
             ],
             [
              0.7777777777777778,
              "#fb9f3a"
             ],
             [
              0.8888888888888888,
              "#fdca26"
             ],
             [
              1,
              "#f0f921"
             ]
            ],
            "type": "contour"
           }
          ],
          "contourcarpet": [
           {
            "colorbar": {
             "outlinewidth": 0,
             "ticks": ""
            },
            "type": "contourcarpet"
           }
          ],
          "heatmap": [
           {
            "colorbar": {
             "outlinewidth": 0,
             "ticks": ""
            },
            "colorscale": [
             [
              0,
              "#0d0887"
             ],
             [
              0.1111111111111111,
              "#46039f"
             ],
             [
              0.2222222222222222,
              "#7201a8"
             ],
             [
              0.3333333333333333,
              "#9c179e"
             ],
             [
              0.4444444444444444,
              "#bd3786"
             ],
             [
              0.5555555555555556,
              "#d8576b"
             ],
             [
              0.6666666666666666,
              "#ed7953"
             ],
             [
              0.7777777777777778,
              "#fb9f3a"
             ],
             [
              0.8888888888888888,
              "#fdca26"
             ],
             [
              1,
              "#f0f921"
             ]
            ],
            "type": "heatmap"
           }
          ],
          "heatmapgl": [
           {
            "colorbar": {
             "outlinewidth": 0,
             "ticks": ""
            },
            "colorscale": [
             [
              0,
              "#0d0887"
             ],
             [
              0.1111111111111111,
              "#46039f"
             ],
             [
              0.2222222222222222,
              "#7201a8"
             ],
             [
              0.3333333333333333,
              "#9c179e"
             ],
             [
              0.4444444444444444,
              "#bd3786"
             ],
             [
              0.5555555555555556,
              "#d8576b"
             ],
             [
              0.6666666666666666,
              "#ed7953"
             ],
             [
              0.7777777777777778,
              "#fb9f3a"
             ],
             [
              0.8888888888888888,
              "#fdca26"
             ],
             [
              1,
              "#f0f921"
             ]
            ],
            "type": "heatmapgl"
           }
          ],
          "histogram": [
           {
            "marker": {
             "pattern": {
              "fillmode": "overlay",
              "size": 10,
              "solidity": 0.2
             }
            },
            "type": "histogram"
           }
          ],
          "histogram2d": [
           {
            "colorbar": {
             "outlinewidth": 0,
             "ticks": ""
            },
            "colorscale": [
             [
              0,
              "#0d0887"
             ],
             [
              0.1111111111111111,
              "#46039f"
             ],
             [
              0.2222222222222222,
              "#7201a8"
             ],
             [
              0.3333333333333333,
              "#9c179e"
             ],
             [
              0.4444444444444444,
              "#bd3786"
             ],
             [
              0.5555555555555556,
              "#d8576b"
             ],
             [
              0.6666666666666666,
              "#ed7953"
             ],
             [
              0.7777777777777778,
              "#fb9f3a"
             ],
             [
              0.8888888888888888,
              "#fdca26"
             ],
             [
              1,
              "#f0f921"
             ]
            ],
            "type": "histogram2d"
           }
          ],
          "histogram2dcontour": [
           {
            "colorbar": {
             "outlinewidth": 0,
             "ticks": ""
            },
            "colorscale": [
             [
              0,
              "#0d0887"
             ],
             [
              0.1111111111111111,
              "#46039f"
             ],
             [
              0.2222222222222222,
              "#7201a8"
             ],
             [
              0.3333333333333333,
              "#9c179e"
             ],
             [
              0.4444444444444444,
              "#bd3786"
             ],
             [
              0.5555555555555556,
              "#d8576b"
             ],
             [
              0.6666666666666666,
              "#ed7953"
             ],
             [
              0.7777777777777778,
              "#fb9f3a"
             ],
             [
              0.8888888888888888,
              "#fdca26"
             ],
             [
              1,
              "#f0f921"
             ]
            ],
            "type": "histogram2dcontour"
           }
          ],
          "mesh3d": [
           {
            "colorbar": {
             "outlinewidth": 0,
             "ticks": ""
            },
            "type": "mesh3d"
           }
          ],
          "parcoords": [
           {
            "line": {
             "colorbar": {
              "outlinewidth": 0,
              "ticks": ""
             }
            },
            "type": "parcoords"
           }
          ],
          "pie": [
           {
            "automargin": true,
            "type": "pie"
           }
          ],
          "scatter": [
           {
            "marker": {
             "colorbar": {
              "outlinewidth": 0,
              "ticks": ""
             }
            },
            "type": "scatter"
           }
          ],
          "scatter3d": [
           {
            "line": {
             "colorbar": {
              "outlinewidth": 0,
              "ticks": ""
             }
            },
            "marker": {
             "colorbar": {
              "outlinewidth": 0,
              "ticks": ""
             }
            },
            "type": "scatter3d"
           }
          ],
          "scattercarpet": [
           {
            "marker": {
             "colorbar": {
              "outlinewidth": 0,
              "ticks": ""
             }
            },
            "type": "scattercarpet"
           }
          ],
          "scattergeo": [
           {
            "marker": {
             "colorbar": {
              "outlinewidth": 0,
              "ticks": ""
             }
            },
            "type": "scattergeo"
           }
          ],
          "scattergl": [
           {
            "marker": {
             "colorbar": {
              "outlinewidth": 0,
              "ticks": ""
             }
            },
            "type": "scattergl"
           }
          ],
          "scattermapbox": [
           {
            "marker": {
             "colorbar": {
              "outlinewidth": 0,
              "ticks": ""
             }
            },
            "type": "scattermapbox"
           }
          ],
          "scatterpolar": [
           {
            "marker": {
             "colorbar": {
              "outlinewidth": 0,
              "ticks": ""
             }
            },
            "type": "scatterpolar"
           }
          ],
          "scatterpolargl": [
           {
            "marker": {
             "colorbar": {
              "outlinewidth": 0,
              "ticks": ""
             }
            },
            "type": "scatterpolargl"
           }
          ],
          "scatterternary": [
           {
            "marker": {
             "colorbar": {
              "outlinewidth": 0,
              "ticks": ""
             }
            },
            "type": "scatterternary"
           }
          ],
          "surface": [
           {
            "colorbar": {
             "outlinewidth": 0,
             "ticks": ""
            },
            "colorscale": [
             [
              0,
              "#0d0887"
             ],
             [
              0.1111111111111111,
              "#46039f"
             ],
             [
              0.2222222222222222,
              "#7201a8"
             ],
             [
              0.3333333333333333,
              "#9c179e"
             ],
             [
              0.4444444444444444,
              "#bd3786"
             ],
             [
              0.5555555555555556,
              "#d8576b"
             ],
             [
              0.6666666666666666,
              "#ed7953"
             ],
             [
              0.7777777777777778,
              "#fb9f3a"
             ],
             [
              0.8888888888888888,
              "#fdca26"
             ],
             [
              1,
              "#f0f921"
             ]
            ],
            "type": "surface"
           }
          ],
          "table": [
           {
            "cells": {
             "fill": {
              "color": "#EBF0F8"
             },
             "line": {
              "color": "white"
             }
            },
            "header": {
             "fill": {
              "color": "#C8D4E3"
             },
             "line": {
              "color": "white"
             }
            },
            "type": "table"
           }
          ]
         },
         "layout": {
          "annotationdefaults": {
           "arrowcolor": "#2a3f5f",
           "arrowhead": 0,
           "arrowwidth": 1
          },
          "autotypenumbers": "strict",
          "coloraxis": {
           "colorbar": {
            "outlinewidth": 0,
            "ticks": ""
           }
          },
          "colorscale": {
           "diverging": [
            [
             0,
             "#8e0152"
            ],
            [
             0.1,
             "#c51b7d"
            ],
            [
             0.2,
             "#de77ae"
            ],
            [
             0.3,
             "#f1b6da"
            ],
            [
             0.4,
             "#fde0ef"
            ],
            [
             0.5,
             "#f7f7f7"
            ],
            [
             0.6,
             "#e6f5d0"
            ],
            [
             0.7,
             "#b8e186"
            ],
            [
             0.8,
             "#7fbc41"
            ],
            [
             0.9,
             "#4d9221"
            ],
            [
             1,
             "#276419"
            ]
           ],
           "sequential": [
            [
             0,
             "#0d0887"
            ],
            [
             0.1111111111111111,
             "#46039f"
            ],
            [
             0.2222222222222222,
             "#7201a8"
            ],
            [
             0.3333333333333333,
             "#9c179e"
            ],
            [
             0.4444444444444444,
             "#bd3786"
            ],
            [
             0.5555555555555556,
             "#d8576b"
            ],
            [
             0.6666666666666666,
             "#ed7953"
            ],
            [
             0.7777777777777778,
             "#fb9f3a"
            ],
            [
             0.8888888888888888,
             "#fdca26"
            ],
            [
             1,
             "#f0f921"
            ]
           ],
           "sequentialminus": [
            [
             0,
             "#0d0887"
            ],
            [
             0.1111111111111111,
             "#46039f"
            ],
            [
             0.2222222222222222,
             "#7201a8"
            ],
            [
             0.3333333333333333,
             "#9c179e"
            ],
            [
             0.4444444444444444,
             "#bd3786"
            ],
            [
             0.5555555555555556,
             "#d8576b"
            ],
            [
             0.6666666666666666,
             "#ed7953"
            ],
            [
             0.7777777777777778,
             "#fb9f3a"
            ],
            [
             0.8888888888888888,
             "#fdca26"
            ],
            [
             1,
             "#f0f921"
            ]
           ]
          },
          "colorway": [
           "#636efa",
           "#EF553B",
           "#00cc96",
           "#ab63fa",
           "#FFA15A",
           "#19d3f3",
           "#FF6692",
           "#B6E880",
           "#FF97FF",
           "#FECB52"
          ],
          "font": {
           "color": "#2a3f5f"
          },
          "geo": {
           "bgcolor": "white",
           "lakecolor": "white",
           "landcolor": "#E5ECF6",
           "showlakes": true,
           "showland": true,
           "subunitcolor": "white"
          },
          "hoverlabel": {
           "align": "left"
          },
          "hovermode": "closest",
          "mapbox": {
           "style": "light"
          },
          "paper_bgcolor": "white",
          "plot_bgcolor": "#E5ECF6",
          "polar": {
           "angularaxis": {
            "gridcolor": "white",
            "linecolor": "white",
            "ticks": ""
           },
           "bgcolor": "#E5ECF6",
           "radialaxis": {
            "gridcolor": "white",
            "linecolor": "white",
            "ticks": ""
           }
          },
          "scene": {
           "xaxis": {
            "backgroundcolor": "#E5ECF6",
            "gridcolor": "white",
            "gridwidth": 2,
            "linecolor": "white",
            "showbackground": true,
            "ticks": "",
            "zerolinecolor": "white"
           },
           "yaxis": {
            "backgroundcolor": "#E5ECF6",
            "gridcolor": "white",
            "gridwidth": 2,
            "linecolor": "white",
            "showbackground": true,
            "ticks": "",
            "zerolinecolor": "white"
           },
           "zaxis": {
            "backgroundcolor": "#E5ECF6",
            "gridcolor": "white",
            "gridwidth": 2,
            "linecolor": "white",
            "showbackground": true,
            "ticks": "",
            "zerolinecolor": "white"
           }
          },
          "shapedefaults": {
           "line": {
            "color": "#2a3f5f"
           }
          },
          "ternary": {
           "aaxis": {
            "gridcolor": "white",
            "linecolor": "white",
            "ticks": ""
           },
           "baxis": {
            "gridcolor": "white",
            "linecolor": "white",
            "ticks": ""
           },
           "bgcolor": "#E5ECF6",
           "caxis": {
            "gridcolor": "white",
            "linecolor": "white",
            "ticks": ""
           }
          },
          "title": {
           "x": 0.05
          },
          "xaxis": {
           "automargin": true,
           "gridcolor": "white",
           "linecolor": "white",
           "ticks": "",
           "title": {
            "standoff": 15
           },
           "zerolinecolor": "white",
           "zerolinewidth": 2
          },
          "yaxis": {
           "automargin": true,
           "gridcolor": "white",
           "linecolor": "white",
           "ticks": "",
           "title": {
            "standoff": 15
           },
           "zerolinecolor": "white",
           "zerolinewidth": 2
          }
         }
        },
        "title": {
         "text": "Areas in 7.1.0-1047 with Over 50 Failures and Comparison with 7.1.0-1038 (Graph)"
        },
        "xaxis": {
         "anchor": "y",
         "autorange": true,
         "domain": [
          0,
          0.1075
         ],
         "range": [
          -0.5,
          1.5
         ],
         "tickangle": 45,
         "title": {
          "text": ""
         },
         "type": "category"
        },
        "xaxis10": {
         "anchor": "y10",
         "autorange": true,
         "domain": [
          0.1275,
          0.235
         ],
         "matches": "x",
         "range": [
          -0.5,
          1.5
         ],
         "showticklabels": false,
         "tickangle": 45,
         "title": {
          "text": ""
         },
         "type": "category"
        },
        "xaxis11": {
         "anchor": "y11",
         "autorange": true,
         "domain": [
          0.255,
          0.3625
         ],
         "matches": "x",
         "range": [
          -0.5,
          1.5
         ],
         "showticklabels": false,
         "tickangle": 45,
         "title": {
          "text": ""
         },
         "type": "category"
        },
        "xaxis12": {
         "anchor": "y12",
         "autorange": true,
         "domain": [
          0.3825,
          0.49
         ],
         "matches": "x",
         "range": [
          -0.5,
          1.5
         ],
         "showticklabels": false,
         "tickangle": 45,
         "title": {
          "text": ""
         },
         "type": "category"
        },
        "xaxis13": {
         "anchor": "y13",
         "autorange": true,
         "domain": [
          0.51,
          0.6175
         ],
         "matches": "x",
         "range": [
          -0.5,
          1.5
         ],
         "showticklabels": false,
         "tickangle": 45,
         "title": {
          "text": ""
         },
         "type": "category"
        },
        "xaxis14": {
         "anchor": "y14",
         "autorange": true,
         "domain": [
          0.6375,
          0.745
         ],
         "matches": "x",
         "range": [
          -0.5,
          1.5
         ],
         "showticklabels": false,
         "tickangle": 45,
         "title": {
          "text": ""
         },
         "type": "category"
        },
        "xaxis15": {
         "anchor": "y15",
         "autorange": true,
         "domain": [
          0.765,
          0.8725
         ],
         "matches": "x",
         "range": [
          -0.5,
          1.5
         ],
         "showticklabels": false,
         "tickangle": 45,
         "title": {
          "text": ""
         },
         "type": "category"
        },
        "xaxis16": {
         "anchor": "y16",
         "autorange": true,
         "domain": [
          0.8925000000000001,
          1
         ],
         "matches": "x",
         "range": [
          -0.5,
          1.5
         ],
         "showticklabels": false,
         "tickangle": 45,
         "title": {
          "text": ""
         },
         "type": "category"
        },
        "xaxis2": {
         "anchor": "y2",
         "autorange": true,
         "domain": [
          0.1275,
          0.235
         ],
         "matches": "x",
         "range": [
          -0.5,
          1.5
         ],
         "tickangle": 45,
         "title": {
          "text": ""
         },
         "type": "category"
        },
        "xaxis3": {
         "anchor": "y3",
         "autorange": true,
         "domain": [
          0.255,
          0.3625
         ],
         "matches": "x",
         "range": [
          -0.5,
          1.5
         ],
         "tickangle": 45,
         "title": {
          "text": ""
         },
         "type": "category"
        },
        "xaxis4": {
         "anchor": "y4",
         "autorange": true,
         "domain": [
          0.3825,
          0.49
         ],
         "matches": "x",
         "range": [
          -0.5,
          1.5
         ],
         "tickangle": 45,
         "title": {
          "text": ""
         },
         "type": "category"
        },
        "xaxis5": {
         "anchor": "y5",
         "autorange": true,
         "domain": [
          0.51,
          0.6175
         ],
         "matches": "x",
         "range": [
          -0.5,
          1.5
         ],
         "tickangle": 45,
         "title": {
          "text": ""
         },
         "type": "category"
        },
        "xaxis6": {
         "anchor": "y6",
         "domain": [
          0.6375,
          0.745
         ],
         "matches": "x",
         "tickangle": 45,
         "title": {
          "text": ""
         }
        },
        "xaxis7": {
         "anchor": "y7",
         "domain": [
          0.765,
          0.8725
         ],
         "matches": "x",
         "tickangle": 45,
         "title": {
          "text": ""
         }
        },
        "xaxis8": {
         "anchor": "y8",
         "domain": [
          0.8925000000000001,
          1
         ],
         "matches": "x",
         "tickangle": 45,
         "title": {
          "text": ""
         }
        },
        "xaxis9": {
         "anchor": "y9",
         "autorange": true,
         "domain": [
          0,
          0.1075
         ],
         "matches": "x",
         "range": [
          -0.5,
          1.5
         ],
         "showticklabels": false,
         "tickangle": 45,
         "title": {
          "text": ""
         },
         "type": "category"
        },
        "yaxis": {
         "anchor": "x",
         "autorange": true,
         "domain": [
          0,
          0.46499999999999997
         ],
         "gridcolor": "lightsteelblue",
         "gridwidth": 2,
         "range": [
          0,
          1273.6842105263158
         ],
         "title": {
          "text": "fails"
         },
         "type": "linear"
        },
        "yaxis10": {
         "anchor": "x10",
         "autorange": true,
         "domain": [
          0.5349999999999999,
          0.9999999999999999
         ],
         "gridcolor": "lightsteelblue",
         "gridwidth": 2,
         "matches": "y",
         "range": [
          0,
          1273.6842105263158
         ],
         "showticklabels": false,
         "type": "linear"
        },
        "yaxis11": {
         "anchor": "x11",
         "autorange": true,
         "domain": [
          0.5349999999999999,
          0.9999999999999999
         ],
         "gridcolor": "lightsteelblue",
         "gridwidth": 2,
         "matches": "y",
         "range": [
          0,
          1273.6842105263158
         ],
         "showticklabels": false,
         "type": "linear"
        },
        "yaxis12": {
         "anchor": "x12",
         "autorange": true,
         "domain": [
          0.5349999999999999,
          0.9999999999999999
         ],
         "gridcolor": "lightsteelblue",
         "gridwidth": 2,
         "matches": "y",
         "range": [
          0,
          1273.6842105263158
         ],
         "showticklabels": false,
         "type": "linear"
        },
        "yaxis13": {
         "anchor": "x13",
         "autorange": true,
         "domain": [
          0.5349999999999999,
          0.9999999999999999
         ],
         "gridcolor": "lightsteelblue",
         "gridwidth": 2,
         "matches": "y",
         "range": [
          0,
          1273.6842105263158
         ],
         "showticklabels": false,
         "type": "linear"
        },
        "yaxis14": {
         "anchor": "x14",
         "autorange": true,
         "domain": [
          0.5349999999999999,
          0.9999999999999999
         ],
         "gridcolor": "lightsteelblue",
         "gridwidth": 2,
         "matches": "y",
         "range": [
          0,
          1273.6842105263158
         ],
         "showticklabels": false,
         "type": "linear"
        },
        "yaxis15": {
         "anchor": "x15",
         "autorange": true,
         "domain": [
          0.5349999999999999,
          0.9999999999999999
         ],
         "gridcolor": "lightsteelblue",
         "gridwidth": 2,
         "matches": "y",
         "range": [
          0,
          1273.6842105263158
         ],
         "showticklabels": false,
         "type": "linear"
        },
        "yaxis16": {
         "anchor": "x16",
         "autorange": true,
         "domain": [
          0.5349999999999999,
          0.9999999999999999
         ],
         "gridcolor": "lightsteelblue",
         "gridwidth": 2,
         "matches": "y",
         "range": [
          0,
          1273.6842105263158
         ],
         "showticklabels": false,
         "type": "linear"
        },
        "yaxis2": {
         "anchor": "x2",
         "autorange": true,
         "domain": [
          0,
          0.46499999999999997
         ],
         "gridcolor": "lightsteelblue",
         "gridwidth": 2,
         "matches": "y",
         "range": [
          0,
          1273.6842105263158
         ],
         "showticklabels": false,
         "type": "linear"
        },
        "yaxis3": {
         "anchor": "x3",
         "autorange": true,
         "domain": [
          0,
          0.46499999999999997
         ],
         "gridcolor": "lightsteelblue",
         "gridwidth": 2,
         "matches": "y",
         "range": [
          0,
          1273.6842105263158
         ],
         "showticklabels": false,
         "type": "linear"
        },
        "yaxis4": {
         "anchor": "x4",
         "autorange": true,
         "domain": [
          0,
          0.46499999999999997
         ],
         "gridcolor": "lightsteelblue",
         "gridwidth": 2,
         "matches": "y",
         "range": [
          0,
          1273.6842105263158
         ],
         "showticklabels": false,
         "type": "linear"
        },
        "yaxis5": {
         "anchor": "x5",
         "autorange": true,
         "domain": [
          0,
          0.46499999999999997
         ],
         "gridcolor": "lightsteelblue",
         "gridwidth": 2,
         "matches": "y",
         "range": [
          0,
          1273.6842105263158
         ],
         "showticklabels": false,
         "type": "linear"
        },
        "yaxis6": {
         "anchor": "x6",
         "domain": [
          0,
          0.46499999999999997
         ],
         "gridcolor": "lightsteelblue",
         "gridwidth": 2,
         "matches": "y",
         "showticklabels": false
        },
        "yaxis7": {
         "anchor": "x7",
         "domain": [
          0,
          0.46499999999999997
         ],
         "gridcolor": "lightsteelblue",
         "gridwidth": 2,
         "matches": "y",
         "showticklabels": false
        },
        "yaxis8": {
         "anchor": "x8",
         "domain": [
          0,
          0.46499999999999997
         ],
         "gridcolor": "lightsteelblue",
         "gridwidth": 2,
         "matches": "y",
         "showticklabels": false
        },
        "yaxis9": {
         "anchor": "x9",
         "autorange": true,
         "domain": [
          0.5349999999999999,
          0.9999999999999999
         ],
         "gridcolor": "lightsteelblue",
         "gridwidth": 2,
         "matches": "y",
         "range": [
          0,
          1273.6842105263158
         ],
         "title": {
          "text": "fails"
         },
         "type": "linear"
        }
       }
      },
      "image/png": "[encoded data removed]",
      "text/html": [
       "<div>                            <div id=\"c73d8c28-67b5-4030-b0fc-e9180dd8927c\" class=\"plotly-graph-div\" style=\"height:1200px; width:100%;\"></div>            <script type=\"text/javascript\">                require([\"plotly\"], function(Plotly) {                    window.PLOTLYENV=window.PLOTLYENV || {};                                    if (document.getElementById(\"c73d8c28-67b5-4030-b0fc-e9180dd8927c\")) {                    Plotly.newPlot(                        \"c73d8c28-67b5-4030-b0fc-e9180dd8927c\",                        [{\"alignmentgroup\":\"True\",\"hovertemplate\":\"area=2i<br>component=2I_MOI<br>ver=%{x}<br>fails=%{y}<extra></extra>\",\"legendgroup\":\"2i\",\"marker\":{\"color\":\"#636efa\",\"pattern\":{\"shape\":\"\"}},\"name\":\"2i\",\"offsetgroup\":\"2i\",\"orientation\":\"v\",\"showlegend\":true,\"textposition\":\"auto\",\"type\":\"bar\",\"x\":[\"last\",\"current\"],\"xaxis\":\"x9\",\"y\":[104,86],\"yaxis\":\"y9\"},{\"alignmentgroup\":\"True\",\"hovertemplate\":\"area=2i<br>component=COLLECTIONS<br>ver=%{x}<br>fails=%{y}<extra></extra>\",\"legendgroup\":\"2i\",\"marker\":{\"color\":\"#636efa\",\"pattern\":{\"shape\":\"\"}},\"name\":\"2i\",\"offsetgroup\":\"2i\",\"orientation\":\"v\",\"showlegend\":false,\"textposition\":\"auto\",\"type\":\"bar\",\"x\":[\"last\",\"current\"],\"xaxis\":\"x11\",\"y\":[37,121],\"yaxis\":\"y11\"},{\"alignmentgroup\":\"True\",\"hovertemplate\":\"area=2i<br>component=COMPRESSION<br>ver=%{x}<br>fails=%{y}<extra></extra>\",\"legendgroup\":\"2i\",\"marker\":{\"color\":\"#636efa\",\"pattern\":{\"shape\":\"\"}},\"name\":\"2i\",\"offsetgroup\":\"2i\",\"orientation\":\"v\",\"showlegend\":false,\"textposition\":\"auto\",\"type\":\"bar\",\"x\":[\"last\",\"current\"],\"xaxis\":\"x12\",\"y\":[1,1],\"yaxis\":\"y12\"},{\"alignmentgroup\":\"True\",\"hovertemplate\":\"area=2i<br>component=IPV6<br>ver=%{x}<br>fails=%{y}<extra></extra>\",\"legendgroup\":\"2i\",\"marker\":{\"color\":\"#636efa\",\"pattern\":{\"shape\":\"\"}},\"name\":\"2i\",\"offsetgroup\":\"2i\",\"orientation\":\"v\",\"showlegend\":false,\"textposition\":\"auto\",\"type\":\"bar\",\"x\":[\"last\",\"current\"],\"xaxis\":\"x2\",\"y\":[1,3],\"yaxis\":\"y2\"},{\"alignmentgroup\":\"True\",\"hovertemplate\":\"area=analytics<br>component=ANALYTICS<br>ver=%{x}<br>fails=%{y}<extra></extra>\",\"legendgroup\":\"analytics\",\"marker\":{\"color\":\"#EF553B\",\"pattern\":{\"shape\":\"\"}},\"name\":\"analytics\",\"offsetgroup\":\"analytics\",\"orientation\":\"v\",\"showlegend\":true,\"textposition\":\"auto\",\"type\":\"bar\",\"x\":[\"last\",\"current\"],\"xaxis\":\"x10\",\"y\":[102,320],\"yaxis\":\"y10\"},{\"alignmentgroup\":\"True\",\"hovertemplate\":\"area=analytics<br>component=COLLECTIONS<br>ver=%{x}<br>fails=%{y}<extra></extra>\",\"legendgroup\":\"analytics\",\"marker\":{\"color\":\"#EF553B\",\"pattern\":{\"shape\":\"\"}},\"name\":\"analytics\",\"offsetgroup\":\"analytics\",\"orientation\":\"v\",\"showlegend\":false,\"textposition\":\"auto\",\"type\":\"bar\",\"x\":[\"last\",\"current\"],\"xaxis\":\"x11\",\"y\":[1,1],\"yaxis\":\"y11\"},{\"alignmentgroup\":\"True\",\"hovertemplate\":\"area=query<br>component=ANALYTICS<br>ver=%{x}<br>fails=%{y}<extra></extra>\",\"legendgroup\":\"query\",\"marker\":{\"color\":\"#00cc96\",\"pattern\":{\"shape\":\"\"}},\"name\":\"query\",\"offsetgroup\":\"query\",\"orientation\":\"v\",\"showlegend\":true,\"textposition\":\"auto\",\"type\":\"bar\",\"x\":[\"last\",\"current\"],\"xaxis\":\"x10\",\"y\":[0,1],\"yaxis\":\"y10\"},{\"alignmentgroup\":\"True\",\"hovertemplate\":\"area=query<br>component=COLLECTIONS<br>ver=%{x}<br>fails=%{y}<extra></extra>\",\"legendgroup\":\"query\",\"marker\":{\"color\":\"#00cc96\",\"pattern\":{\"shape\":\"\"}},\"name\":\"query\",\"offsetgroup\":\"query\",\"orientation\":\"v\",\"showlegend\":false,\"textposition\":\"auto\",\"type\":\"bar\",\"x\":[\"last\",\"current\"],\"xaxis\":\"x11\",\"y\":[21,47],\"yaxis\":\"y11\"},{\"alignmentgroup\":\"True\",\"hovertemplate\":\"area=query<br>component=DURABILITY<br>ver=%{x}<br>fails=%{y}<extra></extra>\",\"legendgroup\":\"query\",\"marker\":{\"color\":\"#00cc96\",\"pattern\":{\"shape\":\"\"}},\"name\":\"query\",\"offsetgroup\":\"query\",\"orientation\":\"v\",\"showlegend\":false,\"textposition\":\"auto\",\"type\":\"bar\",\"x\":[\"last\",\"current\"],\"xaxis\":\"x13\",\"y\":[2,7],\"yaxis\":\"y13\"},{\"alignmentgroup\":\"True\",\"hovertemplate\":\"area=query<br>component=EPHEMERAL<br>ver=%{x}<br>fails=%{y}<extra></extra>\",\"legendgroup\":\"query\",\"marker\":{\"color\":\"#00cc96\",\"pattern\":{\"shape\":\"\"}},\"name\":\"query\",\"offsetgroup\":\"query\",\"orientation\":\"v\",\"showlegend\":false,\"textposition\":\"auto\",\"type\":\"bar\",\"x\":[\"last\",\"current\"],\"xaxis\":\"x14\",\"y\":[0,24],\"yaxis\":\"y14\"},{\"alignmentgroup\":\"True\",\"hovertemplate\":\"area=query<br>component=FTS<br>ver=%{x}<br>fails=%{y}<extra></extra>\",\"legendgroup\":\"query\",\"marker\":{\"color\":\"#00cc96\",\"pattern\":{\"shape\":\"\"}},\"name\":\"query\",\"offsetgroup\":\"query\",\"orientation\":\"v\",\"showlegend\":false,\"textposition\":\"auto\",\"type\":\"bar\",\"x\":[\"last\",\"current\"],\"xaxis\":\"x16\",\"y\":[51,59],\"yaxis\":\"y16\"},{\"alignmentgroup\":\"True\",\"hovertemplate\":\"area=query<br>component=QUERY<br>ver=%{x}<br>fails=%{y}<extra></extra>\",\"legendgroup\":\"query\",\"marker\":{\"color\":\"#00cc96\",\"pattern\":{\"shape\":\"\"}},\"name\":\"query\",\"offsetgroup\":\"query\",\"orientation\":\"v\",\"showlegend\":false,\"textposition\":\"auto\",\"type\":\"bar\",\"x\":[\"last\",\"current\"],\"xaxis\":\"x5\",\"y\":[14,141],\"yaxis\":\"y5\"},{\"alignmentgroup\":\"True\",\"hovertemplate\":\"area=backup<br>component=COLLECTIONS<br>ver=%{x}<br>fails=%{y}<extra></extra>\",\"legendgroup\":\"backup\",\"marker\":{\"color\":\"#ab63fa\",\"pattern\":{\"shape\":\"\"}},\"name\":\"backup\",\"offsetgroup\":\"backup\",\"orientation\":\"v\",\"showlegend\":true,\"textposition\":\"auto\",\"type\":\"bar\",\"x\":[\"last\",\"current\"],\"xaxis\":\"x11\",\"y\":[0,3],\"yaxis\":\"y11\"},{\"alignmentgroup\":\"True\",\"hovertemplate\":\"area=backup<br>component=COMPRESSION<br>ver=%{x}<br>fails=%{y}<extra></extra>\",\"legendgroup\":\"backup\",\"marker\":{\"color\":\"#ab63fa\",\"pattern\":{\"shape\":\"\"}},\"name\":\"backup\",\"offsetgroup\":\"backup\",\"orientation\":\"v\",\"showlegend\":false,\"textposition\":\"auto\",\"type\":\"bar\",\"x\":[\"last\",\"current\"],\"xaxis\":\"x12\",\"y\":[0,1],\"yaxis\":\"y12\"},{\"alignmentgroup\":\"True\",\"hovertemplate\":\"area=collections<br>component=COLLECTIONS<br>ver=%{x}<br>fails=%{y}<extra></extra>\",\"legendgroup\":\"collections\",\"marker\":{\"color\":\"#FFA15A\",\"pattern\":{\"shape\":\"\"}},\"name\":\"collections\",\"offsetgroup\":\"collections\",\"orientation\":\"v\",\"showlegend\":true,\"textposition\":\"auto\",\"type\":\"bar\",\"x\":[\"last\",\"current\"],\"xaxis\":\"x11\",\"y\":[14,351],\"yaxis\":\"y11\"},{\"alignmentgroup\":\"True\",\"hovertemplate\":\"area=fts<br>component=COLLECTIONS<br>ver=%{x}<br>fails=%{y}<extra></extra>\",\"legendgroup\":\"fts\",\"marker\":{\"color\":\"#19d3f3\",\"pattern\":{\"shape\":\"\"}},\"name\":\"fts\",\"offsetgroup\":\"fts\",\"orientation\":\"v\",\"showlegend\":true,\"textposition\":\"auto\",\"type\":\"bar\",\"x\":[\"last\",\"current\"],\"xaxis\":\"x11\",\"y\":[33,81],\"yaxis\":\"y11\"},{\"alignmentgroup\":\"True\",\"hovertemplate\":\"area=fts<br>component=FTS<br>ver=%{x}<br>fails=%{y}<extra></extra>\",\"legendgroup\":\"fts\",\"marker\":{\"color\":\"#19d3f3\",\"pattern\":{\"shape\":\"\"}},\"name\":\"fts\",\"offsetgroup\":\"fts\",\"orientation\":\"v\",\"showlegend\":false,\"textposition\":\"auto\",\"type\":\"bar\",\"x\":[\"last\",\"current\"],\"xaxis\":\"x16\",\"y\":[87,89],\"yaxis\":\"y16\"},{\"alignmentgroup\":\"True\",\"hovertemplate\":\"area=plasma<br>component=COLLECTIONS<br>ver=%{x}<br>fails=%{y}<extra></extra>\",\"legendgroup\":\"plasma\",\"marker\":{\"color\":\"#FF6692\",\"pattern\":{\"shape\":\"\"}},\"name\":\"plasma\",\"offsetgroup\":\"plasma\",\"orientation\":\"v\",\"showlegend\":true,\"textposition\":\"auto\",\"type\":\"bar\",\"x\":[\"last\",\"current\"],\"xaxis\":\"x11\",\"y\":[2,2],\"yaxis\":\"y11\"},{\"alignmentgroup\":\"True\",\"hovertemplate\":\"area=upgrade<br>component=COLLECTIONS<br>ver=%{x}<br>fails=%{y}<extra></extra>\",\"legendgroup\":\"upgrade\",\"marker\":{\"color\":\"#B6E880\",\"pattern\":{\"shape\":\"\"}},\"name\":\"upgrade\",\"offsetgroup\":\"upgrade\",\"orientation\":\"v\",\"showlegend\":true,\"textposition\":\"auto\",\"type\":\"bar\",\"x\":[\"last\",\"current\"],\"xaxis\":\"x11\",\"y\":[2,2],\"yaxis\":\"y11\"},{\"alignmentgroup\":\"True\",\"hovertemplate\":\"area=xdcr<br>component=COLLECTIONS<br>ver=%{x}<br>fails=%{y}<extra></extra>\",\"legendgroup\":\"xdcr\",\"marker\":{\"color\":\"#FF97FF\",\"pattern\":{\"shape\":\"\"}},\"name\":\"xdcr\",\"offsetgroup\":\"xdcr\",\"orientation\":\"v\",\"showlegend\":true,\"textposition\":\"auto\",\"type\":\"bar\",\"x\":[\"last\",\"current\"],\"xaxis\":\"x11\",\"y\":[6,9],\"yaxis\":\"y11\"},{\"alignmentgroup\":\"True\",\"hovertemplate\":\"area=xdcr<br>component=COMPRESSION<br>ver=%{x}<br>fails=%{y}<extra></extra>\",\"legendgroup\":\"xdcr\",\"marker\":{\"color\":\"#FF97FF\",\"pattern\":{\"shape\":\"\"}},\"name\":\"xdcr\",\"offsetgroup\":\"xdcr\",\"orientation\":\"v\",\"showlegend\":false,\"textposition\":\"auto\",\"type\":\"bar\",\"x\":[\"last\",\"current\"],\"xaxis\":\"x12\",\"y\":[10,13],\"yaxis\":\"y12\"},{\"alignmentgroup\":\"True\",\"hovertemplate\":\"area=xdcr<br>component=GOXDCR<br>ver=%{x}<br>fails=%{y}<extra></extra>\",\"legendgroup\":\"xdcr\",\"marker\":{\"color\":\"#FF97FF\",\"pattern\":{\"shape\":\"\"}},\"name\":\"xdcr\",\"offsetgroup\":\"xdcr\",\"orientation\":\"v\",\"showlegend\":false,\"textposition\":\"auto\",\"type\":\"bar\",\"x\":[\"last\",\"current\"],\"xaxis\":\"x\",\"y\":[24,63],\"yaxis\":\"y\"},{\"alignmentgroup\":\"True\",\"hovertemplate\":\"area=xdcr<br>component=IPV6<br>ver=%{x}<br>fails=%{y}<extra></extra>\",\"legendgroup\":\"xdcr\",\"marker\":{\"color\":\"#FF97FF\",\"pattern\":{\"shape\":\"\"}},\"name\":\"xdcr\",\"offsetgroup\":\"xdcr\",\"orientation\":\"v\",\"showlegend\":false,\"textposition\":\"auto\",\"type\":\"bar\",\"x\":[\"last\",\"current\"],\"xaxis\":\"x2\",\"y\":[2,5],\"yaxis\":\"y2\"},{\"alignmentgroup\":\"True\",\"hovertemplate\":\"area=cli<br>component=COMPRESSION<br>ver=%{x}<br>fails=%{y}<extra></extra>\",\"legendgroup\":\"cli\",\"marker\":{\"color\":\"#FECB52\",\"pattern\":{\"shape\":\"\"}},\"name\":\"cli\",\"offsetgroup\":\"cli\",\"orientation\":\"v\",\"showlegend\":true,\"textposition\":\"auto\",\"type\":\"bar\",\"x\":[\"last\",\"current\"],\"xaxis\":\"x12\",\"y\":[16,26],\"yaxis\":\"y12\"},{\"alignmentgroup\":\"True\",\"hovertemplate\":\"area=ephemeral<br>component=COMPRESSION<br>ver=%{x}<br>fails=%{y}<extra></extra>\",\"legendgroup\":\"ephemeral\",\"marker\":{\"color\":\"#636efa\",\"pattern\":{\"shape\":\"\"}},\"name\":\"ephemeral\",\"offsetgroup\":\"ephemeral\",\"orientation\":\"v\",\"showlegend\":true,\"textposition\":\"auto\",\"type\":\"bar\",\"x\":[\"last\",\"current\"],\"xaxis\":\"x12\",\"y\":[16,1],\"yaxis\":\"y12\"},{\"alignmentgroup\":\"True\",\"hovertemplate\":\"area=ephemeral<br>component=EPHEMERAL<br>ver=%{x}<br>fails=%{y}<extra></extra>\",\"legendgroup\":\"ephemeral\",\"marker\":{\"color\":\"#636efa\",\"pattern\":{\"shape\":\"\"}},\"name\":\"ephemeral\",\"offsetgroup\":\"ephemeral\",\"orientation\":\"v\",\"showlegend\":false,\"textposition\":\"auto\",\"type\":\"bar\",\"x\":[\"last\",\"current\"],\"xaxis\":\"x14\",\"y\":[9,23],\"yaxis\":\"y14\"},{\"alignmentgroup\":\"True\",\"hovertemplate\":\"area=nserv<br>component=COMPRESSION<br>ver=%{x}<br>fails=%{y}<extra></extra>\",\"legendgroup\":\"nserv\",\"marker\":{\"color\":\"#EF553B\",\"pattern\":{\"shape\":\"\"}},\"name\":\"nserv\",\"offsetgroup\":\"nserv\",\"orientation\":\"v\",\"showlegend\":true,\"textposition\":\"auto\",\"type\":\"bar\",\"x\":[\"last\",\"current\"],\"xaxis\":\"x12\",\"y\":[0,1],\"yaxis\":\"y12\"},{\"alignmentgroup\":\"True\",\"hovertemplate\":\"area=nserv<br>component=EPHEMERAL<br>ver=%{x}<br>fails=%{y}<extra></extra>\",\"legendgroup\":\"nserv\",\"marker\":{\"color\":\"#EF553B\",\"pattern\":{\"shape\":\"\"}},\"name\":\"nserv\",\"offsetgroup\":\"nserv\",\"orientation\":\"v\",\"showlegend\":false,\"textposition\":\"auto\",\"type\":\"bar\",\"x\":[\"last\",\"current\"],\"xaxis\":\"x14\",\"y\":[1,40],\"yaxis\":\"y14\"},{\"alignmentgroup\":\"True\",\"hovertemplate\":\"area=nserv<br>component=NSERV<br>ver=%{x}<br>fails=%{y}<extra></extra>\",\"legendgroup\":\"nserv\",\"marker\":{\"color\":\"#EF553B\",\"pattern\":{\"shape\":\"\"}},\"name\":\"nserv\",\"offsetgroup\":\"nserv\",\"orientation\":\"v\",\"showlegend\":false,\"textposition\":\"auto\",\"type\":\"bar\",\"x\":[\"last\",\"current\"],\"xaxis\":\"x4\",\"y\":[26,66],\"yaxis\":\"y4\"},{\"alignmentgroup\":\"True\",\"hovertemplate\":\"area=sanity<br>component=COMPRESSION<br>ver=%{x}<br>fails=%{y}<extra></extra>\",\"legendgroup\":\"sanity\",\"marker\":{\"color\":\"#00cc96\",\"pattern\":{\"shape\":\"\"}},\"name\":\"sanity\",\"offsetgroup\":\"sanity\",\"orientation\":\"v\",\"showlegend\":true,\"textposition\":\"auto\",\"type\":\"bar\",\"x\":[\"last\",\"current\"],\"xaxis\":\"x12\",\"y\":[0,24],\"yaxis\":\"y12\"},{\"alignmentgroup\":\"True\",\"hovertemplate\":\"area=sanity<br>component=IPV6<br>ver=%{x}<br>fails=%{y}<extra></extra>\",\"legendgroup\":\"sanity\",\"marker\":{\"color\":\"#00cc96\",\"pattern\":{\"shape\":\"\"}},\"name\":\"sanity\",\"offsetgroup\":\"sanity\",\"orientation\":\"v\",\"showlegend\":false,\"textposition\":\"auto\",\"type\":\"bar\",\"x\":[\"last\",\"current\"],\"xaxis\":\"x2\",\"y\":[4,9],\"yaxis\":\"y2\"},{\"alignmentgroup\":\"True\",\"hovertemplate\":\"area=tunable<br>component=COMPRESSION<br>ver=%{x}<br>fails=%{y}<extra></extra>\",\"legendgroup\":\"tunable\",\"marker\":{\"color\":\"#ab63fa\",\"pattern\":{\"shape\":\"\"}},\"name\":\"tunable\",\"offsetgroup\":\"tunable\",\"orientation\":\"v\",\"showlegend\":true,\"textposition\":\"auto\",\"type\":\"bar\",\"x\":[\"last\",\"current\"],\"xaxis\":\"x12\",\"y\":[1,1],\"yaxis\":\"y12\"},{\"alignmentgroup\":\"True\",\"hovertemplate\":\"area=durability<br>component=DURABILITY<br>ver=%{x}<br>fails=%{y}<extra></extra>\",\"legendgroup\":\"durability\",\"marker\":{\"color\":\"#FFA15A\",\"pattern\":{\"shape\":\"\"}},\"name\":\"durability\",\"offsetgroup\":\"durability\",\"orientation\":\"v\",\"showlegend\":true,\"textposition\":\"auto\",\"type\":\"bar\",\"x\":[\"last\",\"current\"],\"xaxis\":\"x13\",\"y\":[64,336],\"yaxis\":\"y13\"},{\"alignmentgroup\":\"True\",\"hovertemplate\":\"area=transaction<br>component=DURABILITY<br>ver=%{x}<br>fails=%{y}<extra></extra>\",\"legendgroup\":\"transaction\",\"marker\":{\"color\":\"#19d3f3\",\"pattern\":{\"shape\":\"\"}},\"name\":\"transaction\",\"offsetgroup\":\"transaction\",\"orientation\":\"v\",\"showlegend\":true,\"textposition\":\"auto\",\"type\":\"bar\",\"x\":[\"last\",\"current\"],\"xaxis\":\"x13\",\"y\":[17,867],\"yaxis\":\"y13\"},{\"alignmentgroup\":\"True\",\"hovertemplate\":\"area=transaction<br>component=IPV6<br>ver=%{x}<br>fails=%{y}<extra></extra>\",\"legendgroup\":\"transaction\",\"marker\":{\"color\":\"#19d3f3\",\"pattern\":{\"shape\":\"\"}},\"name\":\"transaction\",\"offsetgroup\":\"transaction\",\"orientation\":\"v\",\"showlegend\":false,\"textposition\":\"auto\",\"type\":\"bar\",\"x\":[\"last\",\"current\"],\"xaxis\":\"x2\",\"y\":[2,4],\"yaxis\":\"y2\"},{\"alignmentgroup\":\"True\",\"hovertemplate\":\"area=eventing<br>component=EVENTING<br>ver=%{x}<br>fails=%{y}<extra></extra>\",\"legendgroup\":\"eventing\",\"marker\":{\"color\":\"#FF6692\",\"pattern\":{\"shape\":\"\"}},\"name\":\"eventing\",\"offsetgroup\":\"eventing\",\"orientation\":\"v\",\"showlegend\":true,\"textposition\":\"auto\",\"type\":\"bar\",\"x\":[\"last\",\"current\"],\"xaxis\":\"x15\",\"y\":[10,540],\"yaxis\":\"y15\"},{\"alignmentgroup\":\"True\",\"hovertemplate\":\"area=eventing<br>component=IPV6<br>ver=%{x}<br>fails=%{y}<extra></extra>\",\"legendgroup\":\"eventing\",\"marker\":{\"color\":\"#FF6692\",\"pattern\":{\"shape\":\"\"}},\"name\":\"eventing\",\"offsetgroup\":\"eventing\",\"orientation\":\"v\",\"showlegend\":false,\"textposition\":\"auto\",\"type\":\"bar\",\"x\":[\"last\",\"current\"],\"xaxis\":\"x2\",\"y\":[0,7],\"yaxis\":\"y2\"},{\"alignmentgroup\":\"True\",\"hovertemplate\":\"area=rqg<br>component=FTS<br>ver=%{x}<br>fails=%{y}<extra></extra>\",\"legendgroup\":\"rqg\",\"marker\":{\"color\":\"#B6E880\",\"pattern\":{\"shape\":\"\"}},\"name\":\"rqg\",\"offsetgroup\":\"rqg\",\"orientation\":\"v\",\"showlegend\":true,\"textposition\":\"auto\",\"type\":\"bar\",\"x\":[\"last\",\"current\"],\"xaxis\":\"x16\",\"y\":[0,2],\"yaxis\":\"y16\"},{\"alignmentgroup\":\"True\",\"hovertemplate\":\"area=bkrs<br>component=IPV6<br>ver=%{x}<br>fails=%{y}<extra></extra>\",\"legendgroup\":\"bkrs\",\"marker\":{\"color\":\"#FF97FF\",\"pattern\":{\"shape\":\"\"}},\"name\":\"bkrs\",\"offsetgroup\":\"bkrs\",\"orientation\":\"v\",\"showlegend\":true,\"textposition\":\"auto\",\"type\":\"bar\",\"x\":[\"last\",\"current\"],\"xaxis\":\"x2\",\"y\":[17,17],\"yaxis\":\"y2\"},{\"alignmentgroup\":\"True\",\"hovertemplate\":\"area=ent<br>component=IPV6<br>ver=%{x}<br>fails=%{y}<extra></extra>\",\"legendgroup\":\"ent\",\"marker\":{\"color\":\"#FECB52\",\"pattern\":{\"shape\":\"\"}},\"name\":\"ent\",\"offsetgroup\":\"ent\",\"orientation\":\"v\",\"showlegend\":true,\"textposition\":\"auto\",\"type\":\"bar\",\"x\":[\"last\",\"current\"],\"xaxis\":\"x2\",\"y\":[0,2],\"yaxis\":\"y2\"},{\"alignmentgroup\":\"True\",\"hovertemplate\":\"area=n1ql<br>component=IPV6<br>ver=%{x}<br>fails=%{y}<extra></extra>\",\"legendgroup\":\"n1ql\",\"marker\":{\"color\":\"#636efa\",\"pattern\":{\"shape\":\"\"}},\"name\":\"n1ql\",\"offsetgroup\":\"n1ql\",\"orientation\":\"v\",\"showlegend\":true,\"textposition\":\"auto\",\"type\":\"bar\",\"x\":[\"last\",\"current\"],\"xaxis\":\"x2\",\"y\":[3,2],\"yaxis\":\"y2\"},{\"alignmentgroup\":\"True\",\"hovertemplate\":\"area=obj<br>component=IPV6<br>ver=%{x}<br>fails=%{y}<extra></extra>\",\"legendgroup\":\"obj\",\"marker\":{\"color\":\"#EF553B\",\"pattern\":{\"shape\":\"\"}},\"name\":\"obj\",\"offsetgroup\":\"obj\",\"orientation\":\"v\",\"showlegend\":true,\"textposition\":\"auto\",\"type\":\"bar\",\"x\":[\"last\",\"current\"],\"xaxis\":\"x2\",\"y\":[1,10],\"yaxis\":\"y2\"},{\"alignmentgroup\":\"True\",\"hovertemplate\":\"area=rbac<br>component=IPV6<br>ver=%{x}<br>fails=%{y}<extra></extra>\",\"legendgroup\":\"rbac\",\"marker\":{\"color\":\"#00cc96\",\"pattern\":{\"shape\":\"\"}},\"name\":\"rbac\",\"offsetgroup\":\"rbac\",\"orientation\":\"v\",\"showlegend\":true,\"textposition\":\"auto\",\"type\":\"bar\",\"x\":[\"last\",\"current\"],\"xaxis\":\"x2\",\"y\":[3,31],\"yaxis\":\"y2\"},{\"alignmentgroup\":\"True\",\"hovertemplate\":\"area=security<br>component=IPV6<br>ver=%{x}<br>fails=%{y}<extra></extra>\",\"legendgroup\":\"security\",\"marker\":{\"color\":\"#ab63fa\",\"pattern\":{\"shape\":\"\"}},\"name\":\"security\",\"offsetgroup\":\"security\",\"orientation\":\"v\",\"showlegend\":true,\"textposition\":\"auto\",\"type\":\"bar\",\"x\":[\"last\",\"current\"],\"xaxis\":\"x2\",\"y\":[4,3],\"yaxis\":\"y2\"},{\"alignmentgroup\":\"True\",\"hovertemplate\":\"area=tools<br>component=IPV6<br>ver=%{x}<br>fails=%{y}<extra></extra>\",\"legendgroup\":\"tools\",\"marker\":{\"color\":\"#FFA15A\",\"pattern\":{\"shape\":\"\"}},\"name\":\"tools\",\"offsetgroup\":\"tools\",\"orientation\":\"v\",\"showlegend\":true,\"textposition\":\"auto\",\"type\":\"bar\",\"x\":[\"last\",\"current\"],\"xaxis\":\"x2\",\"y\":[1,1],\"yaxis\":\"y2\"},{\"alignmentgroup\":\"True\",\"hovertemplate\":\"area=sync<br>component=MOBILE<br>ver=%{x}<br>fails=%{y}<extra></extra>\",\"legendgroup\":\"sync\",\"marker\":{\"color\":\"#19d3f3\",\"pattern\":{\"shape\":\"\"}},\"name\":\"sync\",\"offsetgroup\":\"sync\",\"orientation\":\"v\",\"showlegend\":true,\"textposition\":\"auto\",\"type\":\"bar\",\"x\":[\"last\",\"current\"],\"xaxis\":\"x3\",\"y\":[652,654],\"yaxis\":\"y3\"}],                        {\"annotations\":[{\"font\":{},\"showarrow\":false,\"text\":\"GOXDCR\",\"x\":0.05375,\"xanchor\":\"center\",\"xref\":\"paper\",\"y\":0.46499999999999997,\"yanchor\":\"bottom\",\"yref\":\"paper\"},{\"font\":{},\"showarrow\":false,\"text\":\"IPV6\",\"x\":0.18125,\"xanchor\":\"center\",\"xref\":\"paper\",\"y\":0.46499999999999997,\"yanchor\":\"bottom\",\"yref\":\"paper\"},{\"font\":{},\"showarrow\":false,\"text\":\"MOBILE\",\"x\":0.30874999999999997,\"xanchor\":\"center\",\"xref\":\"paper\",\"y\":0.46499999999999997,\"yanchor\":\"bottom\",\"yref\":\"paper\"},{\"font\":{},\"showarrow\":false,\"text\":\"NSERV\",\"x\":0.43625,\"xanchor\":\"center\",\"xref\":\"paper\",\"y\":0.46499999999999997,\"yanchor\":\"bottom\",\"yref\":\"paper\"},{\"font\":{},\"showarrow\":false,\"text\":\"QUERY\",\"x\":0.56375,\"xanchor\":\"center\",\"xref\":\"paper\",\"y\":0.46499999999999997,\"yanchor\":\"bottom\",\"yref\":\"paper\"},{\"font\":{},\"showarrow\":false,\"text\":\"2I_MOI\",\"x\":0.05375,\"xanchor\":\"center\",\"xref\":\"paper\",\"y\":0.9999999999999999,\"yanchor\":\"bottom\",\"yref\":\"paper\"},{\"font\":{},\"showarrow\":false,\"text\":\"ANALYTICS\",\"x\":0.18125,\"xanchor\":\"center\",\"xref\":\"paper\",\"y\":0.9999999999999999,\"yanchor\":\"bottom\",\"yref\":\"paper\"},{\"font\":{},\"showarrow\":false,\"text\":\"COLLECTIONS\",\"x\":0.30874999999999997,\"xanchor\":\"center\",\"xref\":\"paper\",\"y\":0.9999999999999999,\"yanchor\":\"bottom\",\"yref\":\"paper\"},{\"font\":{},\"showarrow\":false,\"text\":\"COMPRESSION\",\"x\":0.43625,\"xanchor\":\"center\",\"xref\":\"paper\",\"y\":0.9999999999999999,\"yanchor\":\"bottom\",\"yref\":\"paper\"},{\"font\":{},\"showarrow\":false,\"text\":\"DURABILITY\",\"x\":0.56375,\"xanchor\":\"center\",\"xref\":\"paper\",\"y\":0.9999999999999999,\"yanchor\":\"bottom\",\"yref\":\"paper\"},{\"font\":{},\"showarrow\":false,\"text\":\"EPHEMERAL\",\"x\":0.6912499999999999,\"xanchor\":\"center\",\"xref\":\"paper\",\"y\":0.9999999999999999,\"yanchor\":\"bottom\",\"yref\":\"paper\"},{\"font\":{},\"showarrow\":false,\"text\":\"EVENTING\",\"x\":0.8187500000000001,\"xanchor\":\"center\",\"xref\":\"paper\",\"y\":0.9999999999999999,\"yanchor\":\"bottom\",\"yref\":\"paper\"},{\"font\":{},\"showarrow\":false,\"text\":\"FTS\",\"x\":0.94625,\"xanchor\":\"center\",\"xref\":\"paper\",\"y\":0.9999999999999999,\"yanchor\":\"bottom\",\"yref\":\"paper\"}],\"barmode\":\"relative\",\"height\":1200,\"hoverlabel\":{\"bgcolor\":\"white\"},\"legend\":{\"title\":{\"text\":\"area\"},\"tracegroupgap\":0},\"margin\":{\"t\":60},\"template\":{\"data\":{\"bar\":[{\"error_x\":{\"color\":\"#2a3f5f\"},\"error_y\":{\"color\":\"#2a3f5f\"},\"marker\":{\"line\":{\"color\":\"#E5ECF6\",\"width\":0.5},\"pattern\":{\"fillmode\":\"overlay\",\"size\":10,\"solidity\":0.2}},\"type\":\"bar\"}],\"barpolar\":[{\"marker\":{\"line\":{\"color\":\"#E5ECF6\",\"width\":0.5},\"pattern\":{\"fillmode\":\"overlay\",\"size\":10,\"solidity\":0.2}},\"type\":\"barpolar\"}],\"carpet\":[{\"aaxis\":{\"endlinecolor\":\"#2a3f5f\",\"gridcolor\":\"white\",\"linecolor\":\"white\",\"minorgridcolor\":\"white\",\"startlinecolor\":\"#2a3f5f\"},\"baxis\":{\"endlinecolor\":\"#2a3f5f\",\"gridcolor\":\"white\",\"linecolor\":\"white\",\"minorgridcolor\":\"white\",\"startlinecolor\":\"#2a3f5f\"},\"type\":\"carpet\"}],\"choropleth\":[{\"colorbar\":{\"outlinewidth\":0,\"ticks\":\"\"},\"type\":\"choropleth\"}],\"contour\":[{\"colorbar\":{\"outlinewidth\":0,\"ticks\":\"\"},\"colorscale\":[[0.0,\"#0d0887\"],[0.1111111111111111,\"#46039f\"],[0.2222222222222222,\"#7201a8\"],[0.3333333333333333,\"#9c179e\"],[0.4444444444444444,\"#bd3786\"],[0.5555555555555556,\"#d8576b\"],[0.6666666666666666,\"#ed7953\"],[0.7777777777777778,\"#fb9f3a\"],[0.8888888888888888,\"#fdca26\"],[1.0,\"#f0f921\"]],\"type\":\"contour\"}],\"contourcarpet\":[{\"colorbar\":{\"outlinewidth\":0,\"ticks\":\"\"},\"type\":\"contourcarpet\"}],\"heatmap\":[{\"colorbar\":{\"outlinewidth\":0,\"ticks\":\"\"},\"colorscale\":[[0.0,\"#0d0887\"],[0.1111111111111111,\"#46039f\"],[0.2222222222222222,\"#7201a8\"],[0.3333333333333333,\"#9c179e\"],[0.4444444444444444,\"#bd3786\"],[0.5555555555555556,\"#d8576b\"],[0.6666666666666666,\"#ed7953\"],[0.7777777777777778,\"#fb9f3a\"],[0.8888888888888888,\"#fdca26\"],[1.0,\"#f0f921\"]],\"type\":\"heatmap\"}],\"heatmapgl\":[{\"colorbar\":{\"outlinewidth\":0,\"ticks\":\"\"},\"colorscale\":[[0.0,\"#0d0887\"],[0.1111111111111111,\"#46039f\"],[0.2222222222222222,\"#7201a8\"],[0.3333333333333333,\"#9c179e\"],[0.4444444444444444,\"#bd3786\"],[0.5555555555555556,\"#d8576b\"],[0.6666666666666666,\"#ed7953\"],[0.7777777777777778,\"#fb9f3a\"],[0.8888888888888888,\"#fdca26\"],[1.0,\"#f0f921\"]],\"type\":\"heatmapgl\"}],\"histogram\":[{\"marker\":{\"pattern\":{\"fillmode\":\"overlay\",\"size\":10,\"solidity\":0.2}},\"type\":\"histogram\"}],\"histogram2d\":[{\"colorbar\":{\"outlinewidth\":0,\"ticks\":\"\"},\"colorscale\":[[0.0,\"#0d0887\"],[0.1111111111111111,\"#46039f\"],[0.2222222222222222,\"#7201a8\"],[0.3333333333333333,\"#9c179e\"],[0.4444444444444444,\"#bd3786\"],[0.5555555555555556,\"#d8576b\"],[0.6666666666666666,\"#ed7953\"],[0.7777777777777778,\"#fb9f3a\"],[0.8888888888888888,\"#fdca26\"],[1.0,\"#f0f921\"]],\"type\":\"histogram2d\"}],\"histogram2dcontour\":[{\"colorbar\":{\"outlinewidth\":0,\"ticks\":\"\"},\"colorscale\":[[0.0,\"#0d0887\"],[0.1111111111111111,\"#46039f\"],[0.2222222222222222,\"#7201a8\"],[0.3333333333333333,\"#9c179e\"],[0.4444444444444444,\"#bd3786\"],[0.5555555555555556,\"#d8576b\"],[0.6666666666666666,\"#ed7953\"],[0.7777777777777778,\"#fb9f3a\"],[0.8888888888888888,\"#fdca26\"],[1.0,\"#f0f921\"]],\"type\":\"histogram2dcontour\"}],\"mesh3d\":[{\"colorbar\":{\"outlinewidth\":0,\"ticks\":\"\"},\"type\":\"mesh3d\"}],\"parcoords\":[{\"line\":{\"colorbar\":{\"outlinewidth\":0,\"ticks\":\"\"}},\"type\":\"parcoords\"}],\"pie\":[{\"automargin\":true,\"type\":\"pie\"}],\"scatter\":[{\"marker\":{\"colorbar\":{\"outlinewidth\":0,\"ticks\":\"\"}},\"type\":\"scatter\"}],\"scatter3d\":[{\"line\":{\"colorbar\":{\"outlinewidth\":0,\"ticks\":\"\"}},\"marker\":{\"colorbar\":{\"outlinewidth\":0,\"ticks\":\"\"}},\"type\":\"scatter3d\"}],\"scattercarpet\":[{\"marker\":{\"colorbar\":{\"outlinewidth\":0,\"ticks\":\"\"}},\"type\":\"scattercarpet\"}],\"scattergeo\":[{\"marker\":{\"colorbar\":{\"outlinewidth\":0,\"ticks\":\"\"}},\"type\":\"scattergeo\"}],\"scattergl\":[{\"marker\":{\"colorbar\":{\"outlinewidth\":0,\"ticks\":\"\"}},\"type\":\"scattergl\"}],\"scattermapbox\":[{\"marker\":{\"colorbar\":{\"outlinewidth\":0,\"ticks\":\"\"}},\"type\":\"scattermapbox\"}],\"scatterpolar\":[{\"marker\":{\"colorbar\":{\"outlinewidth\":0,\"ticks\":\"\"}},\"type\":\"scatterpolar\"}],\"scatterpolargl\":[{\"marker\":{\"colorbar\":{\"outlinewidth\":0,\"ticks\":\"\"}},\"type\":\"scatterpolargl\"}],\"scatterternary\":[{\"marker\":{\"colorbar\":{\"outlinewidth\":0,\"ticks\":\"\"}},\"type\":\"scatterternary\"}],\"surface\":[{\"colorbar\":{\"outlinewidth\":0,\"ticks\":\"\"},\"colorscale\":[[0.0,\"#0d0887\"],[0.1111111111111111,\"#46039f\"],[0.2222222222222222,\"#7201a8\"],[0.3333333333333333,\"#9c179e\"],[0.4444444444444444,\"#bd3786\"],[0.5555555555555556,\"#d8576b\"],[0.6666666666666666,\"#ed7953\"],[0.7777777777777778,\"#fb9f3a\"],[0.8888888888888888,\"#fdca26\"],[1.0,\"#f0f921\"]],\"type\":\"surface\"}],\"table\":[{\"cells\":{\"fill\":{\"color\":\"#EBF0F8\"},\"line\":{\"color\":\"white\"}},\"header\":{\"fill\":{\"color\":\"#C8D4E3\"},\"line\":{\"color\":\"white\"}},\"type\":\"table\"}]},\"layout\":{\"annotationdefaults\":{\"arrowcolor\":\"#2a3f5f\",\"arrowhead\":0,\"arrowwidth\":1},\"autotypenumbers\":\"strict\",\"coloraxis\":{\"colorbar\":{\"outlinewidth\":0,\"ticks\":\"\"}},\"colorscale\":{\"diverging\":[[0,\"#8e0152\"],[0.1,\"#c51b7d\"],[0.2,\"#de77ae\"],[0.3,\"#f1b6da\"],[0.4,\"#fde0ef\"],[0.5,\"#f7f7f7\"],[0.6,\"#e6f5d0\"],[0.7,\"#b8e186\"],[0.8,\"#7fbc41\"],[0.9,\"#4d9221\"],[1,\"#276419\"]],\"sequential\":[[0.0,\"#0d0887\"],[0.1111111111111111,\"#46039f\"],[0.2222222222222222,\"#7201a8\"],[0.3333333333333333,\"#9c179e\"],[0.4444444444444444,\"#bd3786\"],[0.5555555555555556,\"#d8576b\"],[0.6666666666666666,\"#ed7953\"],[0.7777777777777778,\"#fb9f3a\"],[0.8888888888888888,\"#fdca26\"],[1.0,\"#f0f921\"]],\"sequentialminus\":[[0.0,\"#0d0887\"],[0.1111111111111111,\"#46039f\"],[0.2222222222222222,\"#7201a8\"],[0.3333333333333333,\"#9c179e\"],[0.4444444444444444,\"#bd3786\"],[0.5555555555555556,\"#d8576b\"],[0.6666666666666666,\"#ed7953\"],[0.7777777777777778,\"#fb9f3a\"],[0.8888888888888888,\"#fdca26\"],[1.0,\"#f0f921\"]]},\"colorway\":[\"#636efa\",\"#EF553B\",\"#00cc96\",\"#ab63fa\",\"#FFA15A\",\"#19d3f3\",\"#FF6692\",\"#B6E880\",\"#FF97FF\",\"#FECB52\"],\"font\":{\"color\":\"#2a3f5f\"},\"geo\":{\"bgcolor\":\"white\",\"lakecolor\":\"white\",\"landcolor\":\"#E5ECF6\",\"showlakes\":true,\"showland\":true,\"subunitcolor\":\"white\"},\"hoverlabel\":{\"align\":\"left\"},\"hovermode\":\"closest\",\"mapbox\":{\"style\":\"light\"},\"paper_bgcolor\":\"white\",\"plot_bgcolor\":\"#E5ECF6\",\"polar\":{\"angularaxis\":{\"gridcolor\":\"white\",\"linecolor\":\"white\",\"ticks\":\"\"},\"bgcolor\":\"#E5ECF6\",\"radialaxis\":{\"gridcolor\":\"white\",\"linecolor\":\"white\",\"ticks\":\"\"}},\"scene\":{\"xaxis\":{\"backgroundcolor\":\"#E5ECF6\",\"gridcolor\":\"white\",\"gridwidth\":2,\"linecolor\":\"white\",\"showbackground\":true,\"ticks\":\"\",\"zerolinecolor\":\"white\"},\"yaxis\":{\"backgroundcolor\":\"#E5ECF6\",\"gridcolor\":\"white\",\"gridwidth\":2,\"linecolor\":\"white\",\"showbackground\":true,\"ticks\":\"\",\"zerolinecolor\":\"white\"},\"zaxis\":{\"backgroundcolor\":\"#E5ECF6\",\"gridcolor\":\"white\",\"gridwidth\":2,\"linecolor\":\"white\",\"showbackground\":true,\"ticks\":\"\",\"zerolinecolor\":\"white\"}},\"shapedefaults\":{\"line\":{\"color\":\"#2a3f5f\"}},\"ternary\":{\"aaxis\":{\"gridcolor\":\"white\",\"linecolor\":\"white\",\"ticks\":\"\"},\"baxis\":{\"gridcolor\":\"white\",\"linecolor\":\"white\",\"ticks\":\"\"},\"bgcolor\":\"#E5ECF6\",\"caxis\":{\"gridcolor\":\"white\",\"linecolor\":\"white\",\"ticks\":\"\"}},\"title\":{\"x\":0.05},\"xaxis\":{\"automargin\":true,\"gridcolor\":\"white\",\"linecolor\":\"white\",\"ticks\":\"\",\"title\":{\"standoff\":15},\"zerolinecolor\":\"white\",\"zerolinewidth\":2},\"yaxis\":{\"automargin\":true,\"gridcolor\":\"white\",\"linecolor\":\"white\",\"ticks\":\"\",\"title\":{\"standoff\":15},\"zerolinecolor\":\"white\",\"zerolinewidth\":2}}},\"title\":{\"text\":\"Areas in 7.1.0-1047 with Over 50 Failures and Comparison with 7.1.0-1038 (Graph)\"},\"xaxis\":{\"anchor\":\"y\",\"domain\":[0.0,0.1075],\"tickangle\":45,\"title\":{\"text\":\"\"}},\"xaxis10\":{\"anchor\":\"y10\",\"domain\":[0.1275,0.235],\"matches\":\"x\",\"showticklabels\":false,\"tickangle\":45,\"title\":{\"text\":\"\"}},\"xaxis11\":{\"anchor\":\"y11\",\"domain\":[0.255,0.3625],\"matches\":\"x\",\"showticklabels\":false,\"tickangle\":45,\"title\":{\"text\":\"\"}},\"xaxis12\":{\"anchor\":\"y12\",\"domain\":[0.3825,0.49],\"matches\":\"x\",\"showticklabels\":false,\"tickangle\":45,\"title\":{\"text\":\"\"}},\"xaxis13\":{\"anchor\":\"y13\",\"domain\":[0.51,0.6175],\"matches\":\"x\",\"showticklabels\":false,\"tickangle\":45,\"title\":{\"text\":\"\"}},\"xaxis14\":{\"anchor\":\"y14\",\"domain\":[0.6375,0.745],\"matches\":\"x\",\"showticklabels\":false,\"tickangle\":45,\"title\":{\"text\":\"\"}},\"xaxis15\":{\"anchor\":\"y15\",\"domain\":[0.765,0.8725],\"matches\":\"x\",\"showticklabels\":false,\"tickangle\":45,\"title\":{\"text\":\"\"}},\"xaxis16\":{\"anchor\":\"y16\",\"domain\":[0.8925000000000001,1.0],\"matches\":\"x\",\"showticklabels\":false,\"tickangle\":45,\"title\":{\"text\":\"\"}},\"xaxis2\":{\"anchor\":\"y2\",\"domain\":[0.1275,0.235],\"matches\":\"x\",\"tickangle\":45,\"title\":{\"text\":\"\"}},\"xaxis3\":{\"anchor\":\"y3\",\"domain\":[0.255,0.3625],\"matches\":\"x\",\"tickangle\":45,\"title\":{\"text\":\"\"}},\"xaxis4\":{\"anchor\":\"y4\",\"domain\":[0.3825,0.49],\"matches\":\"x\",\"tickangle\":45,\"title\":{\"text\":\"\"}},\"xaxis5\":{\"anchor\":\"y5\",\"domain\":[0.51,0.6175],\"matches\":\"x\",\"tickangle\":45,\"title\":{\"text\":\"\"}},\"xaxis6\":{\"anchor\":\"y6\",\"domain\":[0.6375,0.745],\"matches\":\"x\",\"tickangle\":45,\"title\":{\"text\":\"\"}},\"xaxis7\":{\"anchor\":\"y7\",\"domain\":[0.765,0.8725],\"matches\":\"x\",\"tickangle\":45,\"title\":{\"text\":\"\"}},\"xaxis8\":{\"anchor\":\"y8\",\"domain\":[0.8925000000000001,1.0],\"matches\":\"x\",\"tickangle\":45,\"title\":{\"text\":\"\"}},\"xaxis9\":{\"anchor\":\"y9\",\"domain\":[0.0,0.1075],\"matches\":\"x\",\"showticklabels\":false,\"tickangle\":45,\"title\":{\"text\":\"\"}},\"yaxis\":{\"anchor\":\"x\",\"domain\":[0.0,0.46499999999999997],\"gridcolor\":\"lightsteelblue\",\"gridwidth\":2,\"title\":{\"text\":\"fails\"}},\"yaxis10\":{\"anchor\":\"x10\",\"domain\":[0.5349999999999999,0.9999999999999999],\"gridcolor\":\"lightsteelblue\",\"gridwidth\":2,\"matches\":\"y\",\"showticklabels\":false},\"yaxis11\":{\"anchor\":\"x11\",\"domain\":[0.5349999999999999,0.9999999999999999],\"gridcolor\":\"lightsteelblue\",\"gridwidth\":2,\"matches\":\"y\",\"showticklabels\":false},\"yaxis12\":{\"anchor\":\"x12\",\"domain\":[0.5349999999999999,0.9999999999999999],\"gridcolor\":\"lightsteelblue\",\"gridwidth\":2,\"matches\":\"y\",\"showticklabels\":false},\"yaxis13\":{\"anchor\":\"x13\",\"domain\":[0.5349999999999999,0.9999999999999999],\"gridcolor\":\"lightsteelblue\",\"gridwidth\":2,\"matches\":\"y\",\"showticklabels\":false},\"yaxis14\":{\"anchor\":\"x14\",\"domain\":[0.5349999999999999,0.9999999999999999],\"gridcolor\":\"lightsteelblue\",\"gridwidth\":2,\"matches\":\"y\",\"showticklabels\":false},\"yaxis15\":{\"anchor\":\"x15\",\"domain\":[0.5349999999999999,0.9999999999999999],\"gridcolor\":\"lightsteelblue\",\"gridwidth\":2,\"matches\":\"y\",\"showticklabels\":false},\"yaxis16\":{\"anchor\":\"x16\",\"domain\":[0.5349999999999999,0.9999999999999999],\"gridcolor\":\"lightsteelblue\",\"gridwidth\":2,\"matches\":\"y\",\"showticklabels\":false},\"yaxis2\":{\"anchor\":\"x2\",\"domain\":[0.0,0.46499999999999997],\"gridcolor\":\"lightsteelblue\",\"gridwidth\":2,\"matches\":\"y\",\"showticklabels\":false},\"yaxis3\":{\"anchor\":\"x3\",\"domain\":[0.0,0.46499999999999997],\"gridcolor\":\"lightsteelblue\",\"gridwidth\":2,\"matches\":\"y\",\"showticklabels\":false},\"yaxis4\":{\"anchor\":\"x4\",\"domain\":[0.0,0.46499999999999997],\"gridcolor\":\"lightsteelblue\",\"gridwidth\":2,\"matches\":\"y\",\"showticklabels\":false},\"yaxis5\":{\"anchor\":\"x5\",\"domain\":[0.0,0.46499999999999997],\"gridcolor\":\"lightsteelblue\",\"gridwidth\":2,\"matches\":\"y\",\"showticklabels\":false},\"yaxis6\":{\"anchor\":\"x6\",\"domain\":[0.0,0.46499999999999997],\"gridcolor\":\"lightsteelblue\",\"gridwidth\":2,\"matches\":\"y\",\"showticklabels\":false},\"yaxis7\":{\"anchor\":\"x7\",\"domain\":[0.0,0.46499999999999997],\"gridcolor\":\"lightsteelblue\",\"gridwidth\":2,\"matches\":\"y\",\"showticklabels\":false},\"yaxis8\":{\"anchor\":\"x8\",\"domain\":[0.0,0.46499999999999997],\"gridcolor\":\"lightsteelblue\",\"gridwidth\":2,\"matches\":\"y\",\"showticklabels\":false},\"yaxis9\":{\"anchor\":\"x9\",\"domain\":[0.5349999999999999,0.9999999999999999],\"gridcolor\":\"lightsteelblue\",\"gridwidth\":2,\"matches\":\"y\",\"title\":{\"text\":\"fails\"}}},                        {\"responsive\": true}                    ).then(function(){\n",
       "                            \n",
       "var gd = document.getElementById('c73d8c28-67b5-4030-b0fc-e9180dd8927c');\n",
       "var x = new MutationObserver(function (mutations, observer) {{\n",
       "        var display = window.getComputedStyle(gd).display;\n",
       "        if (!display || display === 'none') {{\n",
       "            console.log([gd, 'removed!']);\n",
       "            Plotly.purge(gd);\n",
       "            observer.disconnect();\n",
       "        }}\n",
       "}});\n",
       "\n",
       "// Listen for the removal of the full notebook cells\n",
       "var notebookContainer = gd.closest('#notebook-container');\n",
       "if (notebookContainer) {{\n",
       "    x.observe(notebookContainer, {childList: true});\n",
       "}}\n",
       "\n",
       "// Listen for the clearing of the current output cell\n",
       "var outputEl = gd.closest('.output');\n",
       "if (outputEl) {{\n",
       "    x.observe(outputEl, {childList: true});\n",
       "}}\n",
       "\n",
       "                        })                };                });            </script>        </div>"
      ]
     },
     "metadata": {},
     "output_type": "display_data"
    }
   ],
   "source": [
    "newSet = []\n",
    "for item in sortdf50:\n",
    "    current = item.pop('CurrentFailed')\n",
    "    last = item.pop('LastFailed')\n",
    "    currentFails = {\"fails\": current, \"ver\": \"current\"}\n",
    "    lastFails = {\"fails\": last, \"ver\": \"last\"}\n",
    "    newSet.append({**lastFails, **item})\n",
    "    newSet.append({**currentFails, **item})\n",
    "    \n",
    "df50 = pd.DataFrame(newSet)\n",
    "\n",
    "all_fig = px.bar(df50, y=df50.fails, x=df50.ver, color=df50.area, facet_col=df50.component, facet_col_wrap=8)\n",
    "\n",
    "all_fig.for_each_annotation(lambda a: a.update(text=a.text.replace(\"component=\", \"\")))\n",
    "all_fig.update_xaxes(title_text='', tickangle=45)\n",
    "all_fig.update_yaxes(gridcolor='lightsteelblue', gridwidth=2)\n",
    "all_fig.update_layout(height=600*math.ceil(len(set(df50.component))/8), title=f\"Areas in {weekly_builds[0]} with Over 50 Failures and Comparison with {weekly_builds[1]} (Graph)\", hoverlabel=dict(bgcolor=\"white\"))\n",
    "\n",
    "all_fig.show()"
   ]
  },
  {
   "cell_type": "markdown",
   "id": "bc260d07-2d8f-47fd-b7ab-b4d8a791a0cf",
   "metadata": {},
   "source": [
    "## Total Failures for Each Component"
   ]
  },
  {
   "cell_type": "markdown",
   "id": "39fe1339-0864-45cd-ae1f-1435c2577cf2",
   "metadata": {},
   "source": [
    "This displays the amount of failures from each component, along with the change from the previous weekly build."
   ]
  },
  {
   "cell_type": "code",
   "execution_count": 167,
   "id": "c5b576dd",
   "metadata": {
    "jupyter": {
     "source_hidden": true
    },
    "tags": [
     "hide_input"
    ]
   },
   "outputs": [],
   "source": [
    "#query_last_weekly_build = f'SELECT raw `build` FROM server WHERE `build` <= $version GROUP BY `build` HAVING sum(totalCount) > 10000 ORDER BY `build` DESC LIMIT 2'\n",
    "total_fails_query = 'select component,sum(failCount) as TotalFailed from server where lower(os)=\"centos\" and `build`=$version group by component  order by component'\n",
    "\n",
    "#result = run_query(query=query_last_weekly_build, param={'$version': f'\"{release}-{current_build}\"'})\n",
    "#weekly_builds = result['results']\n",
    "total_fails = run_query(query=total_fails_query, param={'$version': f'\"{release}-{current_build}\"'})\n",
    "last_total_fails = run_query(query=total_fails_query, param={'$version': f'\"{str(weekly_builds[1])}\"'})\n",
    "\n",
    "weekly_builds[1] = str(weekly_builds[1]).split(\"-\", 1)\n",
    "\n",
    "ldata_f = pd.DataFrame(last_total_fails['results'])\n",
    "data_f = pd.DataFrame(total_fails['results'])"
   ]
  },
  {
   "cell_type": "code",
   "execution_count": null,
   "id": "5a8f33ec",
   "metadata": {
    "jupyter": {
     "source_hidden": true
    },
    "tags": [
     "hide_input"
    ]
   },
   "outputs": [],
   "source": [
    "cell_colors = ['#F4F4F4', '#F4F4F4']\n",
    "delta_colors = []\n",
    "delta_text = []\n",
    "\n",
    "for i in range(0, len(data_f)):\n",
    "    delta_i = ldata_f.TotalFailed.iloc[i] - data_f.TotalFailed.iloc[i]\n",
    "    if delta_i < 0:\n",
    "        delta_colors.append('#FFBAAB')\n",
    "        delta_text.append(str(abs(delta_i)) + ' more failures' if delta_i < -1 else str(abs(delta_i)) + ' more failure')\n",
    "    elif delta_i == 0:\n",
    "        delta_colors.append(\"#F4F4F4\")\n",
    "        delta_text.append(\"No Change\")\n",
    "    else:\n",
    "        delta_colors.append('#8BE9A3')\n",
    "        delta_text.append(str(delta_i) + ' less  failures' if delta_i > 1 else str(delta_i) + ' less failure')\n",
    "cell_colors.append(delta_colors)\n",
    "\n",
    "fig_total_fails = go.Figure(data=[go.Table(\n",
    "    header=dict(values = ['Component', f'Failed in {current_build}', f'Delta from {weekly_builds[1][1]}'], fill_color='maroon', line_color='lightgray', font=dict(color='white')),\n",
    "    cells=dict(values = [data_f.component, data_f.TotalFailed, delta_text], fill_color=cell_colors, line_color='lightgray')\n",
    ")])\n",
    "\n",
    "fig_total_fails.update_layout(height=1000)\n",
    "\n",
    "query_last_weekly_build = f'SELECT raw `build` FROM server WHERE `build` <= $version GROUP BY `build` HAVING sum(totalCount) > 10000 ORDER BY `build` DESC LIMIT 2'\n",
    "result = run_query(query=query_last_weekly_build, param={'$version': f'\"{release}-{current_build}\"'})\n",
    "weekly_builds = result['results']\n",
    "\n",
    "fig_total_fails.show()"
   ]
  },
  {
   "cell_type": "code",
   "execution_count": null,
   "id": "5ab6ac5d-0606-4f1d-8f1d-0c8714e5362b",
   "metadata": {},
   "outputs": [],
   "source": []
  },
  {
   "cell_type": "code",
   "execution_count": null,
   "id": "2f5e6ed4-84d2-4fb1-adab-8de77e192dfc",
   "metadata": {},
   "outputs": [],
   "source": []
  },
  {
   "cell_type": "code",
   "execution_count": null,
   "id": "2eb50309-f22b-43f6-af5f-2ee2818eb48e",
   "metadata": {},
   "outputs": [],
   "source": []
  }
 ],
 "metadata": {
  "kernelspec": {
   "display_name": "Python 3",
   "language": "python",
   "name": "python3"
  },
  "language_info": {
   "codemirror_mode": {
    "name": "ipython",
    "version": 3
   },
   "file_extension": ".py",
   "mimetype": "text/x-python",
   "name": "python",
   "nbconvert_exporter": "python",
   "pygments_lexer": "ipython3",
   "version": "3.6.8"
  }
 },
 "nbformat": 4,
 "nbformat_minor": 5
}
